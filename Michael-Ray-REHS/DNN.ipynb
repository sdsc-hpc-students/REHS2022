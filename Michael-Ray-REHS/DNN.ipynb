{
 "cells": [
  {
   "cell_type": "markdown",
   "metadata": {},
   "source": [
    "# Classifying Celestial Objects\n",
    "Based on information from the dataset neo_v2 from https://www.kaggle.com/datasets/sameepvani/nasa-nearest-earth-objects, this neural network classifies whether asteroids may pose a danger to earth based on a variety of features. "
   ]
  },
  {
   "cell_type": "markdown",
   "metadata": {},
   "source": [
    "### Imports"
   ]
  },
  {
   "cell_type": "code",
   "execution_count": 1,
   "metadata": {},
   "outputs": [],
   "source": [
    "import tensorflow as tf \n",
    "from tensorflow import keras \n",
    "\n",
    "import pandas as pd\n",
    "import numpy as np\n",
    "import matplotlib.pyplot as plt\n",
    "\n",
    "import requests\n",
    "import io\n",
    "import os\n",
    "import tempfile\n",
    "\n",
    "import sklearn\n",
    "from sklearn.metrics import confusion_matrix\n",
    "from sklearn.model_selection import train_test_split\n",
    "from sklearn.preprocessing import StandardScaler\n",
    "\n",
    "relative_velocity_flag = False\n",
    "miss_distance_flag = False"
   ]
  },
  {
   "cell_type": "markdown",
   "metadata": {},
   "source": [
    "### Data preprocessing\n",
    "The neo_v2 csv file is imported from the REHS github repo. Then the program splits the dataset 80/20 into training data and testing data respectively"
   ]
  },
  {
   "cell_type": "code",
   "execution_count": 2,
   "metadata": {},
   "outputs": [],
   "source": [
    "csv_link = 'https://raw.githubusercontent.com/sdsc-hpc-students/REHS2022/main/Final-Project/ExtraKGs/celesital-bodies/neo_v2.csv'\n",
    "csv_file = requests.get(csv_link).content"
   ]
  },
  {
   "cell_type": "code",
   "execution_count": 3,
   "metadata": {},
   "outputs": [],
   "source": [
    "dataset = pd.read_csv(io.StringIO(csv_file.decode('utf-8')))"
   ]
  },
  {
   "cell_type": "code",
   "execution_count": 4,
   "metadata": {},
   "outputs": [
    {
     "data": {
      "text/html": [
       "<div>\n",
       "<style scoped>\n",
       "    .dataframe tbody tr th:only-of-type {\n",
       "        vertical-align: middle;\n",
       "    }\n",
       "\n",
       "    .dataframe tbody tr th {\n",
       "        vertical-align: top;\n",
       "    }\n",
       "\n",
       "    .dataframe thead th {\n",
       "        text-align: right;\n",
       "    }\n",
       "</style>\n",
       "<table border=\"1\" class=\"dataframe\">\n",
       "  <thead>\n",
       "    <tr style=\"text-align: right;\">\n",
       "      <th></th>\n",
       "      <th>id</th>\n",
       "      <th>name</th>\n",
       "      <th>est_diameter_min</th>\n",
       "      <th>est_diameter_max</th>\n",
       "      <th>relative_velocity</th>\n",
       "      <th>miss_distance</th>\n",
       "      <th>orbiting_body</th>\n",
       "      <th>sentry_object</th>\n",
       "      <th>absolute_magnitude</th>\n",
       "      <th>hazardous</th>\n",
       "    </tr>\n",
       "  </thead>\n",
       "  <tbody>\n",
       "    <tr>\n",
       "      <th>0</th>\n",
       "      <td>2162635</td>\n",
       "      <td>162635 (2000 SS164)</td>\n",
       "      <td>1.198271</td>\n",
       "      <td>2.679415</td>\n",
       "      <td>13569.249224</td>\n",
       "      <td>5.483974e+07</td>\n",
       "      <td>Earth</td>\n",
       "      <td>False</td>\n",
       "      <td>16.73</td>\n",
       "      <td>False</td>\n",
       "    </tr>\n",
       "    <tr>\n",
       "      <th>1</th>\n",
       "      <td>2277475</td>\n",
       "      <td>277475 (2005 WK4)</td>\n",
       "      <td>0.265800</td>\n",
       "      <td>0.594347</td>\n",
       "      <td>73588.726663</td>\n",
       "      <td>6.143813e+07</td>\n",
       "      <td>Earth</td>\n",
       "      <td>False</td>\n",
       "      <td>20.00</td>\n",
       "      <td>True</td>\n",
       "    </tr>\n",
       "    <tr>\n",
       "      <th>2</th>\n",
       "      <td>2512244</td>\n",
       "      <td>512244 (2015 YE18)</td>\n",
       "      <td>0.722030</td>\n",
       "      <td>1.614507</td>\n",
       "      <td>114258.692129</td>\n",
       "      <td>4.979872e+07</td>\n",
       "      <td>Earth</td>\n",
       "      <td>False</td>\n",
       "      <td>17.83</td>\n",
       "      <td>False</td>\n",
       "    </tr>\n",
       "    <tr>\n",
       "      <th>3</th>\n",
       "      <td>3596030</td>\n",
       "      <td>(2012 BV13)</td>\n",
       "      <td>0.096506</td>\n",
       "      <td>0.215794</td>\n",
       "      <td>24764.303138</td>\n",
       "      <td>2.543497e+07</td>\n",
       "      <td>Earth</td>\n",
       "      <td>False</td>\n",
       "      <td>22.20</td>\n",
       "      <td>False</td>\n",
       "    </tr>\n",
       "    <tr>\n",
       "      <th>4</th>\n",
       "      <td>3667127</td>\n",
       "      <td>(2014 GE35)</td>\n",
       "      <td>0.255009</td>\n",
       "      <td>0.570217</td>\n",
       "      <td>42737.733765</td>\n",
       "      <td>4.627557e+07</td>\n",
       "      <td>Earth</td>\n",
       "      <td>False</td>\n",
       "      <td>20.09</td>\n",
       "      <td>True</td>\n",
       "    </tr>\n",
       "  </tbody>\n",
       "</table>\n",
       "</div>"
      ],
      "text/plain": [
       "        id                 name  est_diameter_min  est_diameter_max  \\\n",
       "0  2162635  162635 (2000 SS164)          1.198271          2.679415   \n",
       "1  2277475    277475 (2005 WK4)          0.265800          0.594347   \n",
       "2  2512244   512244 (2015 YE18)          0.722030          1.614507   \n",
       "3  3596030          (2012 BV13)          0.096506          0.215794   \n",
       "4  3667127          (2014 GE35)          0.255009          0.570217   \n",
       "\n",
       "   relative_velocity  miss_distance orbiting_body  sentry_object  \\\n",
       "0       13569.249224   5.483974e+07         Earth          False   \n",
       "1       73588.726663   6.143813e+07         Earth          False   \n",
       "2      114258.692129   4.979872e+07         Earth          False   \n",
       "3       24764.303138   2.543497e+07         Earth          False   \n",
       "4       42737.733765   4.627557e+07         Earth          False   \n",
       "\n",
       "   absolute_magnitude  hazardous  \n",
       "0               16.73      False  \n",
       "1               20.00       True  \n",
       "2               17.83      False  \n",
       "3               22.20      False  \n",
       "4               20.09       True  "
      ]
     },
     "execution_count": 4,
     "metadata": {},
     "output_type": "execute_result"
    }
   ],
   "source": [
    "dataset.head()"
   ]
  },
  {
   "cell_type": "markdown",
   "metadata": {},
   "source": [
    "convert boolean values to floats"
   ]
  },
  {
   "cell_type": "code",
   "execution_count": 5,
   "metadata": {},
   "outputs": [
    {
     "name": "stdout",
     "output_type": "stream",
     "text": [
      "[dtype('int64'), dtype('O'), dtype('float64'), dtype('float64'), dtype('float64'), dtype('float64'), dtype('O'), dtype('bool'), dtype('float64'), dtype('bool')]\n",
      "<class 'numpy.dtype[int64]'>\n"
     ]
    },
    {
     "data": {
      "text/html": [
       "<div>\n",
       "<style scoped>\n",
       "    .dataframe tbody tr th:only-of-type {\n",
       "        vertical-align: middle;\n",
       "    }\n",
       "\n",
       "    .dataframe tbody tr th {\n",
       "        vertical-align: top;\n",
       "    }\n",
       "\n",
       "    .dataframe thead th {\n",
       "        text-align: right;\n",
       "    }\n",
       "</style>\n",
       "<table border=\"1\" class=\"dataframe\">\n",
       "  <thead>\n",
       "    <tr style=\"text-align: right;\">\n",
       "      <th></th>\n",
       "      <th>id</th>\n",
       "      <th>name</th>\n",
       "      <th>est_diameter_min</th>\n",
       "      <th>est_diameter_max</th>\n",
       "      <th>relative_velocity</th>\n",
       "      <th>miss_distance</th>\n",
       "      <th>orbiting_body</th>\n",
       "      <th>sentry_object</th>\n",
       "      <th>absolute_magnitude</th>\n",
       "      <th>hazardous</th>\n",
       "    </tr>\n",
       "  </thead>\n",
       "  <tbody>\n",
       "    <tr>\n",
       "      <th>0</th>\n",
       "      <td>2162635</td>\n",
       "      <td>162635 (2000 SS164)</td>\n",
       "      <td>1.198271</td>\n",
       "      <td>2.679415</td>\n",
       "      <td>13569.249224</td>\n",
       "      <td>5.483974e+07</td>\n",
       "      <td>Earth</td>\n",
       "      <td>0.0</td>\n",
       "      <td>16.73</td>\n",
       "      <td>0.0</td>\n",
       "    </tr>\n",
       "    <tr>\n",
       "      <th>1</th>\n",
       "      <td>2277475</td>\n",
       "      <td>277475 (2005 WK4)</td>\n",
       "      <td>0.265800</td>\n",
       "      <td>0.594347</td>\n",
       "      <td>73588.726663</td>\n",
       "      <td>6.143813e+07</td>\n",
       "      <td>Earth</td>\n",
       "      <td>0.0</td>\n",
       "      <td>20.00</td>\n",
       "      <td>1.0</td>\n",
       "    </tr>\n",
       "    <tr>\n",
       "      <th>2</th>\n",
       "      <td>2512244</td>\n",
       "      <td>512244 (2015 YE18)</td>\n",
       "      <td>0.722030</td>\n",
       "      <td>1.614507</td>\n",
       "      <td>114258.692129</td>\n",
       "      <td>4.979872e+07</td>\n",
       "      <td>Earth</td>\n",
       "      <td>0.0</td>\n",
       "      <td>17.83</td>\n",
       "      <td>0.0</td>\n",
       "    </tr>\n",
       "    <tr>\n",
       "      <th>3</th>\n",
       "      <td>3596030</td>\n",
       "      <td>(2012 BV13)</td>\n",
       "      <td>0.096506</td>\n",
       "      <td>0.215794</td>\n",
       "      <td>24764.303138</td>\n",
       "      <td>2.543497e+07</td>\n",
       "      <td>Earth</td>\n",
       "      <td>0.0</td>\n",
       "      <td>22.20</td>\n",
       "      <td>0.0</td>\n",
       "    </tr>\n",
       "    <tr>\n",
       "      <th>4</th>\n",
       "      <td>3667127</td>\n",
       "      <td>(2014 GE35)</td>\n",
       "      <td>0.255009</td>\n",
       "      <td>0.570217</td>\n",
       "      <td>42737.733765</td>\n",
       "      <td>4.627557e+07</td>\n",
       "      <td>Earth</td>\n",
       "      <td>0.0</td>\n",
       "      <td>20.09</td>\n",
       "      <td>1.0</td>\n",
       "    </tr>\n",
       "  </tbody>\n",
       "</table>\n",
       "</div>"
      ],
      "text/plain": [
       "        id                 name  est_diameter_min  est_diameter_max  \\\n",
       "0  2162635  162635 (2000 SS164)          1.198271          2.679415   \n",
       "1  2277475    277475 (2005 WK4)          0.265800          0.594347   \n",
       "2  2512244   512244 (2015 YE18)          0.722030          1.614507   \n",
       "3  3596030          (2012 BV13)          0.096506          0.215794   \n",
       "4  3667127          (2014 GE35)          0.255009          0.570217   \n",
       "\n",
       "   relative_velocity  miss_distance orbiting_body  sentry_object  \\\n",
       "0       13569.249224   5.483974e+07         Earth            0.0   \n",
       "1       73588.726663   6.143813e+07         Earth            0.0   \n",
       "2      114258.692129   4.979872e+07         Earth            0.0   \n",
       "3       24764.303138   2.543497e+07         Earth            0.0   \n",
       "4       42737.733765   4.627557e+07         Earth            0.0   \n",
       "\n",
       "   absolute_magnitude  hazardous  \n",
       "0               16.73        0.0  \n",
       "1               20.00        1.0  \n",
       "2               17.83        0.0  \n",
       "3               22.20        0.0  \n",
       "4               20.09        1.0  "
      ]
     },
     "execution_count": 5,
     "metadata": {},
     "output_type": "execute_result"
    }
   ],
   "source": [
    "print(dataset.dtypes.tolist())\n",
    "print(type(dataset.dtypes.tolist()[0]))\n",
    "\n",
    "change_to_float = {column:float for column, dtype in zip(dataset.columns.tolist(), dataset.dtypes.tolist()) if dtype == np.bool_}\n",
    "dataset = dataset.astype(change_to_float)\n",
    "dataset.head()"
   ]
  },
  {
   "cell_type": "markdown",
   "metadata": {},
   "source": [
    "get rid of orbiting body and sentry_object"
   ]
  },
  {
   "cell_type": "code",
   "execution_count": 6,
   "metadata": {},
   "outputs": [],
   "source": [
    "try:\n",
    "    dataset.drop('sentry_object', axis=1, inplace=True)\n",
    "except (AttributeError, KeyError):\n",
    "    print(\"already removed\")\n",
    "\n",
    "try:\n",
    "    dataset.drop('orbiting_body', axis=1, inplace=True)\n",
    "except (AttributeError, KeyError):\n",
    "    print(\"already removed\")"
   ]
  },
  {
   "cell_type": "code",
   "execution_count": 7,
   "metadata": {},
   "outputs": [
    {
     "data": {
      "text/html": [
       "<div>\n",
       "<style scoped>\n",
       "    .dataframe tbody tr th:only-of-type {\n",
       "        vertical-align: middle;\n",
       "    }\n",
       "\n",
       "    .dataframe tbody tr th {\n",
       "        vertical-align: top;\n",
       "    }\n",
       "\n",
       "    .dataframe thead th {\n",
       "        text-align: right;\n",
       "    }\n",
       "</style>\n",
       "<table border=\"1\" class=\"dataframe\">\n",
       "  <thead>\n",
       "    <tr style=\"text-align: right;\">\n",
       "      <th></th>\n",
       "      <th>id</th>\n",
       "      <th>name</th>\n",
       "      <th>est_diameter_min</th>\n",
       "      <th>est_diameter_max</th>\n",
       "      <th>relative_velocity</th>\n",
       "      <th>miss_distance</th>\n",
       "      <th>absolute_magnitude</th>\n",
       "      <th>hazardous</th>\n",
       "    </tr>\n",
       "  </thead>\n",
       "  <tbody>\n",
       "    <tr>\n",
       "      <th>0</th>\n",
       "      <td>2162635</td>\n",
       "      <td>162635 (2000 SS164)</td>\n",
       "      <td>1.198271</td>\n",
       "      <td>2.679415</td>\n",
       "      <td>13569.249224</td>\n",
       "      <td>5.483974e+07</td>\n",
       "      <td>16.73</td>\n",
       "      <td>0.0</td>\n",
       "    </tr>\n",
       "    <tr>\n",
       "      <th>1</th>\n",
       "      <td>2277475</td>\n",
       "      <td>277475 (2005 WK4)</td>\n",
       "      <td>0.265800</td>\n",
       "      <td>0.594347</td>\n",
       "      <td>73588.726663</td>\n",
       "      <td>6.143813e+07</td>\n",
       "      <td>20.00</td>\n",
       "      <td>1.0</td>\n",
       "    </tr>\n",
       "    <tr>\n",
       "      <th>2</th>\n",
       "      <td>2512244</td>\n",
       "      <td>512244 (2015 YE18)</td>\n",
       "      <td>0.722030</td>\n",
       "      <td>1.614507</td>\n",
       "      <td>114258.692129</td>\n",
       "      <td>4.979872e+07</td>\n",
       "      <td>17.83</td>\n",
       "      <td>0.0</td>\n",
       "    </tr>\n",
       "    <tr>\n",
       "      <th>3</th>\n",
       "      <td>3596030</td>\n",
       "      <td>(2012 BV13)</td>\n",
       "      <td>0.096506</td>\n",
       "      <td>0.215794</td>\n",
       "      <td>24764.303138</td>\n",
       "      <td>2.543497e+07</td>\n",
       "      <td>22.20</td>\n",
       "      <td>0.0</td>\n",
       "    </tr>\n",
       "    <tr>\n",
       "      <th>4</th>\n",
       "      <td>3667127</td>\n",
       "      <td>(2014 GE35)</td>\n",
       "      <td>0.255009</td>\n",
       "      <td>0.570217</td>\n",
       "      <td>42737.733765</td>\n",
       "      <td>4.627557e+07</td>\n",
       "      <td>20.09</td>\n",
       "      <td>1.0</td>\n",
       "    </tr>\n",
       "  </tbody>\n",
       "</table>\n",
       "</div>"
      ],
      "text/plain": [
       "        id                 name  est_diameter_min  est_diameter_max  \\\n",
       "0  2162635  162635 (2000 SS164)          1.198271          2.679415   \n",
       "1  2277475    277475 (2005 WK4)          0.265800          0.594347   \n",
       "2  2512244   512244 (2015 YE18)          0.722030          1.614507   \n",
       "3  3596030          (2012 BV13)          0.096506          0.215794   \n",
       "4  3667127          (2014 GE35)          0.255009          0.570217   \n",
       "\n",
       "   relative_velocity  miss_distance  absolute_magnitude  hazardous  \n",
       "0       13569.249224   5.483974e+07               16.73        0.0  \n",
       "1       73588.726663   6.143813e+07               20.00        1.0  \n",
       "2      114258.692129   4.979872e+07               17.83        0.0  \n",
       "3       24764.303138   2.543497e+07               22.20        0.0  \n",
       "4       42737.733765   4.627557e+07               20.09        1.0  "
      ]
     },
     "execution_count": 7,
     "metadata": {},
     "output_type": "execute_result"
    }
   ],
   "source": [
    "dataset.head()"
   ]
  },
  {
   "cell_type": "markdown",
   "metadata": {},
   "source": [
    "what percent of our data is positive?"
   ]
  },
  {
   "cell_type": "code",
   "execution_count": 8,
   "metadata": {},
   "outputs": [
    {
     "name": "stdout",
     "output_type": "stream",
     "text": [
      "Percent positive is 10.781013707985755 %\n"
     ]
    }
   ],
   "source": [
    "neg, pos = np.bincount(dataset['hazardous'])\n",
    "total = neg + pos\n",
    "print(f\"Percent positive is {(pos / neg) * 100} %\")"
   ]
  },
  {
   "cell_type": "code",
   "execution_count": 9,
   "metadata": {},
   "outputs": [],
   "source": [
    "dataset_raw = dataset # to look at later"
   ]
  },
  {
   "cell_type": "code",
   "execution_count": 10,
   "metadata": {},
   "outputs": [],
   "source": [
    "def scale_down(dataset=None, column=None):\n",
    "    initial_range = np.amax(dataset[column]) - np.amin(dataset[column])\n",
    "    eps = 0.001\n",
    "    dataset[column] = np.log(dataset[column] + eps)\n",
    "    end_range = np.amax(dataset[column]) - np.amin(dataset[column])\n",
    "\n",
    "    return initial_range, end_range"
   ]
  },
  {
   "cell_type": "code",
   "execution_count": 11,
   "metadata": {},
   "outputs": [],
   "source": [
    "# try to reduce the range of the miss distance\n",
    "if not relative_velocity_flag:\n",
    "    initial_range, end_range = scale_down(column='miss_distance', dataset=dataset)\n",
    "    relative_velocity_flag = True\n",
    "\n",
    "else:\n",
    "    print(\"scaling already complete\")"
   ]
  },
  {
   "cell_type": "code",
   "execution_count": 12,
   "metadata": {},
   "outputs": [],
   "source": [
    "# try to reduce the range of the relative velocity\n",
    "if not miss_distance_flag:\n",
    "    initial_range, end_range = scale_down(column='relative_velocity', dataset=dataset)\n",
    "    miss_distance_flag = True\n",
    "else:\n",
    "    print(\"scaling already complete\")"
   ]
  },
  {
   "cell_type": "code",
   "execution_count": 13,
   "metadata": {},
   "outputs": [],
   "source": [
    "scaler = StandardScaler()"
   ]
  },
  {
   "cell_type": "code",
   "execution_count": 14,
   "metadata": {},
   "outputs": [],
   "source": [
    "train_data, test_data = train_test_split(dataset.drop(['id', 'name'], axis=1), test_size=0.2)\n",
    "train_data, validation_data = train_test_split(train_data, test_size=0.2)\n",
    "\n",
    "train_labels, test_labels, validation_labels = (np.array(train_data.pop('hazardous')),\n",
    "                                                np.array(test_data.pop('hazardous')), \n",
    "                                                np.array(validation_data.pop('hazardous')))\n",
    "bool_train_labels = train_labels != 0\n",
    "train_features, test_features, validation_features = (np.clip(scaler.fit_transform(np.array(train_data)), 0, 60),\n",
    "                                                      np.clip(scaler.fit_transform(np.array(test_data)), 0, 60), \n",
    "                                                      np.clip(scaler.fit_transform(np.array(validation_data)), 0, 60))"
   ]
  },
  {
   "cell_type": "code",
   "execution_count": 15,
   "metadata": {},
   "outputs": [],
   "source": [
    "model_metrics = [keras.metrics.BinaryAccuracy(),\n",
    "                       keras.metrics.Precision(),\n",
    "                       keras.metrics.Recall(),\n",
    "                       keras.metrics.TruePositives(),\n",
    "                       keras.metrics.TrueNegatives(),\n",
    "                       keras.metrics.FalseNegatives(),\n",
    "                       keras.metrics.FalsePositives(),\n",
    "                       keras.metrics.AUC(name='auc'),\n",
    "                       keras.metrics.AUC(name='prc', curve='PR')\n",
    "                       ]"
   ]
  },
  {
   "cell_type": "code",
   "execution_count": 23,
   "metadata": {},
   "outputs": [],
   "source": [
    "def make_model(metrics=model_metrics, output_bias=None):\n",
    "    if output_bias:\n",
    "        output_bias = tf.keras.initializers.Constant(output_bias)\n",
    "    \n",
    "    model = tf.keras.Sequential([\n",
    "        keras.layers.Dense(5, activation='relu', input_shape=(train_features.shape[-1],), \n",
    "                            kernel_regularizer=keras.regularizers.L1L2(l1=1e-5, l2=1e-4)),\n",
    "        keras.layers.Dropout(0.2),\n",
    "        keras.layers.Dense(5, activation='linear', activity_regularizer=keras.regularizers.L1(0.0002)),\n",
    "        keras.layers.Dense(5, activation='relu',\n",
    "                            kernel_regularizer=keras.regularizers.L1L2(l1=1e-5, l2=1e-4)),\n",
    "        keras.layers.Dropout(0.2),\n",
    "        keras.layers.Dense(3, activation='linear', activity_regularizer=keras.regularizers.L1(0.0002)),\n",
    "        keras.layers.Dense(3, activation='relu',\n",
    "                            kernel_regularizer=keras.regularizers.L1L2(l1=1e-5, l2=1e-4)),\n",
    "        keras.layers.Dropout(0.2),\n",
    "        keras.layers.Dense(1, activation='sigmoid', bias_initializer=output_bias)\n",
    "    ])\n",
    "\n",
    "    model.compile(\n",
    "        optimizer=keras.optimizers.Adam(learning_rate=1e-3),\n",
    "        loss=keras.losses.BinaryCrossentropy(),\n",
    "        metrics=metrics\n",
    "    )\n",
    "    \n",
    "    return model"
   ]
  },
  {
   "cell_type": "code",
   "execution_count": 24,
   "metadata": {},
   "outputs": [],
   "source": [
    "EPOCHS = 100\n",
    "BATCH_SIZE = 2048\n",
    "\n",
    "early_stopping = tf.keras.callbacks.EarlyStopping(\n",
    "    monitor='val_prc',\n",
    "    verbose=1,\n",
    "    patience=10,\n",
    "    mode='max',\n",
    "    restore_best_weights=True\n",
    ")"
   ]
  },
  {
   "cell_type": "code",
   "execution_count": 25,
   "metadata": {},
   "outputs": [],
   "source": [
    "model = make_model()"
   ]
  },
  {
   "cell_type": "code",
   "execution_count": 26,
   "metadata": {},
   "outputs": [
    {
     "name": "stdout",
     "output_type": "stream",
     "text": [
      "Model: \"sequential\"\n",
      "_________________________________________________________________\n",
      " Layer (type)                Output Shape              Param #   \n",
      "=================================================================\n",
      " dense (Dense)               (None, 5)                 30        \n",
      "                                                                 \n",
      " dropout_3 (Dropout)         (None, 5)                 0         \n",
      "                                                                 \n",
      " dense_1 (Dense)             (None, 5)                 30        \n",
      "                                                                 \n",
      " dense_2 (Dense)             (None, 5)                 30        \n",
      "                                                                 \n",
      " dropout_4 (Dropout)         (None, 5)                 0         \n",
      "                                                                 \n",
      " dense_3 (Dense)             (None, 3)                 18        \n",
      "                                                                 \n",
      " dense_4 (Dense)             (None, 3)                 12        \n",
      "                                                                 \n",
      " dropout_5 (Dropout)         (None, 3)                 0         \n",
      "                                                                 \n",
      " dense_5 (Dense)             (None, 1)                 4         \n",
      "                                                                 \n",
      "=================================================================\n",
      "Total params: 124\n",
      "Trainable params: 124\n",
      "Non-trainable params: 0\n",
      "_________________________________________________________________\n"
     ]
    }
   ],
   "source": [
    "model.summary()"
   ]
  },
  {
   "cell_type": "markdown",
   "metadata": {},
   "source": [
    "getting the initial bias"
   ]
  },
  {
   "cell_type": "code",
   "execution_count": 27,
   "metadata": {},
   "outputs": [
    {
     "name": "stdout",
     "output_type": "stream",
     "text": [
      "29/29 [==============================] - 2s 3ms/step - loss: 0.5138 - binary_accuracy: 0.9010 - precision: 0.0000e+00 - recall: 0.0000e+00 - true_positives: 0.0000e+00 - true_negatives: 52378.0000 - false_negatives: 5683.0000 - false_positives: 73.0000 - auc: 0.3039 - prc: 0.0642\n",
      "Loss: 0.5138475894927979\n"
     ]
    }
   ],
   "source": [
    "# unbiased\n",
    "results = model.evaluate(train_features, train_labels, batch_size=BATCH_SIZE, verbose=1)\n",
    "print(f'Loss: {results[0]}')"
   ]
  },
  {
   "cell_type": "markdown",
   "metadata": {},
   "source": [
    "initial_bias = ln(pos/neg)\n",
    "where positive is the number of features classified positive, and neg is the number of features classified as negative"
   ]
  },
  {
   "cell_type": "code",
   "execution_count": 28,
   "metadata": {},
   "outputs": [
    {
     "data": {
      "text/plain": [
       "array([-2.22738359])"
      ]
     },
     "execution_count": 28,
     "metadata": {},
     "output_type": "execute_result"
    }
   ],
   "source": [
    "initial_bias = np.log([pos/neg])\n",
    "initial_bias"
   ]
  },
  {
   "cell_type": "code",
   "execution_count": 29,
   "metadata": {},
   "outputs": [],
   "source": [
    "initial_model = make_model(output_bias=initial_bias)"
   ]
  },
  {
   "cell_type": "code",
   "execution_count": 30,
   "metadata": {},
   "outputs": [
    {
     "name": "stdout",
     "output_type": "stream",
     "text": [
      "1/1 [==============================] - 0s 184ms/step\n"
     ]
    },
    {
     "data": {
      "text/plain": [
       "array([[0.36672023],\n",
       "       [0.33325902],\n",
       "       [0.38574567],\n",
       "       [0.41875666],\n",
       "       [0.32896504],\n",
       "       [0.35203776],\n",
       "       [0.3611759 ],\n",
       "       [0.33912557],\n",
       "       [0.33506963],\n",
       "       [0.39124024]], dtype=float32)"
      ]
     },
     "execution_count": 30,
     "metadata": {},
     "output_type": "execute_result"
    }
   ],
   "source": [
    "model.predict(train_features[:10])"
   ]
  },
  {
   "cell_type": "code",
   "execution_count": null,
   "metadata": {},
   "outputs": [],
   "source": [
    "# biased\n",
    "results = model.evaluate(train_features, train_labels, batch_size=BATCH_SIZE, verbose=1)\n",
    "print(f'Loss: {results[0]}')"
   ]
  },
  {
   "cell_type": "markdown",
   "metadata": {},
   "source": [
    "save a benchmark"
   ]
  },
  {
   "cell_type": "code",
   "execution_count": 31,
   "metadata": {},
   "outputs": [],
   "source": [
    "initial_weights = os.path.join(tempfile.mkdtemp(), 'initial_weights')\n",
    "model.save_weights(initial_weights)"
   ]
  },
  {
   "cell_type": "code",
   "execution_count": 32,
   "metadata": {},
   "outputs": [
    {
     "name": "stdout",
     "output_type": "stream",
     "text": [
      "Epoch 1/100\n",
      "29/29 [==============================] - 4s 10ms/step - loss: 0.4882 - binary_accuracy: 0.8939 - precision: 0.0000e+00 - recall: 0.0000e+00 - true_positives: 0.0000e+00 - true_negatives: 51965.0000 - false_negatives: 5683.0000 - false_positives: 486.0000 - auc: 0.4138 - prc: 0.0760 - val_loss: 0.4540 - val_binary_accuracy: 0.9068 - val_precision: 0.0000e+00 - val_recall: 0.0000e+00 - val_true_positives: 0.0000e+00 - val_true_negatives: 13179.0000 - val_false_negatives: 1355.0000 - val_false_positives: 0.0000e+00 - val_auc: 0.4255 - val_prc: 0.0740\n",
      "Epoch 2/100\n",
      "29/29 [==============================] - 0s 10ms/step - loss: 0.4476 - binary_accuracy: 0.9022 - precision: 0.0000e+00 - recall: 0.0000e+00 - true_positives: 0.0000e+00 - true_negatives: 52450.0000 - false_negatives: 5683.0000 - false_positives: 1.0000 - auc: 0.4989 - prc: 0.0908 - val_loss: 0.4312 - val_binary_accuracy: 0.9068 - val_precision: 0.0000e+00 - val_recall: 0.0000e+00 - val_true_positives: 0.0000e+00 - val_true_negatives: 13179.0000 - val_false_negatives: 1355.0000 - val_false_positives: 0.0000e+00 - val_auc: 0.6878 - val_prc: 0.1536\n",
      "Epoch 3/100\n",
      "29/29 [==============================] - 0s 8ms/step - loss: 0.4275 - binary_accuracy: 0.9022 - precision: 0.0000e+00 - recall: 0.0000e+00 - true_positives: 0.0000e+00 - true_negatives: 52451.0000 - false_negatives: 5683.0000 - false_positives: 0.0000e+00 - auc: 0.5502 - prc: 0.1037 - val_loss: 0.4127 - val_binary_accuracy: 0.9068 - val_precision: 0.0000e+00 - val_recall: 0.0000e+00 - val_true_positives: 0.0000e+00 - val_true_negatives: 13179.0000 - val_false_negatives: 1355.0000 - val_false_positives: 0.0000e+00 - val_auc: 0.6890 - val_prc: 0.1449\n",
      "Epoch 4/100\n",
      "29/29 [==============================] - 0s 7ms/step - loss: 0.4093 - binary_accuracy: 0.9022 - precision: 0.0000e+00 - recall: 0.0000e+00 - true_positives: 0.0000e+00 - true_negatives: 52451.0000 - false_negatives: 5683.0000 - false_positives: 0.0000e+00 - auc: 0.5652 - prc: 0.1073 - val_loss: 0.3926 - val_binary_accuracy: 0.9068 - val_precision: 0.0000e+00 - val_recall: 0.0000e+00 - val_true_positives: 0.0000e+00 - val_true_negatives: 13179.0000 - val_false_negatives: 1355.0000 - val_false_positives: 0.0000e+00 - val_auc: 0.7083 - val_prc: 0.1530\n",
      "Epoch 5/100\n",
      "29/29 [==============================] - 0s 8ms/step - loss: 0.3903 - binary_accuracy: 0.9022 - precision: 0.0000e+00 - recall: 0.0000e+00 - true_positives: 0.0000e+00 - true_negatives: 52451.0000 - false_negatives: 5683.0000 - false_positives: 0.0000e+00 - auc: 0.5764 - prc: 0.1091 - val_loss: 0.3701 - val_binary_accuracy: 0.9068 - val_precision: 0.0000e+00 - val_recall: 0.0000e+00 - val_true_positives: 0.0000e+00 - val_true_negatives: 13179.0000 - val_false_negatives: 1355.0000 - val_false_positives: 0.0000e+00 - val_auc: 0.7786 - val_prc: 0.2141\n",
      "Epoch 6/100\n",
      "29/29 [==============================] - 0s 9ms/step - loss: 0.3691 - binary_accuracy: 0.9022 - precision: 0.0000e+00 - recall: 0.0000e+00 - true_positives: 0.0000e+00 - true_negatives: 52451.0000 - false_negatives: 5683.0000 - false_positives: 0.0000e+00 - auc: 0.5900 - prc: 0.1116 - val_loss: 0.3423 - val_binary_accuracy: 0.9068 - val_precision: 0.0000e+00 - val_recall: 0.0000e+00 - val_true_positives: 0.0000e+00 - val_true_negatives: 13179.0000 - val_false_negatives: 1355.0000 - val_false_positives: 0.0000e+00 - val_auc: 0.8171 - val_prc: 0.2434\n",
      "Epoch 7/100\n",
      "29/29 [==============================] - 0s 7ms/step - loss: 0.3471 - binary_accuracy: 0.9022 - precision: 0.0000e+00 - recall: 0.0000e+00 - true_positives: 0.0000e+00 - true_negatives: 52451.0000 - false_negatives: 5683.0000 - false_positives: 0.0000e+00 - auc: 0.6038 - prc: 0.1140 - val_loss: 0.3114 - val_binary_accuracy: 0.9068 - val_precision: 0.0000e+00 - val_recall: 0.0000e+00 - val_true_positives: 0.0000e+00 - val_true_negatives: 13179.0000 - val_false_negatives: 1355.0000 - val_false_positives: 0.0000e+00 - val_auc: 0.8366 - val_prc: 0.2527\n",
      "Epoch 8/100\n",
      "29/29 [==============================] - 0s 7ms/step - loss: 0.3300 - binary_accuracy: 0.9022 - precision: 0.0000e+00 - recall: 0.0000e+00 - true_positives: 0.0000e+00 - true_negatives: 52451.0000 - false_negatives: 5683.0000 - false_positives: 0.0000e+00 - auc: 0.6215 - prc: 0.1181 - val_loss: 0.2887 - val_binary_accuracy: 0.9068 - val_precision: 0.0000e+00 - val_recall: 0.0000e+00 - val_true_positives: 0.0000e+00 - val_true_negatives: 13179.0000 - val_false_negatives: 1355.0000 - val_false_positives: 0.0000e+00 - val_auc: 0.8447 - val_prc: 0.2592\n",
      "Epoch 9/100\n",
      "29/29 [==============================] - 0s 7ms/step - loss: 0.3222 - binary_accuracy: 0.9022 - precision: 0.0000e+00 - recall: 0.0000e+00 - true_positives: 0.0000e+00 - true_negatives: 52451.0000 - false_negatives: 5683.0000 - false_positives: 0.0000e+00 - auc: 0.6333 - prc: 0.1208 - val_loss: 0.2786 - val_binary_accuracy: 0.9068 - val_precision: 0.0000e+00 - val_recall: 0.0000e+00 - val_true_positives: 0.0000e+00 - val_true_negatives: 13179.0000 - val_false_negatives: 1355.0000 - val_false_positives: 0.0000e+00 - val_auc: 0.8471 - val_prc: 0.2593\n",
      "Epoch 10/100\n",
      "29/29 [==============================] - 0s 7ms/step - loss: 0.3199 - binary_accuracy: 0.9022 - precision: 0.0000e+00 - recall: 0.0000e+00 - true_positives: 0.0000e+00 - true_negatives: 52451.0000 - false_negatives: 5683.0000 - false_positives: 0.0000e+00 - auc: 0.6280 - prc: 0.1189 - val_loss: 0.2730 - val_binary_accuracy: 0.9068 - val_precision: 0.0000e+00 - val_recall: 0.0000e+00 - val_true_positives: 0.0000e+00 - val_true_negatives: 13179.0000 - val_false_negatives: 1355.0000 - val_false_positives: 0.0000e+00 - val_auc: 0.8480 - val_prc: 0.2612\n",
      "Epoch 11/100\n",
      "29/29 [==============================] - 0s 8ms/step - loss: 0.3157 - binary_accuracy: 0.9022 - precision: 0.0000e+00 - recall: 0.0000e+00 - true_positives: 0.0000e+00 - true_negatives: 52451.0000 - false_negatives: 5683.0000 - false_positives: 0.0000e+00 - auc: 0.6337 - prc: 0.1204 - val_loss: 0.2684 - val_binary_accuracy: 0.9068 - val_precision: 0.0000e+00 - val_recall: 0.0000e+00 - val_true_positives: 0.0000e+00 - val_true_negatives: 13179.0000 - val_false_negatives: 1355.0000 - val_false_positives: 0.0000e+00 - val_auc: 0.8480 - val_prc: 0.2610\n",
      "Epoch 12/100\n",
      "29/29 [==============================] - 0s 8ms/step - loss: 0.3127 - binary_accuracy: 0.9022 - precision: 0.0000e+00 - recall: 0.0000e+00 - true_positives: 0.0000e+00 - true_negatives: 52451.0000 - false_negatives: 5683.0000 - false_positives: 0.0000e+00 - auc: 0.6347 - prc: 0.1209 - val_loss: 0.2634 - val_binary_accuracy: 0.9068 - val_precision: 0.0000e+00 - val_recall: 0.0000e+00 - val_true_positives: 0.0000e+00 - val_true_negatives: 13179.0000 - val_false_negatives: 1355.0000 - val_false_positives: 0.0000e+00 - val_auc: 0.8486 - val_prc: 0.2615\n",
      "Epoch 13/100\n",
      "29/29 [==============================] - 0s 8ms/step - loss: 0.3087 - binary_accuracy: 0.9022 - precision: 0.0000e+00 - recall: 0.0000e+00 - true_positives: 0.0000e+00 - true_negatives: 52451.0000 - false_negatives: 5683.0000 - false_positives: 0.0000e+00 - auc: 0.6472 - prc: 0.1242 - val_loss: 0.2581 - val_binary_accuracy: 0.9068 - val_precision: 0.0000e+00 - val_recall: 0.0000e+00 - val_true_positives: 0.0000e+00 - val_true_negatives: 13179.0000 - val_false_negatives: 1355.0000 - val_false_positives: 0.0000e+00 - val_auc: 0.8499 - val_prc: 0.2644\n",
      "Epoch 14/100\n",
      "29/29 [==============================] - 0s 8ms/step - loss: 0.3062 - binary_accuracy: 0.9022 - precision: 0.0000e+00 - recall: 0.0000e+00 - true_positives: 0.0000e+00 - true_negatives: 52451.0000 - false_negatives: 5683.0000 - false_positives: 0.0000e+00 - auc: 0.6607 - prc: 0.1275 - val_loss: 0.2546 - val_binary_accuracy: 0.9068 - val_precision: 0.0000e+00 - val_recall: 0.0000e+00 - val_true_positives: 0.0000e+00 - val_true_negatives: 13179.0000 - val_false_negatives: 1355.0000 - val_false_positives: 0.0000e+00 - val_auc: 0.8517 - val_prc: 0.2679\n",
      "Epoch 15/100\n",
      "29/29 [==============================] - 0s 7ms/step - loss: 0.3037 - binary_accuracy: 0.9022 - precision: 0.0000e+00 - recall: 0.0000e+00 - true_positives: 0.0000e+00 - true_negatives: 52451.0000 - false_negatives: 5683.0000 - false_positives: 0.0000e+00 - auc: 0.6718 - prc: 0.1320 - val_loss: 0.2511 - val_binary_accuracy: 0.9068 - val_precision: 0.0000e+00 - val_recall: 0.0000e+00 - val_true_positives: 0.0000e+00 - val_true_negatives: 13179.0000 - val_false_negatives: 1355.0000 - val_false_positives: 0.0000e+00 - val_auc: 0.8530 - val_prc: 0.2696\n",
      "Epoch 16/100\n",
      "29/29 [==============================] - 0s 7ms/step - loss: 0.3024 - binary_accuracy: 0.9022 - precision: 0.0000e+00 - recall: 0.0000e+00 - true_positives: 0.0000e+00 - true_negatives: 52451.0000 - false_negatives: 5683.0000 - false_positives: 0.0000e+00 - auc: 0.6871 - prc: 0.1376 - val_loss: 0.2480 - val_binary_accuracy: 0.9068 - val_precision: 0.0000e+00 - val_recall: 0.0000e+00 - val_true_positives: 0.0000e+00 - val_true_negatives: 13179.0000 - val_false_negatives: 1355.0000 - val_false_positives: 0.0000e+00 - val_auc: 0.8535 - val_prc: 0.2691\n",
      "Epoch 17/100\n",
      "29/29 [==============================] - 0s 8ms/step - loss: 0.2962 - binary_accuracy: 0.9022 - precision: 0.0000e+00 - recall: 0.0000e+00 - true_positives: 0.0000e+00 - true_negatives: 52451.0000 - false_negatives: 5683.0000 - false_positives: 0.0000e+00 - auc: 0.7091 - prc: 0.1599 - val_loss: 0.2418 - val_binary_accuracy: 0.9068 - val_precision: 0.0000e+00 - val_recall: 0.0000e+00 - val_true_positives: 0.0000e+00 - val_true_negatives: 13179.0000 - val_false_negatives: 1355.0000 - val_false_positives: 0.0000e+00 - val_auc: 0.8550 - val_prc: 0.2712\n",
      "Epoch 18/100\n",
      "29/29 [==============================] - 0s 8ms/step - loss: 0.2931 - binary_accuracy: 0.9022 - precision: 0.0000e+00 - recall: 0.0000e+00 - true_positives: 0.0000e+00 - true_negatives: 52451.0000 - false_negatives: 5683.0000 - false_positives: 0.0000e+00 - auc: 0.7345 - prc: 0.1961 - val_loss: 0.2380 - val_binary_accuracy: 0.9068 - val_precision: 0.0000e+00 - val_recall: 0.0000e+00 - val_true_positives: 0.0000e+00 - val_true_negatives: 13179.0000 - val_false_negatives: 1355.0000 - val_false_positives: 0.0000e+00 - val_auc: 0.8556 - val_prc: 0.2711\n",
      "Epoch 19/100\n",
      "29/29 [==============================] - 0s 8ms/step - loss: 0.2898 - binary_accuracy: 0.9022 - precision: 0.0000e+00 - recall: 0.0000e+00 - true_positives: 0.0000e+00 - true_negatives: 52451.0000 - false_negatives: 5683.0000 - false_positives: 0.0000e+00 - auc: 0.7616 - prc: 0.2202 - val_loss: 0.2357 - val_binary_accuracy: 0.9068 - val_precision: 0.0000e+00 - val_recall: 0.0000e+00 - val_true_positives: 0.0000e+00 - val_true_negatives: 13179.0000 - val_false_negatives: 1355.0000 - val_false_positives: 0.0000e+00 - val_auc: 0.8570 - val_prc: 0.2738\n",
      "Epoch 20/100\n",
      "29/29 [==============================] - 0s 10ms/step - loss: 0.2885 - binary_accuracy: 0.9022 - precision: 0.0000e+00 - recall: 0.0000e+00 - true_positives: 0.0000e+00 - true_negatives: 52451.0000 - false_negatives: 5683.0000 - false_positives: 0.0000e+00 - auc: 0.7627 - prc: 0.2184 - val_loss: 0.2339 - val_binary_accuracy: 0.9068 - val_precision: 0.0000e+00 - val_recall: 0.0000e+00 - val_true_positives: 0.0000e+00 - val_true_negatives: 13179.0000 - val_false_negatives: 1355.0000 - val_false_positives: 0.0000e+00 - val_auc: 0.8575 - val_prc: 0.2740\n",
      "Epoch 21/100\n",
      "29/29 [==============================] - 0s 9ms/step - loss: 0.2855 - binary_accuracy: 0.9022 - precision: 0.0000e+00 - recall: 0.0000e+00 - true_positives: 0.0000e+00 - true_negatives: 52450.0000 - false_negatives: 5683.0000 - false_positives: 1.0000 - auc: 0.7691 - prc: 0.2206 - val_loss: 0.2318 - val_binary_accuracy: 0.9068 - val_precision: 0.0000e+00 - val_recall: 0.0000e+00 - val_true_positives: 0.0000e+00 - val_true_negatives: 13179.0000 - val_false_negatives: 1355.0000 - val_false_positives: 0.0000e+00 - val_auc: 0.8582 - val_prc: 0.2743\n",
      "Epoch 22/100\n",
      "29/29 [==============================] - 0s 8ms/step - loss: 0.2815 - binary_accuracy: 0.9022 - precision: 0.0000e+00 - recall: 0.0000e+00 - true_positives: 0.0000e+00 - true_negatives: 52451.0000 - false_negatives: 5683.0000 - false_positives: 0.0000e+00 - auc: 0.7741 - prc: 0.2205 - val_loss: 0.2302 - val_binary_accuracy: 0.9068 - val_precision: 0.0000e+00 - val_recall: 0.0000e+00 - val_true_positives: 0.0000e+00 - val_true_negatives: 13179.0000 - val_false_negatives: 1355.0000 - val_false_positives: 0.0000e+00 - val_auc: 0.8597 - val_prc: 0.2772\n",
      "Epoch 23/100\n",
      "29/29 [==============================] - 0s 8ms/step - loss: 0.2795 - binary_accuracy: 0.9022 - precision: 0.0000e+00 - recall: 0.0000e+00 - true_positives: 0.0000e+00 - true_negatives: 52451.0000 - false_negatives: 5683.0000 - false_positives: 0.0000e+00 - auc: 0.7763 - prc: 0.2244 - val_loss: 0.2283 - val_binary_accuracy: 0.9068 - val_precision: 0.0000e+00 - val_recall: 0.0000e+00 - val_true_positives: 0.0000e+00 - val_true_negatives: 13179.0000 - val_false_negatives: 1355.0000 - val_false_positives: 0.0000e+00 - val_auc: 0.8602 - val_prc: 0.2778\n",
      "Epoch 24/100\n",
      "29/29 [==============================] - 0s 7ms/step - loss: 0.2765 - binary_accuracy: 0.9022 - precision: 0.0000e+00 - recall: 0.0000e+00 - true_positives: 0.0000e+00 - true_negatives: 52451.0000 - false_negatives: 5683.0000 - false_positives: 0.0000e+00 - auc: 0.7919 - prc: 0.2368 - val_loss: 0.2274 - val_binary_accuracy: 0.9068 - val_precision: 0.0000e+00 - val_recall: 0.0000e+00 - val_true_positives: 0.0000e+00 - val_true_negatives: 13179.0000 - val_false_negatives: 1355.0000 - val_false_positives: 0.0000e+00 - val_auc: 0.8602 - val_prc: 0.2774\n",
      "Epoch 25/100\n",
      "29/29 [==============================] - 0s 8ms/step - loss: 0.2747 - binary_accuracy: 0.9022 - precision: 0.0000e+00 - recall: 0.0000e+00 - true_positives: 0.0000e+00 - true_negatives: 52451.0000 - false_negatives: 5683.0000 - false_positives: 0.0000e+00 - auc: 0.7849 - prc: 0.2283 - val_loss: 0.2270 - val_binary_accuracy: 0.9068 - val_precision: 0.0000e+00 - val_recall: 0.0000e+00 - val_true_positives: 0.0000e+00 - val_true_negatives: 13179.0000 - val_false_negatives: 1355.0000 - val_false_positives: 0.0000e+00 - val_auc: 0.8592 - val_prc: 0.2752\n",
      "Epoch 26/100\n",
      "29/29 [==============================] - 0s 8ms/step - loss: 0.2734 - binary_accuracy: 0.9022 - precision: 0.0000e+00 - recall: 0.0000e+00 - true_positives: 0.0000e+00 - true_negatives: 52451.0000 - false_negatives: 5683.0000 - false_positives: 0.0000e+00 - auc: 0.7997 - prc: 0.2482 - val_loss: 0.2258 - val_binary_accuracy: 0.9068 - val_precision: 0.0000e+00 - val_recall: 0.0000e+00 - val_true_positives: 0.0000e+00 - val_true_negatives: 13179.0000 - val_false_negatives: 1355.0000 - val_false_positives: 0.0000e+00 - val_auc: 0.8600 - val_prc: 0.2766\n",
      "Epoch 27/100\n",
      "29/29 [==============================] - 0s 8ms/step - loss: 0.2738 - binary_accuracy: 0.9022 - precision: 0.0000e+00 - recall: 0.0000e+00 - true_positives: 0.0000e+00 - true_negatives: 52451.0000 - false_negatives: 5683.0000 - false_positives: 0.0000e+00 - auc: 0.7949 - prc: 0.2426 - val_loss: 0.2254 - val_binary_accuracy: 0.9068 - val_precision: 0.0000e+00 - val_recall: 0.0000e+00 - val_true_positives: 0.0000e+00 - val_true_negatives: 13179.0000 - val_false_negatives: 1355.0000 - val_false_positives: 0.0000e+00 - val_auc: 0.8612 - val_prc: 0.2787\n",
      "Epoch 28/100\n",
      "29/29 [==============================] - 0s 8ms/step - loss: 0.2718 - binary_accuracy: 0.9022 - precision: 0.0000e+00 - recall: 0.0000e+00 - true_positives: 0.0000e+00 - true_negatives: 52451.0000 - false_negatives: 5683.0000 - false_positives: 0.0000e+00 - auc: 0.8039 - prc: 0.2520 - val_loss: 0.2255 - val_binary_accuracy: 0.9068 - val_precision: 0.0000e+00 - val_recall: 0.0000e+00 - val_true_positives: 0.0000e+00 - val_true_negatives: 13179.0000 - val_false_negatives: 1355.0000 - val_false_positives: 0.0000e+00 - val_auc: 0.8605 - val_prc: 0.2768\n",
      "Epoch 29/100\n",
      "29/29 [==============================] - 0s 7ms/step - loss: 0.2712 - binary_accuracy: 0.9022 - precision: 0.0000e+00 - recall: 0.0000e+00 - true_positives: 0.0000e+00 - true_negatives: 52451.0000 - false_negatives: 5683.0000 - false_positives: 0.0000e+00 - auc: 0.8130 - prc: 0.2586 - val_loss: 0.2253 - val_binary_accuracy: 0.9068 - val_precision: 0.0000e+00 - val_recall: 0.0000e+00 - val_true_positives: 0.0000e+00 - val_true_negatives: 13179.0000 - val_false_negatives: 1355.0000 - val_false_positives: 0.0000e+00 - val_auc: 0.8601 - val_prc: 0.2758\n",
      "Epoch 30/100\n",
      "29/29 [==============================] - 0s 7ms/step - loss: 0.2705 - binary_accuracy: 0.9022 - precision: 0.0000e+00 - recall: 0.0000e+00 - true_positives: 0.0000e+00 - true_negatives: 52451.0000 - false_negatives: 5683.0000 - false_positives: 0.0000e+00 - auc: 0.8138 - prc: 0.2589 - val_loss: 0.2257 - val_binary_accuracy: 0.9068 - val_precision: 0.0000e+00 - val_recall: 0.0000e+00 - val_true_positives: 0.0000e+00 - val_true_negatives: 13179.0000 - val_false_negatives: 1355.0000 - val_false_positives: 0.0000e+00 - val_auc: 0.8620 - val_prc: 0.2797\n",
      "Epoch 31/100\n",
      "29/29 [==============================] - 0s 8ms/step - loss: 0.2697 - binary_accuracy: 0.9022 - precision: 0.0000e+00 - recall: 0.0000e+00 - true_positives: 0.0000e+00 - true_negatives: 52451.0000 - false_negatives: 5683.0000 - false_positives: 0.0000e+00 - auc: 0.8157 - prc: 0.2611 - val_loss: 0.2245 - val_binary_accuracy: 0.9068 - val_precision: 0.0000e+00 - val_recall: 0.0000e+00 - val_true_positives: 0.0000e+00 - val_true_negatives: 13179.0000 - val_false_negatives: 1355.0000 - val_false_positives: 0.0000e+00 - val_auc: 0.8607 - val_prc: 0.2772\n",
      "Epoch 32/100\n",
      "29/29 [==============================] - 0s 8ms/step - loss: 0.2690 - binary_accuracy: 0.9022 - precision: 0.0000e+00 - recall: 0.0000e+00 - true_positives: 0.0000e+00 - true_negatives: 52451.0000 - false_negatives: 5683.0000 - false_positives: 0.0000e+00 - auc: 0.8173 - prc: 0.2617 - val_loss: 0.2246 - val_binary_accuracy: 0.9068 - val_precision: 0.0000e+00 - val_recall: 0.0000e+00 - val_true_positives: 0.0000e+00 - val_true_negatives: 13179.0000 - val_false_negatives: 1355.0000 - val_false_positives: 0.0000e+00 - val_auc: 0.8608 - val_prc: 0.2775\n",
      "Epoch 33/100\n",
      "29/29 [==============================] - 0s 8ms/step - loss: 0.2690 - binary_accuracy: 0.9022 - precision: 0.0000e+00 - recall: 0.0000e+00 - true_positives: 0.0000e+00 - true_negatives: 52451.0000 - false_negatives: 5683.0000 - false_positives: 0.0000e+00 - auc: 0.8157 - prc: 0.2566 - val_loss: 0.2247 - val_binary_accuracy: 0.9068 - val_precision: 0.0000e+00 - val_recall: 0.0000e+00 - val_true_positives: 0.0000e+00 - val_true_negatives: 13179.0000 - val_false_negatives: 1355.0000 - val_false_positives: 0.0000e+00 - val_auc: 0.8619 - val_prc: 0.2795\n",
      "Epoch 34/100\n",
      "29/29 [==============================] - 0s 8ms/step - loss: 0.2679 - binary_accuracy: 0.9022 - precision: 0.0000e+00 - recall: 0.0000e+00 - true_positives: 0.0000e+00 - true_negatives: 52451.0000 - false_negatives: 5683.0000 - false_positives: 0.0000e+00 - auc: 0.8217 - prc: 0.2668 - val_loss: 0.2248 - val_binary_accuracy: 0.9068 - val_precision: 0.0000e+00 - val_recall: 0.0000e+00 - val_true_positives: 0.0000e+00 - val_true_negatives: 13179.0000 - val_false_negatives: 1355.0000 - val_false_positives: 0.0000e+00 - val_auc: 0.8624 - val_prc: 0.2803\n",
      "Epoch 35/100\n",
      "29/29 [==============================] - 0s 8ms/step - loss: 0.2688 - binary_accuracy: 0.9022 - precision: 0.0000e+00 - recall: 0.0000e+00 - true_positives: 0.0000e+00 - true_negatives: 52451.0000 - false_negatives: 5683.0000 - false_positives: 0.0000e+00 - auc: 0.8163 - prc: 0.2577 - val_loss: 0.2244 - val_binary_accuracy: 0.9068 - val_precision: 0.0000e+00 - val_recall: 0.0000e+00 - val_true_positives: 0.0000e+00 - val_true_negatives: 13179.0000 - val_false_negatives: 1355.0000 - val_false_positives: 0.0000e+00 - val_auc: 0.8616 - val_prc: 0.2785\n",
      "Epoch 36/100\n",
      "29/29 [==============================] - 0s 8ms/step - loss: 0.2669 - binary_accuracy: 0.9022 - precision: 0.0000e+00 - recall: 0.0000e+00 - true_positives: 0.0000e+00 - true_negatives: 52451.0000 - false_negatives: 5683.0000 - false_positives: 0.0000e+00 - auc: 0.8224 - prc: 0.2661 - val_loss: 0.2244 - val_binary_accuracy: 0.9068 - val_precision: 0.0000e+00 - val_recall: 0.0000e+00 - val_true_positives: 0.0000e+00 - val_true_negatives: 13179.0000 - val_false_negatives: 1355.0000 - val_false_positives: 0.0000e+00 - val_auc: 0.8613 - val_prc: 0.2780\n",
      "Epoch 37/100\n",
      "29/29 [==============================] - 0s 8ms/step - loss: 0.2674 - binary_accuracy: 0.9022 - precision: 0.0000e+00 - recall: 0.0000e+00 - true_positives: 0.0000e+00 - true_negatives: 52451.0000 - false_negatives: 5683.0000 - false_positives: 0.0000e+00 - auc: 0.8182 - prc: 0.2624 - val_loss: 0.2238 - val_binary_accuracy: 0.9068 - val_precision: 0.0000e+00 - val_recall: 0.0000e+00 - val_true_positives: 0.0000e+00 - val_true_negatives: 13179.0000 - val_false_negatives: 1355.0000 - val_false_positives: 0.0000e+00 - val_auc: 0.8607 - val_prc: 0.2770\n",
      "Epoch 38/100\n",
      "29/29 [==============================] - 0s 8ms/step - loss: 0.2663 - binary_accuracy: 0.9022 - precision: 0.0000e+00 - recall: 0.0000e+00 - true_positives: 0.0000e+00 - true_negatives: 52451.0000 - false_negatives: 5683.0000 - false_positives: 0.0000e+00 - auc: 0.8223 - prc: 0.2682 - val_loss: 0.2234 - val_binary_accuracy: 0.9068 - val_precision: 0.0000e+00 - val_recall: 0.0000e+00 - val_true_positives: 0.0000e+00 - val_true_negatives: 13179.0000 - val_false_negatives: 1355.0000 - val_false_positives: 0.0000e+00 - val_auc: 0.8605 - val_prc: 0.2766\n",
      "Epoch 39/100\n",
      "29/29 [==============================] - 0s 7ms/step - loss: 0.2654 - binary_accuracy: 0.9022 - precision: 0.0000e+00 - recall: 0.0000e+00 - true_positives: 0.0000e+00 - true_negatives: 52451.0000 - false_negatives: 5683.0000 - false_positives: 0.0000e+00 - auc: 0.8219 - prc: 0.2671 - val_loss: 0.2233 - val_binary_accuracy: 0.9068 - val_precision: 0.0000e+00 - val_recall: 0.0000e+00 - val_true_positives: 0.0000e+00 - val_true_negatives: 13179.0000 - val_false_negatives: 1355.0000 - val_false_positives: 0.0000e+00 - val_auc: 0.8617 - val_prc: 0.2793\n",
      "Epoch 40/100\n",
      "29/29 [==============================] - 0s 8ms/step - loss: 0.2638 - binary_accuracy: 0.9022 - precision: 0.0000e+00 - recall: 0.0000e+00 - true_positives: 0.0000e+00 - true_negatives: 52451.0000 - false_negatives: 5683.0000 - false_positives: 0.0000e+00 - auc: 0.8229 - prc: 0.2630 - val_loss: 0.2239 - val_binary_accuracy: 0.9068 - val_precision: 0.0000e+00 - val_recall: 0.0000e+00 - val_true_positives: 0.0000e+00 - val_true_negatives: 13179.0000 - val_false_negatives: 1355.0000 - val_false_positives: 0.0000e+00 - val_auc: 0.8617 - val_prc: 0.2790\n",
      "Epoch 41/100\n",
      "29/29 [==============================] - 0s 8ms/step - loss: 0.2637 - binary_accuracy: 0.9022 - precision: 0.0000e+00 - recall: 0.0000e+00 - true_positives: 0.0000e+00 - true_negatives: 52451.0000 - false_negatives: 5683.0000 - false_positives: 0.0000e+00 - auc: 0.8252 - prc: 0.2695 - val_loss: 0.2240 - val_binary_accuracy: 0.9068 - val_precision: 0.0000e+00 - val_recall: 0.0000e+00 - val_true_positives: 0.0000e+00 - val_true_negatives: 13179.0000 - val_false_negatives: 1355.0000 - val_false_positives: 0.0000e+00 - val_auc: 0.8619 - val_prc: 0.2789\n",
      "Epoch 42/100\n",
      "29/29 [==============================] - 0s 8ms/step - loss: 0.2636 - binary_accuracy: 0.9022 - precision: 0.0000e+00 - recall: 0.0000e+00 - true_positives: 0.0000e+00 - true_negatives: 52451.0000 - false_negatives: 5683.0000 - false_positives: 0.0000e+00 - auc: 0.8247 - prc: 0.2676 - val_loss: 0.2234 - val_binary_accuracy: 0.9068 - val_precision: 0.0000e+00 - val_recall: 0.0000e+00 - val_true_positives: 0.0000e+00 - val_true_negatives: 13179.0000 - val_false_negatives: 1355.0000 - val_false_positives: 0.0000e+00 - val_auc: 0.8618 - val_prc: 0.2789\n",
      "Epoch 43/100\n",
      "29/29 [==============================] - 0s 7ms/step - loss: 0.2636 - binary_accuracy: 0.9022 - precision: 0.0000e+00 - recall: 0.0000e+00 - true_positives: 0.0000e+00 - true_negatives: 52451.0000 - false_negatives: 5683.0000 - false_positives: 0.0000e+00 - auc: 0.8237 - prc: 0.2652 - val_loss: 0.2236 - val_binary_accuracy: 0.9068 - val_precision: 0.0000e+00 - val_recall: 0.0000e+00 - val_true_positives: 0.0000e+00 - val_true_negatives: 13179.0000 - val_false_negatives: 1355.0000 - val_false_positives: 0.0000e+00 - val_auc: 0.8618 - val_prc: 0.2792\n",
      "Epoch 44/100\n",
      "21/29 [====================>.........] - ETA: 0s - loss: 0.2620 - binary_accuracy: 0.9031 - precision: 0.0000e+00 - recall: 0.0000e+00 - true_positives: 0.0000e+00 - true_negatives: 38839.0000 - false_negatives: 4169.0000 - false_positives: 0.0000e+00 - auc: 0.8255 - prc: 0.2670Restoring model weights from the end of the best epoch: 34.\n",
      "29/29 [==============================] - 0s 8ms/step - loss: 0.2632 - binary_accuracy: 0.9022 - precision: 0.0000e+00 - recall: 0.0000e+00 - true_positives: 0.0000e+00 - true_negatives: 52451.0000 - false_negatives: 5683.0000 - false_positives: 0.0000e+00 - auc: 0.8251 - prc: 0.2682 - val_loss: 0.2234 - val_binary_accuracy: 0.9068 - val_precision: 0.0000e+00 - val_recall: 0.0000e+00 - val_true_positives: 0.0000e+00 - val_true_negatives: 13179.0000 - val_false_negatives: 1355.0000 - val_false_positives: 0.0000e+00 - val_auc: 0.8618 - val_prc: 0.2793\n",
      "Epoch 44: early stopping\n"
     ]
    }
   ],
   "source": [
    "biased_model = make_model()\n",
    "model.load_weights(initial_weights)\n",
    "\n",
    "baseline = model.fit(train_features, train_labels, batch_size=BATCH_SIZE, epochs=EPOCHS, callbacks=[early_stopping], validation_data=(validation_features, validation_labels))"
   ]
  },
  {
   "cell_type": "markdown",
   "metadata": {},
   "source": [
    "class weights"
   ]
  },
  {
   "cell_type": "code",
   "execution_count": 33,
   "metadata": {},
   "outputs": [
    {
     "name": "stdout",
     "output_type": "stream",
     "text": [
      "Non-Hazardous Weight: 0.5539050685399288\n",
      "Hazardous Weight: 5.137782805429865\n"
     ]
    }
   ],
   "source": [
    "weight_for_0 = (1 / neg) * (total / 2)\n",
    "weight_for_1 = (1 / pos) * (total / 2)\n",
    "\n",
    "class_weights = {0: weight_for_0, 1: weight_for_1}\n",
    "\n",
    "print(f'Non-Hazardous Weight: {weight_for_0}\\nHazardous Weight: {weight_for_1}')"
   ]
  },
  {
   "cell_type": "code",
   "execution_count": 34,
   "metadata": {},
   "outputs": [],
   "source": [
    "tf.keras.backend.clear_session()"
   ]
  },
  {
   "cell_type": "code",
   "execution_count": 35,
   "metadata": {},
   "outputs": [
    {
     "data": {
      "text/plain": [
       "<tensorflow.python.training.tracking.util.CheckpointLoadStatus at 0x22daf542d70>"
      ]
     },
     "execution_count": 35,
     "metadata": {},
     "output_type": "execute_result"
    }
   ],
   "source": [
    "weighted_model = make_model()\n",
    "weighted_model.load_weights(initial_weights)"
   ]
  },
  {
   "cell_type": "code",
   "execution_count": 36,
   "metadata": {},
   "outputs": [
    {
     "name": "stdout",
     "output_type": "stream",
     "text": [
      "Model: \"sequential\"\n",
      "_________________________________________________________________\n",
      " Layer (type)                Output Shape              Param #   \n",
      "=================================================================\n",
      " dense (Dense)               (None, 5)                 30        \n",
      "                                                                 \n",
      " dropout (Dropout)           (None, 5)                 0         \n",
      "                                                                 \n",
      " dense_1 (Dense)             (None, 5)                 30        \n",
      "                                                                 \n",
      " dense_2 (Dense)             (None, 5)                 30        \n",
      "                                                                 \n",
      " dropout_1 (Dropout)         (None, 5)                 0         \n",
      "                                                                 \n",
      " dense_3 (Dense)             (None, 3)                 18        \n",
      "                                                                 \n",
      " dense_4 (Dense)             (None, 3)                 12        \n",
      "                                                                 \n",
      " dropout_2 (Dropout)         (None, 3)                 0         \n",
      "                                                                 \n",
      " dense_5 (Dense)             (None, 1)                 4         \n",
      "                                                                 \n",
      "=================================================================\n",
      "Total params: 124\n",
      "Trainable params: 124\n",
      "Non-trainable params: 0\n",
      "_________________________________________________________________\n"
     ]
    }
   ],
   "source": [
    "weighted_model.summary()"
   ]
  },
  {
   "cell_type": "code",
   "execution_count": null,
   "metadata": {},
   "outputs": [],
   "source": [
    "# weighted_history = weighted_model.fit(train_features, \n",
    "#                                     train_labels, \n",
    "#                                     batch_size=BATCH_SIZE, \n",
    "#                                     epochs=EPOCHS, \n",
    "#                                     callbacks=[early_stopping], \n",
    "#                                     validation_data=(validation_features, validation_labels), \n",
    "#                                     class_weight=class_weights)"
   ]
  },
  {
   "cell_type": "markdown",
   "metadata": {},
   "source": [
    "try training it with just the weights"
   ]
  },
  {
   "cell_type": "code",
   "execution_count": 38,
   "metadata": {},
   "outputs": [
    {
     "name": "stdout",
     "output_type": "stream",
     "text": [
      "Epoch 1/200\n",
      "29/29 [==============================] - 0s 10ms/step - loss: 0.4881 - binary_accuracy: 0.7368 - precision: 0.2322 - recall: 0.7338 - true_positives: 4170.0000 - true_negatives: 38662.0000 - false_negatives: 1513.0000 - false_positives: 13789.0000 - auc: 0.8145 - prc: 0.2576 - val_loss: 0.4102 - val_binary_accuracy: 0.7453 - val_precision: 0.2566 - val_recall: 0.9129 - val_true_positives: 1237.0000 - val_true_negatives: 9595.0000 - val_false_negatives: 118.0000 - val_false_positives: 3584.0000 - val_auc: 0.8616 - val_prc: 0.2781\n",
      "Epoch 2/200\n",
      "29/29 [==============================] - 0s 9ms/step - loss: 0.4852 - binary_accuracy: 0.7386 - precision: 0.2335 - recall: 0.7338 - true_positives: 4170.0000 - true_negatives: 38766.0000 - false_negatives: 1513.0000 - false_positives: 13685.0000 - auc: 0.8166 - prc: 0.2613 - val_loss: 0.4115 - val_binary_accuracy: 0.7516 - val_precision: 0.2607 - val_recall: 0.9063 - val_true_positives: 1228.0000 - val_true_negatives: 9696.0000 - val_false_negatives: 127.0000 - val_false_positives: 3483.0000 - val_auc: 0.8615 - val_prc: 0.2779\n",
      "Epoch 3/200\n",
      "29/29 [==============================] - 0s 8ms/step - loss: 0.4833 - binary_accuracy: 0.7450 - precision: 0.2377 - recall: 0.7288 - true_positives: 4142.0000 - true_negatives: 39169.0000 - false_negatives: 1541.0000 - false_positives: 13282.0000 - auc: 0.8181 - prc: 0.2624 - val_loss: 0.4233 - val_binary_accuracy: 0.7304 - val_precision: 0.2467 - val_recall: 0.9218 - val_true_positives: 1249.0000 - val_true_negatives: 9366.0000 - val_false_negatives: 106.0000 - val_false_positives: 3813.0000 - val_auc: 0.8618 - val_prc: 0.2787\n",
      "Epoch 4/200\n",
      "29/29 [==============================] - 0s 8ms/step - loss: 0.4836 - binary_accuracy: 0.7397 - precision: 0.2355 - recall: 0.7405 - true_positives: 4208.0000 - true_negatives: 38793.0000 - false_negatives: 1475.0000 - false_positives: 13658.0000 - auc: 0.8178 - prc: 0.2620 - val_loss: 0.4166 - val_binary_accuracy: 0.7427 - val_precision: 0.2550 - val_recall: 0.9159 - val_true_positives: 1241.0000 - val_true_negatives: 9554.0000 - val_false_negatives: 114.0000 - val_false_positives: 3625.0000 - val_auc: 0.8620 - val_prc: 0.2790\n",
      "Epoch 5/200\n",
      "29/29 [==============================] - 0s 8ms/step - loss: 0.4843 - binary_accuracy: 0.7465 - precision: 0.2374 - recall: 0.7200 - true_positives: 4092.0000 - true_negatives: 39303.0000 - false_negatives: 1591.0000 - false_positives: 13148.0000 - auc: 0.8161 - prc: 0.2587 - val_loss: 0.4200 - val_binary_accuracy: 0.7470 - val_precision: 0.2579 - val_recall: 0.9129 - val_true_positives: 1237.0000 - val_true_negatives: 9620.0000 - val_false_negatives: 118.0000 - val_false_positives: 3559.0000 - val_auc: 0.8623 - val_prc: 0.2795\n",
      "Epoch 6/200\n",
      "29/29 [==============================] - 0s 8ms/step - loss: 0.4828 - binary_accuracy: 0.7425 - precision: 0.2365 - recall: 0.7332 - true_positives: 4167.0000 - true_negatives: 39000.0000 - false_negatives: 1516.0000 - false_positives: 13451.0000 - auc: 0.8169 - prc: 0.2592 - val_loss: 0.4173 - val_binary_accuracy: 0.7512 - val_precision: 0.2601 - val_recall: 0.9048 - val_true_positives: 1226.0000 - val_true_negatives: 9692.0000 - val_false_negatives: 129.0000 - val_false_positives: 3487.0000 - val_auc: 0.8622 - val_prc: 0.2792\n",
      "Epoch 7/200\n",
      "29/29 [==============================] - 0s 9ms/step - loss: 0.4816 - binary_accuracy: 0.7458 - precision: 0.2381 - recall: 0.7271 - true_positives: 4132.0000 - true_negatives: 39226.0000 - false_negatives: 1551.0000 - false_positives: 13225.0000 - auc: 0.8167 - prc: 0.2586 - val_loss: 0.4161 - val_binary_accuracy: 0.7557 - val_precision: 0.2633 - val_recall: 0.9011 - val_true_positives: 1221.0000 - val_true_negatives: 9762.0000 - val_false_negatives: 134.0000 - val_false_positives: 3417.0000 - val_auc: 0.8627 - val_prc: 0.2803\n",
      "Epoch 8/200\n",
      "29/29 [==============================] - 0s 8ms/step - loss: 0.4803 - binary_accuracy: 0.7448 - precision: 0.2379 - recall: 0.7308 - true_positives: 4153.0000 - true_negatives: 39144.0000 - false_negatives: 1530.0000 - false_positives: 13307.0000 - auc: 0.8186 - prc: 0.2628 - val_loss: 0.4185 - val_binary_accuracy: 0.7535 - val_precision: 0.2617 - val_recall: 0.9026 - val_true_positives: 1223.0000 - val_true_negatives: 9728.0000 - val_false_negatives: 132.0000 - val_false_positives: 3451.0000 - val_auc: 0.8625 - val_prc: 0.2800\n",
      "Epoch 9/200\n",
      "29/29 [==============================] - 0s 8ms/step - loss: 0.4815 - binary_accuracy: 0.7461 - precision: 0.2377 - recall: 0.7241 - true_positives: 4115.0000 - true_negatives: 39256.0000 - false_negatives: 1568.0000 - false_positives: 13195.0000 - auc: 0.8168 - prc: 0.2633 - val_loss: 0.4195 - val_binary_accuracy: 0.7580 - val_precision: 0.2649 - val_recall: 0.8989 - val_true_positives: 1218.0000 - val_true_negatives: 9799.0000 - val_false_negatives: 137.0000 - val_false_positives: 3380.0000 - val_auc: 0.8628 - val_prc: 0.2805\n",
      "Epoch 10/200\n",
      "29/29 [==============================] - 0s 8ms/step - loss: 0.4766 - binary_accuracy: 0.7492 - precision: 0.2428 - recall: 0.7392 - true_positives: 4201.0000 - true_negatives: 39353.0000 - false_negatives: 1482.0000 - false_positives: 13098.0000 - auc: 0.8226 - prc: 0.2700 - val_loss: 0.4221 - val_binary_accuracy: 0.7595 - val_precision: 0.2656 - val_recall: 0.8945 - val_true_positives: 1212.0000 - val_true_negatives: 9827.0000 - val_false_negatives: 143.0000 - val_false_positives: 3352.0000 - val_auc: 0.8624 - val_prc: 0.2798\n",
      "Epoch 11/200\n",
      "29/29 [==============================] - 0s 8ms/step - loss: 0.4797 - binary_accuracy: 0.7492 - precision: 0.2403 - recall: 0.7243 - true_positives: 4116.0000 - true_negatives: 39440.0000 - false_negatives: 1567.0000 - false_positives: 13011.0000 - auc: 0.8200 - prc: 0.2668 - val_loss: 0.4183 - val_binary_accuracy: 0.7571 - val_precision: 0.2639 - val_recall: 0.8974 - val_true_positives: 1216.0000 - val_true_negatives: 9788.0000 - val_false_negatives: 139.0000 - val_false_positives: 3391.0000 - val_auc: 0.8629 - val_prc: 0.2807\n",
      "Epoch 12/200\n",
      "29/29 [==============================] - 0s 8ms/step - loss: 0.4797 - binary_accuracy: 0.7490 - precision: 0.2404 - recall: 0.7257 - true_positives: 4124.0000 - true_negatives: 39418.0000 - false_negatives: 1559.0000 - false_positives: 13033.0000 - auc: 0.8187 - prc: 0.2641 - val_loss: 0.4281 - val_binary_accuracy: 0.7489 - val_precision: 0.2591 - val_recall: 0.9107 - val_true_positives: 1234.0000 - val_true_negatives: 9650.0000 - val_false_negatives: 121.0000 - val_false_positives: 3529.0000 - val_auc: 0.8626 - val_prc: 0.2802\n",
      "Epoch 13/200\n",
      "29/29 [==============================] - 0s 10ms/step - loss: 0.4786 - binary_accuracy: 0.7489 - precision: 0.2416 - recall: 0.7334 - true_positives: 4168.0000 - true_negatives: 39368.0000 - false_negatives: 1515.0000 - false_positives: 13083.0000 - auc: 0.8201 - prc: 0.2637 - val_loss: 0.4136 - val_binary_accuracy: 0.7661 - val_precision: 0.2700 - val_recall: 0.8856 - val_true_positives: 1200.0000 - val_true_negatives: 9935.0000 - val_false_negatives: 155.0000 - val_false_positives: 3244.0000 - val_auc: 0.8629 - val_prc: 0.2806\n",
      "Epoch 14/200\n",
      "29/29 [==============================] - 0s 8ms/step - loss: 0.4798 - binary_accuracy: 0.7531 - precision: 0.2425 - recall: 0.7181 - true_positives: 4081.0000 - true_negatives: 39702.0000 - false_negatives: 1602.0000 - false_positives: 12749.0000 - auc: 0.8182 - prc: 0.2611 - val_loss: 0.4094 - val_binary_accuracy: 0.7695 - val_precision: 0.2726 - val_recall: 0.8827 - val_true_positives: 1196.0000 - val_true_negatives: 9988.0000 - val_false_negatives: 159.0000 - val_false_positives: 3191.0000 - val_auc: 0.8626 - val_prc: 0.2803\n",
      "Epoch 15/200\n",
      "29/29 [==============================] - 0s 8ms/step - loss: 0.4769 - binary_accuracy: 0.7521 - precision: 0.2430 - recall: 0.7262 - true_positives: 4127.0000 - true_negatives: 39593.0000 - false_negatives: 1556.0000 - false_positives: 12858.0000 - auc: 0.8227 - prc: 0.2698 - val_loss: 0.4087 - val_binary_accuracy: 0.7735 - val_precision: 0.2756 - val_recall: 0.8775 - val_true_positives: 1189.0000 - val_true_negatives: 10053.0000 - val_false_negatives: 166.0000 - val_false_positives: 3126.0000 - val_auc: 0.8627 - val_prc: 0.2804\n",
      "Epoch 16/200\n",
      "29/29 [==============================] - 0s 8ms/step - loss: 0.4812 - binary_accuracy: 0.7532 - precision: 0.2407 - recall: 0.7081 - true_positives: 4024.0000 - true_negatives: 39760.0000 - false_negatives: 1659.0000 - false_positives: 12691.0000 - auc: 0.8174 - prc: 0.2636 - val_loss: 0.4190 - val_binary_accuracy: 0.7672 - val_precision: 0.2708 - val_recall: 0.8849 - val_true_positives: 1199.0000 - val_true_negatives: 9951.0000 - val_false_negatives: 156.0000 - val_false_positives: 3228.0000 - val_auc: 0.8628 - val_prc: 0.2803\n",
      "Epoch 17/200\n",
      "29/29 [==============================] - 0s 8ms/step - loss: 0.4781 - binary_accuracy: 0.7528 - precision: 0.2441 - recall: 0.7294 - true_positives: 4145.0000 - true_negatives: 39616.0000 - false_negatives: 1538.0000 - false_positives: 12835.0000 - auc: 0.8211 - prc: 0.2630 - val_loss: 0.4067 - val_binary_accuracy: 0.7747 - val_precision: 0.2760 - val_recall: 0.8723 - val_true_positives: 1182.0000 - val_true_negatives: 10078.0000 - val_false_negatives: 173.0000 - val_false_positives: 3101.0000 - val_auc: 0.8628 - val_prc: 0.2804\n",
      "Epoch 18/200\n",
      "29/29 [==============================] - 0s 8ms/step - loss: 0.4787 - binary_accuracy: 0.7543 - precision: 0.2428 - recall: 0.7139 - true_positives: 4057.0000 - true_negatives: 39796.0000 - false_negatives: 1626.0000 - false_positives: 12655.0000 - auc: 0.8217 - prc: 0.2659 - val_loss: 0.4239 - val_binary_accuracy: 0.7599 - val_precision: 0.2658 - val_recall: 0.8937 - val_true_positives: 1211.0000 - val_true_negatives: 9834.0000 - val_false_negatives: 144.0000 - val_false_positives: 3345.0000 - val_auc: 0.8628 - val_prc: 0.2804\n",
      "Epoch 19/200\n",
      "29/29 [==============================] - 0s 8ms/step - loss: 0.4759 - binary_accuracy: 0.7544 - precision: 0.2449 - recall: 0.7258 - true_positives: 4125.0000 - true_negatives: 39729.0000 - false_negatives: 1558.0000 - false_positives: 12722.0000 - auc: 0.8245 - prc: 0.2703 - val_loss: 0.4142 - val_binary_accuracy: 0.7727 - val_precision: 0.2750 - val_recall: 0.8790 - val_true_positives: 1191.0000 - val_true_negatives: 10039.0000 - val_false_negatives: 164.0000 - val_false_positives: 3140.0000 - val_auc: 0.8628 - val_prc: 0.2805\n",
      "Epoch 20/200\n",
      "29/29 [==============================] - 0s 8ms/step - loss: 0.4767 - binary_accuracy: 0.7557 - precision: 0.2455 - recall: 0.7230 - true_positives: 4109.0000 - true_negatives: 39824.0000 - false_negatives: 1574.0000 - false_positives: 12627.0000 - auc: 0.8232 - prc: 0.2673 - val_loss: 0.4197 - val_binary_accuracy: 0.7615 - val_precision: 0.2666 - val_recall: 0.8900 - val_true_positives: 1206.0000 - val_true_negatives: 9862.0000 - val_false_negatives: 149.0000 - val_false_positives: 3317.0000 - val_auc: 0.8626 - val_prc: 0.2802\n",
      "Epoch 21/200\n",
      "29/29 [==============================] - 0s 8ms/step - loss: 0.4775 - binary_accuracy: 0.7572 - precision: 0.2466 - recall: 0.7220 - true_positives: 4103.0000 - true_negatives: 39914.0000 - false_negatives: 1580.0000 - false_positives: 12537.0000 - auc: 0.8230 - prc: 0.2640 - val_loss: 0.4249 - val_binary_accuracy: 0.7582 - val_precision: 0.2650 - val_recall: 0.8989 - val_true_positives: 1218.0000 - val_true_negatives: 9801.0000 - val_false_negatives: 137.0000 - val_false_positives: 3378.0000 - val_auc: 0.8631 - val_prc: 0.2811\n",
      "Epoch 22/200\n",
      "29/29 [==============================] - 0s 8ms/step - loss: 0.4777 - binary_accuracy: 0.7580 - precision: 0.2468 - recall: 0.7192 - true_positives: 4087.0000 - true_negatives: 39979.0000 - false_negatives: 1596.0000 - false_positives: 12472.0000 - auc: 0.8225 - prc: 0.2638 - val_loss: 0.4177 - val_binary_accuracy: 0.7664 - val_precision: 0.2704 - val_recall: 0.8863 - val_true_positives: 1201.0000 - val_true_negatives: 9938.0000 - val_false_negatives: 154.0000 - val_false_positives: 3241.0000 - val_auc: 0.8630 - val_prc: 0.2810\n",
      "Epoch 23/200\n",
      "29/29 [==============================] - 0s 9ms/step - loss: 0.4767 - binary_accuracy: 0.7555 - precision: 0.2450 - recall: 0.7211 - true_positives: 4098.0000 - true_negatives: 39822.0000 - false_negatives: 1585.0000 - false_positives: 12629.0000 - auc: 0.8231 - prc: 0.2673 - val_loss: 0.4200 - val_binary_accuracy: 0.7648 - val_precision: 0.2688 - val_recall: 0.8856 - val_true_positives: 1200.0000 - val_true_negatives: 9915.0000 - val_false_negatives: 155.0000 - val_false_positives: 3264.0000 - val_auc: 0.8631 - val_prc: 0.2811\n",
      "Epoch 24/200\n",
      "29/29 [==============================] - 0s 8ms/step - loss: 0.4791 - binary_accuracy: 0.7554 - precision: 0.2436 - recall: 0.7137 - true_positives: 4056.0000 - true_negatives: 39859.0000 - false_negatives: 1627.0000 - false_positives: 12592.0000 - auc: 0.8196 - prc: 0.2549 - val_loss: 0.4152 - val_binary_accuracy: 0.7718 - val_precision: 0.2742 - val_recall: 0.8790 - val_true_positives: 1191.0000 - val_true_negatives: 10027.0000 - val_false_negatives: 164.0000 - val_false_positives: 3152.0000 - val_auc: 0.8627 - val_prc: 0.2803\n",
      "Epoch 25/200\n",
      "29/29 [==============================] - 0s 8ms/step - loss: 0.4781 - binary_accuracy: 0.7571 - precision: 0.2449 - recall: 0.7125 - true_positives: 4049.0000 - true_negatives: 39964.0000 - false_negatives: 1634.0000 - false_positives: 12487.0000 - auc: 0.8222 - prc: 0.2643 - val_loss: 0.4067 - val_binary_accuracy: 0.7798 - val_precision: 0.2797 - val_recall: 0.8642 - val_true_positives: 1171.0000 - val_true_negatives: 10163.0000 - val_false_negatives: 184.0000 - val_false_positives: 3016.0000 - val_auc: 0.8628 - val_prc: 0.2805\n",
      "Epoch 26/200\n",
      "29/29 [==============================] - 0s 8ms/step - loss: 0.4773 - binary_accuracy: 0.7572 - precision: 0.2454 - recall: 0.7153 - true_positives: 4065.0000 - true_negatives: 39952.0000 - false_negatives: 1618.0000 - false_positives: 12499.0000 - auc: 0.8227 - prc: 0.2697 - val_loss: 0.4147 - val_binary_accuracy: 0.7727 - val_precision: 0.2751 - val_recall: 0.8790 - val_true_positives: 1191.0000 - val_true_negatives: 10040.0000 - val_false_negatives: 164.0000 - val_false_positives: 3139.0000 - val_auc: 0.8628 - val_prc: 0.2805\n",
      "Epoch 27/200\n",
      "29/29 [==============================] - 0s 8ms/step - loss: 0.4782 - binary_accuracy: 0.7557 - precision: 0.2435 - recall: 0.7116 - true_positives: 4044.0000 - true_negatives: 39890.0000 - false_negatives: 1639.0000 - false_positives: 12561.0000 - auc: 0.8216 - prc: 0.2642 - val_loss: 0.4194 - val_binary_accuracy: 0.7653 - val_precision: 0.2692 - val_recall: 0.8849 - val_true_positives: 1199.0000 - val_true_negatives: 9924.0000 - val_false_negatives: 156.0000 - val_false_positives: 3255.0000 - val_auc: 0.8631 - val_prc: 0.2809\n",
      "Epoch 28/200\n",
      "29/29 [==============================] - 0s 8ms/step - loss: 0.4785 - binary_accuracy: 0.7586 - precision: 0.2447 - recall: 0.7042 - true_positives: 4002.0000 - true_negatives: 40101.0000 - false_negatives: 1681.0000 - false_positives: 12350.0000 - auc: 0.8210 - prc: 0.2637 - val_loss: 0.4158 - val_binary_accuracy: 0.7751 - val_precision: 0.2765 - val_recall: 0.8731 - val_true_positives: 1183.0000 - val_true_negatives: 10083.0000 - val_false_negatives: 172.0000 - val_false_positives: 3096.0000 - val_auc: 0.8631 - val_prc: 0.2810\n",
      "Epoch 29/200\n",
      "29/29 [==============================] - 0s 8ms/step - loss: 0.4739 - binary_accuracy: 0.7619 - precision: 0.2519 - recall: 0.7288 - true_positives: 4142.0000 - true_negatives: 40151.0000 - false_negatives: 1541.0000 - false_positives: 12300.0000 - auc: 0.8269 - prc: 0.2722 - val_loss: 0.4139 - val_binary_accuracy: 0.7782 - val_precision: 0.2787 - val_recall: 0.8686 - val_true_positives: 1177.0000 - val_true_negatives: 10133.0000 - val_false_negatives: 178.0000 - val_false_positives: 3046.0000 - val_auc: 0.8629 - val_prc: 0.2810\n",
      "Epoch 30/200\n",
      "29/29 [==============================] - 0s 8ms/step - loss: 0.4767 - binary_accuracy: 0.7601 - precision: 0.2476 - recall: 0.7135 - true_positives: 4055.0000 - true_negatives: 40131.0000 - false_negatives: 1628.0000 - false_positives: 12320.0000 - auc: 0.8231 - prc: 0.2644 - val_loss: 0.4257 - val_binary_accuracy: 0.7555 - val_precision: 0.2630 - val_recall: 0.9004 - val_true_positives: 1220.0000 - val_true_negatives: 9760.0000 - val_false_negatives: 135.0000 - val_false_positives: 3419.0000 - val_auc: 0.8630 - val_prc: 0.2809\n",
      "Epoch 31/200\n",
      "29/29 [==============================] - 0s 8ms/step - loss: 0.4778 - binary_accuracy: 0.7556 - precision: 0.2428 - recall: 0.7079 - true_positives: 4023.0000 - true_negatives: 39903.0000 - false_negatives: 1660.0000 - false_positives: 12548.0000 - auc: 0.8220 - prc: 0.2639 - val_loss: 0.4267 - val_binary_accuracy: 0.7586 - val_precision: 0.2653 - val_recall: 0.8982 - val_true_positives: 1217.0000 - val_true_negatives: 9809.0000 - val_false_negatives: 138.0000 - val_false_positives: 3370.0000 - val_auc: 0.8630 - val_prc: 0.2811\n",
      "Epoch 32/200\n",
      "29/29 [==============================] - 0s 8ms/step - loss: 0.4737 - binary_accuracy: 0.7590 - precision: 0.2483 - recall: 0.7225 - true_positives: 4106.0000 - true_negatives: 40019.0000 - false_negatives: 1577.0000 - false_positives: 12432.0000 - auc: 0.8258 - prc: 0.2690 - val_loss: 0.4432 - val_binary_accuracy: 0.7467 - val_precision: 0.2578 - val_recall: 0.9137 - val_true_positives: 1238.0000 - val_true_negatives: 9615.0000 - val_false_negatives: 117.0000 - val_false_positives: 3564.0000 - val_auc: 0.8632 - val_prc: 0.2814\n",
      "Epoch 33/200\n",
      "29/29 [==============================] - 0s 9ms/step - loss: 0.4734 - binary_accuracy: 0.7568 - precision: 0.2473 - recall: 0.7278 - true_positives: 4136.0000 - true_negatives: 39861.0000 - false_negatives: 1547.0000 - false_positives: 12590.0000 - auc: 0.8268 - prc: 0.2736 - val_loss: 0.4352 - val_binary_accuracy: 0.7479 - val_precision: 0.2581 - val_recall: 0.9092 - val_true_positives: 1232.0000 - val_true_negatives: 9638.0000 - val_false_negatives: 123.0000 - val_false_positives: 3541.0000 - val_auc: 0.8630 - val_prc: 0.2812\n",
      "Epoch 34/200\n",
      "29/29 [==============================] - 0s 8ms/step - loss: 0.4774 - binary_accuracy: 0.7556 - precision: 0.2428 - recall: 0.7079 - true_positives: 4023.0000 - true_negatives: 39904.0000 - false_negatives: 1660.0000 - false_positives: 12547.0000 - auc: 0.8207 - prc: 0.2632 - val_loss: 0.4345 - val_binary_accuracy: 0.7543 - val_precision: 0.2620 - val_recall: 0.9004 - val_true_positives: 1220.0000 - val_true_negatives: 9743.0000 - val_false_negatives: 135.0000 - val_false_positives: 3436.0000 - val_auc: 0.8627 - val_prc: 0.2809\n",
      "Epoch 35/200\n",
      "29/29 [==============================] - 0s 8ms/step - loss: 0.4773 - binary_accuracy: 0.7546 - precision: 0.2435 - recall: 0.7169 - true_positives: 4074.0000 - true_negatives: 39792.0000 - false_negatives: 1609.0000 - false_positives: 12659.0000 - auc: 0.8213 - prc: 0.2607 - val_loss: 0.4161 - val_binary_accuracy: 0.7754 - val_precision: 0.2768 - val_recall: 0.8738 - val_true_positives: 1184.0000 - val_true_negatives: 10085.0000 - val_false_negatives: 171.0000 - val_false_positives: 3094.0000 - val_auc: 0.8631 - val_prc: 0.2812\n",
      "Epoch 36/200\n",
      "29/29 [==============================] - 0s 8ms/step - loss: 0.4751 - binary_accuracy: 0.7610 - precision: 0.2491 - recall: 0.7171 - true_positives: 4075.0000 - true_negatives: 40167.0000 - false_negatives: 1608.0000 - false_positives: 12284.0000 - auc: 0.8240 - prc: 0.2638 - val_loss: 0.4212 - val_binary_accuracy: 0.7736 - val_precision: 0.2753 - val_recall: 0.8745 - val_true_positives: 1185.0000 - val_true_negatives: 10059.0000 - val_false_negatives: 170.0000 - val_false_positives: 3120.0000 - val_auc: 0.8626 - val_prc: 0.2807\n",
      "Epoch 37/200\n",
      "29/29 [==============================] - 0s 8ms/step - loss: 0.4769 - binary_accuracy: 0.7586 - precision: 0.2458 - recall: 0.7104 - true_positives: 4037.0000 - true_negatives: 40064.0000 - false_negatives: 1646.0000 - false_positives: 12387.0000 - auc: 0.8218 - prc: 0.2670 - val_loss: 0.4239 - val_binary_accuracy: 0.7686 - val_precision: 0.2717 - val_recall: 0.8819 - val_true_positives: 1195.0000 - val_true_negatives: 9976.0000 - val_false_negatives: 160.0000 - val_false_positives: 3203.0000 - val_auc: 0.8627 - val_prc: 0.2806\n",
      "Epoch 38/200\n",
      "29/29 [==============================] - 0s 8ms/step - loss: 0.4747 - binary_accuracy: 0.7588 - precision: 0.2485 - recall: 0.7246 - true_positives: 4118.0000 - true_negatives: 39995.0000 - false_negatives: 1565.0000 - false_positives: 12456.0000 - auc: 0.8247 - prc: 0.2647 - val_loss: 0.4218 - val_binary_accuracy: 0.7648 - val_precision: 0.2689 - val_recall: 0.8856 - val_true_positives: 1200.0000 - val_true_negatives: 9916.0000 - val_false_negatives: 155.0000 - val_false_positives: 3263.0000 - val_auc: 0.8624 - val_prc: 0.2804\n",
      "Epoch 39/200\n",
      "29/29 [==============================] - 0s 9ms/step - loss: 0.4782 - binary_accuracy: 0.7589 - precision: 0.2445 - recall: 0.7014 - true_positives: 3986.0000 - true_negatives: 40134.0000 - false_negatives: 1697.0000 - false_positives: 12317.0000 - auc: 0.8211 - prc: 0.2647 - val_loss: 0.4328 - val_binary_accuracy: 0.7589 - val_precision: 0.2651 - val_recall: 0.8952 - val_true_positives: 1213.0000 - val_true_negatives: 9817.0000 - val_false_negatives: 142.0000 - val_false_positives: 3362.0000 - val_auc: 0.8626 - val_prc: 0.2809\n",
      "Epoch 40/200\n",
      "29/29 [==============================] - 0s 9ms/step - loss: 0.4736 - binary_accuracy: 0.7518 - precision: 0.2436 - recall: 0.7313 - true_positives: 4156.0000 - true_negatives: 39549.0000 - false_negatives: 1527.0000 - false_positives: 12902.0000 - auc: 0.8257 - prc: 0.2666 - val_loss: 0.4096 - val_binary_accuracy: 0.7790 - val_precision: 0.2793 - val_recall: 0.8672 - val_true_positives: 1175.0000 - val_true_negatives: 10147.0000 - val_false_negatives: 180.0000 - val_false_positives: 3032.0000 - val_auc: 0.8627 - val_prc: 0.2808\n",
      "Epoch 41/200\n",
      "29/29 [==============================] - 0s 9ms/step - loss: 0.4780 - binary_accuracy: 0.7618 - precision: 0.2479 - recall: 0.7060 - true_positives: 4012.0000 - true_negatives: 40276.0000 - false_negatives: 1671.0000 - false_positives: 12175.0000 - auc: 0.8203 - prc: 0.2588 - val_loss: 0.4155 - val_binary_accuracy: 0.7753 - val_precision: 0.2767 - val_recall: 0.8738 - val_true_positives: 1184.0000 - val_true_negatives: 10084.0000 - val_false_negatives: 171.0000 - val_false_positives: 3095.0000 - val_auc: 0.8628 - val_prc: 0.2810\n",
      "Epoch 42/200\n",
      "28/29 [===========================>..] - ETA: 0s - loss: 0.4747 - binary_accuracy: 0.7626 - precision: 0.2497 - recall: 0.7108 - true_positives: 3991.0000 - true_negatives: 39738.0000 - false_negatives: 1624.0000 - false_positives: 11991.0000 - auc: 0.8249 - prc: 0.2672Restoring model weights from the end of the best epoch: 32.\n",
      "29/29 [==============================] - 0s 9ms/step - loss: 0.4741 - binary_accuracy: 0.7627 - precision: 0.2496 - recall: 0.7116 - true_positives: 4044.0000 - true_negatives: 40292.0000 - false_negatives: 1639.0000 - false_positives: 12159.0000 - auc: 0.8251 - prc: 0.2670 - val_loss: 0.4194 - val_binary_accuracy: 0.7766 - val_precision: 0.2779 - val_recall: 0.8738 - val_true_positives: 1184.0000 - val_true_negatives: 10103.0000 - val_false_negatives: 171.0000 - val_false_positives: 3076.0000 - val_auc: 0.8627 - val_prc: 0.2808\n",
      "Epoch 42: early stopping\n"
     ]
    },
    {
     "data": {
      "text/plain": [
       "<keras.callbacks.History at 0x22db65c9240>"
      ]
     },
     "execution_count": 38,
     "metadata": {},
     "output_type": "execute_result"
    }
   ],
   "source": [
    "weighted_model.fit(train_features, \n",
    "                    train_labels, \n",
    "                    batch_size=BATCH_SIZE, \n",
    "                    epochs=EPOCHS, \n",
    "                    callbacks=[early_stopping], \n",
    "                    validation_data=(validation_features, validation_labels), \n",
    "                    class_weight=class_weights)"
   ]
  },
  {
   "cell_type": "code",
   "execution_count": 39,
   "metadata": {},
   "outputs": [
    {
     "name": "stdout",
     "output_type": "stream",
     "text": [
      "9/9 [==============================] - 0s 4ms/step - loss: 0.4447 - binary_accuracy: 0.7404 - precision: 0.2639 - recall: 0.9034 - true_positives: 1628.0000 - true_negatives: 11824.0000 - false_negatives: 174.0000 - false_positives: 4542.0000 - auc: 0.8583 - prc: 0.2883\n"
     ]
    },
    {
     "data": {
      "text/plain": [
       "[0.4447280466556549,\n",
       " 0.7404227256774902,\n",
       " 0.263857364654541,\n",
       " 0.9034405946731567,\n",
       " 1628.0,\n",
       " 11824.0,\n",
       " 174.0,\n",
       " 4542.0,\n",
       " 0.8583062887191772,\n",
       " 0.2883341908454895]"
      ]
     },
     "execution_count": 39,
     "metadata": {},
     "output_type": "execute_result"
    }
   ],
   "source": [
    "weighted_model.evaluate(test_features, test_labels, batch_size=BATCH_SIZE, verbose=1)"
   ]
  },
  {
   "cell_type": "code",
   "execution_count": null,
   "metadata": {},
   "outputs": [],
   "source": [
    "results = weighted_model.predict(test_features)\n",
    "results[results<0.5]=0\n",
    "results[results>0.5]=1"
   ]
  },
  {
   "cell_type": "code",
   "execution_count": null,
   "metadata": {},
   "outputs": [],
   "source": [
    "results.shape\n",
    "results = results.reshape(18168,)\n",
    "comparison = np.stack([results, test_labels, test_])"
   ]
  },
  {
   "cell_type": "code",
   "execution_count": null,
   "metadata": {},
   "outputs": [],
   "source": [
    "comparison_tuples = list(zip(comparison[0], comparison[1]))"
   ]
  },
  {
   "cell_type": "code",
   "execution_count": null,
   "metadata": {},
   "outputs": [],
   "source": [
    "def check_correctness(comparison):\n",
    "    for predicted_label, actual_label in comparison:\n",
    "        if predicted_label == actual_label:\n",
    "            print(True)\n",
    "            continue\n",
    "        print(False)"
   ]
  },
  {
   "cell_type": "code",
   "execution_count": null,
   "metadata": {},
   "outputs": [],
   "source": [
    "check_correctness(comparison_tuples)"
   ]
  },
  {
   "cell_type": "markdown",
   "metadata": {},
   "source": [
    "Oversampling"
   ]
  },
  {
   "cell_type": "code",
   "execution_count": null,
   "metadata": {},
   "outputs": [],
   "source": [
    "# pos_features, neg_features = train_features[bool_train_labels], train_features[~bool_train_labels]\n",
    "\n",
    "# pos_labels, neg_labels = train_labels[bool_train_labels], train_labels[~bool_train_labels]"
   ]
  },
  {
   "cell_type": "code",
   "execution_count": null,
   "metadata": {},
   "outputs": [],
   "source": [
    "# BUFFER_SIZE = 100000\n",
    "\n",
    "# def make_ds(features, labels):\n",
    "#     ds = tf.data.Dataset.from_tensor_slices((features, labels))\n",
    "#     ds = ds.shuffle(BUFFER_SIZE).repeat()\n",
    "#     return ds"
   ]
  },
  {
   "cell_type": "code",
   "execution_count": null,
   "metadata": {},
   "outputs": [],
   "source": [
    "# pos_ds, neg_ds = make_ds(pos_features, pos_labels), make_ds(neg_features, neg_labels)"
   ]
  },
  {
   "cell_type": "code",
   "execution_count": null,
   "metadata": {},
   "outputs": [],
   "source": [
    "# resampled_ds = tf.data.Dataset.sample_from_datasets([pos_ds, neg_ds], weights=[0.5, 0.5])\n",
    "# resampled_ds = resampled_ds.batch(BATCH_SIZE).prefetch(2)\n",
    "\n",
    "# resampled_steps_per_epoch = np.ceil(2.0*neg/BATCH_SIZE)"
   ]
  },
  {
   "cell_type": "markdown",
   "metadata": {},
   "source": [
    "train with oversampling"
   ]
  },
  {
   "cell_type": "code",
   "execution_count": null,
   "metadata": {},
   "outputs": [],
   "source": [
    "# resampled_model = make_model()\n",
    "# resampled_model.load_weights(initial_weights)\n",
    "\n",
    "# # reset bias to 0, the set is now balanced\n",
    "# output_layer = resampled_model.layers[-1]\n",
    "# output_layer.bias.assign([0])\n",
    "\n",
    "# validation_data = tf.data.Dataset.from_tensor_slices((validation_data, validation_labels)).cache()\n",
    "# validation_data = validation_data.batch(BATCH_SIZE).prefetch(2)"
   ]
  },
  {
   "cell_type": "code",
   "execution_count": null,
   "metadata": {},
   "outputs": [],
   "source": [
    "# resampled_history = resampled_model.fit(resampled_ds,\n",
    "#                                         epochs=EPOCHS,\n",
    "#                                         steps_per_epoch=resampled_steps_per_epoch,\n",
    "#                                         callbacks=[early_stopping],\n",
    "#                                         validation_data=validation_data)"
   ]
  },
  {
   "cell_type": "markdown",
   "metadata": {},
   "source": [
    "make the resample model"
   ]
  },
  {
   "cell_type": "code",
   "execution_count": null,
   "metadata": {},
   "outputs": [],
   "source": [
    "# resampled_model.fit(resampled_ds,\n",
    "#                     epochs=EPOCHS,\n",
    "#                     steps_per_epoch=resampled_steps_per_epoch,\n",
    "#                     #callbacks=[early_stopping],\n",
    "#                     validation_data=validation_data,\n",
    "#                     class_weight={0:0.1, 1:0.1})"
   ]
  },
  {
   "cell_type": "code",
   "execution_count": null,
   "metadata": {},
   "outputs": [],
   "source": [
    "# resampled_model.evaluate(test_features, test_labels, batch_size=BATCH_SIZE, verbose=1)"
   ]
  },
  {
   "cell_type": "code",
   "execution_count": null,
   "metadata": {},
   "outputs": [],
   "source": [
    "tf.keras.backend.clear_session()"
   ]
  }
 ],
 "metadata": {
  "kernelspec": {
   "display_name": "Python 3.10.1 64-bit",
   "language": "python",
   "name": "python3"
  },
  "language_info": {
   "codemirror_mode": {
    "name": "ipython",
    "version": 3
   },
   "file_extension": ".py",
   "mimetype": "text/x-python",
   "name": "python",
   "nbconvert_exporter": "python",
   "pygments_lexer": "ipython3",
   "version": "3.10.1"
  },
  "orig_nbformat": 4,
  "vscode": {
   "interpreter": {
    "hash": "26de051ba29f2982a8de78e945f0abaf191376122a1563185a90213a26c5da77"
   }
  }
 },
 "nbformat": 4,
 "nbformat_minor": 2
}
