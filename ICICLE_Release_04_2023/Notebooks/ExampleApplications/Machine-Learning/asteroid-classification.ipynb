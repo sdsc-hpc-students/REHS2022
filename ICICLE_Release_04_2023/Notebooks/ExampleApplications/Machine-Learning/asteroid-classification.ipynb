{
 "cells": [
  {
   "cell_type": "markdown",
   "metadata": {},
   "source": [
    "# Asteroid Classification\n",
    "This notebook contains a jupyter notebook to train and test a dense neural network for classifying asteroids as hazardous or not. Because of data imbalance, in testing the network only achieved about 75% binary accuracy, however a much greater percentage of these were false positive than negatives."
   ]
  },
  {
   "cell_type": "code",
   "execution_count": 33,
   "metadata": {},
   "outputs": [],
   "source": [
    "import tensorflow as tf \n",
    "from tensorflow import keras \n",
    "\n",
    "import pandas as pd\n",
    "import numpy as np\n",
    "import matplotlib.pyplot as plt\n",
    "import matplotlib as mpl\n",
    "import seaborn as sns\n",
    "\n",
    "import requests\n",
    "import io\n",
    "import os\n",
    "import tempfile\n",
    "\n",
    "import sklearn\n",
    "from sklearn.metrics import confusion_matrix\n",
    "from sklearn.model_selection import train_test_split\n",
    "from sklearn.preprocessing import StandardScaler\n",
    "\n",
    "relative_velocity_flag = False\n",
    "miss_distance_flag = False\n",
    "\n",
    "mpl.rcParams['figure.figsize'] = (12, 10)\n",
    "colors = plt.rcParams['axes.prop_cycle'].by_key()['color']"
   ]
  },
  {
   "cell_type": "markdown",
   "metadata": {},
   "source": [
    "### Data Preprocessing"
   ]
  },
  {
   "cell_type": "code",
   "execution_count": 2,
   "metadata": {},
   "outputs": [],
   "source": [
    "csv_link = 'https://raw.githubusercontent.com/sdsc-hpc-students/REHS2022/main/Final-Project/ExtraKGs/celesital-bodies/neo_v2.csv'\n",
    "csv_file = requests.get(csv_link).content\n",
    "dataset = pd.read_csv(io.StringIO(csv_file.decode('utf-8')))"
   ]
  },
  {
   "cell_type": "code",
   "execution_count": 3,
   "metadata": {},
   "outputs": [
    {
     "data": {
      "text/html": [
       "<div>\n",
       "<style scoped>\n",
       "    .dataframe tbody tr th:only-of-type {\n",
       "        vertical-align: middle;\n",
       "    }\n",
       "\n",
       "    .dataframe tbody tr th {\n",
       "        vertical-align: top;\n",
       "    }\n",
       "\n",
       "    .dataframe thead th {\n",
       "        text-align: right;\n",
       "    }\n",
       "</style>\n",
       "<table border=\"1\" class=\"dataframe\">\n",
       "  <thead>\n",
       "    <tr style=\"text-align: right;\">\n",
       "      <th></th>\n",
       "      <th>id</th>\n",
       "      <th>name</th>\n",
       "      <th>est_diameter_min</th>\n",
       "      <th>est_diameter_max</th>\n",
       "      <th>relative_velocity</th>\n",
       "      <th>miss_distance</th>\n",
       "      <th>orbiting_body</th>\n",
       "      <th>sentry_object</th>\n",
       "      <th>absolute_magnitude</th>\n",
       "      <th>hazardous</th>\n",
       "    </tr>\n",
       "  </thead>\n",
       "  <tbody>\n",
       "    <tr>\n",
       "      <th>0</th>\n",
       "      <td>2162635</td>\n",
       "      <td>162635 (2000 SS164)</td>\n",
       "      <td>1.198271</td>\n",
       "      <td>2.679415</td>\n",
       "      <td>13569.249224</td>\n",
       "      <td>5.483974e+07</td>\n",
       "      <td>Earth</td>\n",
       "      <td>0.0</td>\n",
       "      <td>16.73</td>\n",
       "      <td>0.0</td>\n",
       "    </tr>\n",
       "    <tr>\n",
       "      <th>1</th>\n",
       "      <td>2277475</td>\n",
       "      <td>277475 (2005 WK4)</td>\n",
       "      <td>0.265800</td>\n",
       "      <td>0.594347</td>\n",
       "      <td>73588.726663</td>\n",
       "      <td>6.143813e+07</td>\n",
       "      <td>Earth</td>\n",
       "      <td>0.0</td>\n",
       "      <td>20.00</td>\n",
       "      <td>1.0</td>\n",
       "    </tr>\n",
       "    <tr>\n",
       "      <th>2</th>\n",
       "      <td>2512244</td>\n",
       "      <td>512244 (2015 YE18)</td>\n",
       "      <td>0.722030</td>\n",
       "      <td>1.614507</td>\n",
       "      <td>114258.692129</td>\n",
       "      <td>4.979872e+07</td>\n",
       "      <td>Earth</td>\n",
       "      <td>0.0</td>\n",
       "      <td>17.83</td>\n",
       "      <td>0.0</td>\n",
       "    </tr>\n",
       "    <tr>\n",
       "      <th>3</th>\n",
       "      <td>3596030</td>\n",
       "      <td>(2012 BV13)</td>\n",
       "      <td>0.096506</td>\n",
       "      <td>0.215794</td>\n",
       "      <td>24764.303138</td>\n",
       "      <td>2.543497e+07</td>\n",
       "      <td>Earth</td>\n",
       "      <td>0.0</td>\n",
       "      <td>22.20</td>\n",
       "      <td>0.0</td>\n",
       "    </tr>\n",
       "    <tr>\n",
       "      <th>4</th>\n",
       "      <td>3667127</td>\n",
       "      <td>(2014 GE35)</td>\n",
       "      <td>0.255009</td>\n",
       "      <td>0.570217</td>\n",
       "      <td>42737.733765</td>\n",
       "      <td>4.627557e+07</td>\n",
       "      <td>Earth</td>\n",
       "      <td>0.0</td>\n",
       "      <td>20.09</td>\n",
       "      <td>1.0</td>\n",
       "    </tr>\n",
       "  </tbody>\n",
       "</table>\n",
       "</div>"
      ],
      "text/plain": [
       "        id                 name  est_diameter_min  est_diameter_max  \\\n",
       "0  2162635  162635 (2000 SS164)          1.198271          2.679415   \n",
       "1  2277475    277475 (2005 WK4)          0.265800          0.594347   \n",
       "2  2512244   512244 (2015 YE18)          0.722030          1.614507   \n",
       "3  3596030          (2012 BV13)          0.096506          0.215794   \n",
       "4  3667127          (2014 GE35)          0.255009          0.570217   \n",
       "\n",
       "   relative_velocity  miss_distance orbiting_body  sentry_object  \\\n",
       "0       13569.249224   5.483974e+07         Earth            0.0   \n",
       "1       73588.726663   6.143813e+07         Earth            0.0   \n",
       "2      114258.692129   4.979872e+07         Earth            0.0   \n",
       "3       24764.303138   2.543497e+07         Earth            0.0   \n",
       "4       42737.733765   4.627557e+07         Earth            0.0   \n",
       "\n",
       "   absolute_magnitude  hazardous  \n",
       "0               16.73        0.0  \n",
       "1               20.00        1.0  \n",
       "2               17.83        0.0  \n",
       "3               22.20        0.0  \n",
       "4               20.09        1.0  "
      ]
     },
     "execution_count": 3,
     "metadata": {},
     "output_type": "execute_result"
    }
   ],
   "source": [
    "change_to_float = {column:float for column, dtype in zip(dataset.columns.tolist(), dataset.dtypes.tolist()) if dtype == np.bool_}\n",
    "dataset = dataset.astype(change_to_float)\n",
    "dataset.head()"
   ]
  },
  {
   "cell_type": "code",
   "execution_count": 4,
   "metadata": {},
   "outputs": [
    {
     "name": "stdout",
     "output_type": "stream",
     "text": [
      "Percent positive is 10.781013707985755 %\n"
     ]
    }
   ],
   "source": [
    "neg, pos = np.bincount(dataset['hazardous'])\n",
    "total = neg + pos\n",
    "print(f\"Percent positive is {(pos / neg) * 100} %\")"
   ]
  },
  {
   "cell_type": "code",
   "execution_count": 5,
   "metadata": {},
   "outputs": [],
   "source": [
    "try:\n",
    "    dataset_processed = dataset.drop(['sentry_object','orbiting_body'], axis=1)\n",
    "except (AttributeError, KeyError):\n",
    "    print(\"already removed\")"
   ]
  },
  {
   "cell_type": "code",
   "execution_count": 6,
   "metadata": {},
   "outputs": [
    {
     "data": {
      "text/html": [
       "<div>\n",
       "<style scoped>\n",
       "    .dataframe tbody tr th:only-of-type {\n",
       "        vertical-align: middle;\n",
       "    }\n",
       "\n",
       "    .dataframe tbody tr th {\n",
       "        vertical-align: top;\n",
       "    }\n",
       "\n",
       "    .dataframe thead th {\n",
       "        text-align: right;\n",
       "    }\n",
       "</style>\n",
       "<table border=\"1\" class=\"dataframe\">\n",
       "  <thead>\n",
       "    <tr style=\"text-align: right;\">\n",
       "      <th></th>\n",
       "      <th>id</th>\n",
       "      <th>name</th>\n",
       "      <th>est_diameter_min</th>\n",
       "      <th>est_diameter_max</th>\n",
       "      <th>relative_velocity</th>\n",
       "      <th>miss_distance</th>\n",
       "      <th>absolute_magnitude</th>\n",
       "      <th>hazardous</th>\n",
       "    </tr>\n",
       "  </thead>\n",
       "  <tbody>\n",
       "    <tr>\n",
       "      <th>0</th>\n",
       "      <td>2162635</td>\n",
       "      <td>162635 (2000 SS164)</td>\n",
       "      <td>1.198271</td>\n",
       "      <td>2.679415</td>\n",
       "      <td>13569.249224</td>\n",
       "      <td>5.483974e+07</td>\n",
       "      <td>16.73</td>\n",
       "      <td>0.0</td>\n",
       "    </tr>\n",
       "    <tr>\n",
       "      <th>1</th>\n",
       "      <td>2277475</td>\n",
       "      <td>277475 (2005 WK4)</td>\n",
       "      <td>0.265800</td>\n",
       "      <td>0.594347</td>\n",
       "      <td>73588.726663</td>\n",
       "      <td>6.143813e+07</td>\n",
       "      <td>20.00</td>\n",
       "      <td>1.0</td>\n",
       "    </tr>\n",
       "    <tr>\n",
       "      <th>2</th>\n",
       "      <td>2512244</td>\n",
       "      <td>512244 (2015 YE18)</td>\n",
       "      <td>0.722030</td>\n",
       "      <td>1.614507</td>\n",
       "      <td>114258.692129</td>\n",
       "      <td>4.979872e+07</td>\n",
       "      <td>17.83</td>\n",
       "      <td>0.0</td>\n",
       "    </tr>\n",
       "    <tr>\n",
       "      <th>3</th>\n",
       "      <td>3596030</td>\n",
       "      <td>(2012 BV13)</td>\n",
       "      <td>0.096506</td>\n",
       "      <td>0.215794</td>\n",
       "      <td>24764.303138</td>\n",
       "      <td>2.543497e+07</td>\n",
       "      <td>22.20</td>\n",
       "      <td>0.0</td>\n",
       "    </tr>\n",
       "    <tr>\n",
       "      <th>4</th>\n",
       "      <td>3667127</td>\n",
       "      <td>(2014 GE35)</td>\n",
       "      <td>0.255009</td>\n",
       "      <td>0.570217</td>\n",
       "      <td>42737.733765</td>\n",
       "      <td>4.627557e+07</td>\n",
       "      <td>20.09</td>\n",
       "      <td>1.0</td>\n",
       "    </tr>\n",
       "  </tbody>\n",
       "</table>\n",
       "</div>"
      ],
      "text/plain": [
       "        id                 name  est_diameter_min  est_diameter_max  \\\n",
       "0  2162635  162635 (2000 SS164)          1.198271          2.679415   \n",
       "1  2277475    277475 (2005 WK4)          0.265800          0.594347   \n",
       "2  2512244   512244 (2015 YE18)          0.722030          1.614507   \n",
       "3  3596030          (2012 BV13)          0.096506          0.215794   \n",
       "4  3667127          (2014 GE35)          0.255009          0.570217   \n",
       "\n",
       "   relative_velocity  miss_distance  absolute_magnitude  hazardous  \n",
       "0       13569.249224   5.483974e+07               16.73        0.0  \n",
       "1       73588.726663   6.143813e+07               20.00        1.0  \n",
       "2      114258.692129   4.979872e+07               17.83        0.0  \n",
       "3       24764.303138   2.543497e+07               22.20        0.0  \n",
       "4       42737.733765   4.627557e+07               20.09        1.0  "
      ]
     },
     "execution_count": 6,
     "metadata": {},
     "output_type": "execute_result"
    }
   ],
   "source": [
    "dataset_processed.head()"
   ]
  },
  {
   "cell_type": "code",
   "execution_count": 7,
   "metadata": {},
   "outputs": [],
   "source": [
    "def scale_down(dataset=None, column=None):\n",
    "    initial_range = np.amax(dataset[column]) - np.amin(dataset[column])\n",
    "    eps = 0.001\n",
    "    dataset[column] = np.log(dataset[column] + eps)\n",
    "    end_range = np.amax(dataset[column]) - np.amin(dataset[column])\n",
    "\n",
    "    return initial_range, end_range"
   ]
  },
  {
   "cell_type": "code",
   "execution_count": 8,
   "metadata": {},
   "outputs": [
    {
     "name": "stdout",
     "output_type": "stream",
     "text": [
      "Initial_range: 74791905.91968124\n",
      "end_range: 9.313674550575696\n",
      "Initial_range: 236786.78165533658\n",
      "end_range: 7.060857763424829\n"
     ]
    }
   ],
   "source": [
    "if not relative_velocity_flag:\n",
    "    initial_range, end_range = scale_down(column='miss_distance', dataset=dataset_processed)\n",
    "    relative_velocity_flag = True\n",
    "else:\n",
    "    print(\"scaling already complete\")\n",
    "\n",
    "print(f'Initial_range: {initial_range}\\nend_range: {end_range}')\n",
    "\n",
    "if not miss_distance_flag:\n",
    "    initial_range, end_range = scale_down(column='relative_velocity', dataset=dataset_processed)\n",
    "    miss_distance_flag = True\n",
    "else:\n",
    "    print(\"scaling already complete\")\n",
    "\n",
    "print(f'Initial_range: {initial_range}\\nend_range: {end_range}')"
   ]
  },
  {
   "cell_type": "code",
   "execution_count": 9,
   "metadata": {},
   "outputs": [],
   "source": [
    "scaler = StandardScaler()\n",
    "train_data, test_data = train_test_split(dataset_processed.drop(['id', 'name'], axis=1), test_size=0.1)\n",
    "_, regurgitate_data = train_test_split(dataset, test_size=0.1)\n",
    "train_data, validation_data = train_test_split(train_data, test_size=0.1)\n",
    "\n",
    "train_labels, test_labels, validation_labels = (np.array(train_data.pop('hazardous')),\n",
    "                                                np.array(test_data.pop('hazardous')), \n",
    "                                                np.array(validation_data.pop('hazardous')))\n",
    "bool_train_labels = train_labels != 0\n",
    "train_features, test_features, validation_features = (np.clip(scaler.fit_transform(np.array(train_data)), 0, 60),\n",
    "                                                      np.clip(scaler.fit_transform(np.array(test_data)), 0, 60), \n",
    "                                                      np.clip(scaler.fit_transform(np.array(validation_data)), 0, 60))"
   ]
  },
  {
   "cell_type": "markdown",
   "metadata": {},
   "source": [
    "### Model Creation"
   ]
  },
  {
   "cell_type": "code",
   "execution_count": 10,
   "metadata": {},
   "outputs": [],
   "source": [
    "model_metrics = [keras.metrics.BinaryAccuracy(),\n",
    "                       keras.metrics.Precision(),\n",
    "                       keras.metrics.Recall(),\n",
    "                       keras.metrics.TruePositives(),\n",
    "                       keras.metrics.TrueNegatives(),\n",
    "                       keras.metrics.FalseNegatives(),\n",
    "                       keras.metrics.FalsePositives(),\n",
    "                       keras.metrics.AUC(name='auc'),\n",
    "                       keras.metrics.AUC(name='prc', curve='PR')\n",
    "                       ]"
   ]
  },
  {
   "cell_type": "code",
   "execution_count": 11,
   "metadata": {},
   "outputs": [],
   "source": [
    "def make_model(metrics=model_metrics, output_bias=None):\n",
    "    if output_bias:\n",
    "        output_bias = tf.keras.initializers.Constant(output_bias)\n",
    "    \n",
    "    model = tf.keras.Sequential([\n",
    "        keras.layers.Dense(5, activation='relu', input_shape=(train_features.shape[-1],), \n",
    "                            kernel_regularizer=keras.regularizers.L1L2(l1=1e-5, l2=1e-4)),\n",
    "        keras.layers.Dropout(0.2),\n",
    "        keras.layers.Dense(5, activation='linear', activity_regularizer=keras.regularizers.L1(0.0002)),\n",
    "        keras.layers.Dense(5, activation='relu',\n",
    "                            kernel_regularizer=keras.regularizers.L1L2(l1=1e-5, l2=1e-4)),\n",
    "        keras.layers.Dropout(0.2),\n",
    "        keras.layers.Dense(3, activation='linear', activity_regularizer=keras.regularizers.L1(0.0002)),\n",
    "        keras.layers.Dense(3, activation='relu',\n",
    "                            kernel_regularizer=keras.regularizers.L1L2(l1=1e-5, l2=1e-4)),\n",
    "        keras.layers.Dropout(0.2),\n",
    "        keras.layers.Dense(1, activation='sigmoid', bias_initializer=output_bias)\n",
    "    ])\n",
    "\n",
    "    model.compile(\n",
    "        optimizer=keras.optimizers.Adam(learning_rate=1e-3),\n",
    "        loss=keras.losses.BinaryCrossentropy(),\n",
    "        metrics=metrics\n",
    "    )\n",
    "    \n",
    "    return model"
   ]
  },
  {
   "cell_type": "code",
   "execution_count": 12,
   "metadata": {},
   "outputs": [],
   "source": [
    "# epochs, batch size, and early stopping\n",
    "EPOCHS = 100\n",
    "BATCH_SIZE = 2048\n",
    "\n",
    "early_stopping = tf.keras.callbacks.EarlyStopping(\n",
    "    monitor='val_prc',\n",
    "    verbose=1,\n",
    "    patience=10,\n",
    "    mode='max',\n",
    "    restore_best_weights=True\n",
    ")\n",
    "\n",
    "# Setting the initial bias\n",
    "initial_bias = np.log([pos/neg])\n",
    "model = make_model(output_bias=initial_bias)\n",
    "initial_weights = os.path.join(tempfile.mkdtemp(), 'initial_weights')\n",
    "model.save_weights(initial_weights)"
   ]
  },
  {
   "cell_type": "code",
   "execution_count": 13,
   "metadata": {},
   "outputs": [
    {
     "name": "stdout",
     "output_type": "stream",
     "text": [
      "Non-Hazardous Weight: 0.5539050685399288\n",
      "Hazardous Weight: 5.137782805429865\n"
     ]
    }
   ],
   "source": [
    "# classification weights\n",
    "weight_for_0 = (1 / neg) * (total / 2)\n",
    "weight_for_1 = (1 / pos) * (total / 2)\n",
    "\n",
    "class_weights = {0: weight_for_0, 1: weight_for_1}\n",
    "\n",
    "print(f'Non-Hazardous Weight: {weight_for_0}\\nHazardous Weight: {weight_for_1}')"
   ]
  },
  {
   "cell_type": "code",
   "execution_count": 14,
   "metadata": {},
   "outputs": [
    {
     "name": "stdout",
     "output_type": "stream",
     "text": [
      "Model: \"sequential_1\"\n",
      "_________________________________________________________________\n",
      " Layer (type)                Output Shape              Param #   \n",
      "=================================================================\n",
      " dense_6 (Dense)             (None, 5)                 30        \n",
      "                                                                 \n",
      " dropout_3 (Dropout)         (None, 5)                 0         \n",
      "                                                                 \n",
      " dense_7 (Dense)             (None, 5)                 30        \n",
      "                                                                 \n",
      " dense_8 (Dense)             (None, 5)                 30        \n",
      "                                                                 \n",
      " dropout_4 (Dropout)         (None, 5)                 0         \n",
      "                                                                 \n",
      " dense_9 (Dense)             (None, 3)                 18        \n",
      "                                                                 \n",
      " dense_10 (Dense)            (None, 3)                 12        \n",
      "                                                                 \n",
      " dropout_5 (Dropout)         (None, 3)                 0         \n",
      "                                                                 \n",
      " dense_11 (Dense)            (None, 1)                 4         \n",
      "                                                                 \n",
      "=================================================================\n",
      "Total params: 124\n",
      "Trainable params: 124\n",
      "Non-trainable params: 0\n",
      "_________________________________________________________________\n"
     ]
    }
   ],
   "source": [
    "weighted_model = make_model()\n",
    "weighted_model.load_weights(initial_weights)\n",
    "weighted_model.summary()"
   ]
  },
  {
   "cell_type": "code",
   "execution_count": 15,
   "metadata": {},
   "outputs": [
    {
     "name": "stdout",
     "output_type": "stream",
     "text": [
      "Epoch 1/100\n",
      "36/36 [==============================] - 12s 114ms/step - loss: 1.2074 - binary_accuracy: 0.9021 - precision: 0.5000 - recall: 1.3887e-04 - true_positives: 1.0000 - true_negatives: 66374.0000 - false_negatives: 7200.0000 - false_positives: 1.0000 - auc: 0.4897 - prc: 0.0944 - val_loss: 0.3256 - val_binary_accuracy: 0.9008 - val_precision: 0.0000e+00 - val_recall: 0.0000e+00 - val_true_positives: 0.0000e+00 - val_true_negatives: 7365.0000 - val_false_negatives: 811.0000 - val_false_positives: 0.0000e+00 - val_auc: 0.4421 - val_prc: 0.0856\n",
      "Epoch 2/100\n",
      "36/36 [==============================] - 1s 14ms/step - loss: 1.1352 - binary_accuracy: 0.9018 - precision: 0.2308 - recall: 0.0012 - true_positives: 9.0000 - true_negatives: 66345.0000 - false_negatives: 7192.0000 - false_positives: 30.0000 - auc: 0.5260 - prc: 0.1128 - val_loss: 0.3296 - val_binary_accuracy: 0.9002 - val_precision: 0.0000e+00 - val_recall: 0.0000e+00 - val_true_positives: 0.0000e+00 - val_true_negatives: 7360.0000 - val_false_negatives: 811.0000 - val_false_positives: 5.0000 - val_auc: 0.5501 - val_prc: 0.1419\n",
      "Epoch 3/100\n",
      "36/36 [==============================] - 1s 15ms/step - loss: 1.0223 - binary_accuracy: 0.8976 - precision: 0.2325 - recall: 0.0203 - true_positives: 146.0000 - true_negatives: 65893.0000 - false_negatives: 7055.0000 - false_positives: 482.0000 - auc: 0.5346 - prc: 0.1230 - val_loss: 0.3490 - val_binary_accuracy: 0.8992 - val_precision: 0.2903 - val_recall: 0.0111 - val_true_positives: 9.0000 - val_true_negatives: 7343.0000 - val_false_negatives: 802.0000 - val_false_positives: 22.0000 - val_auc: 0.6235 - val_prc: 0.1655\n",
      "Epoch 4/100\n",
      "36/36 [==============================] - 1s 15ms/step - loss: 0.9103 - binary_accuracy: 0.8726 - precision: 0.2063 - recall: 0.1058 - true_positives: 762.0000 - true_negatives: 63443.0000 - false_negatives: 6439.0000 - false_positives: 2932.0000 - auc: 0.5643 - prc: 0.1355 - val_loss: 0.3859 - val_binary_accuracy: 0.8957 - val_precision: 0.3056 - val_recall: 0.0407 - val_true_positives: 33.0000 - val_true_negatives: 7290.0000 - val_false_negatives: 778.0000 - val_false_positives: 75.0000 - val_auc: 0.6972 - val_prc: 0.1872\n",
      "Epoch 5/100\n",
      "36/36 [==============================] - 0s 14ms/step - loss: 0.8402 - binary_accuracy: 0.8112 - precision: 0.1784 - recall: 0.2575 - true_positives: 1854.0000 - true_negatives: 57834.0000 - false_negatives: 5347.0000 - false_positives: 8541.0000 - auc: 0.6107 - prc: 0.1517 - val_loss: 0.3952 - val_binary_accuracy: 0.8888 - val_precision: 0.2941 - val_recall: 0.0863 - val_true_positives: 70.0000 - val_true_negatives: 7197.0000 - val_false_negatives: 741.0000 - val_false_positives: 168.0000 - val_auc: 0.7560 - val_prc: 0.2092\n",
      "Epoch 6/100\n",
      "36/36 [==============================] - 1s 14ms/step - loss: 0.8010 - binary_accuracy: 0.7943 - precision: 0.1884 - recall: 0.3329 - true_positives: 2397.0000 - true_negatives: 56047.0000 - false_negatives: 4804.0000 - false_positives: 10328.0000 - auc: 0.6581 - prc: 0.1671 - val_loss: 0.3775 - val_binary_accuracy: 0.8807 - val_precision: 0.2545 - val_recall: 0.1048 - val_true_positives: 85.0000 - val_true_negatives: 7116.0000 - val_false_negatives: 726.0000 - val_false_positives: 249.0000 - val_auc: 0.7968 - val_prc: 0.2309\n",
      "Epoch 7/100\n",
      "36/36 [==============================] - 1s 15ms/step - loss: 0.7631 - binary_accuracy: 0.7943 - precision: 0.2049 - recall: 0.3826 - true_positives: 2755.0000 - true_negatives: 55683.0000 - false_negatives: 4446.0000 - false_positives: 10692.0000 - auc: 0.6941 - prc: 0.1828 - val_loss: 0.3615 - val_binary_accuracy: 0.8691 - val_precision: 0.2319 - val_recall: 0.1381 - val_true_positives: 112.0000 - val_true_negatives: 6994.0000 - val_false_negatives: 699.0000 - val_false_positives: 371.0000 - val_auc: 0.8138 - val_prc: 0.2383\n",
      "Epoch 8/100\n",
      "36/36 [==============================] - 1s 15ms/step - loss: 0.7230 - binary_accuracy: 0.7898 - precision: 0.2197 - recall: 0.4499 - true_positives: 3240.0000 - true_negatives: 54869.0000 - false_negatives: 3961.0000 - false_positives: 11506.0000 - auc: 0.7221 - prc: 0.1931 - val_loss: 0.3516 - val_binary_accuracy: 0.8564 - val_precision: 0.2396 - val_recall: 0.2059 - val_true_positives: 167.0000 - val_true_negatives: 6835.0000 - val_false_negatives: 644.0000 - val_false_positives: 530.0000 - val_auc: 0.8205 - val_prc: 0.2400\n",
      "Epoch 9/100\n",
      "36/36 [==============================] - 0s 14ms/step - loss: 0.7045 - binary_accuracy: 0.7802 - precision: 0.2228 - recall: 0.5005 - true_positives: 3604.0000 - true_negatives: 53803.0000 - false_negatives: 3597.0000 - false_positives: 12572.0000 - auc: 0.7322 - prc: 0.1972 - val_loss: 0.3470 - val_binary_accuracy: 0.8464 - val_precision: 0.2445 - val_recall: 0.2626 - val_true_positives: 213.0000 - val_true_negatives: 6707.0000 - val_false_negatives: 598.0000 - val_false_positives: 658.0000 - val_auc: 0.8253 - val_prc: 0.2420\n",
      "Epoch 10/100\n",
      "36/36 [==============================] - 1s 15ms/step - loss: 0.6857 - binary_accuracy: 0.7779 - precision: 0.2264 - recall: 0.5253 - true_positives: 3783.0000 - true_negatives: 53449.0000 - false_negatives: 3418.0000 - false_positives: 12926.0000 - auc: 0.7403 - prc: 0.2027 - val_loss: 0.3426 - val_binary_accuracy: 0.8393 - val_precision: 0.2457 - val_recall: 0.2996 - val_true_positives: 243.0000 - val_true_negatives: 6619.0000 - val_false_negatives: 568.0000 - val_false_positives: 746.0000 - val_auc: 0.8304 - val_prc: 0.2451\n",
      "Epoch 11/100\n",
      "36/36 [==============================] - 1s 15ms/step - loss: 0.6764 - binary_accuracy: 0.7667 - precision: 0.2233 - recall: 0.5583 - true_positives: 4020.0000 - true_negatives: 52394.0000 - false_negatives: 3181.0000 - false_positives: 13981.0000 - auc: 0.7418 - prc: 0.2035 - val_loss: 0.3366 - val_binary_accuracy: 0.8286 - val_precision: 0.2521 - val_recall: 0.3699 - val_true_positives: 300.0000 - val_true_negatives: 6475.0000 - val_false_negatives: 511.0000 - val_false_positives: 890.0000 - val_auc: 0.8344 - val_prc: 0.2477\n",
      "Epoch 12/100\n",
      "36/36 [==============================] - 1s 15ms/step - loss: 0.6618 - binary_accuracy: 0.7656 - precision: 0.2240 - recall: 0.5662 - true_positives: 4077.0000 - true_negatives: 52250.0000 - false_negatives: 3124.0000 - false_positives: 14125.0000 - auc: 0.7499 - prc: 0.2053 - val_loss: 0.3392 - val_binary_accuracy: 0.8198 - val_precision: 0.2612 - val_recall: 0.4464 - val_true_positives: 362.0000 - val_true_negatives: 6341.0000 - val_false_negatives: 449.0000 - val_false_positives: 1024.0000 - val_auc: 0.8352 - val_prc: 0.2500\n",
      "Epoch 13/100\n",
      "36/36 [==============================] - 1s 14ms/step - loss: 0.6492 - binary_accuracy: 0.7630 - precision: 0.2235 - recall: 0.5745 - true_positives: 4137.0000 - true_negatives: 52005.0000 - false_negatives: 3064.0000 - false_positives: 14370.0000 - auc: 0.7537 - prc: 0.2097 - val_loss: 0.3431 - val_binary_accuracy: 0.8120 - val_precision: 0.2754 - val_recall: 0.5487 - val_true_positives: 445.0000 - val_true_negatives: 6194.0000 - val_false_negatives: 366.0000 - val_false_positives: 1171.0000 - val_auc: 0.8359 - val_prc: 0.2505\n",
      "Epoch 14/100\n",
      "36/36 [==============================] - 1s 15ms/step - loss: 0.6371 - binary_accuracy: 0.7674 - precision: 0.2276 - recall: 0.5751 - true_positives: 4141.0000 - true_negatives: 52320.0000 - false_negatives: 3060.0000 - false_positives: 14055.0000 - auc: 0.7598 - prc: 0.2141 - val_loss: 0.3457 - val_binary_accuracy: 0.8049 - val_precision: 0.2825 - val_recall: 0.6276 - val_true_positives: 509.0000 - val_true_negatives: 6072.0000 - val_false_negatives: 302.0000 - val_false_positives: 1293.0000 - val_auc: 0.8367 - val_prc: 0.2524\n",
      "Epoch 15/100\n",
      "36/36 [==============================] - 0s 13ms/step - loss: 0.6276 - binary_accuracy: 0.7684 - precision: 0.2290 - recall: 0.5773 - true_positives: 4157.0000 - true_negatives: 52376.0000 - false_negatives: 3044.0000 - false_positives: 13999.0000 - auc: 0.7638 - prc: 0.2168 - val_loss: 0.3392 - val_binary_accuracy: 0.8045 - val_precision: 0.2858 - val_recall: 0.6473 - val_true_positives: 525.0000 - val_true_negatives: 6053.0000 - val_false_negatives: 286.0000 - val_false_positives: 1312.0000 - val_auc: 0.8395 - val_prc: 0.2559\n",
      "Epoch 16/100\n",
      "36/36 [==============================] - 1s 15ms/step - loss: 0.6172 - binary_accuracy: 0.7665 - precision: 0.2279 - recall: 0.5805 - true_positives: 4180.0000 - true_negatives: 52214.0000 - false_negatives: 3021.0000 - false_positives: 14161.0000 - auc: 0.7669 - prc: 0.2165 - val_loss: 0.3459 - val_binary_accuracy: 0.7989 - val_precision: 0.2839 - val_recall: 0.6745 - val_true_positives: 547.0000 - val_true_negatives: 5985.0000 - val_false_negatives: 264.0000 - val_false_positives: 1380.0000 - val_auc: 0.8389 - val_prc: 0.2558\n",
      "Epoch 17/100\n",
      "36/36 [==============================] - 1s 16ms/step - loss: 0.6131 - binary_accuracy: 0.7689 - precision: 0.2285 - recall: 0.5730 - true_positives: 4126.0000 - true_negatives: 52448.0000 - false_negatives: 3075.0000 - false_positives: 13927.0000 - auc: 0.7684 - prc: 0.2155 - val_loss: 0.3462 - val_binary_accuracy: 0.7960 - val_precision: 0.2848 - val_recall: 0.6991 - val_true_positives: 567.0000 - val_true_negatives: 5941.0000 - val_false_negatives: 244.0000 - val_false_positives: 1424.0000 - val_auc: 0.8408 - val_prc: 0.2618\n",
      "Epoch 18/100\n",
      "36/36 [==============================] - 1s 15ms/step - loss: 0.6079 - binary_accuracy: 0.7679 - precision: 0.2274 - recall: 0.5721 - true_positives: 4120.0000 - true_negatives: 52376.0000 - false_negatives: 3081.0000 - false_positives: 13999.0000 - auc: 0.7714 - prc: 0.2174 - val_loss: 0.3443 - val_binary_accuracy: 0.7912 - val_precision: 0.2829 - val_recall: 0.7201 - val_true_positives: 584.0000 - val_true_negatives: 5885.0000 - val_false_negatives: 227.0000 - val_false_positives: 1480.0000 - val_auc: 0.8422 - val_prc: 0.2629\n",
      "Epoch 19/100\n",
      "36/36 [==============================] - 0s 13ms/step - loss: 0.5998 - binary_accuracy: 0.7677 - precision: 0.2285 - recall: 0.5778 - true_positives: 4161.0000 - true_negatives: 52324.0000 - false_negatives: 3040.0000 - false_positives: 14051.0000 - auc: 0.7761 - prc: 0.2223 - val_loss: 0.3503 - val_binary_accuracy: 0.7874 - val_precision: 0.2823 - val_recall: 0.7411 - val_true_positives: 601.0000 - val_true_negatives: 5837.0000 - val_false_negatives: 210.0000 - val_false_positives: 1528.0000 - val_auc: 0.8428 - val_prc: 0.2609\n",
      "Epoch 20/100\n",
      "36/36 [==============================] - 1s 15ms/step - loss: 0.5961 - binary_accuracy: 0.7681 - precision: 0.2282 - recall: 0.5748 - true_positives: 4139.0000 - true_negatives: 52374.0000 - false_negatives: 3062.0000 - false_positives: 14001.0000 - auc: 0.7766 - prc: 0.2194 - val_loss: 0.3511 - val_binary_accuracy: 0.7873 - val_precision: 0.2824 - val_recall: 0.7423 - val_true_positives: 602.0000 - val_true_negatives: 5835.0000 - val_false_negatives: 209.0000 - val_false_positives: 1530.0000 - val_auc: 0.8437 - val_prc: 0.2616\n",
      "Epoch 21/100\n",
      "36/36 [==============================] - 1s 15ms/step - loss: 0.5891 - binary_accuracy: 0.7702 - precision: 0.2305 - recall: 0.5762 - true_positives: 4149.0000 - true_negatives: 52521.0000 - false_negatives: 3052.0000 - false_positives: 13854.0000 - auc: 0.7803 - prc: 0.2249 - val_loss: 0.3518 - val_binary_accuracy: 0.7818 - val_precision: 0.2790 - val_recall: 0.7571 - val_true_positives: 614.0000 - val_true_negatives: 5778.0000 - val_false_negatives: 197.0000 - val_false_positives: 1587.0000 - val_auc: 0.8442 - val_prc: 0.2621\n",
      "Epoch 22/100\n",
      "36/36 [==============================] - 0s 14ms/step - loss: 0.5841 - binary_accuracy: 0.7685 - precision: 0.2278 - recall: 0.5712 - true_positives: 4113.0000 - true_negatives: 52432.0000 - false_negatives: 3088.0000 - false_positives: 13943.0000 - auc: 0.7827 - prc: 0.2247 - val_loss: 0.3636 - val_binary_accuracy: 0.7735 - val_precision: 0.2738 - val_recall: 0.7768 - val_true_positives: 630.0000 - val_true_negatives: 5694.0000 - val_false_negatives: 181.0000 - val_false_positives: 1671.0000 - val_auc: 0.8443 - val_prc: 0.2647\n",
      "Epoch 23/100\n",
      "36/36 [==============================] - 1s 14ms/step - loss: 0.5709 - binary_accuracy: 0.7326 - precision: 0.2249 - recall: 0.7082 - true_positives: 5100.0000 - true_negatives: 48799.0000 - false_negatives: 2101.0000 - false_positives: 17576.0000 - auc: 0.7891 - prc: 0.2336 - val_loss: 0.3691 - val_binary_accuracy: 0.7641 - val_precision: 0.2682 - val_recall: 0.7978 - val_true_positives: 647.0000 - val_true_negatives: 5600.0000 - val_false_negatives: 164.0000 - val_false_positives: 1765.0000 - val_auc: 0.8457 - val_prc: 0.2676\n",
      "Epoch 24/100\n",
      "36/36 [==============================] - 1s 15ms/step - loss: 0.5778 - binary_accuracy: 0.7208 - precision: 0.2178 - recall: 0.7150 - true_positives: 5149.0000 - true_negatives: 47886.0000 - false_negatives: 2052.0000 - false_positives: 18489.0000 - auc: 0.7835 - prc: 0.2251 - val_loss: 0.3610 - val_binary_accuracy: 0.7691 - val_precision: 0.2721 - val_recall: 0.7928 - val_true_positives: 643.0000 - val_true_negatives: 5645.0000 - val_false_negatives: 168.0000 - val_false_positives: 1720.0000 - val_auc: 0.8475 - val_prc: 0.2692\n",
      "Epoch 25/100\n",
      "36/36 [==============================] - 1s 14ms/step - loss: 0.5689 - binary_accuracy: 0.7236 - precision: 0.2208 - recall: 0.7211 - true_positives: 5193.0000 - true_negatives: 48045.0000 - false_negatives: 2008.0000 - false_positives: 18330.0000 - auc: 0.7890 - prc: 0.2310 - val_loss: 0.3688 - val_binary_accuracy: 0.7613 - val_precision: 0.2691 - val_recall: 0.8200 - val_true_positives: 665.0000 - val_true_negatives: 5559.0000 - val_false_negatives: 146.0000 - val_false_positives: 1806.0000 - val_auc: 0.8485 - val_prc: 0.2712\n",
      "Epoch 26/100\n",
      "36/36 [==============================] - 1s 14ms/step - loss: 0.5610 - binary_accuracy: 0.7209 - precision: 0.2215 - recall: 0.7366 - true_positives: 5304.0000 - true_negatives: 47737.0000 - false_negatives: 1897.0000 - false_positives: 18638.0000 - auc: 0.7933 - prc: 0.2361 - val_loss: 0.3675 - val_binary_accuracy: 0.7616 - val_precision: 0.2694 - val_recall: 0.8200 - val_true_positives: 665.0000 - val_true_negatives: 5562.0000 - val_false_negatives: 146.0000 - val_false_positives: 1803.0000 - val_auc: 0.8485 - val_prc: 0.2705\n",
      "Epoch 27/100\n",
      "36/36 [==============================] - 1s 15ms/step - loss: 0.5598 - binary_accuracy: 0.7206 - precision: 0.2211 - recall: 0.7350 - true_positives: 5293.0000 - true_negatives: 47724.0000 - false_negatives: 1908.0000 - false_positives: 18651.0000 - auc: 0.7926 - prc: 0.2332 - val_loss: 0.3699 - val_binary_accuracy: 0.7587 - val_precision: 0.2691 - val_recall: 0.8348 - val_true_positives: 677.0000 - val_true_negatives: 5526.0000 - val_false_negatives: 134.0000 - val_false_positives: 1839.0000 - val_auc: 0.8491 - val_prc: 0.2755\n",
      "Epoch 28/100\n",
      "36/36 [==============================] - 1s 15ms/step - loss: 0.5654 - binary_accuracy: 0.7200 - precision: 0.2183 - recall: 0.7210 - true_positives: 5192.0000 - true_negatives: 47785.0000 - false_negatives: 2009.0000 - false_positives: 18590.0000 - auc: 0.7902 - prc: 0.2329 - val_loss: 0.3765 - val_binary_accuracy: 0.7500 - val_precision: 0.2648 - val_recall: 0.8557 - val_true_positives: 694.0000 - val_true_negatives: 5438.0000 - val_false_negatives: 117.0000 - val_false_positives: 1927.0000 - val_auc: 0.8506 - val_prc: 0.2754\n",
      "Epoch 29/100\n",
      "36/36 [==============================] - 0s 14ms/step - loss: 0.5606 - binary_accuracy: 0.7183 - precision: 0.2186 - recall: 0.7293 - true_positives: 5252.0000 - true_negatives: 47598.0000 - false_negatives: 1949.0000 - false_positives: 18777.0000 - auc: 0.7921 - prc: 0.2351 - val_loss: 0.3691 - val_binary_accuracy: 0.7604 - val_precision: 0.2709 - val_recall: 0.8372 - val_true_positives: 679.0000 - val_true_negatives: 5538.0000 - val_false_negatives: 132.0000 - val_false_positives: 1827.0000 - val_auc: 0.8525 - val_prc: 0.2797\n",
      "Epoch 30/100\n",
      "36/36 [==============================] - 1s 14ms/step - loss: 0.5529 - binary_accuracy: 0.7184 - precision: 0.2200 - recall: 0.7375 - true_positives: 5311.0000 - true_negatives: 47548.0000 - false_negatives: 1890.0000 - false_positives: 18827.0000 - auc: 0.7988 - prc: 0.2385 - val_loss: 0.3673 - val_binary_accuracy: 0.7627 - val_precision: 0.2719 - val_recall: 0.8298 - val_true_positives: 673.0000 - val_true_negatives: 5563.0000 - val_false_negatives: 138.0000 - val_false_positives: 1802.0000 - val_auc: 0.8515 - val_prc: 0.2757\n",
      "Epoch 31/100\n",
      "36/36 [==============================] - 1s 14ms/step - loss: 0.5492 - binary_accuracy: 0.7150 - precision: 0.2188 - recall: 0.7441 - true_positives: 5358.0000 - true_negatives: 47249.0000 - false_negatives: 1843.0000 - false_positives: 19126.0000 - auc: 0.7994 - prc: 0.2344 - val_loss: 0.3738 - val_binary_accuracy: 0.7554 - val_precision: 0.2675 - val_recall: 0.8434 - val_true_positives: 684.0000 - val_true_negatives: 5492.0000 - val_false_negatives: 127.0000 - val_false_positives: 1873.0000 - val_auc: 0.8521 - val_prc: 0.2809\n",
      "Epoch 32/100\n",
      "36/36 [==============================] - 0s 13ms/step - loss: 0.5457 - binary_accuracy: 0.7194 - precision: 0.2206 - recall: 0.7368 - true_positives: 5306.0000 - true_negatives: 47627.0000 - false_negatives: 1895.0000 - false_positives: 18748.0000 - auc: 0.8043 - prc: 0.2444 - val_loss: 0.3815 - val_binary_accuracy: 0.7460 - val_precision: 0.2620 - val_recall: 0.8594 - val_true_positives: 697.0000 - val_true_negatives: 5402.0000 - val_false_negatives: 114.0000 - val_false_positives: 1963.0000 - val_auc: 0.8522 - val_prc: 0.2814\n",
      "Epoch 33/100\n",
      "36/36 [==============================] - 1s 14ms/step - loss: 0.5464 - binary_accuracy: 0.7155 - precision: 0.2177 - recall: 0.7350 - true_positives: 5293.0000 - true_negatives: 47353.0000 - false_negatives: 1908.0000 - false_positives: 19022.0000 - auc: 0.8017 - prc: 0.2378 - val_loss: 0.3808 - val_binary_accuracy: 0.7473 - val_precision: 0.2628 - val_recall: 0.8570 - val_true_positives: 695.0000 - val_true_negatives: 5415.0000 - val_false_negatives: 116.0000 - val_false_positives: 1950.0000 - val_auc: 0.8511 - val_prc: 0.2795\n",
      "Epoch 34/100\n",
      "36/36 [==============================] - 1s 15ms/step - loss: 0.5466 - binary_accuracy: 0.7119 - precision: 0.2154 - recall: 0.7357 - true_positives: 5298.0000 - true_negatives: 47078.0000 - false_negatives: 1903.0000 - false_positives: 19297.0000 - auc: 0.8017 - prc: 0.2379 - val_loss: 0.3860 - val_binary_accuracy: 0.7376 - val_precision: 0.2575 - val_recall: 0.8730 - val_true_positives: 708.0000 - val_true_negatives: 5323.0000 - val_false_negatives: 103.0000 - val_false_positives: 2042.0000 - val_auc: 0.8517 - val_prc: 0.2780\n",
      "Epoch 35/100\n",
      "36/36 [==============================] - 0s 13ms/step - loss: 0.5412 - binary_accuracy: 0.7152 - precision: 0.2183 - recall: 0.7402 - true_positives: 5330.0000 - true_negatives: 47291.0000 - false_negatives: 1871.0000 - false_positives: 19084.0000 - auc: 0.8040 - prc: 0.2411 - val_loss: 0.3704 - val_binary_accuracy: 0.7611 - val_precision: 0.2711 - val_recall: 0.8335 - val_true_positives: 676.0000 - val_true_negatives: 5547.0000 - val_false_negatives: 135.0000 - val_false_positives: 1818.0000 - val_auc: 0.8531 - val_prc: 0.2810\n",
      "Epoch 36/100\n",
      "36/36 [==============================] - 0s 14ms/step - loss: 0.5394 - binary_accuracy: 0.7146 - precision: 0.2181 - recall: 0.7411 - true_positives: 5337.0000 - true_negatives: 47241.0000 - false_negatives: 1864.0000 - false_positives: 19134.0000 - auc: 0.8058 - prc: 0.2450 - val_loss: 0.3743 - val_binary_accuracy: 0.7599 - val_precision: 0.2707 - val_recall: 0.8385 - val_true_positives: 680.0000 - val_true_negatives: 5533.0000 - val_false_negatives: 131.0000 - val_false_positives: 1832.0000 - val_auc: 0.8566 - val_prc: 0.2952\n",
      "Epoch 37/100\n",
      "36/36 [==============================] - 0s 13ms/step - loss: 0.5394 - binary_accuracy: 0.7142 - precision: 0.2172 - recall: 0.7375 - true_positives: 5311.0000 - true_negatives: 47234.0000 - false_negatives: 1890.0000 - false_positives: 19141.0000 - auc: 0.8034 - prc: 0.2424 - val_loss: 0.3826 - val_binary_accuracy: 0.7435 - val_precision: 0.2608 - val_recall: 0.8644 - val_true_positives: 701.0000 - val_true_negatives: 5378.0000 - val_false_negatives: 110.0000 - val_false_positives: 1987.0000 - val_auc: 0.8530 - val_prc: 0.2815\n",
      "Epoch 38/100\n",
      "36/36 [==============================] - 1s 15ms/step - loss: 0.5386 - binary_accuracy: 0.7141 - precision: 0.2170 - recall: 0.7363 - true_positives: 5302.0000 - true_negatives: 47240.0000 - false_negatives: 1899.0000 - false_positives: 19135.0000 - auc: 0.8036 - prc: 0.2411 - val_loss: 0.3777 - val_binary_accuracy: 0.7539 - val_precision: 0.2668 - val_recall: 0.8471 - val_true_positives: 687.0000 - val_true_negatives: 5477.0000 - val_false_negatives: 124.0000 - val_false_positives: 1888.0000 - val_auc: 0.8581 - val_prc: 0.2976\n",
      "Epoch 39/100\n",
      "36/36 [==============================] - 0s 12ms/step - loss: 0.5324 - binary_accuracy: 0.7183 - precision: 0.2202 - recall: 0.7392 - true_positives: 5323.0000 - true_negatives: 47523.0000 - false_negatives: 1878.0000 - false_positives: 18852.0000 - auc: 0.8073 - prc: 0.2463 - val_loss: 0.3844 - val_binary_accuracy: 0.7450 - val_precision: 0.2621 - val_recall: 0.8656 - val_true_positives: 702.0000 - val_true_negatives: 5389.0000 - val_false_negatives: 109.0000 - val_false_positives: 1976.0000 - val_auc: 0.8576 - val_prc: 0.2950\n",
      "Epoch 40/100\n",
      "36/36 [==============================] - 1s 15ms/step - loss: 0.5343 - binary_accuracy: 0.7117 - precision: 0.2163 - recall: 0.7414 - true_positives: 5339.0000 - true_negatives: 47025.0000 - false_negatives: 1862.0000 - false_positives: 19350.0000 - auc: 0.8055 - prc: 0.2450 - val_loss: 0.3854 - val_binary_accuracy: 0.7385 - val_precision: 0.2583 - val_recall: 0.8742 - val_true_positives: 709.0000 - val_true_negatives: 5329.0000 - val_false_negatives: 102.0000 - val_false_positives: 2036.0000 - val_auc: 0.8582 - val_prc: 0.3110\n",
      "Epoch 41/100\n",
      "36/36 [==============================] - 1s 15ms/step - loss: 0.5334 - binary_accuracy: 0.7132 - precision: 0.2163 - recall: 0.7359 - true_positives: 5299.0000 - true_negatives: 47177.0000 - false_negatives: 1902.0000 - false_positives: 19198.0000 - auc: 0.8054 - prc: 0.2442 - val_loss: 0.3936 - val_binary_accuracy: 0.7252 - val_precision: 0.2517 - val_recall: 0.8977 - val_true_positives: 728.0000 - val_true_negatives: 5201.0000 - val_false_negatives: 83.0000 - val_false_positives: 2164.0000 - val_auc: 0.8550 - val_prc: 0.2865\n",
      "Epoch 42/100\n",
      "36/36 [==============================] - 0s 13ms/step - loss: 0.5303 - binary_accuracy: 0.7131 - precision: 0.2171 - recall: 0.7409 - true_positives: 5335.0000 - true_negatives: 47131.0000 - false_negatives: 1866.0000 - false_positives: 19244.0000 - auc: 0.8059 - prc: 0.2460 - val_loss: 0.3821 - val_binary_accuracy: 0.7484 - val_precision: 0.2642 - val_recall: 0.8607 - val_true_positives: 698.0000 - val_true_negatives: 5421.0000 - val_false_negatives: 113.0000 - val_false_positives: 1944.0000 - val_auc: 0.8587 - val_prc: 0.3016\n",
      "Epoch 43/100\n",
      "36/36 [==============================] - 0s 13ms/step - loss: 0.5263 - binary_accuracy: 0.7152 - precision: 0.2188 - recall: 0.7431 - true_positives: 5351.0000 - true_negatives: 47273.0000 - false_negatives: 1850.0000 - false_positives: 19102.0000 - auc: 0.8067 - prc: 0.2443 - val_loss: 0.3928 - val_binary_accuracy: 0.7271 - val_precision: 0.2523 - val_recall: 0.8915 - val_true_positives: 723.0000 - val_true_negatives: 5222.0000 - val_false_negatives: 88.0000 - val_false_positives: 2143.0000 - val_auc: 0.8589 - val_prc: 0.3023\n",
      "Epoch 44/100\n",
      "36/36 [==============================] - 1s 15ms/step - loss: 0.5268 - binary_accuracy: 0.7132 - precision: 0.2168 - recall: 0.7388 - true_positives: 5320.0000 - true_negatives: 47158.0000 - false_negatives: 1881.0000 - false_positives: 19217.0000 - auc: 0.8054 - prc: 0.2411 - val_loss: 0.3828 - val_binary_accuracy: 0.7430 - val_precision: 0.2611 - val_recall: 0.8693 - val_true_positives: 705.0000 - val_true_negatives: 5370.0000 - val_false_negatives: 106.0000 - val_false_positives: 1995.0000 - val_auc: 0.8575 - val_prc: 0.2946\n",
      "Epoch 45/100\n",
      "36/36 [==============================] - 1s 15ms/step - loss: 0.5291 - binary_accuracy: 0.7100 - precision: 0.2142 - recall: 0.7360 - true_positives: 5300.0000 - true_negatives: 46936.0000 - false_negatives: 1901.0000 - false_positives: 19439.0000 - auc: 0.8054 - prc: 0.2453 - val_loss: 0.3950 - val_binary_accuracy: 0.7202 - val_precision: 0.2492 - val_recall: 0.9051 - val_true_positives: 734.0000 - val_true_negatives: 5154.0000 - val_false_negatives: 77.0000 - val_false_positives: 2211.0000 - val_auc: 0.8597 - val_prc: 0.3094\n",
      "Epoch 46/100\n",
      "36/36 [==============================] - 0s 13ms/step - loss: 0.5207 - binary_accuracy: 0.7116 - precision: 0.2172 - recall: 0.7474 - true_positives: 5382.0000 - true_negatives: 46977.0000 - false_negatives: 1819.0000 - false_positives: 19398.0000 - auc: 0.8082 - prc: 0.2452 - val_loss: 0.3916 - val_binary_accuracy: 0.7299 - val_precision: 0.2553 - val_recall: 0.8989 - val_true_positives: 729.0000 - val_true_negatives: 5239.0000 - val_false_negatives: 82.0000 - val_false_positives: 2126.0000 - val_auc: 0.8578 - val_prc: 0.2941\n",
      "Epoch 47/100\n",
      "36/36 [==============================] - 0s 13ms/step - loss: 0.5242 - binary_accuracy: 0.7127 - precision: 0.2161 - recall: 0.7364 - true_positives: 5303.0000 - true_negatives: 47135.0000 - false_negatives: 1898.0000 - false_positives: 19240.0000 - auc: 0.8070 - prc: 0.2470 - val_loss: 0.3947 - val_binary_accuracy: 0.7236 - val_precision: 0.2515 - val_recall: 0.9038 - val_true_positives: 733.0000 - val_true_negatives: 5183.0000 - val_false_negatives: 78.0000 - val_false_positives: 2182.0000 - val_auc: 0.8582 - val_prc: 0.3055\n",
      "Epoch 48/100\n",
      "36/36 [==============================] - 1s 15ms/step - loss: 0.5215 - binary_accuracy: 0.7060 - precision: 0.2132 - recall: 0.7452 - true_positives: 5366.0000 - true_negatives: 46578.0000 - false_negatives: 1835.0000 - false_positives: 19797.0000 - auc: 0.8071 - prc: 0.2458 - val_loss: 0.3984 - val_binary_accuracy: 0.7137 - val_precision: 0.2469 - val_recall: 0.9199 - val_true_positives: 746.0000 - val_true_negatives: 5089.0000 - val_false_negatives: 65.0000 - val_false_positives: 2276.0000 - val_auc: 0.8573 - val_prc: 0.2920\n",
      "Epoch 49/100\n",
      "36/36 [==============================] - 1s 14ms/step - loss: 0.5182 - binary_accuracy: 0.7067 - precision: 0.2147 - recall: 0.7511 - true_positives: 5409.0000 - true_negatives: 46587.0000 - false_negatives: 1792.0000 - false_positives: 19788.0000 - auc: 0.8086 - prc: 0.2462 - val_loss: 0.3921 - val_binary_accuracy: 0.7292 - val_precision: 0.2550 - val_recall: 0.9001 - val_true_positives: 730.0000 - val_true_negatives: 5232.0000 - val_false_negatives: 81.0000 - val_false_positives: 2133.0000 - val_auc: 0.8588 - val_prc: 0.3045\n",
      "Epoch 50/100\n",
      "35/36 [============================>.] - ETA: 0s - loss: 0.5176 - binary_accuracy: 0.7099 - precision: 0.2159 - recall: 0.7454 - true_positives: 5233.0000 - true_negatives: 45652.0000 - false_negatives: 1787.0000 - false_positives: 19008.0000 - auc: 0.8084 - prc: 0.2461Restoring model weights from the end of the best epoch: 40.\n",
      "36/36 [==============================] - 1s 15ms/step - loss: 0.5178 - binary_accuracy: 0.7097 - precision: 0.2155 - recall: 0.7446 - true_positives: 5362.0000 - true_negatives: 46857.0000 - false_negatives: 1839.0000 - false_positives: 19518.0000 - auc: 0.8081 - prc: 0.2457 - val_loss: 0.3920 - val_binary_accuracy: 0.7307 - val_precision: 0.2552 - val_recall: 0.8940 - val_true_positives: 725.0000 - val_true_negatives: 5249.0000 - val_false_negatives: 86.0000 - val_false_positives: 2116.0000 - val_auc: 0.8584 - val_prc: 0.2962\n",
      "Epoch 50: early stopping\n"
     ]
    }
   ],
   "source": [
    "weighted_history = weighted_model.fit(train_features, \n",
    "                    train_labels, \n",
    "                    batch_size=BATCH_SIZE, \n",
    "                    epochs=EPOCHS, \n",
    "                    callbacks=[early_stopping], \n",
    "                    validation_data=(validation_features, validation_labels), \n",
    "                    class_weight=class_weights)"
   ]
  },
  {
   "cell_type": "code",
   "execution_count": 16,
   "metadata": {},
   "outputs": [
    {
     "name": "stdout",
     "output_type": "stream",
     "text": [
      "5/5 [==============================] - 0s 8ms/step - loss: 0.3852 - binary_accuracy: 0.7370 - precision: 0.2475 - recall: 0.9239 - true_positives: 765.0000 - true_negatives: 5930.0000 - false_negatives: 63.0000 - false_positives: 2326.0000 - auc: 0.8778 - prc: 0.3355\n"
     ]
    },
    {
     "data": {
      "text/plain": [
       "[0.38521215319633484,\n",
       " 0.73701012134552,\n",
       " 0.247492715716362,\n",
       " 0.9239130616188049,\n",
       " 765.0,\n",
       " 5930.0,\n",
       " 63.0,\n",
       " 2326.0,\n",
       " 0.8777711391448975,\n",
       " 0.33549684286117554]"
      ]
     },
     "execution_count": 16,
     "metadata": {},
     "output_type": "execute_result"
    }
   ],
   "source": [
    "weighted_model.evaluate(test_features, test_labels, batch_size=BATCH_SIZE, verbose=1)"
   ]
  },
  {
   "cell_type": "code",
   "execution_count": 17,
   "metadata": {},
   "outputs": [
    {
     "name": "stdout",
     "output_type": "stream",
     "text": [
      "284/284 [==============================] - 1s 3ms/step\n"
     ]
    }
   ],
   "source": [
    "results = weighted_model.predict(test_features)\n",
    "results[results<0.5]=0\n",
    "results[results>0.5]=1"
   ]
  },
  {
   "cell_type": "code",
   "execution_count": 18,
   "metadata": {},
   "outputs": [
    {
     "data": {
      "text/plain": [
       "9084"
      ]
     },
     "execution_count": 18,
     "metadata": {},
     "output_type": "execute_result"
    }
   ],
   "source": [
    "len(results)"
   ]
  },
  {
   "cell_type": "code",
   "execution_count": 19,
   "metadata": {},
   "outputs": [],
   "source": [
    "regurgitate_data['predicted_values'] = results"
   ]
  },
  {
   "cell_type": "code",
   "execution_count": 20,
   "metadata": {},
   "outputs": [],
   "source": [
    "def prediction_classification(input_set):\n",
    "    if all(input_set):\n",
    "        return \"True_Positive\"\n",
    "    elif not input_set[0] and input_set[1]:\n",
    "        return \"False_Positive\"\n",
    "    elif not input_set[0] and not input_set[1]:\n",
    "        return \"True_Negative\"\n",
    "    else:\n",
    "        return \"False_Negative\""
   ]
  },
  {
   "cell_type": "code",
   "execution_count": 21,
   "metadata": {},
   "outputs": [],
   "source": [
    "def boolean_transformer(input_set, positive_identifier, negative_identifier):\n",
    "    input_set[input_set == 0] = negative_identifier\n",
    "    input_set[input_set == 1] = positive_identifier\n",
    "\n",
    "    return input_set "
   ]
  },
  {
   "cell_type": "code",
   "execution_count": 22,
   "metadata": {},
   "outputs": [],
   "source": [
    "regurgitate_data['Classification_Success'] = \\\n",
    "list(map(prediction_classification, list(zip(regurgitate_data['hazardous'], regurgitate_data['predicted_values']))))"
   ]
  },
  {
   "cell_type": "code",
   "execution_count": 23,
   "metadata": {},
   "outputs": [
    {
     "name": "stderr",
     "output_type": "stream",
     "text": [
      "C:\\Users\\ahuma\\AppData\\Local\\Temp/ipykernel_12916/329045822.py:2: SettingWithCopyWarning: \n",
      "A value is trying to be set on a copy of a slice from a DataFrame\n",
      "\n",
      "See the caveats in the documentation: https://pandas.pydata.org/pandas-docs/stable/user_guide/indexing.html#returning-a-view-versus-a-copy\n",
      "  input_set[input_set == 0] = negative_identifier\n",
      "C:\\Users\\ahuma\\AppData\\Local\\Temp/ipykernel_12916/329045822.py:3: SettingWithCopyWarning: \n",
      "A value is trying to be set on a copy of a slice from a DataFrame\n",
      "\n",
      "See the caveats in the documentation: https://pandas.pydata.org/pandas-docs/stable/user_guide/indexing.html#returning-a-view-versus-a-copy\n",
      "  input_set[input_set == 1] = positive_identifier\n"
     ]
    }
   ],
   "source": [
    "regurgitate_data['hazardous'] = boolean_transformer(regurgitate_data['hazardous'], 'hazardous', 'not_hazardous')\n",
    "regurgitate_data['predicted_values'] = boolean_transformer(regurgitate_data['predicted_values'], 'predicted_hazardous', 'predicted_not_hazardous')"
   ]
  },
  {
   "cell_type": "code",
   "execution_count": 24,
   "metadata": {},
   "outputs": [
    {
     "data": {
      "text/html": [
       "<div>\n",
       "<style scoped>\n",
       "    .dataframe tbody tr th:only-of-type {\n",
       "        vertical-align: middle;\n",
       "    }\n",
       "\n",
       "    .dataframe tbody tr th {\n",
       "        vertical-align: top;\n",
       "    }\n",
       "\n",
       "    .dataframe thead th {\n",
       "        text-align: right;\n",
       "    }\n",
       "</style>\n",
       "<table border=\"1\" class=\"dataframe\">\n",
       "  <thead>\n",
       "    <tr style=\"text-align: right;\">\n",
       "      <th></th>\n",
       "      <th>id</th>\n",
       "      <th>name</th>\n",
       "      <th>est_diameter_min</th>\n",
       "      <th>est_diameter_max</th>\n",
       "      <th>relative_velocity</th>\n",
       "      <th>miss_distance</th>\n",
       "      <th>orbiting_body</th>\n",
       "      <th>sentry_object</th>\n",
       "      <th>absolute_magnitude</th>\n",
       "      <th>hazardous</th>\n",
       "      <th>predicted_values</th>\n",
       "      <th>Classification_Success</th>\n",
       "    </tr>\n",
       "  </thead>\n",
       "  <tbody>\n",
       "    <tr>\n",
       "      <th>67573</th>\n",
       "      <td>3785695</td>\n",
       "      <td>(2017 TO2)</td>\n",
       "      <td>0.058151</td>\n",
       "      <td>0.130029</td>\n",
       "      <td>87664.855672</td>\n",
       "      <td>6.102192e+07</td>\n",
       "      <td>Earth</td>\n",
       "      <td>0.0</td>\n",
       "      <td>23.30</td>\n",
       "      <td>not_hazardous</td>\n",
       "      <td>predicted_not_hazardous</td>\n",
       "      <td>True_Negative</td>\n",
       "    </tr>\n",
       "    <tr>\n",
       "      <th>43657</th>\n",
       "      <td>54239834</td>\n",
       "      <td>(2022 BA1)</td>\n",
       "      <td>0.081013</td>\n",
       "      <td>0.181151</td>\n",
       "      <td>78299.267215</td>\n",
       "      <td>4.698217e+07</td>\n",
       "      <td>Earth</td>\n",
       "      <td>0.0</td>\n",
       "      <td>22.58</td>\n",
       "      <td>not_hazardous</td>\n",
       "      <td>predicted_not_hazardous</td>\n",
       "      <td>True_Negative</td>\n",
       "    </tr>\n",
       "    <tr>\n",
       "      <th>36033</th>\n",
       "      <td>3837686</td>\n",
       "      <td>(2019 AX5)</td>\n",
       "      <td>0.016771</td>\n",
       "      <td>0.037501</td>\n",
       "      <td>50329.784504</td>\n",
       "      <td>4.706466e+07</td>\n",
       "      <td>Earth</td>\n",
       "      <td>0.0</td>\n",
       "      <td>26.00</td>\n",
       "      <td>not_hazardous</td>\n",
       "      <td>predicted_hazardous</td>\n",
       "      <td>False_Positive</td>\n",
       "    </tr>\n",
       "    <tr>\n",
       "      <th>72869</th>\n",
       "      <td>3749030</td>\n",
       "      <td>(2016 GG2)</td>\n",
       "      <td>0.105817</td>\n",
       "      <td>0.236614</td>\n",
       "      <td>50936.691501</td>\n",
       "      <td>4.755413e+07</td>\n",
       "      <td>Earth</td>\n",
       "      <td>0.0</td>\n",
       "      <td>22.00</td>\n",
       "      <td>not_hazardous</td>\n",
       "      <td>predicted_not_hazardous</td>\n",
       "      <td>True_Negative</td>\n",
       "    </tr>\n",
       "    <tr>\n",
       "      <th>72037</th>\n",
       "      <td>3729536</td>\n",
       "      <td>(2015 TX143)</td>\n",
       "      <td>0.296862</td>\n",
       "      <td>0.663804</td>\n",
       "      <td>80524.971847</td>\n",
       "      <td>3.898925e+07</td>\n",
       "      <td>Earth</td>\n",
       "      <td>0.0</td>\n",
       "      <td>19.76</td>\n",
       "      <td>not_hazardous</td>\n",
       "      <td>predicted_not_hazardous</td>\n",
       "      <td>True_Negative</td>\n",
       "    </tr>\n",
       "  </tbody>\n",
       "</table>\n",
       "</div>"
      ],
      "text/plain": [
       "             id          name  est_diameter_min  est_diameter_max  \\\n",
       "67573   3785695    (2017 TO2)          0.058151          0.130029   \n",
       "43657  54239834    (2022 BA1)          0.081013          0.181151   \n",
       "36033   3837686    (2019 AX5)          0.016771          0.037501   \n",
       "72869   3749030    (2016 GG2)          0.105817          0.236614   \n",
       "72037   3729536  (2015 TX143)          0.296862          0.663804   \n",
       "\n",
       "       relative_velocity  miss_distance orbiting_body  sentry_object  \\\n",
       "67573       87664.855672   6.102192e+07         Earth            0.0   \n",
       "43657       78299.267215   4.698217e+07         Earth            0.0   \n",
       "36033       50329.784504   4.706466e+07         Earth            0.0   \n",
       "72869       50936.691501   4.755413e+07         Earth            0.0   \n",
       "72037       80524.971847   3.898925e+07         Earth            0.0   \n",
       "\n",
       "       absolute_magnitude      hazardous         predicted_values  \\\n",
       "67573               23.30  not_hazardous  predicted_not_hazardous   \n",
       "43657               22.58  not_hazardous  predicted_not_hazardous   \n",
       "36033               26.00  not_hazardous      predicted_hazardous   \n",
       "72869               22.00  not_hazardous  predicted_not_hazardous   \n",
       "72037               19.76  not_hazardous  predicted_not_hazardous   \n",
       "\n",
       "      Classification_Success  \n",
       "67573          True_Negative  \n",
       "43657          True_Negative  \n",
       "36033         False_Positive  \n",
       "72869          True_Negative  \n",
       "72037          True_Negative  "
      ]
     },
     "execution_count": 24,
     "metadata": {},
     "output_type": "execute_result"
    }
   ],
   "source": [
    "regurgitate_data.head()"
   ]
  },
  {
   "cell_type": "code",
   "execution_count": 25,
   "metadata": {},
   "outputs": [
    {
     "data": {
      "text/html": [
       "<div>\n",
       "<style scoped>\n",
       "    .dataframe tbody tr th:only-of-type {\n",
       "        vertical-align: middle;\n",
       "    }\n",
       "\n",
       "    .dataframe tbody tr th {\n",
       "        vertical-align: top;\n",
       "    }\n",
       "\n",
       "    .dataframe thead th {\n",
       "        text-align: right;\n",
       "    }\n",
       "</style>\n",
       "<table border=\"1\" class=\"dataframe\">\n",
       "  <thead>\n",
       "    <tr style=\"text-align: right;\">\n",
       "      <th></th>\n",
       "      <th>id</th>\n",
       "      <th>name</th>\n",
       "      <th>est_diameter_min</th>\n",
       "      <th>est_diameter_max</th>\n",
       "      <th>relative_velocity</th>\n",
       "      <th>miss_distance</th>\n",
       "      <th>orbiting_body</th>\n",
       "      <th>sentry_object</th>\n",
       "      <th>absolute_magnitude</th>\n",
       "      <th>hazardous</th>\n",
       "      <th>predicted_values</th>\n",
       "      <th>Classification_Success</th>\n",
       "    </tr>\n",
       "  </thead>\n",
       "  <tbody>\n",
       "    <tr>\n",
       "      <th>67573</th>\n",
       "      <td>3785695</td>\n",
       "      <td>(2017 TO2)</td>\n",
       "      <td>0.058151</td>\n",
       "      <td>0.130029</td>\n",
       "      <td>87664.855672</td>\n",
       "      <td>6.102192e+07</td>\n",
       "      <td>Earth</td>\n",
       "      <td>0.0</td>\n",
       "      <td>23.30</td>\n",
       "      <td>not_hazardous</td>\n",
       "      <td>predicted_not_hazardous</td>\n",
       "      <td>True_Negative</td>\n",
       "    </tr>\n",
       "    <tr>\n",
       "      <th>43657</th>\n",
       "      <td>54239834</td>\n",
       "      <td>(2022 BA1)</td>\n",
       "      <td>0.081013</td>\n",
       "      <td>0.181151</td>\n",
       "      <td>78299.267215</td>\n",
       "      <td>4.698217e+07</td>\n",
       "      <td>Earth</td>\n",
       "      <td>0.0</td>\n",
       "      <td>22.58</td>\n",
       "      <td>not_hazardous</td>\n",
       "      <td>predicted_not_hazardous</td>\n",
       "      <td>True_Negative</td>\n",
       "    </tr>\n",
       "    <tr>\n",
       "      <th>36033</th>\n",
       "      <td>3837686</td>\n",
       "      <td>(2019 AX5)</td>\n",
       "      <td>0.016771</td>\n",
       "      <td>0.037501</td>\n",
       "      <td>50329.784504</td>\n",
       "      <td>4.706466e+07</td>\n",
       "      <td>Earth</td>\n",
       "      <td>0.0</td>\n",
       "      <td>26.00</td>\n",
       "      <td>not_hazardous</td>\n",
       "      <td>predicted_hazardous</td>\n",
       "      <td>False_Positive</td>\n",
       "    </tr>\n",
       "    <tr>\n",
       "      <th>72869</th>\n",
       "      <td>3749030</td>\n",
       "      <td>(2016 GG2)</td>\n",
       "      <td>0.105817</td>\n",
       "      <td>0.236614</td>\n",
       "      <td>50936.691501</td>\n",
       "      <td>4.755413e+07</td>\n",
       "      <td>Earth</td>\n",
       "      <td>0.0</td>\n",
       "      <td>22.00</td>\n",
       "      <td>not_hazardous</td>\n",
       "      <td>predicted_not_hazardous</td>\n",
       "      <td>True_Negative</td>\n",
       "    </tr>\n",
       "    <tr>\n",
       "      <th>72037</th>\n",
       "      <td>3729536</td>\n",
       "      <td>(2015 TX143)</td>\n",
       "      <td>0.296862</td>\n",
       "      <td>0.663804</td>\n",
       "      <td>80524.971847</td>\n",
       "      <td>3.898925e+07</td>\n",
       "      <td>Earth</td>\n",
       "      <td>0.0</td>\n",
       "      <td>19.76</td>\n",
       "      <td>not_hazardous</td>\n",
       "      <td>predicted_not_hazardous</td>\n",
       "      <td>True_Negative</td>\n",
       "    </tr>\n",
       "  </tbody>\n",
       "</table>\n",
       "</div>"
      ],
      "text/plain": [
       "             id          name  est_diameter_min  est_diameter_max  \\\n",
       "67573   3785695    (2017 TO2)          0.058151          0.130029   \n",
       "43657  54239834    (2022 BA1)          0.081013          0.181151   \n",
       "36033   3837686    (2019 AX5)          0.016771          0.037501   \n",
       "72869   3749030    (2016 GG2)          0.105817          0.236614   \n",
       "72037   3729536  (2015 TX143)          0.296862          0.663804   \n",
       "\n",
       "       relative_velocity  miss_distance orbiting_body  sentry_object  \\\n",
       "67573       87664.855672   6.102192e+07         Earth            0.0   \n",
       "43657       78299.267215   4.698217e+07         Earth            0.0   \n",
       "36033       50329.784504   4.706466e+07         Earth            0.0   \n",
       "72869       50936.691501   4.755413e+07         Earth            0.0   \n",
       "72037       80524.971847   3.898925e+07         Earth            0.0   \n",
       "\n",
       "       absolute_magnitude      hazardous         predicted_values  \\\n",
       "67573               23.30  not_hazardous  predicted_not_hazardous   \n",
       "43657               22.58  not_hazardous  predicted_not_hazardous   \n",
       "36033               26.00  not_hazardous      predicted_hazardous   \n",
       "72869               22.00  not_hazardous  predicted_not_hazardous   \n",
       "72037               19.76  not_hazardous  predicted_not_hazardous   \n",
       "\n",
       "      Classification_Success  \n",
       "67573          True_Negative  \n",
       "43657          True_Negative  \n",
       "36033         False_Positive  \n",
       "72869          True_Negative  \n",
       "72037          True_Negative  "
      ]
     },
     "execution_count": 25,
     "metadata": {},
     "output_type": "execute_result"
    }
   ],
   "source": [
    "regurgitate_data.head()"
   ]
  },
  {
   "cell_type": "code",
   "execution_count": 26,
   "metadata": {},
   "outputs": [],
   "source": [
    "regurgitate_data.to_csv(path_or_buf=r'C:\\Users\\ahuma\\Desktop\\python projects\\REHS2022\\Final-Project\\ExtraKGs\\celesital-bodies\\processed_data.csv', index=False)"
   ]
  },
  {
   "cell_type": "code",
   "execution_count": 27,
   "metadata": {},
   "outputs": [],
   "source": [
    "#keras.backend.clear_session()"
   ]
  },
  {
   "cell_type": "markdown",
   "metadata": {},
   "source": [
    "Plotting"
   ]
  },
  {
   "cell_type": "code",
   "execution_count": 46,
   "metadata": {},
   "outputs": [],
   "source": [
    "def plot_loss(history, n):\n",
    "    plt.semilogy(history.epoch, history.history['loss'],\n",
    "                 color=colors[n], label='Training set loss')\n",
    "    plt.semilogy(history.epoch, history.history['val_loss'],\n",
    "                 color=colors[n], label='Validation set loss', linestyle=\"--\")\n",
    "    plt.title('Training Loss vs Validation Loss')\n",
    "    plt.xlabel('Epoch')\n",
    "    plt.ylabel('Loss')\n",
    "    plt.legend()"
   ]
  },
  {
   "cell_type": "code",
   "execution_count": 75,
   "metadata": {},
   "outputs": [],
   "source": [
    "def plot_metrics(history, metrics):\n",
    "    if len(metrics) > 4:\n",
    "        metrics = metrics[:3]\n",
    "    elif len(metrics) < 4:\n",
    "        raise Exception(\"Must be a list greater or equal to length 4\")\n",
    "\n",
    "    plt.subplots(figsize=(8,8))\n",
    "    plt.subplots_adjust(left=0.1,\n",
    "                            bottom=0.1,\n",
    "                            right=0.9,\n",
    "                            top=0.9,\n",
    "                            wspace=0.4,\n",
    "                            hspace=0.4)\n",
    "    for n, metric in enumerate(metrics):\n",
    "        name = metric.replace(\"_\", \" \")\n",
    "        plt.subplot(2,2,n+1)\n",
    "        plt.plot(history.epoch, history.history[metric], color=colors[0], label=\"Training Dataset\")\n",
    "        plt.plot(history.epoch, history.history['val_'+metric],\n",
    "                 color=colors[0], linestyle=\"--\", label='Validation Dataset')\n",
    "        plt.xlabel('Epoch')\n",
    "        plt.ylabel(name)\n",
    "    \n",
    "        plt.legend()"
   ]
  },
  {
   "cell_type": "code",
   "execution_count": 47,
   "metadata": {},
   "outputs": [
    {
     "data": {
      "image/png": "[encoded data removed]",
      "text/plain": [
       "<Figure size 432x288 with 1 Axes>"
      ]
     },
     "metadata": {
      "needs_background": "light"
     },
     "output_type": "display_data"
    }
   ],
   "source": [
    "plot_loss(weighted_history, 0)"
   ]
  },
  {
   "cell_type": "code",
   "execution_count": 77,
   "metadata": {},
   "outputs": [
    {
     "data": {
      "image/png": "[encoded data removed]",
      "text/plain": [
       "<Figure size 576x576 with 4 Axes>"
      ]
     },
     "metadata": {
      "needs_background": "light"
     },
     "output_type": "display_data"
    }
   ],
   "source": [
    "plot_metrics(weighted_history, ['precision', 'binary_accuracy', 'prc', 'recall'])"
   ]
  }
 ],
 "metadata": {
  "kernelspec": {
   "display_name": "Python 3.10.1 64-bit",
   "language": "python",
   "name": "python3"
  },
  "language_info": {
   "codemirror_mode": {
    "name": "ipython",
    "version": 3
   },
   "file_extension": ".py",
   "mimetype": "text/x-python",
   "name": "python",
   "nbconvert_exporter": "python",
   "pygments_lexer": "ipython3",
   "version": "3.10.1"
  },
  "orig_nbformat": 4,
  "vscode": {
   "interpreter": {
    "hash": "26de051ba29f2982a8de78e945f0abaf191376122a1563185a90213a26c5da77"
   }
  }
 },
 "nbformat": 4,
 "nbformat_minor": 2
}
