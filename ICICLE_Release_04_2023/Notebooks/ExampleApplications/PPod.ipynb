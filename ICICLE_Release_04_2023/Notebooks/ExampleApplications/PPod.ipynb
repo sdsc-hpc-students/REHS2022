{
 "cells": [
  {
   "cell_type": "code",
   "execution_count": 1,
   "metadata": {},
   "outputs": [],
   "source": [
    "import datetime\n",
    "import pandas as pd\n",
    "from py2neo import Graph\n",
    "import neo4jupyter"
   ]
  },
  {
   "cell_type": "code",
   "execution_count": 2,
   "metadata": {},
   "outputs": [],
   "source": [
    "username, password = str(input(\"KG Username:\")), str(input(\"KG Password:\"))"
   ]
  },
  {
   "cell_type": "code",
   "execution_count": 7,
   "metadata": {},
   "outputs": [
    {
     "data": {
      "text/plain": [
       "'UCoByayGrgORW3bHbxIwZPUSkJChb1'"
      ]
     },
     "execution_count": 7,
     "metadata": {},
     "output_type": "execute_result"
    }
   ],
   "source": [
    "password"
   ]
  },
  {
   "cell_type": "code",
   "execution_count": 3,
   "metadata": {},
   "outputs": [],
   "source": [
    "pod_id = str(input(\"Pod ID\"))"
   ]
  },
  {
   "cell_type": "code",
   "execution_count": 4,
   "metadata": {},
   "outputs": [
    {
     "name": "stdout",
     "output_type": "stream",
     "text": [
      "Number of nodes in the database: 8929\n",
      "Number of edges in the database: 87763\n"
     ]
    }
   ],
   "source": [
    "def loadPPOD(graph, deleteOld=False):\n",
    "    if deleteOld:\n",
    "        c1 = \"match (a) -[r] -> () delete a, r\"\n",
    "        c2 = \"match (a) delete a\"\n",
    "        graph.run(c1)\n",
    "        graph.run(c2)\n",
    "    graph.run('CALL n10s.graphconfig.init();')\n",
    "    graph.run('CALL n10s.graphconfig.init({ handleVocabUris: \"IGNORE\" })')\n",
    "    graph.run(\"CALL apoc.import.graphml('https://raw.githubusercontent.com/yasmineTYM/PPOD_KG/main/PPOD_v9.graphml', {storeNodeIds:True, readLabels: True})\")\n",
    "    result = graph.run(\"MATCH (n) RETURN count(n) as num\")\n",
    "    for record in result:\n",
    "        print(f\"Number of nodes in the database: {record['num']}\")\n",
    "    result = graph.run(\"MATCH (n)-[r]->() RETURN COUNT(r) as num\")\n",
    "    for record in result:\n",
    "        print(f\"Number of edges in the database: {record['num']}\")\n",
    "\n",
    "from py2neo import Graph\n",
    "graph = Graph(f\"bolt+ssc://{pod_id}.pods.icicle.develop.tapis.io:443\", auth=(username, password), secure=True, verify=False)\n",
    "\n",
    "loadPPOD(graph, True)"
   ]
  }
 ],
 "metadata": {
  "kernelspec": {
   "display_name": "Python 3.10.1 64-bit",
   "language": "python",
   "name": "python3"
  },
  "language_info": {
   "codemirror_mode": {
    "name": "ipython",
    "version": 3
   },
   "file_extension": ".py",
   "mimetype": "text/x-python",
   "name": "python",
   "nbconvert_exporter": "python",
   "pygments_lexer": "ipython3",
   "version": "3.10.1"
  },
  "orig_nbformat": 4,
  "vscode": {
   "interpreter": {
    "hash": "26de051ba29f2982a8de78e945f0abaf191376122a1563185a90213a26c5da77"
   }
  }
 },
 "nbformat": 4,
 "nbformat_minor": 2
}
