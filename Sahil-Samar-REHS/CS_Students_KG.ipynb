{
 "cells": [
  {
   "cell_type": "markdown",
   "id": "f7b99db9",
   "metadata": {},
   "source": [
    "# Introduction\n",
    "\n",
    "CS-Students is a sample knowledge graph that can be used to model any classroom that is relation based (a classroom that has lots of different people, pairs, groups, periods; things like that). This notebook is meant to demonstrate how to query this knowledge graph based on the preset things that are currently in the sample data.\n",
    "\n",
    "# Data\n",
    "\n",
    "## Currently, the data consists of the following categories (which are labels in Neo4J):\n",
    "\n",
    "##### Period (most teachers would find it useful to have their data divided into class periods)\n",
    "##### Scrum Team (basically, the largest overarching groups of students, under period)\n",
    "##### Pairs (pairs of students within scrum teams)\n",
    "##### Person (object that represents each student)\n",
    "\n",
    "## The data also has the following relationships\n",
    "\n",
    "##### IN_PERIOD (to relate teams to the period they are in)\n",
    "##### CROSSOVER (a relationship that exists to connect pairs of teams which work together)\n",
    "##### PAIR_SHARE (relationship defining students who are paired together)\n",
    "##### IN_GROUP (to relate people to the group they are in)\n",
    "\n",
    "# Setup in Anaconda\n",
    "\n",
    "1: Install Anaconda\n",
    "\n",
    "2: On windows, open the Anaconda command prompt. On mac, open the normal terminal.\n",
    "\n",
    "3: Run the following commands:\n",
    "\n",
    "conda install jupyter\n",
    "\n",
    "conda install py2neo\n",
    "\n",
    "conda install pandas\n",
    "\n",
    "conda install neo4jupyter\n",
    "\n",
    "4: If you haven't already, then clone this repository to a location that you can navigate to easily in your files.\n",
    "\n",
    "5: The commands above have configured your conda environment. Now, simply run the command\n",
    "\n",
    "jupyter notebook\n",
    "\n",
    "6: This should open up something in the browser. You will see all of your files. Navigate to the directory which has the github repository clone.\n",
    "\n",
    "7: Then, navigate to this notebook. You should be able to run this notebook and experience all of its features now!\n",
    "\n",
    "# Setup in an IDE like VSCode\n",
    "\n",
    "1: In the IDE terminal, run the following commands:\n",
    "\n",
    "pip install jupyter\n",
    "\n",
    "pip install py2neo\n",
    "\n",
    "pip install pandas\n",
    "\n",
    "pip install neo4jupyter\n",
    "\n",
    "2: You're all set to run the notebook!"
   ]
  },
  {
   "cell_type": "code",
   "execution_count": 1,
   "id": "ffb2a475",
   "metadata": {},
   "outputs": [
    {
     "data": {
      "application/javascript": "var link = document.createElement(\"link\");\n\tlink.ref = \"stylesheet\";\n\tlink.type = \"text/css\";\n\tlink.href = \"https://cdnjs.cloudflare.com/ajax/libs/vis/4.8.2/vis.css\";\n\tdocument.head.appendChild(link);\nrequire.config({     paths: {         vis: '//cdnjs.cloudflare.com/ajax/libs/vis/4.8.2/vis.min'     } }); require(['vis'], function(vis) {  window.vis = vis; }); ",
      "text/plain": [
       "<IPython.core.display.Javascript object>"
      ]
     },
     "metadata": {},
     "output_type": "display_data"
    }
   ],
   "source": [
    "import pandas as pd\n",
    "import getpass\n",
    "from py2neo import Graph, Node, Relationship\n",
    "from py2neo import GraphService\n",
    "\n",
    "import neo4jupyter\n",
    "neo4jupyter.init_notebook_mode()"
   ]
  },
  {
   "cell_type": "code",
   "execution_count": 2,
   "id": "2ad6a4d9",
   "metadata": {
    "scrolled": true
   },
   "outputs": [],
   "source": [
    "# The database is hosted on AuraDB, and this is the connection URI for it\n",
    "# The password is made private. \n",
    "#password = getpass.getpass(prompt='Password: ', stream=None) \n",
    "graph = Graph(\"neo4j+s://f9708be2.databases.neo4j.io\", auth=(\"neo4j\", \"Nighthawks2023\"))\n",
    "\n",
    "# database\n",
    "gs = GraphService(\"neo4j+s://f9708be2.databases.neo4j.io\", auth=(\"neo4j\", \"Nighthawks2023\"))"
   ]
  },
  {
   "cell_type": "code",
   "execution_count": 3,
   "id": "0755b617",
   "metadata": {},
   "outputs": [
    {
     "ename": "ServiceUnavailable",
     "evalue": "Cannot connect to any known routers",
     "output_type": "error",
     "traceback": [
      "\u001b[0;31m---------------------------------------------------------------------------\u001b[0m",
      "\u001b[0;31mServiceUnavailable\u001b[0m                        Traceback (most recent call last)",
      "\u001b[1;32m/Users/johnmortensen/vsProjects/APCSP-3/_notebooks/2022-07-21-Query_CS_Students.ipynb Cell 5'\u001b[0m in \u001b[0;36m<cell line: 2>\u001b[0;34m()\u001b[0m\n\u001b[1;32m      <a href='vscode-notebook-cell:/Users/johnmortensen/vsProjects/APCSP-3/_notebooks/2022-07-21-Query_CS_Students.ipynb#ch0000004?line=0'>1</a>\u001b[0m \u001b[39m# Run this cell to visualize all of the people in the graph!\u001b[39;00m\n\u001b[0;32m----> <a href='vscode-notebook-cell:/Users/johnmortensen/vsProjects/APCSP-3/_notebooks/2022-07-21-Query_CS_Students.ipynb#ch0000004?line=1'>2</a>\u001b[0m neo4jupyter\u001b[39m.\u001b[39;49mdraw(graph, {\u001b[39m\"\u001b[39;49m\u001b[39mPERSON\u001b[39;49m\u001b[39m\"\u001b[39;49m: \u001b[39m\"\u001b[39;49m\u001b[39mname\u001b[39;49m\u001b[39m\"\u001b[39;49m})\n",
      "File \u001b[0;32m/Library/Frameworks/Python.framework/Versions/3.9/lib/python3.9/site-packages/neo4jupyter/neo4jupyter.py:83\u001b[0m, in \u001b[0;36mdraw\u001b[0;34m(graph, options, physics, limit)\u001b[0m\n\u001b[1;32m     <a href='file:///Library/Frameworks/Python.framework/Versions/3.9/lib/python3.9/site-packages/neo4jupyter/neo4jupyter.py?line=56'>57</a>\u001b[0m \u001b[39m\"\"\"\u001b[39;00m\n\u001b[1;32m     <a href='file:///Library/Frameworks/Python.framework/Versions/3.9/lib/python3.9/site-packages/neo4jupyter/neo4jupyter.py?line=57'>58</a>\u001b[0m \u001b[39mThe options argument should be a dictionary of node labels and property keys; it determines which property\u001b[39;00m\n\u001b[1;32m     <a href='file:///Library/Frameworks/Python.framework/Versions/3.9/lib/python3.9/site-packages/neo4jupyter/neo4jupyter.py?line=58'>59</a>\u001b[0m \u001b[39mis displayed for the node label. For example, in the movie graph, options = {\"Movie\": \"title\", \"Person\": \"name\"}.\u001b[39;00m\n\u001b[0;32m   (...)\u001b[0m\n\u001b[1;32m     <a href='file:///Library/Frameworks/Python.framework/Versions/3.9/lib/python3.9/site-packages/neo4jupyter/neo4jupyter.py?line=66'>67</a>\u001b[0m \u001b[39m:return: IPython.display.HTML\u001b[39;00m\n\u001b[1;32m     <a href='file:///Library/Frameworks/Python.framework/Versions/3.9/lib/python3.9/site-packages/neo4jupyter/neo4jupyter.py?line=67'>68</a>\u001b[0m \u001b[39m\"\"\"\u001b[39;00m\n\u001b[1;32m     <a href='file:///Library/Frameworks/Python.framework/Versions/3.9/lib/python3.9/site-packages/neo4jupyter/neo4jupyter.py?line=69'>70</a>\u001b[0m query \u001b[39m=\u001b[39m \u001b[39m\"\"\"\u001b[39m\n\u001b[1;32m     <a href='file:///Library/Frameworks/Python.framework/Versions/3.9/lib/python3.9/site-packages/neo4jupyter/neo4jupyter.py?line=70'>71</a>\u001b[0m \u001b[39mMATCH (n)\u001b[39m\n\u001b[1;32m     <a href='file:///Library/Frameworks/Python.framework/Versions/3.9/lib/python3.9/site-packages/neo4jupyter/neo4jupyter.py?line=71'>72</a>\u001b[0m \u001b[39mWITH n, rand() AS random\u001b[39m\n\u001b[0;32m   (...)\u001b[0m\n\u001b[1;32m     <a href='file:///Library/Frameworks/Python.framework/Versions/3.9/lib/python3.9/site-packages/neo4jupyter/neo4jupyter.py?line=79'>80</a>\u001b[0m \u001b[39m       id(m) AS target_id\u001b[39m\n\u001b[1;32m     <a href='file:///Library/Frameworks/Python.framework/Versions/3.9/lib/python3.9/site-packages/neo4jupyter/neo4jupyter.py?line=80'>81</a>\u001b[0m \u001b[39m\u001b[39m\u001b[39m\"\"\"\u001b[39m\n\u001b[0;32m---> <a href='file:///Library/Frameworks/Python.framework/Versions/3.9/lib/python3.9/site-packages/neo4jupyter/neo4jupyter.py?line=82'>83</a>\u001b[0m data \u001b[39m=\u001b[39m graph\u001b[39m.\u001b[39;49mrun(query, limit\u001b[39m=\u001b[39;49mlimit)\n\u001b[1;32m     <a href='file:///Library/Frameworks/Python.framework/Versions/3.9/lib/python3.9/site-packages/neo4jupyter/neo4jupyter.py?line=84'>85</a>\u001b[0m nodes \u001b[39m=\u001b[39m []\n\u001b[1;32m     <a href='file:///Library/Frameworks/Python.framework/Versions/3.9/lib/python3.9/site-packages/neo4jupyter/neo4jupyter.py?line=85'>86</a>\u001b[0m edges \u001b[39m=\u001b[39m []\n",
      "File \u001b[0;32m/Library/Frameworks/Python.framework/Versions/3.9/lib/python3.9/site-packages/py2neo/database.py:405\u001b[0m, in \u001b[0;36mGraph.run\u001b[0;34m(self, cypher, parameters, **kwparameters)\u001b[0m\n\u001b[1;32m    <a href='file:///Library/Frameworks/Python.framework/Versions/3.9/lib/python3.9/site-packages/py2neo/database.py?line=394'>395</a>\u001b[0m \u001b[39mdef\u001b[39;00m \u001b[39mrun\u001b[39m(\u001b[39mself\u001b[39m, cypher, parameters\u001b[39m=\u001b[39m\u001b[39mNone\u001b[39;00m, \u001b[39m*\u001b[39m\u001b[39m*\u001b[39mkwparameters):\n\u001b[1;32m    <a href='file:///Library/Frameworks/Python.framework/Versions/3.9/lib/python3.9/site-packages/py2neo/database.py?line=395'>396</a>\u001b[0m     \u001b[39m\"\"\" Run a single read/write query within an auto-commit\u001b[39;00m\n\u001b[1;32m    <a href='file:///Library/Frameworks/Python.framework/Versions/3.9/lib/python3.9/site-packages/py2neo/database.py?line=396'>397</a>\u001b[0m \u001b[39m    :class:`~py2neo.Transaction`.\u001b[39;00m\n\u001b[1;32m    <a href='file:///Library/Frameworks/Python.framework/Versions/3.9/lib/python3.9/site-packages/py2neo/database.py?line=397'>398</a>\u001b[0m \n\u001b[0;32m   (...)\u001b[0m\n\u001b[1;32m    <a href='file:///Library/Frameworks/Python.framework/Versions/3.9/lib/python3.9/site-packages/py2neo/database.py?line=402'>403</a>\u001b[0m \u001b[39m    :return:\u001b[39;00m\n\u001b[1;32m    <a href='file:///Library/Frameworks/Python.framework/Versions/3.9/lib/python3.9/site-packages/py2neo/database.py?line=403'>404</a>\u001b[0m \u001b[39m    \"\"\"\u001b[39;00m\n\u001b[0;32m--> <a href='file:///Library/Frameworks/Python.framework/Versions/3.9/lib/python3.9/site-packages/py2neo/database.py?line=404'>405</a>\u001b[0m     \u001b[39mreturn\u001b[39;00m \u001b[39mself\u001b[39;49m\u001b[39m.\u001b[39;49mauto()\u001b[39m.\u001b[39;49mrun(cypher, parameters, \u001b[39m*\u001b[39;49m\u001b[39m*\u001b[39;49mkwparameters)\n",
      "File \u001b[0;32m/Library/Frameworks/Python.framework/Versions/3.9/lib/python3.9/site-packages/py2neo/database.py:989\u001b[0m, in \u001b[0;36mTransaction.run\u001b[0;34m(self, cypher, parameters, **kwparameters)\u001b[0m\n\u001b[1;32m    <a href='file:///Library/Frameworks/Python.framework/Versions/3.9/lib/python3.9/site-packages/py2neo/database.py?line=986'>987</a>\u001b[0m     result \u001b[39m=\u001b[39m \u001b[39mself\u001b[39m\u001b[39m.\u001b[39m_connector\u001b[39m.\u001b[39mrun(\u001b[39mself\u001b[39m\u001b[39m.\u001b[39mref, cypher, parameters)\n\u001b[1;32m    <a href='file:///Library/Frameworks/Python.framework/Versions/3.9/lib/python3.9/site-packages/py2neo/database.py?line=987'>988</a>\u001b[0m \u001b[39melse\u001b[39;00m:\n\u001b[0;32m--> <a href='file:///Library/Frameworks/Python.framework/Versions/3.9/lib/python3.9/site-packages/py2neo/database.py?line=988'>989</a>\u001b[0m     result \u001b[39m=\u001b[39m \u001b[39mself\u001b[39;49m\u001b[39m.\u001b[39;49m_connector\u001b[39m.\u001b[39;49mauto_run(cypher, parameters,\n\u001b[1;32m    <a href='file:///Library/Frameworks/Python.framework/Versions/3.9/lib/python3.9/site-packages/py2neo/database.py?line=989'>990</a>\u001b[0m                                       graph_name\u001b[39m=\u001b[39;49m\u001b[39mself\u001b[39;49m\u001b[39m.\u001b[39;49mgraph\u001b[39m.\u001b[39;49mname,\n\u001b[1;32m    <a href='file:///Library/Frameworks/Python.framework/Versions/3.9/lib/python3.9/site-packages/py2neo/database.py?line=990'>991</a>\u001b[0m                                       readonly\u001b[39m=\u001b[39;49m\u001b[39mself\u001b[39;49m\u001b[39m.\u001b[39;49mreadonly)\n\u001b[1;32m    <a href='file:///Library/Frameworks/Python.framework/Versions/3.9/lib/python3.9/site-packages/py2neo/database.py?line=991'>992</a>\u001b[0m \u001b[39mself\u001b[39m\u001b[39m.\u001b[39m_connector\u001b[39m.\u001b[39mpull(result, \u001b[39m-\u001b[39m\u001b[39m1\u001b[39m)\n\u001b[1;32m    <a href='file:///Library/Frameworks/Python.framework/Versions/3.9/lib/python3.9/site-packages/py2neo/database.py?line=992'>993</a>\u001b[0m \u001b[39mreturn\u001b[39;00m Cursor(result, hydrant)\n",
      "File \u001b[0;32m/Library/Frameworks/Python.framework/Versions/3.9/lib/python3.9/site-packages/py2neo/client/__init__.py:1338\u001b[0m, in \u001b[0;36mConnector.auto_run\u001b[0;34m(self, cypher, parameters, graph_name, readonly)\u001b[0m\n\u001b[1;32m   <a href='file:///Library/Frameworks/Python.framework/Versions/3.9/lib/python3.9/site-packages/py2neo/client/__init__.py?line=1320'>1321</a>\u001b[0m \u001b[39mdef\u001b[39;00m \u001b[39mauto_run\u001b[39m(\u001b[39mself\u001b[39m, cypher, parameters\u001b[39m=\u001b[39m\u001b[39mNone\u001b[39;00m, graph_name\u001b[39m=\u001b[39m\u001b[39mNone\u001b[39;00m, readonly\u001b[39m=\u001b[39m\u001b[39mFalse\u001b[39;00m,\n\u001b[1;32m   <a href='file:///Library/Frameworks/Python.framework/Versions/3.9/lib/python3.9/site-packages/py2neo/client/__init__.py?line=1321'>1322</a>\u001b[0m              \u001b[39m# after=None, metadata=None, timeout=None\u001b[39;00m\n\u001b[1;32m   <a href='file:///Library/Frameworks/Python.framework/Versions/3.9/lib/python3.9/site-packages/py2neo/client/__init__.py?line=1322'>1323</a>\u001b[0m              ):\n\u001b[1;32m   <a href='file:///Library/Frameworks/Python.framework/Versions/3.9/lib/python3.9/site-packages/py2neo/client/__init__.py?line=1323'>1324</a>\u001b[0m     \u001b[39m\"\"\" Run a Cypher query within a new auto-commit transaction.\u001b[39;00m\n\u001b[1;32m   <a href='file:///Library/Frameworks/Python.framework/Versions/3.9/lib/python3.9/site-packages/py2neo/client/__init__.py?line=1324'>1325</a>\u001b[0m \n\u001b[1;32m   <a href='file:///Library/Frameworks/Python.framework/Versions/3.9/lib/python3.9/site-packages/py2neo/client/__init__.py?line=1325'>1326</a>\u001b[0m \u001b[39m    :param cypher:\u001b[39;00m\n\u001b[0;32m   (...)\u001b[0m\n\u001b[1;32m   <a href='file:///Library/Frameworks/Python.framework/Versions/3.9/lib/python3.9/site-packages/py2neo/client/__init__.py?line=1335'>1336</a>\u001b[0m \u001b[39m        cannot be honoured\u001b[39;00m\n\u001b[1;32m   <a href='file:///Library/Frameworks/Python.framework/Versions/3.9/lib/python3.9/site-packages/py2neo/client/__init__.py?line=1336'>1337</a>\u001b[0m \u001b[39m    \"\"\"\u001b[39;00m\n\u001b[0;32m-> <a href='file:///Library/Frameworks/Python.framework/Versions/3.9/lib/python3.9/site-packages/py2neo/client/__init__.py?line=1337'>1338</a>\u001b[0m     cx \u001b[39m=\u001b[39m \u001b[39mself\u001b[39;49m\u001b[39m.\u001b[39;49m_acquire(graph_name)\n\u001b[1;32m   <a href='file:///Library/Frameworks/Python.framework/Versions/3.9/lib/python3.9/site-packages/py2neo/client/__init__.py?line=1338'>1339</a>\u001b[0m     \u001b[39mtry\u001b[39;00m:\n\u001b[1;32m   <a href='file:///Library/Frameworks/Python.framework/Versions/3.9/lib/python3.9/site-packages/py2neo/client/__init__.py?line=1339'>1340</a>\u001b[0m         \u001b[39mreturn\u001b[39;00m cx\u001b[39m.\u001b[39mauto_run(cypher, parameters, graph_name\u001b[39m=\u001b[39mgraph_name, readonly\u001b[39m=\u001b[39mreadonly)\n",
      "File \u001b[0;32m/Library/Frameworks/Python.framework/Versions/3.9/lib/python3.9/site-packages/py2neo/client/__init__.py:1111\u001b[0m, in \u001b[0;36mConnector._acquire\u001b[0;34m(self, graph_name, readonly)\u001b[0m\n\u001b[1;32m   <a href='file:///Library/Frameworks/Python.framework/Versions/3.9/lib/python3.9/site-packages/py2neo/client/__init__.py?line=1108'>1109</a>\u001b[0m     \u001b[39mreturn\u001b[39;00m \u001b[39mself\u001b[39m\u001b[39m.\u001b[39m_acquire_ro(graph_name)\n\u001b[1;32m   <a href='file:///Library/Frameworks/Python.framework/Versions/3.9/lib/python3.9/site-packages/py2neo/client/__init__.py?line=1109'>1110</a>\u001b[0m \u001b[39melse\u001b[39;00m:\n\u001b[0;32m-> <a href='file:///Library/Frameworks/Python.framework/Versions/3.9/lib/python3.9/site-packages/py2neo/client/__init__.py?line=1110'>1111</a>\u001b[0m     \u001b[39mreturn\u001b[39;00m \u001b[39mself\u001b[39;49m\u001b[39m.\u001b[39;49m_acquire_rw(graph_name)\n",
      "File \u001b[0;32m/Library/Frameworks/Python.framework/Versions/3.9/lib/python3.9/site-packages/py2neo/client/__init__.py:1203\u001b[0m, in \u001b[0;36mConnector._acquire_rw\u001b[0;34m(self, graph_name)\u001b[0m\n\u001b[1;32m   <a href='file:///Library/Frameworks/Python.framework/Versions/3.9/lib/python3.9/site-packages/py2neo/client/__init__.py?line=1198'>1199</a>\u001b[0m \u001b[39m# TODO: exit immediately if the server/cluster is in readonly mode\u001b[39;00m\n\u001b[1;32m   <a href='file:///Library/Frameworks/Python.framework/Versions/3.9/lib/python3.9/site-packages/py2neo/client/__init__.py?line=1200'>1201</a>\u001b[0m \u001b[39mwhile\u001b[39;00m \u001b[39mTrue\u001b[39;00m:\n\u001b[0;32m-> <a href='file:///Library/Frameworks/Python.framework/Versions/3.9/lib/python3.9/site-packages/py2neo/client/__init__.py?line=1202'>1203</a>\u001b[0m     ro_profiles, rw_profiles \u001b[39m=\u001b[39m \u001b[39mself\u001b[39;49m\u001b[39m.\u001b[39;49m_get_profiles(graph_name, readonly\u001b[39m=\u001b[39;49m\u001b[39mFalse\u001b[39;49;00m)\n\u001b[1;32m   <a href='file:///Library/Frameworks/Python.framework/Versions/3.9/lib/python3.9/site-packages/py2neo/client/__init__.py?line=1203'>1204</a>\u001b[0m     \u001b[39mif\u001b[39;00m rw_profiles:\n\u001b[1;32m   <a href='file:///Library/Frameworks/Python.framework/Versions/3.9/lib/python3.9/site-packages/py2neo/client/__init__.py?line=1204'>1205</a>\u001b[0m         \u001b[39m# There is at least one writer, so collect the pools\u001b[39;00m\n\u001b[1;32m   <a href='file:///Library/Frameworks/Python.framework/Versions/3.9/lib/python3.9/site-packages/py2neo/client/__init__.py?line=1205'>1206</a>\u001b[0m         \u001b[39m# for those writers. In all implementations to date,\u001b[39;00m\n\u001b[1;32m   <a href='file:///Library/Frameworks/Python.framework/Versions/3.9/lib/python3.9/site-packages/py2neo/client/__init__.py?line=1206'>1207</a>\u001b[0m         \u001b[39m# a Neo4j cluster will only ever contain at most one\u001b[39;00m\n\u001b[1;32m   <a href='file:///Library/Frameworks/Python.framework/Versions/3.9/lib/python3.9/site-packages/py2neo/client/__init__.py?line=1207'>1208</a>\u001b[0m         \u001b[39m# writer (per database). But this algorithm should\u001b[39;00m\n\u001b[1;32m   <a href='file:///Library/Frameworks/Python.framework/Versions/3.9/lib/python3.9/site-packages/py2neo/client/__init__.py?line=1208'>1209</a>\u001b[0m         \u001b[39m# still survive if that changes.\u001b[39;00m\n\u001b[1;32m   <a href='file:///Library/Frameworks/Python.framework/Versions/3.9/lib/python3.9/site-packages/py2neo/client/__init__.py?line=1209'>1210</a>\u001b[0m         pools \u001b[39m=\u001b[39m [pool \u001b[39mfor\u001b[39;00m profile, pool \u001b[39min\u001b[39;00m \u001b[39mlist\u001b[39m(\u001b[39mself\u001b[39m\u001b[39m.\u001b[39m_pools\u001b[39m.\u001b[39mitems())\n\u001b[1;32m   <a href='file:///Library/Frameworks/Python.framework/Versions/3.9/lib/python3.9/site-packages/py2neo/client/__init__.py?line=1210'>1211</a>\u001b[0m                  \u001b[39mif\u001b[39;00m profile \u001b[39min\u001b[39;00m rw_profiles]\n",
      "File \u001b[0;32m/Library/Frameworks/Python.framework/Versions/3.9/lib/python3.9/site-packages/py2neo/client/__init__.py:1016\u001b[0m, in \u001b[0;36mConnector._get_profiles\u001b[0;34m(self, graph_name, readonly)\u001b[0m\n\u001b[1;32m   <a href='file:///Library/Frameworks/Python.framework/Versions/3.9/lib/python3.9/site-packages/py2neo/client/__init__.py?line=1013'>1014</a>\u001b[0m         rt\u001b[39m.\u001b[39mwait_until_updated()\n\u001b[1;32m   <a href='file:///Library/Frameworks/Python.framework/Versions/3.9/lib/python3.9/site-packages/py2neo/client/__init__.py?line=1014'>1015</a>\u001b[0m \u001b[39melse\u001b[39;00m:\n\u001b[0;32m-> <a href='file:///Library/Frameworks/Python.framework/Versions/3.9/lib/python3.9/site-packages/py2neo/client/__init__.py?line=1015'>1016</a>\u001b[0m     \u001b[39mself\u001b[39;49m\u001b[39m.\u001b[39;49mrefresh_routing_table(graph_name)\n",
      "File \u001b[0;32m/Library/Frameworks/Python.framework/Versions/3.9/lib/python3.9/site-packages/py2neo/client/__init__.py:1064\u001b[0m, in \u001b[0;36mConnector.refresh_routing_table\u001b[0;34m(self, graph_name)\u001b[0m\n\u001b[1;32m   <a href='file:///Library/Frameworks/Python.framework/Versions/3.9/lib/python3.9/site-packages/py2neo/client/__init__.py?line=1061'>1062</a>\u001b[0m                 cx\u001b[39m.\u001b[39mrelease()\n\u001b[1;32m   <a href='file:///Library/Frameworks/Python.framework/Versions/3.9/lib/python3.9/site-packages/py2neo/client/__init__.py?line=1062'>1063</a>\u001b[0m     \u001b[39melse\u001b[39;00m:\n\u001b[0;32m-> <a href='file:///Library/Frameworks/Python.framework/Versions/3.9/lib/python3.9/site-packages/py2neo/client/__init__.py?line=1063'>1064</a>\u001b[0m         \u001b[39mraise\u001b[39;00m ServiceUnavailable(\u001b[39m\"\u001b[39m\u001b[39mCannot connect to any known routers\u001b[39m\u001b[39m\"\u001b[39m)\n\u001b[1;32m   <a href='file:///Library/Frameworks/Python.framework/Versions/3.9/lib/python3.9/site-packages/py2neo/client/__init__.py?line=1064'>1065</a>\u001b[0m \u001b[39mfinally\u001b[39;00m:\n\u001b[1;32m   <a href='file:///Library/Frameworks/Python.framework/Versions/3.9/lib/python3.9/site-packages/py2neo/client/__init__.py?line=1065'>1066</a>\u001b[0m     rt\u001b[39m.\u001b[39mset_not_updating()\n",
      "\u001b[0;31mServiceUnavailable\u001b[0m: Cannot connect to any known routers"
     ]
    }
   ],
   "source": [
    "# Run this cell to visualize all of the people in the graph!\n",
    "neo4jupyter.draw(graph, {\"PERSON\": \"name\"})"
   ]
  },
  {
   "cell_type": "code",
   "execution_count": null,
   "id": "5994ba78",
   "metadata": {},
   "outputs": [
    {
     "data": {
      "text/html": [
       "<div>\n",
       "<style scoped>\n",
       "    .dataframe tbody tr th:only-of-type {\n",
       "        vertical-align: middle;\n",
       "    }\n",
       "\n",
       "    .dataframe tbody tr th {\n",
       "        vertical-align: top;\n",
       "    }\n",
       "\n",
       "    .dataframe thead th {\n",
       "        text-align: right;\n",
       "    }\n",
       "</style>\n",
       "<table border=\"1\" class=\"dataframe\">\n",
       "  <thead>\n",
       "    <tr style=\"text-align: right;\">\n",
       "      <th></th>\n",
       "      <th>TeamName</th>\n",
       "      <th>RuntimeLink</th>\n",
       "    </tr>\n",
       "  </thead>\n",
       "  <tbody>\n",
       "    <tr>\n",
       "      <th>0</th>\n",
       "      <td>Team 1</td>\n",
       "      <td>www.team1.com</td>\n",
       "    </tr>\n",
       "    <tr>\n",
       "      <th>1</th>\n",
       "      <td>Team 2</td>\n",
       "      <td>www.team2.com</td>\n",
       "    </tr>\n",
       "  </tbody>\n",
       "</table>\n",
       "</div>"
      ],
      "text/plain": [
       "  TeamName    RuntimeLink\n",
       "0   Team 1  www.team1.com\n",
       "1   Team 2  www.team2.com"
      ]
     },
     "execution_count": 3,
     "metadata": {},
     "output_type": "execute_result"
    }
   ],
   "source": [
    "# Returns all scrum teams and links to the runtimes of projects\n",
    "query = \"MATCH(n:SCRUM_TEAM) RETURN n.name AS TeamName, n.runtimelink AS RuntimeLink\"\n",
    "graph.run(query).to_data_frame()"
   ]
  },
  {
   "cell_type": "code",
   "execution_count": null,
   "id": "60cd213b",
   "metadata": {},
   "outputs": [
    {
     "data": {
      "text/html": [
       "<div>\n",
       "<style scoped>\n",
       "    .dataframe tbody tr th:only-of-type {\n",
       "        vertical-align: middle;\n",
       "    }\n",
       "\n",
       "    .dataframe tbody tr th {\n",
       "        vertical-align: top;\n",
       "    }\n",
       "\n",
       "    .dataframe thead th {\n",
       "        text-align: right;\n",
       "    }\n",
       "</style>\n",
       "<table border=\"1\" class=\"dataframe\">\n",
       "  <thead>\n",
       "    <tr style=\"text-align: right;\">\n",
       "      <th></th>\n",
       "      <th>Person</th>\n",
       "      <th>Job</th>\n",
       "    </tr>\n",
       "  </thead>\n",
       "  <tbody>\n",
       "    <tr>\n",
       "      <th>0</th>\n",
       "      <td>Doug</td>\n",
       "      <td>Deployment Manager</td>\n",
       "    </tr>\n",
       "    <tr>\n",
       "      <th>1</th>\n",
       "      <td>Carl</td>\n",
       "      <td>Technical Officer</td>\n",
       "    </tr>\n",
       "    <tr>\n",
       "      <th>2</th>\n",
       "      <td>Bob</td>\n",
       "      <td>Design Manager</td>\n",
       "    </tr>\n",
       "    <tr>\n",
       "      <th>3</th>\n",
       "      <td>Alice</td>\n",
       "      <td>Scrum Master</td>\n",
       "    </tr>\n",
       "  </tbody>\n",
       "</table>\n",
       "</div>"
      ],
      "text/plain": [
       "  Person                 Job\n",
       "0   Doug  Deployment Manager\n",
       "1   Carl   Technical Officer\n",
       "2    Bob      Design Manager\n",
       "3  Alice        Scrum Master"
      ]
     },
     "execution_count": 10,
     "metadata": {},
     "output_type": "execute_result"
    }
   ],
   "source": [
    "# Returns the people in Team 1 and their jobs\n",
    "query = \"MATCH(n1:PERSON)-[rel:IN_GROUP]->(n2:SCRUM_TEAM {name: \\\"Team 1\\\"}) RETURN n1.name AS Person, rel.Job AS Job\"\n",
    "graph.run(query).to_data_frame()"
   ]
  },
  {
   "cell_type": "code",
   "execution_count": null,
   "id": "4ec69adc",
   "metadata": {},
   "outputs": [
    {
     "data": {
      "text/html": [
       "<div>\n",
       "<style scoped>\n",
       "    .dataframe tbody tr th:only-of-type {\n",
       "        vertical-align: middle;\n",
       "    }\n",
       "\n",
       "    .dataframe tbody tr th {\n",
       "        vertical-align: top;\n",
       "    }\n",
       "\n",
       "    .dataframe thead th {\n",
       "        text-align: right;\n",
       "    }\n",
       "</style>\n",
       "<table border=\"1\" class=\"dataframe\">\n",
       "  <thead>\n",
       "    <tr style=\"text-align: right;\">\n",
       "      <th></th>\n",
       "      <th>Person</th>\n",
       "      <th>Job</th>\n",
       "    </tr>\n",
       "  </thead>\n",
       "  <tbody>\n",
       "    <tr>\n",
       "      <th>0</th>\n",
       "      <td>Henry</td>\n",
       "      <td>Design Manager</td>\n",
       "    </tr>\n",
       "    <tr>\n",
       "      <th>1</th>\n",
       "      <td>George</td>\n",
       "      <td>Technical Officer</td>\n",
       "    </tr>\n",
       "    <tr>\n",
       "      <th>2</th>\n",
       "      <td>Ferb</td>\n",
       "      <td>Deployment Manager</td>\n",
       "    </tr>\n",
       "    <tr>\n",
       "      <th>3</th>\n",
       "      <td>Eve</td>\n",
       "      <td>Scrum Master</td>\n",
       "    </tr>\n",
       "  </tbody>\n",
       "</table>\n",
       "</div>"
      ],
      "text/plain": [
       "   Person                 Job\n",
       "0   Henry      Design Manager\n",
       "1  George   Technical Officer\n",
       "2    Ferb  Deployment Manager\n",
       "3     Eve        Scrum Master"
      ]
     },
     "execution_count": 5,
     "metadata": {},
     "output_type": "execute_result"
    }
   ],
   "source": [
    "# Returns the people in Team 2 and their jobs\n",
    "query = \"MATCH(n1:PERSON)-[rel:IN_GROUP]->(n2:SCRUM_TEAM {name: \\\"Team 2\\\"}) RETURN n1.name AS Person, rel.Job AS Job\"\n",
    "graph.run(query).to_data_frame()"
   ]
  },
  {
   "cell_type": "markdown",
   "id": "613a919d",
   "metadata": {},
   "source": [
    "# The following cells show how to do CRUD operations\n",
    "\n",
    "You can do more than just query! To see your changes in effect, rerun the visualization in the third cell."
   ]
  },
  {
   "cell_type": "code",
   "execution_count": null,
   "id": "9862dc17",
   "metadata": {},
   "outputs": [],
   "source": [
    "# Create a node for a new person\n",
    "def CreatePerson(personName):\n",
    "    tx = graph.begin()\n",
    "    createdPerson = Node(\"PERSON\", name = personName)\n",
    "    tx.create(createdPerson)\n",
    "    graph.commit(tx)\n",
    "\n",
    "def CreatePersonTester():\n",
    "    n = input(\"Enter a person name: \")\n",
    "    CreatePerson(n)\n",
    "\n",
    "# Run the CreatePersonTester function to try creating a node. You should be able to find your new node!\n",
    "CreatePersonTester()"
   ]
  },
  {
   "cell_type": "code",
   "execution_count": null,
   "id": "854a545b",
   "metadata": {},
   "outputs": [],
   "source": [
    "# Update an existing node for a person by changing their name.\n",
    "# Note that this breaks with duplicate names. This is simply for demonstration purposes.\n",
    "# In a real application, you need to have a way to query by unique ID\n",
    "def UpdateAPerson(personName, newName):\n",
    "    graph.evaluate(\"MATCH (n:PERSON) WHERE n.name =\\\"\" + str(personName) + \"\\\" SET n.name=\\\"\" + str(newName) + \"\\\"\")\n",
    "\n",
    "def UpdateAPersonTester():\n",
    "    o = str(input(\"Enter the name you want to change: \"))\n",
    "    n = str(input(\"Enter the new name: \"))\n",
    "    UpdateAPerson(o, n)\n",
    "\n",
    "# Try updating the node that you created in the last code block!\n",
    "UpdateAPersonTester()"
   ]
  },
  {
   "cell_type": "code",
   "execution_count": null,
   "id": "af682a27",
   "metadata": {},
   "outputs": [],
   "source": [
    "# Delete an existing node for a person, based on name. \n",
    "# Note that this breaks with duplicate names. This is simply for demonstration purposes.\n",
    "def DeleteAPerson(personName):\n",
    "    node = graph.evaluate(\"MATCH (n:PERSON) WHERE n.name =\\\"\" + str(personName) + \"\\\" RETURN n\")\n",
    "    try:\n",
    "        graph.delete(node)\n",
    "    except:\n",
    "        return\n",
    "\n",
    "def DeleteAPersonTester():\n",
    "    x = str(input(\"Enter a person name: \"))\n",
    "    DeleteAPerson(x)\n",
    "\n",
    "# You can try deleting the node that you created by simply entering the person name\n",
    "DeleteAPersonTester()"
   ]
  },
  {
   "cell_type": "code",
   "execution_count": null,
   "id": "35be886b",
   "metadata": {
    "scrolled": false
   },
   "outputs": [
    {
     "name": "stdout",
     "output_type": "stream",
     "text": [
      "Enter the name you want to change: Among\n",
      "Enter the new name: Sahil\n"
     ]
    }
   ],
   "source": []
  },
  {
   "cell_type": "code",
   "execution_count": null,
   "id": "1243e07d",
   "metadata": {},
   "outputs": [],
   "source": []
  }
 ],
 "metadata": {
  "interpreter": {
   "hash": "aee8b7b246df8f9039afb4144a1f6fd8d2ca17a180786b69acc140d282b71a49"
  },
  "kernelspec": {
   "display_name": "Python 3.9.0 64-bit",
   "language": "python",
   "name": "python3"
  },
  "language_info": {
   "codemirror_mode": {
    "name": "ipython",
    "version": 3
   },
   "file_extension": ".py",
   "mimetype": "text/x-python",
   "name": "python",
   "nbconvert_exporter": "python",
   "pygments_lexer": "ipython3",
   "version": "3.9.0"
  },
  "vscode": {
   "interpreter": {
    "hash": "369f2c481f4da34e4445cda3fffd2e751bd1c4d706f27375911949ba6bb62e1c"
   }
  }
 },
 "nbformat": 4,
 "nbformat_minor": 5
}
