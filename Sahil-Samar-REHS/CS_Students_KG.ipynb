{
   "cells": [
  {
   "cell_type": "markdown",
   "id": "f7b99db9",
   "metadata": {},
   "source": [
    "# Introduction\n",
    "\n",
    "CS-Students is a sample knowledge graph that can be used to model any classroom that is relation based (a classroom that has lots of different people, pairs, groups, periods; things like that). This notebook is meant to demonstrate how to query this knowledge graph based on the preset things that are currently in the sample data.\n",
    "\n",
    "# Data\n",
    "\n",
    "## Currently, the data consists of the following categories (which are labels in Neo4J):\n",
    "\n",
    "##### Period (most teachers would find it useful to have their data divided into class periods)\n",
    "##### Scrum Team (basically, the largest overarching groups of students, under period)\n",
    "##### Pairs (pairs of students within scrum teams)\n",
    "##### Person (object that represents each student)\n",
    "\n",
    "## The data also has the following relationships\n",
    "\n",
    "##### IN_PERIOD (to relate teams to the period they are in)\n",
    "##### CROSSOVER (a relationship that exists to connect pairs of teams which work together)\n",
    "##### PAIR_SHARE (relationship defining students who are paired together)\n",
    "##### IN_GROUP (to relate people to the group they are in)\n",
    "\n",
    "# Setup in Anaconda\n",
    "\n",
    "1: Install Anaconda\n",
    "\n",
    "2: On windows, open the Anaconda command prompt. On mac, open the normal terminal.\n",
    "\n",
    "3: Run the following commands:\n",
    "\n",
    "conda install jupyter\n",
    "\n",
    "conda install py2neo\n",
    "\n",
    "conda install pandas\n",
    "\n",
    "conda install neo4jupyter\n",
    "\n",
    "4: If you haven't already, then clone this repository to a location that you can navigate to easily in your files.\n",
    "\n",
    "5: The commands above have configured your conda environment. Now, simply run the command\n",
    "\n",
    "jupyter notebook\n",
    "\n",
    "6: This should open up something in the browser. You will see all of your files. Navigate to the directory which has the github repository clone.\n",
    "\n",
    "7: Then, navigate to this notebook. You should be able to run this notebook and experience all of its features now!\n",
    "\n",
    "# Setup in an IDE like VSCode\n",
    "\n",
    "1: In the IDE terminal, run the following commands:\n",
    "\n",
    "pip install jupyter\n",
    "\n",
    "pip install py2neo\n",
    "\n",
    "pip install pandas\n",
    "\n",
    "pip install neo4jupyter\n",
    "\n",
    "2: You're all set to run the notebook!"
   ]
  },
  {
   "cell_type": "code",
   "execution_count": 1,
   "id": "ffb2a475",
   "metadata": {},
   "outputs": [
    {
     "data": {
      "application/javascript": "var link = document.createElement(\"link\");\n\tlink.ref = \"stylesheet\";\n\tlink.type = \"text/css\";\n\tlink.href = \"https://cdnjs.cloudflare.com/ajax/libs/vis/4.8.2/vis.css\";\n\tdocument.head.appendChild(link);\nrequire.config({     paths: {         vis: '//cdnjs.cloudflare.com/ajax/libs/vis/4.8.2/vis.min'     } }); require(['vis'], function(vis) {  window.vis = vis; }); ",
      "text/plain": [
       "<IPython.core.display.Javascript object>"
      ]
     },
     "metadata": {},
     "output_type": "display_data"
    }
   ],
   "source": [
    "import pandas as pd\n",
    "import getpass\n",
    "from py2neo import Graph, Node, Relationship\n",
    "from py2neo import GraphService\n",
    "\n",
    "import neo4jupyter\n",
    "neo4jupyter.init_notebook_mode()"
   ]
  },
  {
   "cell_type": "code",
   "execution_count": 2,
   "id": "2ad6a4d9",
   "metadata": {
    "scrolled": true
   },
   "outputs": [],
   "source": [
    "# The database is hosted on AuraDB, and this is the connection URI for it\n",
    "# The password is made private. \n",
    "#password = getpass.getpass(prompt='Password: ', stream=None) \n",
    "graph = Graph(\"neo4j+s://f9708be2.databases.neo4j.io\", auth=(\"neo4j\", \"Nighthawks2023\"))\n",
    "\n",
    "# database\n",
    "gs = GraphService(\"neo4j+s://f9708be2.databases.neo4j.io\", auth=(\"neo4j\", \"Nighthawks2023\"))"
   ]
  },
  {
   "cell_type": "code",
   "execution_count": 3,
   "id": "0755b617",
   "metadata": {},
   "source": [
    "# Run this cell to visualize all of the people in the graph!\n",
    "neo4jupyter.draw(graph, {\"PERSON\": \"name\"})"
   ]
  },
  {
   "cell_type": "code",
   "execution_count": null,
   "id": "5994ba78",
   "metadata": {},
   "outputs": [
    {
     "data": {
      "text/html": [
       "<div>\n",
       "<style scoped>\n",
       "    .dataframe tbody tr th:only-of-type {\n",
       "        vertical-align: middle;\n",
       "    }\n",
       "\n",
       "    .dataframe tbody tr th {\n",
       "        vertical-align: top;\n",
       "    }\n",
       "\n",
       "    .dataframe thead th {\n",
       "        text-align: right;\n",
       "    }\n",
       "</style>\n",
       "<table border=\"1\" class=\"dataframe\">\n",
       "  <thead>\n",
       "    <tr style=\"text-align: right;\">\n",
       "      <th></th>\n",
       "      <th>TeamName</th>\n",
       "      <th>RuntimeLink</th>\n",
       "    </tr>\n",
       "  </thead>\n",
       "  <tbody>\n",
       "    <tr>\n",
       "      <th>0</th>\n",
       "      <td>Team 1</td>\n",
       "      <td>www.team1.com</td>\n",
       "    </tr>\n",
       "    <tr>\n",
       "      <th>1</th>\n",
       "      <td>Team 2</td>\n",
       "      <td>www.team2.com</td>\n",
       "    </tr>\n",
       "  </tbody>\n",
       "</table>\n",
       "</div>"
      ],
      "text/plain": [
       "  TeamName    RuntimeLink\n",
       "0   Team 1  www.team1.com\n",
       "1   Team 2  www.team2.com"
      ]
     },
     "execution_count": 3,
     "metadata": {},
     "output_type": "execute_result"
    }
   ],
   "source": [
    "# Returns all scrum teams and links to the runtimes of projects\n",
    "query = \"MATCH(n:SCRUM_TEAM) RETURN n.name AS TeamName, n.runtimelink AS RuntimeLink\"\n",
    "graph.run(query).to_data_frame()"
   ]
  },
  {
   "cell_type": "code",
   "execution_count": null,
   "id": "60cd213b",
   "metadata": {},
   "outputs": [
    {
     "data": {
      "text/html": [
       "<div>\n",
       "<style scoped>\n",
       "    .dataframe tbody tr th:only-of-type {\n",
       "        vertical-align: middle;\n",
       "    }\n",
       "\n",
       "    .dataframe tbody tr th {\n",
       "        vertical-align: top;\n",
       "    }\n",
       "\n",
       "    .dataframe thead th {\n",
       "        text-align: right;\n",
       "    }\n",
       "</style>\n",
       "<table border=\"1\" class=\"dataframe\">\n",
       "  <thead>\n",
       "    <tr style=\"text-align: right;\">\n",
       "      <th></th>\n",
       "      <th>Person</th>\n",
       "      <th>Job</th>\n",
       "    </tr>\n",
       "  </thead>\n",
       "  <tbody>\n",
       "    <tr>\n",
       "      <th>0</th>\n",
       "      <td>Doug</td>\n",
       "      <td>Deployment Manager</td>\n",
       "    </tr>\n",
       "    <tr>\n",
       "      <th>1</th>\n",
       "      <td>Carl</td>\n",
       "      <td>Technical Officer</td>\n",
       "    </tr>\n",
       "    <tr>\n",
       "      <th>2</th>\n",
       "      <td>Bob</td>\n",
       "      <td>Design Manager</td>\n",
       "    </tr>\n",
       "    <tr>\n",
       "      <th>3</th>\n",
       "      <td>Alice</td>\n",
       "      <td>Scrum Master</td>\n",
       "    </tr>\n",
       "  </tbody>\n",
       "</table>\n",
       "</div>"
      ],
      "text/plain": [
       "  Person                 Job\n",
       "0   Doug  Deployment Manager\n",
       "1   Carl   Technical Officer\n",
       "2    Bob      Design Manager\n",
       "3  Alice        Scrum Master"
      ]
     },
     "execution_count": 10,
     "metadata": {},
     "output_type": "execute_result"
    }
   ],
   "source": [
    "# Returns the people in Team 1 and their jobs\n",
    "query = \"MATCH(n1:PERSON)-[rel:IN_GROUP]->(n2:SCRUM_TEAM {name: \\\"Team 1\\\"}) RETURN n1.name AS Person, rel.Job AS Job\"\n",
    "graph.run(query).to_data_frame()"
   ]
  },
  {
   "cell_type": "code",
   "execution_count": null,
   "id": "4ec69adc",
   "metadata": {},
   "outputs": [
    {
     "data": {
      "text/html": [
       "<div>\n",
       "<style scoped>\n",
       "    .dataframe tbody tr th:only-of-type {\n",
       "        vertical-align: middle;\n",
       "    }\n",
       "\n",
       "    .dataframe tbody tr th {\n",
       "        vertical-align: top;\n",
       "    }\n",
       "\n",
       "    .dataframe thead th {\n",
       "        text-align: right;\n",
       "    }\n",
       "</style>\n",
       "<table border=\"1\" class=\"dataframe\">\n",
       "  <thead>\n",
       "    <tr style=\"text-align: right;\">\n",
       "      <th></th>\n",
       "      <th>Person</th>\n",
       "      <th>Job</th>\n",
       "    </tr>\n",
       "  </thead>\n",
       "  <tbody>\n",
       "    <tr>\n",
       "      <th>0</th>\n",
       "      <td>Henry</td>\n",
       "      <td>Design Manager</td>\n",
       "    </tr>\n",
       "    <tr>\n",
       "      <th>1</th>\n",
       "      <td>George</td>\n",
       "      <td>Technical Officer</td>\n",
       "    </tr>\n",
       "    <tr>\n",
       "      <th>2</th>\n",
       "      <td>Ferb</td>\n",
       "      <td>Deployment Manager</td>\n",
       "    </tr>\n",
       "    <tr>\n",
       "      <th>3</th>\n",
       "      <td>Eve</td>\n",
       "      <td>Scrum Master</td>\n",
       "    </tr>\n",
       "  </tbody>\n",
       "</table>\n",
       "</div>"
      ],
      "text/plain": [
       "   Person                 Job\n",
       "0   Henry      Design Manager\n",
       "1  George   Technical Officer\n",
       "2    Ferb  Deployment Manager\n",
       "3     Eve        Scrum Master"
      ]
     },
     "execution_count": 5,
     "metadata": {},
     "output_type": "execute_result"
    }
   ],
   "source": [
    "# Returns the people in Team 2 and their jobs\n",
    "query = \"MATCH(n1:PERSON)-[rel:IN_GROUP]->(n2:SCRUM_TEAM {name: \\\"Team 2\\\"}) RETURN n1.name AS Person, rel.Job AS Job\"\n",
    "graph.run(query).to_data_frame()"
   ]
  },
  {
   "cell_type": "markdown",
   "id": "613a919d",
   "metadata": {},
   "source": [
    "# The following cells show how to do CRUD operations\n",
    "\n",
    "You can do more than just query! To see your changes in effect, rerun the visualization in the third cell."
   ]
  },
  {
   "cell_type": "code",
   "execution_count": null,
   "id": "9862dc17",
   "metadata": {},
   "outputs": [],
   "source": [
    "# Create a node for a new person\n",
    "def CreatePerson(personName):\n",
    "    tx = graph.begin()\n",
    "    createdPerson = Node(\"PERSON\", name = personName)\n",
    "    tx.create(createdPerson)\n",
    "    graph.commit(tx)\n",
    "\n",
    "def CreatePersonTester():\n",
    "    n = input(\"Enter a person name: \")\n",
    "    CreatePerson(n)\n",
    "\n",
    "# Run the CreatePersonTester function to try creating a node. You should be able to find your new node!\n",
    "CreatePersonTester()"
   ]
  },
  {
   "cell_type": "code",
   "execution_count": null,
   "id": "854a545b",
   "metadata": {},
   "outputs": [],
   "source": [
    "# Update an existing node for a person by changing their name.\n",
    "# Note that this breaks with duplicate names. This is simply for demonstration purposes.\n",
    "# In a real application, you need to have a way to query by unique ID\n",
    "def UpdateAPerson(personName, newName):\n",
    "    graph.evaluate(\"MATCH (n:PERSON) WHERE n.name =\\\"\" + str(personName) + \"\\\" SET n.name=\\\"\" + str(newName) + \"\\\"\")\n",
    "\n",
    "def UpdateAPersonTester():\n",
    "    o = str(input(\"Enter the name you want to change: \"))\n",
    "    n = str(input(\"Enter the new name: \"))\n",
    "    UpdateAPerson(o, n)\n",
    "\n",
    "# Try updating the node that you created in the last code block!\n",
    "UpdateAPersonTester()"
   ]
  },
  {
   "cell_type": "code",
   "execution_count": null,
   "id": "af682a27",
   "metadata": {},
   "outputs": [],
   "source": [
    "# Delete an existing node for a person, based on name. \n",
    "# Note that this breaks with duplicate names. This is simply for demonstration purposes.\n",
    "def DeleteAPerson(personName):\n",
    "    node = graph.evaluate(\"MATCH (n:PERSON) WHERE n.name =\\\"\" + str(personName) + \"\\\" RETURN n\")\n",
    "    try:\n",
    "        graph.delete(node)\n",
    "    except:\n",
    "        return\n",
    "\n",
    "def DeleteAPersonTester():\n",
    "    x = str(input(\"Enter a person name: \"))\n",
    "    DeleteAPerson(x)\n",
    "\n",
    "# You can try deleting the node that you created by simply entering the person name\n",
    "DeleteAPersonTester()"
   ]
  },
  {
   "cell_type": "code",
   "execution_count": null,
   "id": "35be886b",
   "metadata": {
    "scrolled": false
   },
   "outputs": [
    {
     "name": "stdout",
     "output_type": "stream",
     "text": [
      "Enter the name you want to change: Among\n",
      "Enter the new name: Sahil\n"
     ]
    }
   ],
   "source": []
  },
  {
   "cell_type": "code",
   "execution_count": null,
   "id": "1243e07d",
   "metadata": {},
   "outputs": [],
   "source": []
  }
 ],
 "metadata": {
  "interpreter": {
   "hash": "aee8b7b246df8f9039afb4144a1f6fd8d2ca17a180786b69acc140d282b71a49"
  },
  "kernelspec": {
   "display_name": "Python 3.9.0 64-bit",
   "language": "python",
   "name": "python3"
  },
  "language_info": {
   "codemirror_mode": {
    "name": "ipython",
    "version": 3
   },
   "file_extension": ".py",
   "mimetype": "text/x-python",
   "name": "python",
   "nbconvert_exporter": "python",
   "pygments_lexer": "ipython3",
   "version": "3.9.0"
  },
  "vscode": {
   "interpreter": {
    "hash": "369f2c481f4da34e4445cda3fffd2e751bd1c4d706f27375911949ba6bb62e1c"
   }
  }
 },
 "nbformat": 4,
 "nbformat_minor": 5
}
