{
 "cells": [
  {
   "cell_type": "markdown",
   "metadata": {},
   "source": [
    "# Authentication\n",
    "\n",
    "This notebook is how we authenticate our Neo4j database to TACC! We do this using tapis, and more specifically the pods API. \n",
    "Pods are a tool which allow for simple creation of a Neo4j DBMS hosted at TACC simply through some basic commands.\n",
    "At a high level, we create a Tapis object associated with an individual account. Then, a pod is created under that username, with the Neo4j template. \n",
    "This pod has an associated username and password to connect to the DBMS. A simple command reveals this information. It is also straightforward to add in other users to have\n",
    "admin access to this pod. The pod has an associated bolt url, which can be connected to via a Neo4j API like py2neo in a jupyter notebook. It can also be connected to via the \n",
    "Neo4j browser. And that's it! The Neo4j database is hosted and requires authentication to TACC via Tapis!"
   ]
  },
  {
   "cell_type": "code",
   "execution_count": 13,
   "metadata": {},
   "outputs": [
    {
     "data": {
      "application/javascript": "var link = document.createElement(\"link\");\n\tlink.ref = \"stylesheet\";\n\tlink.type = \"text/css\";\n\tlink.href = \"https://cdnjs.cloudflare.com/ajax/libs/vis/4.8.2/vis.css\";\n\tdocument.head.appendChild(link);\nrequire.config({     paths: {         vis: '//cdnjs.cloudflare.com/ajax/libs/vis/4.8.2/vis.min'     } }); require(['vis'], function(vis) {  window.vis = vis; }); ",
      "text/plain": [
       "<IPython.core.display.Javascript object>"
      ]
     },
     "metadata": {},
     "output_type": "display_data"
    }
   ],
   "source": [
    "import os\n",
    "import py2neo\n",
    "import pandas\n",
    "import neo4jupyter\n",
    "neo4jupyter.init_notebook_mode()\n",
    "from py2neo import Graph, Node, Relationship\n",
    "from py2neo import GraphService\n",
    "import time\n",
    "import json\n",
    "import pprint as pp\n",
    "import requests as r\n",
    "import datetime\n",
    "from getpass import getpass\n",
    "from tapipy.tapis import Tapis\n",
    "import pytz\n",
    "\n",
    "def show(res):\n",
    "    try:\n",
    "        pp.pprint(res.json())\n",
    "    except:\n",
    "        pp.pprint(res.text)"
   ]
  },
  {
   "cell_type": "code",
   "execution_count": 3,
   "metadata": {},
   "outputs": [
    {
     "name": "stdout",
     "output_type": "stream",
     "text": [
      "8.53785252571106\n",
      "base_url: https://icicle.develop.tapis.io\n",
      "serv_url: https://icicle.develop.tapis.io/v3\n"
     ]
    }
   ],
   "source": [
    "start = time.time()\n",
    "\n",
    "# Base URL for Tapis\n",
    "base_url = \"https://icicle.develop.tapis.io\"\n",
    "username = str(input(\"username\"))\n",
    "\n",
    "# Get Tapis object if it isn't already created.\n",
    "try:\n",
    "    t\n",
    "    if t.base_url == base_url and t.username == username and t.access_token:\n",
    "        print(\"Tapis object already exists.\")\n",
    "        if t.access_token.expires_at < datetime.datetime.now(pytz.utc):\n",
    "            print(\"Existing Tapis token expired, getting new token.\")\n",
    "            raise\n",
    "    else:\n",
    "        print(\"Creating new Tapis object.\")\n",
    "        raise\n",
    "except:\n",
    "    try:\n",
    "        t = Tapis(base_url = base_url,\n",
    "                  username = username,\n",
    "                  password = getpass('password'))\n",
    "        t.get_tokens()\n",
    "    except Exception as e:\n",
    "        print(f\"\\nBROKEN! timeout: {time.time() - start}\\n\")\n",
    "        raise\n",
    "\n",
    "# V3 Headers\n",
    "header_dat = {\"X-Tapis-token\": t.access_token.access_token,\n",
    "              \"Content-Type\": \"application/json\"}\n",
    "\n",
    "# Service URL\n",
    "url = f\"{base_url}/v3\"                   # remote\n",
    "\n",
    "print(time.time() - start)\n",
    "print(f\"base_url: {base_url}\")\n",
    "print(f\"serv_url: {url}\")"
   ]
  },
  {
   "cell_type": "code",
   "execution_count": 4,
   "metadata": {},
   "outputs": [
    {
     "data": {
      "text/plain": [
       "[\n",
       " creation_ts: None\n",
       " data_attached: []\n",
       " data_requests: []\n",
       " description: The pod for the REHS final KG\n",
       " environment_variables: \n",
       " \n",
       " pod_id: finalkg\n",
       " pod_template: neo4j\n",
       " roles_inherited: []\n",
       " roles_required: []\n",
       " status: RUNNING\n",
       " status_container: \n",
       " message: Pod is running.\n",
       " phase: Running\n",
       " start_time: 2022-07-29 20:20:36+00:00\n",
       " status_requested: ON\n",
       " update_ts: None\n",
       " url: finalkg.pods.icicle.develop.tapis.io]"
      ]
     },
     "execution_count": 4,
     "metadata": {},
     "output_type": "execute_result"
    }
   ],
   "source": [
    "# Returns all of the pods registered to the account. \n",
    "t.pods.get_pods()"
   ]
  },
  {
   "cell_type": "code",
   "execution_count": 5,
   "metadata": {},
   "outputs": [],
   "source": [
    "# Used to reference the pod\n",
    "pod_id = str(input(\"Enter a pod ID\")).lower()"
   ]
  },
  {
   "cell_type": "code",
   "execution_count": 8,
   "metadata": {},
   "outputs": [],
   "source": [
    "# Use neo4j to create a pod for a neo4j DBMS\n",
    "pod_template = str(input(\"enter a pod template (enter neo4j)\"))"
   ]
  },
  {
   "cell_type": "code",
   "execution_count": 9,
   "metadata": {},
   "outputs": [],
   "source": [
    "# Describe the pod\n",
    "pod_description = str(input(\"enter a pod description\"))"
   ]
  },
  {
   "cell_type": "code",
   "execution_count": 10,
   "metadata": {},
   "outputs": [
    {
     "data": {
      "text/plain": [
       "\n",
       "creation_ts: None\n",
       "data_attached: []\n",
       "data_requests: []\n",
       "description: sample description\n",
       "environment_variables: \n",
       "\n",
       "pod_id: michaelraytesting\n",
       "pod_template: neo4j\n",
       "roles_inherited: []\n",
       "roles_required: []\n",
       "status: REQUESTED\n",
       "status_container: \n",
       "\n",
       "status_requested: ON\n",
       "update_ts: None\n",
       "url: michaelraytesting.pods.icicle.develop.tapis.io"
      ]
     },
     "execution_count": 10,
     "metadata": {},
     "output_type": "execute_result"
    }
   ],
   "source": [
    "# Run this to create the pod\n",
    "t.pods.create_pod(pod_id=pod_id, pod_template=pod_template, description=pod_description)"
   ]
  },
  {
   "cell_type": "code",
   "execution_count": 27,
   "metadata": {},
   "outputs": [
    {
     "data": {
      "text/plain": [
       "\n",
       "permissions: ['ad1616:ADMIN', 'jackkarp:ADMIN', 'mkyzubr:ADMIN', 'archita:ADMIN', 'tg882699:ADMIN']"
      ]
     },
     "execution_count": 27,
     "metadata": {},
     "output_type": "execute_result"
    }
   ],
   "source": [
    "# Setting permissions \n",
    "t.pods.set_pod_permission(pod_id=pod_id, user=\"jackkarp\", level=\"ADMIN\")\n",
    "t.pods.set_pod_permission(pod_id=pod_id, user=\"mkyzubr\", level=\"ADMIN\")\n",
    "t.pods.set_pod_permission(pod_id=pod_id, user=\"archita\", level=\"ADMIN\")\n",
    "t.pods.set_pod_permission(pod_id=pod_id, user=\"tg882699\", level=\"ADMIN\")"
   ]
  },
  {
   "cell_type": "code",
   "execution_count": 6,
   "metadata": {},
   "outputs": [
    {
     "name": "stdout",
     "output_type": "stream",
     "text": [
      "finalkg\n",
      "fUoHDk52jdbmHEuWs52lnqkyn8SFk9\n"
     ]
    }
   ],
   "source": [
    "# Setting username and password for authentication\n",
    "username, password = t.pods.get_pod_credentials(pod_id=pod_id).user_username, t.pods.get_pod_credentials(pod_id=pod_id).user_password\n",
    "print(username)\n",
    "print(password)"
   ]
  },
  {
   "cell_type": "code",
   "execution_count": 21,
   "metadata": {},
   "outputs": [],
   "source": [
    "# Testing connection to the bolt service\n",
    "graph = Graph(f\"bolt+ssc://{pod_id}.pods.icicle.develop.tapis.io:443\", auth=(username, password), secure=True, verify=True)"
   ]
  },
  {
   "cell_type": "code",
   "execution_count": 22,
   "metadata": {},
   "outputs": [
    {
     "data": {
      "text/html": [
       "<div>\n",
       "<style scoped>\n",
       "    .dataframe tbody tr th:only-of-type {\n",
       "        vertical-align: middle;\n",
       "    }\n",
       "\n",
       "    .dataframe tbody tr th {\n",
       "        vertical-align: top;\n",
       "    }\n",
       "\n",
       "    .dataframe thead th {\n",
       "        text-align: right;\n",
       "    }\n",
       "</style>\n",
       "<table border=\"1\" class=\"dataframe\">\n",
       "  <thead>\n",
       "    <tr style=\"text-align: right;\">\n",
       "      <th></th>\n",
       "      <th>n</th>\n",
       "    </tr>\n",
       "  </thead>\n",
       "  <tbody>\n",
       "    <tr>\n",
       "      <th>0</th>\n",
       "      <td>{'name': 'node 1'}</td>\n",
       "    </tr>\n",
       "    <tr>\n",
       "      <th>1</th>\n",
       "      <td>{'name': 'node 2'}</td>\n",
       "    </tr>\n",
       "    <tr>\n",
       "      <th>2</th>\n",
       "      <td>{'name': 'node 3'}</td>\n",
       "    </tr>\n",
       "    <tr>\n",
       "      <th>3</th>\n",
       "      <td>{'name': 'node 4'}</td>\n",
       "    </tr>\n",
       "  </tbody>\n",
       "</table>\n",
       "</div>"
      ],
      "text/plain": [
       "                    n\n",
       "0  {'name': 'node 1'}\n",
       "1  {'name': 'node 2'}\n",
       "2  {'name': 'node 3'}\n",
       "3  {'name': 'node 4'}"
      ]
     },
     "execution_count": 22,
     "metadata": {},
     "output_type": "execute_result"
    }
   ],
   "source": [
    "# Further testing connection via query\n",
    "query = \"MATCH(n) RETURN n\"\n",
    "graph.run(query).to_data_frame()"
   ]
  },
  {
   "cell_type": "code",
   "execution_count": 19,
   "metadata": {},
   "outputs": [
    {
     "data": {
      "text/html": [
       "<div id=\"9b1baaa0-cba7-4329-8d02-539e85e0e939\" style=\"height: 400px;\"></div>\n",
       "\n",
       "<script type=\"text/javascript\">\n",
       "\n",
       "    var nodes = [{\"id\": 1, \"label\": \"node 2\", \"group\": \"Category1\", \"title\": \"Node('Category1', name='node 2')\"}, {\"id\": 2, \"label\": \"node 3\", \"group\": \"Category2\", \"title\": \"Node('Category2', name='node 3')\"}, {\"id\": 3, \"label\": \"node 4\", \"group\": \"Category2\", \"title\": \"Node('Category2', name='node 4')\"}, {\"id\": 0, \"label\": \"node 1\", \"group\": \"Category1\", \"title\": \"Node('Category1', name='node 1')\"}];\n",
       "    var edges = [];\n",
       "\n",
       "    var container = document.getElementById(\"9b1baaa0-cba7-4329-8d02-539e85e0e939\");\n",
       "\n",
       "    var data = {\n",
       "        nodes: nodes,\n",
       "        edges: edges\n",
       "    };\n",
       "\n",
       "    var options = {\n",
       "    nodes: {\n",
       "        shape: 'dot',\n",
       "        size: 25,\n",
       "        font: {\n",
       "            size: 14\n",
       "        }\n",
       "    },\n",
       "    edges: {\n",
       "        font: {\n",
       "            size: 14,\n",
       "            align: 'middle'\n",
       "        },\n",
       "        color: 'gray',\n",
       "        arrows: {\n",
       "            to: {\n",
       "                enabled: true,\n",
       "                scaleFactor: 0.5\n",
       "            }\n",
       "        },\n",
       "        smooth: {\n",
       "            enabled: false\n",
       "        }\n",
       "    },\n",
       "    physics: {\n",
       "        enabled: true\n",
       "        }\n",
       "    };\n",
       "\n",
       "    var network = new vis.Network(container, data, options);\n",
       "\n",
       "</script>\n"
      ],
      "text/plain": [
       "<IPython.core.display.HTML object>"
      ]
     },
     "execution_count": 19,
     "metadata": {},
     "output_type": "execute_result"
    }
   ],
   "source": [
    "# Test visualization of test nodes\n",
    "neo4jupyter.draw(graph, {\"Category1\" : \"name\", \"Category2\" : \"name\"})"
   ]
  }
 ],
 "metadata": {
  "kernelspec": {
   "display_name": "Python 3.10.1 64-bit",
   "language": "python",
   "name": "python3"
  },
  "language_info": {
   "codemirror_mode": {
    "name": "ipython",
    "version": 3
   },
   "file_extension": ".py",
   "mimetype": "text/x-python",
   "name": "python",
   "nbconvert_exporter": "python",
   "pygments_lexer": "ipython3",
   "version": "3.10.1"
  },
  "orig_nbformat": 4,
  "vscode": {
   "interpreter": {
    "hash": "26de051ba29f2982a8de78e945f0abaf191376122a1563185a90213a26c5da77"
   }
  }
 },
 "nbformat": 4,
 "nbformat_minor": 2
}
