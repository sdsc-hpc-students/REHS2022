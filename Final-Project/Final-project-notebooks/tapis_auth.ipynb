{
 "cells": [
  {
   "cell_type": "code",
   "execution_count": 2,
   "metadata": {},
   "outputs": [],
   "source": [
    "import os\n",
    "import py2neo\n",
    "from py2neo import Graph, Node, Relationship\n",
    "from py2neo import GraphService\n",
    "import time\n",
    "import json\n",
    "import pprint as pp\n",
    "import requests as r\n",
    "import datetime\n",
    "from getpass import getpass\n",
    "from tapipy.tapis import Tapis\n",
    "import pytz\n",
    "\n",
    "def show(res):\n",
    "    try:\n",
    "        pp.pprint(res.json())\n",
    "    except:\n",
    "        pp.pprint(res.text)"
   ]
  },
  {
   "cell_type": "code",
   "execution_count": 5,
   "metadata": {},
   "outputs": [
    {
     "name": "stdout",
     "output_type": "stream",
     "text": [
      "8.526758909225464\n",
      "base_url: https://icicle.develop.tapis.io\n",
      "serv_url: https://icicle.develop.tapis.io/v3\n"
     ]
    }
   ],
   "source": [
    "start = time.time()\n",
    "\n",
    "# Base URL for Tapis\n",
    "base_url = \"https://icicle.develop.tapis.io\"\n",
    "username = \"ad1616\"\n",
    "\n",
    "# Get Tapis object if it isn't already created.\n",
    "try:\n",
    "    t\n",
    "    if t.base_url == base_url and t.username == username and t.access_token:\n",
    "        print(\"Tapis object already exists.\")\n",
    "        if t.access_token.expires_at < datetime.datetime.now(pytz.utc):\n",
    "            print(\"Existing Tapis token expired, getting new token.\")\n",
    "            raise\n",
    "    else:\n",
    "        print(\"Creating new Tapis object.\")\n",
    "        raise\n",
    "except:\n",
    "    try:\n",
    "        t = Tapis(base_url = base_url,\n",
    "                  username = username,\n",
    "                  password = getpass('password'))\n",
    "        t.get_tokens()\n",
    "    except Exception as e:\n",
    "        print(f\"\\nBROKEN! timeout: {time.time() - start}\\n\")\n",
    "        raise\n",
    "\n",
    "# V3 Headers\n",
    "header_dat = {\"X-Tapis-token\": t.access_token.access_token,\n",
    "              \"Content-Type\": \"application/json\"}\n",
    "\n",
    "# Service URL\n",
    "url = f\"{base_url}/v3\"                   # remote\n",
    "\n",
    "print(time.time() - start)\n",
    "print(f\"base_url: {base_url}\")\n",
    "print(f\"serv_url: {url}\")"
   ]
  },
  {
   "cell_type": "code",
   "execution_count": 6,
   "metadata": {},
   "outputs": [
    {
     "data": {
      "text/plain": [
       "[\n",
       " creation_ts: None\n",
       " data_attached: []\n",
       " data_requests: []\n",
       " description: The pod for the REHS final KG\n",
       " environment_variables: \n",
       " \n",
       " pod_id: finalkg\n",
       " pod_template: neo4j\n",
       " roles_inherited: []\n",
       " roles_required: []\n",
       " status: RUNNING\n",
       " status_container: \n",
       " message: Pod is running.\n",
       " phase: Running\n",
       " start_time: 2022-07-29 20:20:36+00:00\n",
       " status_requested: ON\n",
       " update_ts: None\n",
       " url: finalkg.pods.icicle.develop.tapis.io]"
      ]
     },
     "execution_count": 6,
     "metadata": {},
     "output_type": "execute_result"
    }
   ],
   "source": [
    "t.pods.get_pods()"
   ]
  },
  {
   "cell_type": "code",
   "execution_count": 37,
   "metadata": {},
   "outputs": [],
   "source": [
    "pod_id = \"finalkg\""
   ]
  },
  {
   "cell_type": "code",
   "execution_count": 38,
   "metadata": {},
   "outputs": [
    {
     "data": {
      "text/plain": [
       "\n",
       "creation_ts: None\n",
       "data_attached: []\n",
       "data_requests: []\n",
       "description: The pod for the REHS final KG\n",
       "environment_variables: \n",
       "\n",
       "pod_id: finalkg\n",
       "pod_template: neo4j\n",
       "roles_inherited: []\n",
       "roles_required: []\n",
       "status: REQUESTED\n",
       "status_container: \n",
       "\n",
       "status_requested: ON\n",
       "update_ts: None\n",
       "url: finalkg.pods.icicle.develop.tapis.io"
      ]
     },
     "execution_count": 38,
     "metadata": {},
     "output_type": "execute_result"
    }
   ],
   "source": [
    "t.pods.create_pod(pod_id=pod_id, pod_template='neo4j', description='The pod for the REHS final KG')\n"
   ]
  },
  {
   "cell_type": "code",
   "execution_count": 39,
   "metadata": {},
   "outputs": [
    {
     "data": {
      "text/plain": [
       "\n",
       "user_password: fUoHDk52jdbmHEuWs52lnqkyn8SFk9\n",
       "user_username: finalkg"
      ]
     },
     "execution_count": 39,
     "metadata": {},
     "output_type": "execute_result"
    }
   ],
   "source": [
    "t.pods.get_pod_credentials(pod_id=pod_id)"
   ]
  },
  {
   "cell_type": "code",
   "execution_count": 7,
   "metadata": {},
   "outputs": [
    {
     "ename": "ConnectionUnavailable",
     "evalue": "Cannot open connection to ConnectionProfile('bolt+s://finalkg.pods.icicle.develop.tapis.io:443')",
     "output_type": "error",
     "traceback": [
      "\u001b[0;31m---------------------------------------------------------------------------\u001b[0m",
      "\u001b[0;31mIndexError\u001b[0m                                Traceback (most recent call last)",
      "File \u001b[0;32m/Library/Frameworks/Python.framework/Versions/3.10/lib/python3.10/site-packages/py2neo/client/__init__.py:806\u001b[0m, in \u001b[0;36mConnectionPool.acquire\u001b[0;34m(self, force_reset, can_overfill)\u001b[0m\n\u001b[1;32m    804\u001b[0m \u001b[39mtry\u001b[39;00m:\n\u001b[1;32m    805\u001b[0m     \u001b[39m# Plan A: select a free connection from the pool\u001b[39;00m\n\u001b[0;32m--> 806\u001b[0m     cx \u001b[39m=\u001b[39m \u001b[39mself\u001b[39;49m\u001b[39m.\u001b[39;49m_free_list\u001b[39m.\u001b[39;49mpopleft()\n\u001b[1;32m    807\u001b[0m \u001b[39mexcept\u001b[39;00m \u001b[39mIndexError\u001b[39;00m:\n",
      "\u001b[0;31mIndexError\u001b[0m: pop from an empty deque",
      "\nDuring handling of the above exception, another exception occurred:\n",
      "\u001b[0;31mSSLCertVerificationError\u001b[0m                  Traceback (most recent call last)",
      "File \u001b[0;32m/Library/Frameworks/Python.framework/Versions/3.10/lib/python3.10/site-packages/py2neo/wiring.py:99\u001b[0m, in \u001b[0;36mWire.secure\u001b[0;34m(self, verify, hostname)\u001b[0m\n\u001b[1;32m     98\u001b[0m \u001b[39mtry\u001b[39;00m:\n\u001b[0;32m---> 99\u001b[0m     \u001b[39mself\u001b[39m\u001b[39m.\u001b[39m__socket \u001b[39m=\u001b[39m context\u001b[39m.\u001b[39;49mwrap_socket(\u001b[39mself\u001b[39;49m\u001b[39m.\u001b[39;49m__socket, server_hostname\u001b[39m=\u001b[39;49mhostname)\n\u001b[1;32m    100\u001b[0m \u001b[39mexcept\u001b[39;00m (\u001b[39mIOError\u001b[39;00m, \u001b[39mOSError\u001b[39;00m) \u001b[39mas\u001b[39;00m error:\n\u001b[1;32m    101\u001b[0m     \u001b[39m# TODO: add connection failure/diagnostic callback\u001b[39;00m\n",
      "File \u001b[0;32m/Library/Frameworks/Python.framework/Versions/3.10/lib/python3.10/ssl.py:513\u001b[0m, in \u001b[0;36mSSLContext.wrap_socket\u001b[0;34m(self, sock, server_side, do_handshake_on_connect, suppress_ragged_eofs, server_hostname, session)\u001b[0m\n\u001b[1;32m    507\u001b[0m \u001b[39mdef\u001b[39;00m \u001b[39mwrap_socket\u001b[39m(\u001b[39mself\u001b[39m, sock, server_side\u001b[39m=\u001b[39m\u001b[39mFalse\u001b[39;00m,\n\u001b[1;32m    508\u001b[0m                 do_handshake_on_connect\u001b[39m=\u001b[39m\u001b[39mTrue\u001b[39;00m,\n\u001b[1;32m    509\u001b[0m                 suppress_ragged_eofs\u001b[39m=\u001b[39m\u001b[39mTrue\u001b[39;00m,\n\u001b[1;32m    510\u001b[0m                 server_hostname\u001b[39m=\u001b[39m\u001b[39mNone\u001b[39;00m, session\u001b[39m=\u001b[39m\u001b[39mNone\u001b[39;00m):\n\u001b[1;32m    511\u001b[0m     \u001b[39m# SSLSocket class handles server_hostname encoding before it calls\u001b[39;00m\n\u001b[1;32m    512\u001b[0m     \u001b[39m# ctx._wrap_socket()\u001b[39;00m\n\u001b[0;32m--> 513\u001b[0m     \u001b[39mreturn\u001b[39;00m \u001b[39mself\u001b[39;49m\u001b[39m.\u001b[39;49msslsocket_class\u001b[39m.\u001b[39;49m_create(\n\u001b[1;32m    514\u001b[0m         sock\u001b[39m=\u001b[39;49msock,\n\u001b[1;32m    515\u001b[0m         server_side\u001b[39m=\u001b[39;49mserver_side,\n\u001b[1;32m    516\u001b[0m         do_handshake_on_connect\u001b[39m=\u001b[39;49mdo_handshake_on_connect,\n\u001b[1;32m    517\u001b[0m         suppress_ragged_eofs\u001b[39m=\u001b[39;49msuppress_ragged_eofs,\n\u001b[1;32m    518\u001b[0m         server_hostname\u001b[39m=\u001b[39;49mserver_hostname,\n\u001b[1;32m    519\u001b[0m         context\u001b[39m=\u001b[39;49m\u001b[39mself\u001b[39;49m,\n\u001b[1;32m    520\u001b[0m         session\u001b[39m=\u001b[39;49msession\n\u001b[1;32m    521\u001b[0m     )\n",
      "File \u001b[0;32m/Library/Frameworks/Python.framework/Versions/3.10/lib/python3.10/ssl.py:1071\u001b[0m, in \u001b[0;36mSSLSocket._create\u001b[0;34m(cls, sock, server_side, do_handshake_on_connect, suppress_ragged_eofs, server_hostname, context, session)\u001b[0m\n\u001b[1;32m   1070\u001b[0m             \u001b[39mraise\u001b[39;00m \u001b[39mValueError\u001b[39;00m(\u001b[39m\"\u001b[39m\u001b[39mdo_handshake_on_connect should not be specified for non-blocking sockets\u001b[39m\u001b[39m\"\u001b[39m)\n\u001b[0;32m-> 1071\u001b[0m         \u001b[39mself\u001b[39;49m\u001b[39m.\u001b[39;49mdo_handshake()\n\u001b[1;32m   1072\u001b[0m \u001b[39mexcept\u001b[39;00m (\u001b[39mOSError\u001b[39;00m, \u001b[39mValueError\u001b[39;00m):\n",
      "File \u001b[0;32m/Library/Frameworks/Python.framework/Versions/3.10/lib/python3.10/ssl.py:1342\u001b[0m, in \u001b[0;36mSSLSocket.do_handshake\u001b[0;34m(self, block)\u001b[0m\n\u001b[1;32m   1341\u001b[0m         \u001b[39mself\u001b[39m\u001b[39m.\u001b[39msettimeout(\u001b[39mNone\u001b[39;00m)\n\u001b[0;32m-> 1342\u001b[0m     \u001b[39mself\u001b[39;49m\u001b[39m.\u001b[39;49m_sslobj\u001b[39m.\u001b[39;49mdo_handshake()\n\u001b[1;32m   1343\u001b[0m \u001b[39mfinally\u001b[39;00m:\n",
      "\u001b[0;31mSSLCertVerificationError\u001b[0m: [SSL: CERTIFICATE_VERIFY_FAILED] certificate verify failed: self signed certificate in certificate chain (_ssl.c:997)",
      "\nDuring handling of the above exception, another exception occurred:\n",
      "\u001b[0;31mWireError\u001b[0m                                 Traceback (most recent call last)",
      "File \u001b[0;32m/Library/Frameworks/Python.framework/Versions/3.10/lib/python3.10/site-packages/py2neo/client/bolt.py:355\u001b[0m, in \u001b[0;36mBolt.open\u001b[0;34m(cls, profile, user_agent, on_release, on_broken)\u001b[0m\n\u001b[1;32m    354\u001b[0m \u001b[39mtry\u001b[39;00m:\n\u001b[0;32m--> 355\u001b[0m     wire \u001b[39m=\u001b[39m \u001b[39mcls\u001b[39;49m\u001b[39m.\u001b[39;49m_connect(profile, on_broken\u001b[39m=\u001b[39;49mon_broken)\n\u001b[1;32m    356\u001b[0m     protocol_version \u001b[39m=\u001b[39m \u001b[39mcls\u001b[39m\u001b[39m.\u001b[39m_handshake(wire)\n",
      "File \u001b[0;32m/Library/Frameworks/Python.framework/Versions/3.10/lib/python3.10/site-packages/py2neo/client/bolt.py:374\u001b[0m, in \u001b[0;36mBolt._connect\u001b[0;34m(cls, profile, on_broken)\u001b[0m\n\u001b[1;32m    373\u001b[0m     log\u001b[39m.\u001b[39mdebug(\u001b[39m\"\u001b[39m\u001b[39m[#\u001b[39m\u001b[39m%04X\u001b[39;00m\u001b[39m] C: (Securing connection)\u001b[39m\u001b[39m\"\u001b[39m, local_port)\n\u001b[0;32m--> 374\u001b[0m     wire\u001b[39m.\u001b[39;49msecure(verify\u001b[39m=\u001b[39;49mprofile\u001b[39m.\u001b[39;49mverify, hostname\u001b[39m=\u001b[39;49mprofile\u001b[39m.\u001b[39;49mhost)\n\u001b[1;32m    375\u001b[0m \u001b[39mreturn\u001b[39;00m wire\n",
      "File \u001b[0;32m/Library/Frameworks/Python.framework/Versions/3.10/lib/python3.10/site-packages/py2neo/wiring.py:106\u001b[0m, in \u001b[0;36mWire.secure\u001b[0;34m(self, verify, hostname)\u001b[0m\n\u001b[1;32m    105\u001b[0m     \u001b[39melse\u001b[39;00m:\n\u001b[0;32m--> 106\u001b[0m         \u001b[39mraise\u001b[39;00m WireError(\u001b[39m\"\u001b[39m\u001b[39mUnable to establish secure connection with remote peer\u001b[39m\u001b[39m\"\u001b[39m)\n\u001b[1;32m    107\u001b[0m \u001b[39melse\u001b[39;00m:\n",
      "\u001b[0;31mWireError\u001b[0m: Unable to establish secure connection with remote peer",
      "\nThe above exception was the direct cause of the following exception:\n",
      "\u001b[0;31mConnectionUnavailable\u001b[0m                     Traceback (most recent call last)",
      "\u001b[1;32m/Users/sahilsamar/GithubRepositories/REHS2022/Final-Project/Final-project-notebooks/tapis_auth.ipynb Cell 7\u001b[0m in \u001b[0;36m<cell line: 1>\u001b[0;34m()\u001b[0m\n\u001b[0;32m----> <a href='vscode-notebook-cell:/Users/sahilsamar/GithubRepositories/REHS2022/Final-Project/Final-project-notebooks/tapis_auth.ipynb#ch0000006?line=0'>1</a>\u001b[0m graph \u001b[39m=\u001b[39m Graph(\u001b[39m\"\u001b[39;49m\u001b[39mbolt+s://finalkg.pods.icicle.develop.tapis.io:443\u001b[39;49m\u001b[39m\"\u001b[39;49m, auth\u001b[39m=\u001b[39;49m(\u001b[39m\"\u001b[39;49m\u001b[39mfinalkg\u001b[39;49m\u001b[39m\"\u001b[39;49m, \u001b[39m\"\u001b[39;49m\u001b[39mfUoHDk52jdbmHEuWs52lnqkyn8SFk9\u001b[39;49m\u001b[39m\"\u001b[39;49m), secure\u001b[39m=\u001b[39;49m\u001b[39mTrue\u001b[39;49;00m, verify\u001b[39m=\u001b[39;49m\u001b[39mTrue\u001b[39;49;00m)\n",
      "File \u001b[0;32m/Library/Frameworks/Python.framework/Versions/3.10/lib/python3.10/site-packages/py2neo/database.py:288\u001b[0m, in \u001b[0;36mGraph.__init__\u001b[0;34m(self, profile, name, **settings)\u001b[0m\n\u001b[1;32m    287\u001b[0m \u001b[39mdef\u001b[39;00m \u001b[39m__init__\u001b[39m(\u001b[39mself\u001b[39m, profile\u001b[39m=\u001b[39m\u001b[39mNone\u001b[39;00m, name\u001b[39m=\u001b[39m\u001b[39mNone\u001b[39;00m, \u001b[39m*\u001b[39m\u001b[39m*\u001b[39msettings):\n\u001b[0;32m--> 288\u001b[0m     \u001b[39mself\u001b[39m\u001b[39m.\u001b[39mservice \u001b[39m=\u001b[39m GraphService(profile, \u001b[39m*\u001b[39;49m\u001b[39m*\u001b[39;49msettings)\n\u001b[1;32m    289\u001b[0m     \u001b[39mself\u001b[39m\u001b[39m.\u001b[39m\u001b[39m__name__\u001b[39m \u001b[39m=\u001b[39m name\n\u001b[1;32m    290\u001b[0m     \u001b[39mself\u001b[39m\u001b[39m.\u001b[39mschema \u001b[39m=\u001b[39m Schema(\u001b[39mself\u001b[39m)\n",
      "File \u001b[0;32m/Library/Frameworks/Python.framework/Versions/3.10/lib/python3.10/site-packages/py2neo/database.py:119\u001b[0m, in \u001b[0;36mGraphService.__init__\u001b[0;34m(self, profile, **settings)\u001b[0m\n\u001b[1;32m    116\u001b[0m \u001b[39mif\u001b[39;00m connector_settings[\u001b[39m\"\u001b[39m\u001b[39minit_size\u001b[39m\u001b[39m\"\u001b[39m] \u001b[39mis\u001b[39;00m \u001b[39mNone\u001b[39;00m \u001b[39mand\u001b[39;00m \u001b[39mnot\u001b[39;00m profile\u001b[39m.\u001b[39mrouting:\n\u001b[1;32m    117\u001b[0m     \u001b[39m# Ensures credentials are checked on construction\u001b[39;00m\n\u001b[1;32m    118\u001b[0m     connector_settings[\u001b[39m\"\u001b[39m\u001b[39minit_size\u001b[39m\u001b[39m\"\u001b[39m] \u001b[39m=\u001b[39m \u001b[39m1\u001b[39m\n\u001b[0;32m--> 119\u001b[0m \u001b[39mself\u001b[39m\u001b[39m.\u001b[39m_connector \u001b[39m=\u001b[39m Connector(profile, \u001b[39m*\u001b[39;49m\u001b[39m*\u001b[39;49mconnector_settings)\n\u001b[1;32m    120\u001b[0m \u001b[39mself\u001b[39m\u001b[39m.\u001b[39m_graphs \u001b[39m=\u001b[39m {}\n",
      "File \u001b[0;32m/Library/Frameworks/Python.framework/Versions/3.10/lib/python3.10/site-packages/py2neo/client/__init__.py:960\u001b[0m, in \u001b[0;36mConnector.__init__\u001b[0;34m(self, profile, user_agent, init_size, max_size, max_age, routing_refresh_ttl)\u001b[0m\n\u001b[1;32m    958\u001b[0m \u001b[39melse\u001b[39;00m:\n\u001b[1;32m    959\u001b[0m     \u001b[39mself\u001b[39m\u001b[39m.\u001b[39m_router \u001b[39m=\u001b[39m \u001b[39mNone\u001b[39;00m\n\u001b[0;32m--> 960\u001b[0m \u001b[39mself\u001b[39;49m\u001b[39m.\u001b[39;49m_add_pools(\u001b[39m*\u001b[39;49m\u001b[39mself\u001b[39;49m\u001b[39m.\u001b[39;49m_initial_routers)\n",
      "File \u001b[0;32m/Library/Frameworks/Python.framework/Versions/3.10/lib/python3.10/site-packages/py2neo/client/__init__.py:982\u001b[0m, in \u001b[0;36mConnector._add_pools\u001b[0;34m(self, *profiles)\u001b[0m\n\u001b[1;32m    980\u001b[0m     \u001b[39mcontinue\u001b[39;00m\n\u001b[1;32m    981\u001b[0m log\u001b[39m.\u001b[39mdebug(\u001b[39m\"\u001b[39m\u001b[39mAdding connection pool for profile \u001b[39m\u001b[39m%r\u001b[39;00m\u001b[39m\"\u001b[39m, profile)\n\u001b[0;32m--> 982\u001b[0m pool \u001b[39m=\u001b[39m ConnectionPool\u001b[39m.\u001b[39;49mopen(\n\u001b[1;32m    983\u001b[0m     profile,\n\u001b[1;32m    984\u001b[0m     user_agent\u001b[39m=\u001b[39;49m\u001b[39mself\u001b[39;49m\u001b[39m.\u001b[39;49m_user_agent,\n\u001b[1;32m    985\u001b[0m     init_size\u001b[39m=\u001b[39;49m\u001b[39mself\u001b[39;49m\u001b[39m.\u001b[39;49m_init_size,\n\u001b[1;32m    986\u001b[0m     max_size\u001b[39m=\u001b[39;49m\u001b[39mself\u001b[39;49m\u001b[39m.\u001b[39;49m_max_size,\n\u001b[1;32m    987\u001b[0m     max_age\u001b[39m=\u001b[39;49m\u001b[39mself\u001b[39;49m\u001b[39m.\u001b[39;49m_max_age,\n\u001b[1;32m    988\u001b[0m     on_broken\u001b[39m=\u001b[39;49m\u001b[39mself\u001b[39;49m\u001b[39m.\u001b[39;49m_on_broken)\n\u001b[1;32m    989\u001b[0m \u001b[39mself\u001b[39m\u001b[39m.\u001b[39m_pools[profile] \u001b[39m=\u001b[39m pool\n",
      "File \u001b[0;32m/Library/Frameworks/Python.framework/Versions/3.10/lib/python3.10/site-packages/py2neo/client/__init__.py:649\u001b[0m, in \u001b[0;36mConnectionPool.open\u001b[0;34m(cls, profile, user_agent, init_size, max_size, max_age, on_broken)\u001b[0m\n\u001b[1;32m    627\u001b[0m \u001b[39m\"\"\" Create a new connection pool, with an option to seed one\u001b[39;00m\n\u001b[1;32m    628\u001b[0m \u001b[39mor more initial connections.\u001b[39;00m\n\u001b[1;32m    629\u001b[0m \n\u001b[0;32m   (...)\u001b[0m\n\u001b[1;32m    646\u001b[0m \u001b[39m    scheme\u001b[39;00m\n\u001b[1;32m    647\u001b[0m \u001b[39m\"\"\"\u001b[39;00m\n\u001b[1;32m    648\u001b[0m pool \u001b[39m=\u001b[39m \u001b[39mcls\u001b[39m(profile, user_agent, max_size, max_age, on_broken)\n\u001b[0;32m--> 649\u001b[0m seeds \u001b[39m=\u001b[39m [pool\u001b[39m.\u001b[39macquire() \u001b[39mfor\u001b[39;00m _ \u001b[39min\u001b[39;00m \u001b[39mrange\u001b[39m(init_size \u001b[39mor\u001b[39;00m \u001b[39mcls\u001b[39m\u001b[39m.\u001b[39mdefault_init_size)]\n\u001b[1;32m    650\u001b[0m \u001b[39mfor\u001b[39;00m seed \u001b[39min\u001b[39;00m seeds:\n\u001b[1;32m    651\u001b[0m     seed\u001b[39m.\u001b[39mrelease()\n",
      "File \u001b[0;32m/Library/Frameworks/Python.framework/Versions/3.10/lib/python3.10/site-packages/py2neo/client/__init__.py:649\u001b[0m, in \u001b[0;36m<listcomp>\u001b[0;34m(.0)\u001b[0m\n\u001b[1;32m    627\u001b[0m \u001b[39m\"\"\" Create a new connection pool, with an option to seed one\u001b[39;00m\n\u001b[1;32m    628\u001b[0m \u001b[39mor more initial connections.\u001b[39;00m\n\u001b[1;32m    629\u001b[0m \n\u001b[0;32m   (...)\u001b[0m\n\u001b[1;32m    646\u001b[0m \u001b[39m    scheme\u001b[39;00m\n\u001b[1;32m    647\u001b[0m \u001b[39m\"\"\"\u001b[39;00m\n\u001b[1;32m    648\u001b[0m pool \u001b[39m=\u001b[39m \u001b[39mcls\u001b[39m(profile, user_agent, max_size, max_age, on_broken)\n\u001b[0;32m--> 649\u001b[0m seeds \u001b[39m=\u001b[39m [pool\u001b[39m.\u001b[39;49macquire() \u001b[39mfor\u001b[39;00m _ \u001b[39min\u001b[39;00m \u001b[39mrange\u001b[39m(init_size \u001b[39mor\u001b[39;00m \u001b[39mcls\u001b[39m\u001b[39m.\u001b[39mdefault_init_size)]\n\u001b[1;32m    650\u001b[0m \u001b[39mfor\u001b[39;00m seed \u001b[39min\u001b[39;00m seeds:\n\u001b[1;32m    651\u001b[0m     seed\u001b[39m.\u001b[39mrelease()\n",
      "File \u001b[0;32m/Library/Frameworks/Python.framework/Versions/3.10/lib/python3.10/site-packages/py2neo/client/__init__.py:813\u001b[0m, in \u001b[0;36mConnectionPool.acquire\u001b[0;34m(self, force_reset, can_overfill)\u001b[0m\n\u001b[1;32m    807\u001b[0m \u001b[39mexcept\u001b[39;00m \u001b[39mIndexError\u001b[39;00m:\n\u001b[1;32m    808\u001b[0m     \u001b[39mif\u001b[39;00m \u001b[39mself\u001b[39m\u001b[39m.\u001b[39m_has_capacity() \u001b[39mor\u001b[39;00m can_overfill:\n\u001b[1;32m    809\u001b[0m         \u001b[39m# Plan B: if the pool isn't full, open\u001b[39;00m\n\u001b[1;32m    810\u001b[0m         \u001b[39m# a new connection. This may raise a\u001b[39;00m\n\u001b[1;32m    811\u001b[0m         \u001b[39m# ConnectionUnavailable exception, which\u001b[39;00m\n\u001b[1;32m    812\u001b[0m         \u001b[39m# should bubble up to the caller.\u001b[39;00m\n\u001b[0;32m--> 813\u001b[0m         cx \u001b[39m=\u001b[39m \u001b[39mself\u001b[39;49m\u001b[39m.\u001b[39;49m_connect()\n\u001b[1;32m    814\u001b[0m         \u001b[39mif\u001b[39;00m cx\u001b[39m.\u001b[39msupports_multi():\n\u001b[1;32m    815\u001b[0m             \u001b[39mself\u001b[39m\u001b[39m.\u001b[39m_supports_multi \u001b[39m=\u001b[39m \u001b[39mTrue\u001b[39;00m\n",
      "File \u001b[0;32m/Library/Frameworks/Python.framework/Versions/3.10/lib/python3.10/site-packages/py2neo/client/__init__.py:764\u001b[0m, in \u001b[0;36mConnectionPool._connect\u001b[0;34m(self)\u001b[0m\n\u001b[1;32m    761\u001b[0m \u001b[39mdef\u001b[39;00m \u001b[39m_connect\u001b[39m(\u001b[39mself\u001b[39m):\n\u001b[1;32m    762\u001b[0m     \u001b[39m\"\"\" Open and return a new connection.\u001b[39;00m\n\u001b[1;32m    763\u001b[0m \u001b[39m    \"\"\"\u001b[39;00m\n\u001b[0;32m--> 764\u001b[0m     cx \u001b[39m=\u001b[39m Connection\u001b[39m.\u001b[39;49mopen(\u001b[39mself\u001b[39;49m\u001b[39m.\u001b[39;49mprofile, user_agent\u001b[39m=\u001b[39;49m\u001b[39mself\u001b[39;49m\u001b[39m.\u001b[39;49muser_agent,\n\u001b[1;32m    765\u001b[0m                          on_release\u001b[39m=\u001b[39;49m\u001b[39mlambda\u001b[39;49;00m c: \u001b[39mself\u001b[39;49m\u001b[39m.\u001b[39;49mrelease(c),\n\u001b[1;32m    766\u001b[0m                          on_broken\u001b[39m=\u001b[39;49m\u001b[39mlambda\u001b[39;49;00m msg: \u001b[39mself\u001b[39;49m\u001b[39m.\u001b[39;49m__on_broken(msg))\n\u001b[1;32m    767\u001b[0m     \u001b[39mself\u001b[39m\u001b[39m.\u001b[39m_server_agent \u001b[39m=\u001b[39m cx\u001b[39m.\u001b[39mserver_agent\n\u001b[1;32m    768\u001b[0m     \u001b[39mreturn\u001b[39;00m cx\n",
      "File \u001b[0;32m/Library/Frameworks/Python.framework/Versions/3.10/lib/python3.10/site-packages/py2neo/client/__init__.py:174\u001b[0m, in \u001b[0;36mConnection.open\u001b[0;34m(cls, profile, user_agent, on_release, on_broken)\u001b[0m\n\u001b[1;32m    172\u001b[0m \u001b[39mif\u001b[39;00m profile\u001b[39m.\u001b[39mprotocol \u001b[39m==\u001b[39m \u001b[39m\"\u001b[39m\u001b[39mbolt\u001b[39m\u001b[39m\"\u001b[39m:\n\u001b[1;32m    173\u001b[0m     \u001b[39mfrom\u001b[39;00m \u001b[39mpy2neo\u001b[39;00m\u001b[39m.\u001b[39;00m\u001b[39mclient\u001b[39;00m\u001b[39m.\u001b[39;00m\u001b[39mbolt\u001b[39;00m \u001b[39mimport\u001b[39;00m Bolt\n\u001b[0;32m--> 174\u001b[0m     \u001b[39mreturn\u001b[39;00m Bolt\u001b[39m.\u001b[39;49mopen(profile, user_agent\u001b[39m=\u001b[39;49muser_agent,\n\u001b[1;32m    175\u001b[0m                      on_release\u001b[39m=\u001b[39;49mon_release, on_broken\u001b[39m=\u001b[39;49mon_broken)\n\u001b[1;32m    176\u001b[0m \u001b[39melif\u001b[39;00m profile\u001b[39m.\u001b[39mprotocol \u001b[39m==\u001b[39m \u001b[39m\"\u001b[39m\u001b[39mhttp\u001b[39m\u001b[39m\"\u001b[39m:\n\u001b[1;32m    177\u001b[0m     \u001b[39mfrom\u001b[39;00m \u001b[39mpy2neo\u001b[39;00m\u001b[39m.\u001b[39;00m\u001b[39mclient\u001b[39;00m\u001b[39m.\u001b[39;00m\u001b[39mhttp\u001b[39;00m \u001b[39mimport\u001b[39;00m HTTP\n",
      "File \u001b[0;32m/Library/Frameworks/Python.framework/Versions/3.10/lib/python3.10/site-packages/py2neo/client/bolt.py:364\u001b[0m, in \u001b[0;36mBolt.open\u001b[0;34m(cls, profile, user_agent, on_release, on_broken)\u001b[0m\n\u001b[1;32m    362\u001b[0m     \u001b[39mreturn\u001b[39;00m bolt\n\u001b[1;32m    363\u001b[0m \u001b[39mexcept\u001b[39;00m (\u001b[39mTypeError\u001b[39;00m, WireError) \u001b[39mas\u001b[39;00m error:\n\u001b[0;32m--> 364\u001b[0m     raise_from(ConnectionUnavailable(\u001b[39m\"\u001b[39;49m\u001b[39mCannot open connection to \u001b[39;49m\u001b[39m%r\u001b[39;49;00m\u001b[39m\"\u001b[39;49m \u001b[39m%\u001b[39;49m profile), error)\n",
      "File \u001b[0;32m<string>:3\u001b[0m, in \u001b[0;36mraise_from\u001b[0;34m(value, from_value)\u001b[0m\n",
      "\u001b[0;31mConnectionUnavailable\u001b[0m: Cannot open connection to ConnectionProfile('bolt+s://finalkg.pods.icicle.develop.tapis.io:443')"
     ]
    }
   ],
   "source": [
    "graph = Graph(\"bolt+s://finalkg.pods.icicle.develop.tapis.io:443\", auth=(\"finalkg\", \"fUoHDk52jdbmHEuWs52lnqkyn8SFk9\"), secure=True, verify=True)"
   ]
  },
  {
   "cell_type": "code",
   "execution_count": 9,
   "metadata": {},
   "outputs": [
    {
     "ename": "ConnectionUnavailable",
     "evalue": "Cannot open connection to ConnectionProfile('bolt+s://finalkg.pods.icicle.develop.tapis.io:443')",
     "output_type": "error",
     "traceback": [
      "\u001b[0;31m---------------------------------------------------------------------------\u001b[0m",
      "\u001b[0;31mIndexError\u001b[0m                                Traceback (most recent call last)",
      "File \u001b[0;32m/Library/Frameworks/Python.framework/Versions/3.10/lib/python3.10/site-packages/py2neo/client/__init__.py:806\u001b[0m, in \u001b[0;36mConnectionPool.acquire\u001b[0;34m(self, force_reset, can_overfill)\u001b[0m\n\u001b[1;32m    804\u001b[0m \u001b[39mtry\u001b[39;00m:\n\u001b[1;32m    805\u001b[0m     \u001b[39m# Plan A: select a free connection from the pool\u001b[39;00m\n\u001b[0;32m--> 806\u001b[0m     cx \u001b[39m=\u001b[39m \u001b[39mself\u001b[39;49m\u001b[39m.\u001b[39;49m_free_list\u001b[39m.\u001b[39;49mpopleft()\n\u001b[1;32m    807\u001b[0m \u001b[39mexcept\u001b[39;00m \u001b[39mIndexError\u001b[39;00m:\n",
      "\u001b[0;31mIndexError\u001b[0m: pop from an empty deque",
      "\nDuring handling of the above exception, another exception occurred:\n",
      "\u001b[0;31mSSLCertVerificationError\u001b[0m                  Traceback (most recent call last)",
      "File \u001b[0;32m/Library/Frameworks/Python.framework/Versions/3.10/lib/python3.10/site-packages/py2neo/wiring.py:99\u001b[0m, in \u001b[0;36mWire.secure\u001b[0;34m(self, verify, hostname)\u001b[0m\n\u001b[1;32m     98\u001b[0m \u001b[39mtry\u001b[39;00m:\n\u001b[0;32m---> 99\u001b[0m     \u001b[39mself\u001b[39m\u001b[39m.\u001b[39m__socket \u001b[39m=\u001b[39m context\u001b[39m.\u001b[39;49mwrap_socket(\u001b[39mself\u001b[39;49m\u001b[39m.\u001b[39;49m__socket, server_hostname\u001b[39m=\u001b[39;49mhostname)\n\u001b[1;32m    100\u001b[0m \u001b[39mexcept\u001b[39;00m (\u001b[39mIOError\u001b[39;00m, \u001b[39mOSError\u001b[39;00m) \u001b[39mas\u001b[39;00m error:\n\u001b[1;32m    101\u001b[0m     \u001b[39m# TODO: add connection failure/diagnostic callback\u001b[39;00m\n",
      "File \u001b[0;32m/Library/Frameworks/Python.framework/Versions/3.10/lib/python3.10/ssl.py:513\u001b[0m, in \u001b[0;36mSSLContext.wrap_socket\u001b[0;34m(self, sock, server_side, do_handshake_on_connect, suppress_ragged_eofs, server_hostname, session)\u001b[0m\n\u001b[1;32m    507\u001b[0m \u001b[39mdef\u001b[39;00m \u001b[39mwrap_socket\u001b[39m(\u001b[39mself\u001b[39m, sock, server_side\u001b[39m=\u001b[39m\u001b[39mFalse\u001b[39;00m,\n\u001b[1;32m    508\u001b[0m                 do_handshake_on_connect\u001b[39m=\u001b[39m\u001b[39mTrue\u001b[39;00m,\n\u001b[1;32m    509\u001b[0m                 suppress_ragged_eofs\u001b[39m=\u001b[39m\u001b[39mTrue\u001b[39;00m,\n\u001b[1;32m    510\u001b[0m                 server_hostname\u001b[39m=\u001b[39m\u001b[39mNone\u001b[39;00m, session\u001b[39m=\u001b[39m\u001b[39mNone\u001b[39;00m):\n\u001b[1;32m    511\u001b[0m     \u001b[39m# SSLSocket class handles server_hostname encoding before it calls\u001b[39;00m\n\u001b[1;32m    512\u001b[0m     \u001b[39m# ctx._wrap_socket()\u001b[39;00m\n\u001b[0;32m--> 513\u001b[0m     \u001b[39mreturn\u001b[39;00m \u001b[39mself\u001b[39;49m\u001b[39m.\u001b[39;49msslsocket_class\u001b[39m.\u001b[39;49m_create(\n\u001b[1;32m    514\u001b[0m         sock\u001b[39m=\u001b[39;49msock,\n\u001b[1;32m    515\u001b[0m         server_side\u001b[39m=\u001b[39;49mserver_side,\n\u001b[1;32m    516\u001b[0m         do_handshake_on_connect\u001b[39m=\u001b[39;49mdo_handshake_on_connect,\n\u001b[1;32m    517\u001b[0m         suppress_ragged_eofs\u001b[39m=\u001b[39;49msuppress_ragged_eofs,\n\u001b[1;32m    518\u001b[0m         server_hostname\u001b[39m=\u001b[39;49mserver_hostname,\n\u001b[1;32m    519\u001b[0m         context\u001b[39m=\u001b[39;49m\u001b[39mself\u001b[39;49m,\n\u001b[1;32m    520\u001b[0m         session\u001b[39m=\u001b[39;49msession\n\u001b[1;32m    521\u001b[0m     )\n",
      "File \u001b[0;32m/Library/Frameworks/Python.framework/Versions/3.10/lib/python3.10/ssl.py:1071\u001b[0m, in \u001b[0;36mSSLSocket._create\u001b[0;34m(cls, sock, server_side, do_handshake_on_connect, suppress_ragged_eofs, server_hostname, context, session)\u001b[0m\n\u001b[1;32m   1070\u001b[0m             \u001b[39mraise\u001b[39;00m \u001b[39mValueError\u001b[39;00m(\u001b[39m\"\u001b[39m\u001b[39mdo_handshake_on_connect should not be specified for non-blocking sockets\u001b[39m\u001b[39m\"\u001b[39m)\n\u001b[0;32m-> 1071\u001b[0m         \u001b[39mself\u001b[39;49m\u001b[39m.\u001b[39;49mdo_handshake()\n\u001b[1;32m   1072\u001b[0m \u001b[39mexcept\u001b[39;00m (\u001b[39mOSError\u001b[39;00m, \u001b[39mValueError\u001b[39;00m):\n",
      "File \u001b[0;32m/Library/Frameworks/Python.framework/Versions/3.10/lib/python3.10/ssl.py:1342\u001b[0m, in \u001b[0;36mSSLSocket.do_handshake\u001b[0;34m(self, block)\u001b[0m\n\u001b[1;32m   1341\u001b[0m         \u001b[39mself\u001b[39m\u001b[39m.\u001b[39msettimeout(\u001b[39mNone\u001b[39;00m)\n\u001b[0;32m-> 1342\u001b[0m     \u001b[39mself\u001b[39;49m\u001b[39m.\u001b[39;49m_sslobj\u001b[39m.\u001b[39;49mdo_handshake()\n\u001b[1;32m   1343\u001b[0m \u001b[39mfinally\u001b[39;00m:\n",
      "\u001b[0;31mSSLCertVerificationError\u001b[0m: [SSL: CERTIFICATE_VERIFY_FAILED] certificate verify failed: self signed certificate in certificate chain (_ssl.c:997)",
      "\nDuring handling of the above exception, another exception occurred:\n",
      "\u001b[0;31mWireError\u001b[0m                                 Traceback (most recent call last)",
      "File \u001b[0;32m/Library/Frameworks/Python.framework/Versions/3.10/lib/python3.10/site-packages/py2neo/client/bolt.py:355\u001b[0m, in \u001b[0;36mBolt.open\u001b[0;34m(cls, profile, user_agent, on_release, on_broken)\u001b[0m\n\u001b[1;32m    354\u001b[0m \u001b[39mtry\u001b[39;00m:\n\u001b[0;32m--> 355\u001b[0m     wire \u001b[39m=\u001b[39m \u001b[39mcls\u001b[39;49m\u001b[39m.\u001b[39;49m_connect(profile, on_broken\u001b[39m=\u001b[39;49mon_broken)\n\u001b[1;32m    356\u001b[0m     protocol_version \u001b[39m=\u001b[39m \u001b[39mcls\u001b[39m\u001b[39m.\u001b[39m_handshake(wire)\n",
      "File \u001b[0;32m/Library/Frameworks/Python.framework/Versions/3.10/lib/python3.10/site-packages/py2neo/client/bolt.py:374\u001b[0m, in \u001b[0;36mBolt._connect\u001b[0;34m(cls, profile, on_broken)\u001b[0m\n\u001b[1;32m    373\u001b[0m     log\u001b[39m.\u001b[39mdebug(\u001b[39m\"\u001b[39m\u001b[39m[#\u001b[39m\u001b[39m%04X\u001b[39;00m\u001b[39m] C: (Securing connection)\u001b[39m\u001b[39m\"\u001b[39m, local_port)\n\u001b[0;32m--> 374\u001b[0m     wire\u001b[39m.\u001b[39;49msecure(verify\u001b[39m=\u001b[39;49mprofile\u001b[39m.\u001b[39;49mverify, hostname\u001b[39m=\u001b[39;49mprofile\u001b[39m.\u001b[39;49mhost)\n\u001b[1;32m    375\u001b[0m \u001b[39mreturn\u001b[39;00m wire\n",
      "File \u001b[0;32m/Library/Frameworks/Python.framework/Versions/3.10/lib/python3.10/site-packages/py2neo/wiring.py:106\u001b[0m, in \u001b[0;36mWire.secure\u001b[0;34m(self, verify, hostname)\u001b[0m\n\u001b[1;32m    105\u001b[0m     \u001b[39melse\u001b[39;00m:\n\u001b[0;32m--> 106\u001b[0m         \u001b[39mraise\u001b[39;00m WireError(\u001b[39m\"\u001b[39m\u001b[39mUnable to establish secure connection with remote peer\u001b[39m\u001b[39m\"\u001b[39m)\n\u001b[1;32m    107\u001b[0m \u001b[39melse\u001b[39;00m:\n",
      "\u001b[0;31mWireError\u001b[0m: Unable to establish secure connection with remote peer",
      "\nThe above exception was the direct cause of the following exception:\n",
      "\u001b[0;31mConnectionUnavailable\u001b[0m                     Traceback (most recent call last)",
      "\u001b[1;32m/Users/sahilsamar/GithubRepositories/REHS2022/Final-Project/Final-project-notebooks/tapis_auth.ipynb Cell 8\u001b[0m in \u001b[0;36m<cell line: 1>\u001b[0;34m()\u001b[0m\n\u001b[0;32m----> <a href='vscode-notebook-cell:/Users/sahilsamar/GithubRepositories/REHS2022/Final-Project/Final-project-notebooks/tapis_auth.ipynb#ch0000007?line=0'>1</a>\u001b[0m G \u001b[39m=\u001b[39m Graph(\u001b[39m\"\u001b[39;49m\u001b[39mbolt+s://finalkg.pods.icicle.develop.tapis.io:443\u001b[39;49m\u001b[39m\"\u001b[39;49m, auth\u001b[39m=\u001b[39;49m(\u001b[39m\"\u001b[39;49m\u001b[39mfinalkg\u001b[39;49m\u001b[39m\"\u001b[39;49m, \u001b[39m\"\u001b[39;49m\u001b[39mfUoHDk52jdbmHEuWs52lnqkyn8SFk9\u001b[39;49m\u001b[39m\"\u001b[39;49m), secure\u001b[39m=\u001b[39;49m\u001b[39mTrue\u001b[39;49;00m, verify\u001b[39m=\u001b[39;49m\u001b[39mTrue\u001b[39;49;00m)\n",
      "File \u001b[0;32m/Library/Frameworks/Python.framework/Versions/3.10/lib/python3.10/site-packages/py2neo/database.py:288\u001b[0m, in \u001b[0;36mGraph.__init__\u001b[0;34m(self, profile, name, **settings)\u001b[0m\n\u001b[1;32m    287\u001b[0m \u001b[39mdef\u001b[39;00m \u001b[39m__init__\u001b[39m(\u001b[39mself\u001b[39m, profile\u001b[39m=\u001b[39m\u001b[39mNone\u001b[39;00m, name\u001b[39m=\u001b[39m\u001b[39mNone\u001b[39;00m, \u001b[39m*\u001b[39m\u001b[39m*\u001b[39msettings):\n\u001b[0;32m--> 288\u001b[0m     \u001b[39mself\u001b[39m\u001b[39m.\u001b[39mservice \u001b[39m=\u001b[39m GraphService(profile, \u001b[39m*\u001b[39;49m\u001b[39m*\u001b[39;49msettings)\n\u001b[1;32m    289\u001b[0m     \u001b[39mself\u001b[39m\u001b[39m.\u001b[39m\u001b[39m__name__\u001b[39m \u001b[39m=\u001b[39m name\n\u001b[1;32m    290\u001b[0m     \u001b[39mself\u001b[39m\u001b[39m.\u001b[39mschema \u001b[39m=\u001b[39m Schema(\u001b[39mself\u001b[39m)\n",
      "File \u001b[0;32m/Library/Frameworks/Python.framework/Versions/3.10/lib/python3.10/site-packages/py2neo/database.py:119\u001b[0m, in \u001b[0;36mGraphService.__init__\u001b[0;34m(self, profile, **settings)\u001b[0m\n\u001b[1;32m    116\u001b[0m \u001b[39mif\u001b[39;00m connector_settings[\u001b[39m\"\u001b[39m\u001b[39minit_size\u001b[39m\u001b[39m\"\u001b[39m] \u001b[39mis\u001b[39;00m \u001b[39mNone\u001b[39;00m \u001b[39mand\u001b[39;00m \u001b[39mnot\u001b[39;00m profile\u001b[39m.\u001b[39mrouting:\n\u001b[1;32m    117\u001b[0m     \u001b[39m# Ensures credentials are checked on construction\u001b[39;00m\n\u001b[1;32m    118\u001b[0m     connector_settings[\u001b[39m\"\u001b[39m\u001b[39minit_size\u001b[39m\u001b[39m\"\u001b[39m] \u001b[39m=\u001b[39m \u001b[39m1\u001b[39m\n\u001b[0;32m--> 119\u001b[0m \u001b[39mself\u001b[39m\u001b[39m.\u001b[39m_connector \u001b[39m=\u001b[39m Connector(profile, \u001b[39m*\u001b[39;49m\u001b[39m*\u001b[39;49mconnector_settings)\n\u001b[1;32m    120\u001b[0m \u001b[39mself\u001b[39m\u001b[39m.\u001b[39m_graphs \u001b[39m=\u001b[39m {}\n",
      "File \u001b[0;32m/Library/Frameworks/Python.framework/Versions/3.10/lib/python3.10/site-packages/py2neo/client/__init__.py:960\u001b[0m, in \u001b[0;36mConnector.__init__\u001b[0;34m(self, profile, user_agent, init_size, max_size, max_age, routing_refresh_ttl)\u001b[0m\n\u001b[1;32m    958\u001b[0m \u001b[39melse\u001b[39;00m:\n\u001b[1;32m    959\u001b[0m     \u001b[39mself\u001b[39m\u001b[39m.\u001b[39m_router \u001b[39m=\u001b[39m \u001b[39mNone\u001b[39;00m\n\u001b[0;32m--> 960\u001b[0m \u001b[39mself\u001b[39;49m\u001b[39m.\u001b[39;49m_add_pools(\u001b[39m*\u001b[39;49m\u001b[39mself\u001b[39;49m\u001b[39m.\u001b[39;49m_initial_routers)\n",
      "File \u001b[0;32m/Library/Frameworks/Python.framework/Versions/3.10/lib/python3.10/site-packages/py2neo/client/__init__.py:982\u001b[0m, in \u001b[0;36mConnector._add_pools\u001b[0;34m(self, *profiles)\u001b[0m\n\u001b[1;32m    980\u001b[0m     \u001b[39mcontinue\u001b[39;00m\n\u001b[1;32m    981\u001b[0m log\u001b[39m.\u001b[39mdebug(\u001b[39m\"\u001b[39m\u001b[39mAdding connection pool for profile \u001b[39m\u001b[39m%r\u001b[39;00m\u001b[39m\"\u001b[39m, profile)\n\u001b[0;32m--> 982\u001b[0m pool \u001b[39m=\u001b[39m ConnectionPool\u001b[39m.\u001b[39;49mopen(\n\u001b[1;32m    983\u001b[0m     profile,\n\u001b[1;32m    984\u001b[0m     user_agent\u001b[39m=\u001b[39;49m\u001b[39mself\u001b[39;49m\u001b[39m.\u001b[39;49m_user_agent,\n\u001b[1;32m    985\u001b[0m     init_size\u001b[39m=\u001b[39;49m\u001b[39mself\u001b[39;49m\u001b[39m.\u001b[39;49m_init_size,\n\u001b[1;32m    986\u001b[0m     max_size\u001b[39m=\u001b[39;49m\u001b[39mself\u001b[39;49m\u001b[39m.\u001b[39;49m_max_size,\n\u001b[1;32m    987\u001b[0m     max_age\u001b[39m=\u001b[39;49m\u001b[39mself\u001b[39;49m\u001b[39m.\u001b[39;49m_max_age,\n\u001b[1;32m    988\u001b[0m     on_broken\u001b[39m=\u001b[39;49m\u001b[39mself\u001b[39;49m\u001b[39m.\u001b[39;49m_on_broken)\n\u001b[1;32m    989\u001b[0m \u001b[39mself\u001b[39m\u001b[39m.\u001b[39m_pools[profile] \u001b[39m=\u001b[39m pool\n",
      "File \u001b[0;32m/Library/Frameworks/Python.framework/Versions/3.10/lib/python3.10/site-packages/py2neo/client/__init__.py:649\u001b[0m, in \u001b[0;36mConnectionPool.open\u001b[0;34m(cls, profile, user_agent, init_size, max_size, max_age, on_broken)\u001b[0m\n\u001b[1;32m    627\u001b[0m \u001b[39m\"\"\" Create a new connection pool, with an option to seed one\u001b[39;00m\n\u001b[1;32m    628\u001b[0m \u001b[39mor more initial connections.\u001b[39;00m\n\u001b[1;32m    629\u001b[0m \n\u001b[0;32m   (...)\u001b[0m\n\u001b[1;32m    646\u001b[0m \u001b[39m    scheme\u001b[39;00m\n\u001b[1;32m    647\u001b[0m \u001b[39m\"\"\"\u001b[39;00m\n\u001b[1;32m    648\u001b[0m pool \u001b[39m=\u001b[39m \u001b[39mcls\u001b[39m(profile, user_agent, max_size, max_age, on_broken)\n\u001b[0;32m--> 649\u001b[0m seeds \u001b[39m=\u001b[39m [pool\u001b[39m.\u001b[39macquire() \u001b[39mfor\u001b[39;00m _ \u001b[39min\u001b[39;00m \u001b[39mrange\u001b[39m(init_size \u001b[39mor\u001b[39;00m \u001b[39mcls\u001b[39m\u001b[39m.\u001b[39mdefault_init_size)]\n\u001b[1;32m    650\u001b[0m \u001b[39mfor\u001b[39;00m seed \u001b[39min\u001b[39;00m seeds:\n\u001b[1;32m    651\u001b[0m     seed\u001b[39m.\u001b[39mrelease()\n",
      "File \u001b[0;32m/Library/Frameworks/Python.framework/Versions/3.10/lib/python3.10/site-packages/py2neo/client/__init__.py:649\u001b[0m, in \u001b[0;36m<listcomp>\u001b[0;34m(.0)\u001b[0m\n\u001b[1;32m    627\u001b[0m \u001b[39m\"\"\" Create a new connection pool, with an option to seed one\u001b[39;00m\n\u001b[1;32m    628\u001b[0m \u001b[39mor more initial connections.\u001b[39;00m\n\u001b[1;32m    629\u001b[0m \n\u001b[0;32m   (...)\u001b[0m\n\u001b[1;32m    646\u001b[0m \u001b[39m    scheme\u001b[39;00m\n\u001b[1;32m    647\u001b[0m \u001b[39m\"\"\"\u001b[39;00m\n\u001b[1;32m    648\u001b[0m pool \u001b[39m=\u001b[39m \u001b[39mcls\u001b[39m(profile, user_agent, max_size, max_age, on_broken)\n\u001b[0;32m--> 649\u001b[0m seeds \u001b[39m=\u001b[39m [pool\u001b[39m.\u001b[39;49macquire() \u001b[39mfor\u001b[39;00m _ \u001b[39min\u001b[39;00m \u001b[39mrange\u001b[39m(init_size \u001b[39mor\u001b[39;00m \u001b[39mcls\u001b[39m\u001b[39m.\u001b[39mdefault_init_size)]\n\u001b[1;32m    650\u001b[0m \u001b[39mfor\u001b[39;00m seed \u001b[39min\u001b[39;00m seeds:\n\u001b[1;32m    651\u001b[0m     seed\u001b[39m.\u001b[39mrelease()\n",
      "File \u001b[0;32m/Library/Frameworks/Python.framework/Versions/3.10/lib/python3.10/site-packages/py2neo/client/__init__.py:813\u001b[0m, in \u001b[0;36mConnectionPool.acquire\u001b[0;34m(self, force_reset, can_overfill)\u001b[0m\n\u001b[1;32m    807\u001b[0m \u001b[39mexcept\u001b[39;00m \u001b[39mIndexError\u001b[39;00m:\n\u001b[1;32m    808\u001b[0m     \u001b[39mif\u001b[39;00m \u001b[39mself\u001b[39m\u001b[39m.\u001b[39m_has_capacity() \u001b[39mor\u001b[39;00m can_overfill:\n\u001b[1;32m    809\u001b[0m         \u001b[39m# Plan B: if the pool isn't full, open\u001b[39;00m\n\u001b[1;32m    810\u001b[0m         \u001b[39m# a new connection. This may raise a\u001b[39;00m\n\u001b[1;32m    811\u001b[0m         \u001b[39m# ConnectionUnavailable exception, which\u001b[39;00m\n\u001b[1;32m    812\u001b[0m         \u001b[39m# should bubble up to the caller.\u001b[39;00m\n\u001b[0;32m--> 813\u001b[0m         cx \u001b[39m=\u001b[39m \u001b[39mself\u001b[39;49m\u001b[39m.\u001b[39;49m_connect()\n\u001b[1;32m    814\u001b[0m         \u001b[39mif\u001b[39;00m cx\u001b[39m.\u001b[39msupports_multi():\n\u001b[1;32m    815\u001b[0m             \u001b[39mself\u001b[39m\u001b[39m.\u001b[39m_supports_multi \u001b[39m=\u001b[39m \u001b[39mTrue\u001b[39;00m\n",
      "File \u001b[0;32m/Library/Frameworks/Python.framework/Versions/3.10/lib/python3.10/site-packages/py2neo/client/__init__.py:764\u001b[0m, in \u001b[0;36mConnectionPool._connect\u001b[0;34m(self)\u001b[0m\n\u001b[1;32m    761\u001b[0m \u001b[39mdef\u001b[39;00m \u001b[39m_connect\u001b[39m(\u001b[39mself\u001b[39m):\n\u001b[1;32m    762\u001b[0m     \u001b[39m\"\"\" Open and return a new connection.\u001b[39;00m\n\u001b[1;32m    763\u001b[0m \u001b[39m    \"\"\"\u001b[39;00m\n\u001b[0;32m--> 764\u001b[0m     cx \u001b[39m=\u001b[39m Connection\u001b[39m.\u001b[39;49mopen(\u001b[39mself\u001b[39;49m\u001b[39m.\u001b[39;49mprofile, user_agent\u001b[39m=\u001b[39;49m\u001b[39mself\u001b[39;49m\u001b[39m.\u001b[39;49muser_agent,\n\u001b[1;32m    765\u001b[0m                          on_release\u001b[39m=\u001b[39;49m\u001b[39mlambda\u001b[39;49;00m c: \u001b[39mself\u001b[39;49m\u001b[39m.\u001b[39;49mrelease(c),\n\u001b[1;32m    766\u001b[0m                          on_broken\u001b[39m=\u001b[39;49m\u001b[39mlambda\u001b[39;49;00m msg: \u001b[39mself\u001b[39;49m\u001b[39m.\u001b[39;49m__on_broken(msg))\n\u001b[1;32m    767\u001b[0m     \u001b[39mself\u001b[39m\u001b[39m.\u001b[39m_server_agent \u001b[39m=\u001b[39m cx\u001b[39m.\u001b[39mserver_agent\n\u001b[1;32m    768\u001b[0m     \u001b[39mreturn\u001b[39;00m cx\n",
      "File \u001b[0;32m/Library/Frameworks/Python.framework/Versions/3.10/lib/python3.10/site-packages/py2neo/client/__init__.py:174\u001b[0m, in \u001b[0;36mConnection.open\u001b[0;34m(cls, profile, user_agent, on_release, on_broken)\u001b[0m\n\u001b[1;32m    172\u001b[0m \u001b[39mif\u001b[39;00m profile\u001b[39m.\u001b[39mprotocol \u001b[39m==\u001b[39m \u001b[39m\"\u001b[39m\u001b[39mbolt\u001b[39m\u001b[39m\"\u001b[39m:\n\u001b[1;32m    173\u001b[0m     \u001b[39mfrom\u001b[39;00m \u001b[39mpy2neo\u001b[39;00m\u001b[39m.\u001b[39;00m\u001b[39mclient\u001b[39;00m\u001b[39m.\u001b[39;00m\u001b[39mbolt\u001b[39;00m \u001b[39mimport\u001b[39;00m Bolt\n\u001b[0;32m--> 174\u001b[0m     \u001b[39mreturn\u001b[39;00m Bolt\u001b[39m.\u001b[39;49mopen(profile, user_agent\u001b[39m=\u001b[39;49muser_agent,\n\u001b[1;32m    175\u001b[0m                      on_release\u001b[39m=\u001b[39;49mon_release, on_broken\u001b[39m=\u001b[39;49mon_broken)\n\u001b[1;32m    176\u001b[0m \u001b[39melif\u001b[39;00m profile\u001b[39m.\u001b[39mprotocol \u001b[39m==\u001b[39m \u001b[39m\"\u001b[39m\u001b[39mhttp\u001b[39m\u001b[39m\"\u001b[39m:\n\u001b[1;32m    177\u001b[0m     \u001b[39mfrom\u001b[39;00m \u001b[39mpy2neo\u001b[39;00m\u001b[39m.\u001b[39;00m\u001b[39mclient\u001b[39;00m\u001b[39m.\u001b[39;00m\u001b[39mhttp\u001b[39;00m \u001b[39mimport\u001b[39;00m HTTP\n",
      "File \u001b[0;32m/Library/Frameworks/Python.framework/Versions/3.10/lib/python3.10/site-packages/py2neo/client/bolt.py:364\u001b[0m, in \u001b[0;36mBolt.open\u001b[0;34m(cls, profile, user_agent, on_release, on_broken)\u001b[0m\n\u001b[1;32m    362\u001b[0m     \u001b[39mreturn\u001b[39;00m bolt\n\u001b[1;32m    363\u001b[0m \u001b[39mexcept\u001b[39;00m (\u001b[39mTypeError\u001b[39;00m, WireError) \u001b[39mas\u001b[39;00m error:\n\u001b[0;32m--> 364\u001b[0m     raise_from(ConnectionUnavailable(\u001b[39m\"\u001b[39;49m\u001b[39mCannot open connection to \u001b[39;49m\u001b[39m%r\u001b[39;49;00m\u001b[39m\"\u001b[39;49m \u001b[39m%\u001b[39;49m profile), error)\n",
      "File \u001b[0;32m<string>:3\u001b[0m, in \u001b[0;36mraise_from\u001b[0;34m(value, from_value)\u001b[0m\n",
      "\u001b[0;31mConnectionUnavailable\u001b[0m: Cannot open connection to ConnectionProfile('bolt+s://finalkg.pods.icicle.develop.tapis.io:443')"
     ]
    }
   ],
   "source": [
    "G = Graph(\"bolt+s://finalkg.pods.icicle.develop.tapis.io:443\", auth=(\"finalkg\", \"fUoHDk52jdbmHEuWs52lnqkyn8SFk9\"), secure=True, verify=True)"
   ]
  },
  {
   "cell_type": "code",
   "execution_count": null,
   "metadata": {},
   "outputs": [],
   "source": []
  }
 ],
 "metadata": {
  "kernelspec": {
   "display_name": "Python 3.10.5 64-bit",
   "language": "python",
   "name": "python3"
  },
  "language_info": {
   "codemirror_mode": {
    "name": "ipython",
    "version": 3
   },
   "file_extension": ".py",
   "mimetype": "text/x-python",
   "name": "python",
   "nbconvert_exporter": "python",
   "pygments_lexer": "ipython3",
   "version": "3.10.5"
  },
  "orig_nbformat": 4,
  "vscode": {
   "interpreter": {
    "hash": "aee8b7b246df8f9039afb4144a1f6fd8d2ca17a180786b69acc140d282b71a49"
   }
  }
 },
 "nbformat": 4,
 "nbformat_minor": 2
}
