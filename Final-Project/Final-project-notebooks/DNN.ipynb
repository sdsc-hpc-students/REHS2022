{
 "cells": [
  {
   "cell_type": "markdown",
   "metadata": {},
   "source": [
    "# Classifying Celestial Objects\n",
    "Based on information from the dataset neo_v2 from https://www.kaggle.com/datasets/sameepvani/nasa-nearest-earth-objects, this neural network classifies whether asteroids may pose a danger to earth based on a variety of features. "
   ]
  },
  {
   "cell_type": "markdown",
   "metadata": {},
   "source": [
    "### Imports"
   ]
  },
  {
   "cell_type": "code",
   "execution_count": 1,
   "metadata": {},
   "outputs": [],
   "source": [
    "import tensorflow as tf \n",
    "from tensorflow import keras \n",
    "\n",
    "import pandas as pd\n",
    "import numpy as np\n",
    "import matplotlib.pyplot as plt\n",
    "\n",
    "import requests\n",
    "import io\n",
    "import os\n",
    "import tempfile\n",
    "\n",
    "import sklearn\n",
    "from sklearn.metrics import confusion_matrix\n",
    "from sklearn.model_selection import train_test_split\n",
    "from sklearn.preprocessing import StandardScaler\n",
    "\n",
    "relative_velocity_flag = False\n",
    "miss_distance_flag = False"
   ]
  },
  {
   "cell_type": "markdown",
   "metadata": {},
   "source": [
    "### Data preprocessing\n",
    "The neo_v2 csv file is imported from the REHS github repo. Then the program splits the dataset 80/20 into training data and testing data respectively"
   ]
  },
  {
   "cell_type": "code",
   "execution_count": 2,
   "metadata": {},
   "outputs": [],
   "source": [
    "csv_link = 'https://raw.githubusercontent.com/sdsc-hpc-students/REHS2022/main/Final-Project/ExtraKGs/celesital-bodies/neo_v2.csv'\n",
    "csv_file = requests.get(csv_link).content"
   ]
  },
  {
   "cell_type": "code",
   "execution_count": 3,
   "metadata": {},
   "outputs": [],
   "source": [
    "dataset = pd.read_csv(io.StringIO(csv_file.decode('utf-8')))"
   ]
  },
  {
   "cell_type": "code",
   "execution_count": 4,
   "metadata": {},
   "outputs": [
    {
     "data": {
      "text/html": [
       "<div>\n",
       "<style scoped>\n",
       "    .dataframe tbody tr th:only-of-type {\n",
       "        vertical-align: middle;\n",
       "    }\n",
       "\n",
       "    .dataframe tbody tr th {\n",
       "        vertical-align: top;\n",
       "    }\n",
       "\n",
       "    .dataframe thead th {\n",
       "        text-align: right;\n",
       "    }\n",
       "</style>\n",
       "<table border=\"1\" class=\"dataframe\">\n",
       "  <thead>\n",
       "    <tr style=\"text-align: right;\">\n",
       "      <th></th>\n",
       "      <th>id</th>\n",
       "      <th>name</th>\n",
       "      <th>est_diameter_min</th>\n",
       "      <th>est_diameter_max</th>\n",
       "      <th>relative_velocity</th>\n",
       "      <th>miss_distance</th>\n",
       "      <th>orbiting_body</th>\n",
       "      <th>sentry_object</th>\n",
       "      <th>absolute_magnitude</th>\n",
       "      <th>hazardous</th>\n",
       "    </tr>\n",
       "  </thead>\n",
       "  <tbody>\n",
       "    <tr>\n",
       "      <th>0</th>\n",
       "      <td>2162635</td>\n",
       "      <td>162635 (2000 SS164)</td>\n",
       "      <td>1.198271</td>\n",
       "      <td>2.679415</td>\n",
       "      <td>13569.249224</td>\n",
       "      <td>5.483974e+07</td>\n",
       "      <td>Earth</td>\n",
       "      <td>False</td>\n",
       "      <td>16.73</td>\n",
       "      <td>False</td>\n",
       "    </tr>\n",
       "    <tr>\n",
       "      <th>1</th>\n",
       "      <td>2277475</td>\n",
       "      <td>277475 (2005 WK4)</td>\n",
       "      <td>0.265800</td>\n",
       "      <td>0.594347</td>\n",
       "      <td>73588.726663</td>\n",
       "      <td>6.143813e+07</td>\n",
       "      <td>Earth</td>\n",
       "      <td>False</td>\n",
       "      <td>20.00</td>\n",
       "      <td>True</td>\n",
       "    </tr>\n",
       "    <tr>\n",
       "      <th>2</th>\n",
       "      <td>2512244</td>\n",
       "      <td>512244 (2015 YE18)</td>\n",
       "      <td>0.722030</td>\n",
       "      <td>1.614507</td>\n",
       "      <td>114258.692129</td>\n",
       "      <td>4.979872e+07</td>\n",
       "      <td>Earth</td>\n",
       "      <td>False</td>\n",
       "      <td>17.83</td>\n",
       "      <td>False</td>\n",
       "    </tr>\n",
       "    <tr>\n",
       "      <th>3</th>\n",
       "      <td>3596030</td>\n",
       "      <td>(2012 BV13)</td>\n",
       "      <td>0.096506</td>\n",
       "      <td>0.215794</td>\n",
       "      <td>24764.303138</td>\n",
       "      <td>2.543497e+07</td>\n",
       "      <td>Earth</td>\n",
       "      <td>False</td>\n",
       "      <td>22.20</td>\n",
       "      <td>False</td>\n",
       "    </tr>\n",
       "    <tr>\n",
       "      <th>4</th>\n",
       "      <td>3667127</td>\n",
       "      <td>(2014 GE35)</td>\n",
       "      <td>0.255009</td>\n",
       "      <td>0.570217</td>\n",
       "      <td>42737.733765</td>\n",
       "      <td>4.627557e+07</td>\n",
       "      <td>Earth</td>\n",
       "      <td>False</td>\n",
       "      <td>20.09</td>\n",
       "      <td>True</td>\n",
       "    </tr>\n",
       "  </tbody>\n",
       "</table>\n",
       "</div>"
      ],
      "text/plain": [
       "        id                 name  est_diameter_min  est_diameter_max  \\\n",
       "0  2162635  162635 (2000 SS164)          1.198271          2.679415   \n",
       "1  2277475    277475 (2005 WK4)          0.265800          0.594347   \n",
       "2  2512244   512244 (2015 YE18)          0.722030          1.614507   \n",
       "3  3596030          (2012 BV13)          0.096506          0.215794   \n",
       "4  3667127          (2014 GE35)          0.255009          0.570217   \n",
       "\n",
       "   relative_velocity  miss_distance orbiting_body  sentry_object  \\\n",
       "0       13569.249224   5.483974e+07         Earth          False   \n",
       "1       73588.726663   6.143813e+07         Earth          False   \n",
       "2      114258.692129   4.979872e+07         Earth          False   \n",
       "3       24764.303138   2.543497e+07         Earth          False   \n",
       "4       42737.733765   4.627557e+07         Earth          False   \n",
       "\n",
       "   absolute_magnitude  hazardous  \n",
       "0               16.73      False  \n",
       "1               20.00       True  \n",
       "2               17.83      False  \n",
       "3               22.20      False  \n",
       "4               20.09       True  "
      ]
     },
     "execution_count": 4,
     "metadata": {},
     "output_type": "execute_result"
    }
   ],
   "source": [
    "dataset.head()"
   ]
  },
  {
   "cell_type": "markdown",
   "metadata": {},
   "source": [
    "convert boolean values to floats"
   ]
  },
  {
   "cell_type": "code",
   "execution_count": 5,
   "metadata": {},
   "outputs": [
    {
     "name": "stdout",
     "output_type": "stream",
     "text": [
      "[dtype('int64'), dtype('O'), dtype('float64'), dtype('float64'), dtype('float64'), dtype('float64'), dtype('O'), dtype('bool'), dtype('float64'), dtype('bool')]\n",
      "<class 'numpy.dtype[int64]'>\n"
     ]
    },
    {
     "data": {
      "text/html": [
       "<div>\n",
       "<style scoped>\n",
       "    .dataframe tbody tr th:only-of-type {\n",
       "        vertical-align: middle;\n",
       "    }\n",
       "\n",
       "    .dataframe tbody tr th {\n",
       "        vertical-align: top;\n",
       "    }\n",
       "\n",
       "    .dataframe thead th {\n",
       "        text-align: right;\n",
       "    }\n",
       "</style>\n",
       "<table border=\"1\" class=\"dataframe\">\n",
       "  <thead>\n",
       "    <tr style=\"text-align: right;\">\n",
       "      <th></th>\n",
       "      <th>id</th>\n",
       "      <th>name</th>\n",
       "      <th>est_diameter_min</th>\n",
       "      <th>est_diameter_max</th>\n",
       "      <th>relative_velocity</th>\n",
       "      <th>miss_distance</th>\n",
       "      <th>orbiting_body</th>\n",
       "      <th>sentry_object</th>\n",
       "      <th>absolute_magnitude</th>\n",
       "      <th>hazardous</th>\n",
       "    </tr>\n",
       "  </thead>\n",
       "  <tbody>\n",
       "    <tr>\n",
       "      <th>0</th>\n",
       "      <td>2162635</td>\n",
       "      <td>162635 (2000 SS164)</td>\n",
       "      <td>1.198271</td>\n",
       "      <td>2.679415</td>\n",
       "      <td>13569.249224</td>\n",
       "      <td>5.483974e+07</td>\n",
       "      <td>Earth</td>\n",
       "      <td>0.0</td>\n",
       "      <td>16.73</td>\n",
       "      <td>0.0</td>\n",
       "    </tr>\n",
       "    <tr>\n",
       "      <th>1</th>\n",
       "      <td>2277475</td>\n",
       "      <td>277475 (2005 WK4)</td>\n",
       "      <td>0.265800</td>\n",
       "      <td>0.594347</td>\n",
       "      <td>73588.726663</td>\n",
       "      <td>6.143813e+07</td>\n",
       "      <td>Earth</td>\n",
       "      <td>0.0</td>\n",
       "      <td>20.00</td>\n",
       "      <td>1.0</td>\n",
       "    </tr>\n",
       "    <tr>\n",
       "      <th>2</th>\n",
       "      <td>2512244</td>\n",
       "      <td>512244 (2015 YE18)</td>\n",
       "      <td>0.722030</td>\n",
       "      <td>1.614507</td>\n",
       "      <td>114258.692129</td>\n",
       "      <td>4.979872e+07</td>\n",
       "      <td>Earth</td>\n",
       "      <td>0.0</td>\n",
       "      <td>17.83</td>\n",
       "      <td>0.0</td>\n",
       "    </tr>\n",
       "    <tr>\n",
       "      <th>3</th>\n",
       "      <td>3596030</td>\n",
       "      <td>(2012 BV13)</td>\n",
       "      <td>0.096506</td>\n",
       "      <td>0.215794</td>\n",
       "      <td>24764.303138</td>\n",
       "      <td>2.543497e+07</td>\n",
       "      <td>Earth</td>\n",
       "      <td>0.0</td>\n",
       "      <td>22.20</td>\n",
       "      <td>0.0</td>\n",
       "    </tr>\n",
       "    <tr>\n",
       "      <th>4</th>\n",
       "      <td>3667127</td>\n",
       "      <td>(2014 GE35)</td>\n",
       "      <td>0.255009</td>\n",
       "      <td>0.570217</td>\n",
       "      <td>42737.733765</td>\n",
       "      <td>4.627557e+07</td>\n",
       "      <td>Earth</td>\n",
       "      <td>0.0</td>\n",
       "      <td>20.09</td>\n",
       "      <td>1.0</td>\n",
       "    </tr>\n",
       "  </tbody>\n",
       "</table>\n",
       "</div>"
      ],
      "text/plain": [
       "        id                 name  est_diameter_min  est_diameter_max  \\\n",
       "0  2162635  162635 (2000 SS164)          1.198271          2.679415   \n",
       "1  2277475    277475 (2005 WK4)          0.265800          0.594347   \n",
       "2  2512244   512244 (2015 YE18)          0.722030          1.614507   \n",
       "3  3596030          (2012 BV13)          0.096506          0.215794   \n",
       "4  3667127          (2014 GE35)          0.255009          0.570217   \n",
       "\n",
       "   relative_velocity  miss_distance orbiting_body  sentry_object  \\\n",
       "0       13569.249224   5.483974e+07         Earth            0.0   \n",
       "1       73588.726663   6.143813e+07         Earth            0.0   \n",
       "2      114258.692129   4.979872e+07         Earth            0.0   \n",
       "3       24764.303138   2.543497e+07         Earth            0.0   \n",
       "4       42737.733765   4.627557e+07         Earth            0.0   \n",
       "\n",
       "   absolute_magnitude  hazardous  \n",
       "0               16.73        0.0  \n",
       "1               20.00        1.0  \n",
       "2               17.83        0.0  \n",
       "3               22.20        0.0  \n",
       "4               20.09        1.0  "
      ]
     },
     "execution_count": 5,
     "metadata": {},
     "output_type": "execute_result"
    }
   ],
   "source": [
    "print(dataset.dtypes.tolist())\n",
    "print(type(dataset.dtypes.tolist()[0]))\n",
    "\n",
    "change_to_float = {column:float for column, dtype in zip(dataset.columns.tolist(), dataset.dtypes.tolist()) if dtype == np.bool_}\n",
    "dataset = dataset.astype(change_to_float)\n",
    "dataset.head()"
   ]
  },
  {
   "cell_type": "markdown",
   "metadata": {},
   "source": [
    "get rid of orbiting body and sentry_object"
   ]
  },
  {
   "cell_type": "code",
   "execution_count": 6,
   "metadata": {},
   "outputs": [],
   "source": [
    "try:\n",
    "    dataset.drop('sentry_object', axis=1, inplace=True)\n",
    "except (AttributeError, KeyError):\n",
    "    print(\"already removed\")\n",
    "\n",
    "try:\n",
    "    dataset.drop('orbiting_body', axis=1, inplace=True)\n",
    "except (AttributeError, KeyError):\n",
    "    print(\"already removed\")"
   ]
  },
  {
   "cell_type": "code",
   "execution_count": 7,
   "metadata": {},
   "outputs": [
    {
     "data": {
      "text/html": [
       "<div>\n",
       "<style scoped>\n",
       "    .dataframe tbody tr th:only-of-type {\n",
       "        vertical-align: middle;\n",
       "    }\n",
       "\n",
       "    .dataframe tbody tr th {\n",
       "        vertical-align: top;\n",
       "    }\n",
       "\n",
       "    .dataframe thead th {\n",
       "        text-align: right;\n",
       "    }\n",
       "</style>\n",
       "<table border=\"1\" class=\"dataframe\">\n",
       "  <thead>\n",
       "    <tr style=\"text-align: right;\">\n",
       "      <th></th>\n",
       "      <th>id</th>\n",
       "      <th>name</th>\n",
       "      <th>est_diameter_min</th>\n",
       "      <th>est_diameter_max</th>\n",
       "      <th>relative_velocity</th>\n",
       "      <th>miss_distance</th>\n",
       "      <th>absolute_magnitude</th>\n",
       "      <th>hazardous</th>\n",
       "    </tr>\n",
       "  </thead>\n",
       "  <tbody>\n",
       "    <tr>\n",
       "      <th>0</th>\n",
       "      <td>2162635</td>\n",
       "      <td>162635 (2000 SS164)</td>\n",
       "      <td>1.198271</td>\n",
       "      <td>2.679415</td>\n",
       "      <td>13569.249224</td>\n",
       "      <td>5.483974e+07</td>\n",
       "      <td>16.73</td>\n",
       "      <td>0.0</td>\n",
       "    </tr>\n",
       "    <tr>\n",
       "      <th>1</th>\n",
       "      <td>2277475</td>\n",
       "      <td>277475 (2005 WK4)</td>\n",
       "      <td>0.265800</td>\n",
       "      <td>0.594347</td>\n",
       "      <td>73588.726663</td>\n",
       "      <td>6.143813e+07</td>\n",
       "      <td>20.00</td>\n",
       "      <td>1.0</td>\n",
       "    </tr>\n",
       "    <tr>\n",
       "      <th>2</th>\n",
       "      <td>2512244</td>\n",
       "      <td>512244 (2015 YE18)</td>\n",
       "      <td>0.722030</td>\n",
       "      <td>1.614507</td>\n",
       "      <td>114258.692129</td>\n",
       "      <td>4.979872e+07</td>\n",
       "      <td>17.83</td>\n",
       "      <td>0.0</td>\n",
       "    </tr>\n",
       "    <tr>\n",
       "      <th>3</th>\n",
       "      <td>3596030</td>\n",
       "      <td>(2012 BV13)</td>\n",
       "      <td>0.096506</td>\n",
       "      <td>0.215794</td>\n",
       "      <td>24764.303138</td>\n",
       "      <td>2.543497e+07</td>\n",
       "      <td>22.20</td>\n",
       "      <td>0.0</td>\n",
       "    </tr>\n",
       "    <tr>\n",
       "      <th>4</th>\n",
       "      <td>3667127</td>\n",
       "      <td>(2014 GE35)</td>\n",
       "      <td>0.255009</td>\n",
       "      <td>0.570217</td>\n",
       "      <td>42737.733765</td>\n",
       "      <td>4.627557e+07</td>\n",
       "      <td>20.09</td>\n",
       "      <td>1.0</td>\n",
       "    </tr>\n",
       "  </tbody>\n",
       "</table>\n",
       "</div>"
      ],
      "text/plain": [
       "        id                 name  est_diameter_min  est_diameter_max  \\\n",
       "0  2162635  162635 (2000 SS164)          1.198271          2.679415   \n",
       "1  2277475    277475 (2005 WK4)          0.265800          0.594347   \n",
       "2  2512244   512244 (2015 YE18)          0.722030          1.614507   \n",
       "3  3596030          (2012 BV13)          0.096506          0.215794   \n",
       "4  3667127          (2014 GE35)          0.255009          0.570217   \n",
       "\n",
       "   relative_velocity  miss_distance  absolute_magnitude  hazardous  \n",
       "0       13569.249224   5.483974e+07               16.73        0.0  \n",
       "1       73588.726663   6.143813e+07               20.00        1.0  \n",
       "2      114258.692129   4.979872e+07               17.83        0.0  \n",
       "3       24764.303138   2.543497e+07               22.20        0.0  \n",
       "4       42737.733765   4.627557e+07               20.09        1.0  "
      ]
     },
     "execution_count": 7,
     "metadata": {},
     "output_type": "execute_result"
    }
   ],
   "source": [
    "dataset.head()"
   ]
  },
  {
   "cell_type": "markdown",
   "metadata": {},
   "source": [
    "what percent of our data is positive?"
   ]
  },
  {
   "cell_type": "code",
   "execution_count": 8,
   "metadata": {},
   "outputs": [
    {
     "name": "stdout",
     "output_type": "stream",
     "text": [
      "Percent positive is 10.781013707985755 %\n"
     ]
    }
   ],
   "source": [
    "neg, pos = np.bincount(dataset['hazardous'])\n",
    "total = neg + pos\n",
    "print(f\"Percent positive is {(pos / neg) * 100} %\")"
   ]
  },
  {
   "cell_type": "code",
   "execution_count": 9,
   "metadata": {},
   "outputs": [],
   "source": [
    "dataset_raw = dataset # to look at later"
   ]
  },
  {
   "cell_type": "code",
   "execution_count": 10,
   "metadata": {},
   "outputs": [],
   "source": [
    "def scale_down(dataset=None, column=None):\n",
    "    initial_range = np.amax(dataset[column]) - np.amin(dataset[column])\n",
    "    eps = 0.001\n",
    "    dataset[column] = np.log(dataset[column] + eps)\n",
    "    end_range = np.amax(dataset[column]) - np.amin(dataset[column])\n",
    "\n",
    "    return initial_range, end_range"
   ]
  },
  {
   "cell_type": "code",
   "execution_count": 11,
   "metadata": {},
   "outputs": [],
   "source": [
    "# try to reduce the range of the miss distance\n",
    "if not relative_velocity_flag:\n",
    "    initial_range, end_range = scale_down(column='miss_distance', dataset=dataset)\n",
    "    relative_velocity_flag = True\n",
    "\n",
    "else:\n",
    "    print(\"scaling already complete\")"
   ]
  },
  {
   "cell_type": "code",
   "execution_count": 12,
   "metadata": {},
   "outputs": [],
   "source": [
    "# try to reduce the range of the relative velocity\n",
    "if not miss_distance_flag:\n",
    "    initial_range, end_range = scale_down(column='relative_velocity', dataset=dataset)\n",
    "    miss_distance_flag = True\n",
    "else:\n",
    "    print(\"scaling already complete\")"
   ]
  },
  {
   "cell_type": "code",
   "execution_count": 13,
   "metadata": {},
   "outputs": [],
   "source": [
    "scaler = StandardScaler()"
   ]
  },
  {
   "cell_type": "code",
   "execution_count": 14,
   "metadata": {},
   "outputs": [],
   "source": [
    "train_data, test_data = train_test_split(dataset.drop(['id', 'name'], axis=1), test_size=0.2)\n",
    "train_data, validation_data = train_test_split(train_data, test_size=0.2)\n",
    "\n",
    "train_labels, test_labels, validation_labels = (np.array(train_data.pop('hazardous')),\n",
    "                                                np.array(test_data.pop('hazardous')), \n",
    "                                                np.array(validation_data.pop('hazardous')))\n",
    "bool_train_labels = train_labels != 0\n",
    "train_features, test_features, validation_features = (np.clip(scaler.fit_transform(np.array(train_data)), 0, 60),\n",
    "                                                      np.clip(scaler.fit_transform(np.array(test_data)), 0, 60), \n",
    "                                                      np.clip(scaler.fit_transform(np.array(validation_data)), 0, 60))"
   ]
  },
  {
   "cell_type": "code",
   "execution_count": 15,
   "metadata": {},
   "outputs": [],
   "source": [
    "model_metrics = [keras.metrics.BinaryAccuracy(),\n",
    "                       keras.metrics.Precision(),\n",
    "                       keras.metrics.Recall(),\n",
    "                       keras.metrics.TruePositives(),\n",
    "                       keras.metrics.TrueNegatives(),\n",
    "                       keras.metrics.FalseNegatives(),\n",
    "                       keras.metrics.FalsePositives(),\n",
    "                       keras.metrics.AUC(name='auc'),\n",
    "                       keras.metrics.AUC(name='prc', curve='PR')\n",
    "                       ]"
   ]
  },
  {
   "cell_type": "code",
   "execution_count": 16,
   "metadata": {},
   "outputs": [],
   "source": [
    "def make_model(metrics=model_metrics, output_bias=None):\n",
    "    if output_bias:\n",
    "        output_bias = tf.keras.initializers.Constant(output_bias)\n",
    "    \n",
    "    model = tf.keras.Sequential([\n",
    "        keras.layers.Dense(5, activation='relu', input_shape=(train_features.shape[-1],), \n",
    "                            kernel_regularizer=keras.regularizers.L1L2(l1=1e-5, l2=1e-4),\n",
    "                            bias_regularizer=keras.regularizers.L2(1e-4)),\n",
    "        keras.layers.Dropout(0.5),\n",
    "        keras.layers.Dense(5, activation='linear', activity_regularizer=keras.regularizers.L1(0.0002)),\n",
    "        keras.layers.Dense(4, activation='relu', input_shape=(train_features.shape[-1],),\n",
    "                            kernel_regularizer=keras.regularizers.L1L2(l1=1e-5, l2=1e-4),\n",
    "                            bias_regularizer=keras.regularizers.L2(1e-4),),\n",
    "        keras.layers.Dropout(0.5),\n",
    "        keras.layers.Dense(3, activation='linear', activity_regularizer=keras.regularizers.L1(0.0002)),\n",
    "        keras.layers.Dense(3, activation='relu', input_shape=(train_features.shape[-1],),\n",
    "                            kernel_regularizer=keras.regularizers.L1L2(l1=1e-5, l2=1e-4),\n",
    "                            bias_regularizer=keras.regularizers.L2(1e-4)),\n",
    "        keras.layers.Dropout(0.5),\n",
    "        keras.layers.Dense(2, activation='linear', activity_regularizer=keras.regularizers.L1(0.0002)),\n",
    "        keras.layers.Dense(1, activation='sigmoid', bias_initializer=output_bias)\n",
    "    ])\n",
    "\n",
    "    model.compile(\n",
    "        optimizer=keras.optimizers.Adam(learning_rate=1e-3),\n",
    "        loss=keras.losses.BinaryCrossentropy(),\n",
    "        metrics=metrics\n",
    "    )\n",
    "    \n",
    "    return model"
   ]
  },
  {
   "cell_type": "code",
   "execution_count": 17,
   "metadata": {},
   "outputs": [],
   "source": [
    "EPOCHS = 100\n",
    "BATCH_SIZE = 2048\n",
    "\n",
    "early_stopping = tf.keras.callbacks.EarlyStopping(\n",
    "    monitor='val_prc',\n",
    "    verbose=1,\n",
    "    patience=10,\n",
    "    mode='max',\n",
    "    restore_best_weights=True\n",
    ")"
   ]
  },
  {
   "cell_type": "code",
   "execution_count": 18,
   "metadata": {},
   "outputs": [],
   "source": [
    "model = make_model()"
   ]
  },
  {
   "cell_type": "code",
   "execution_count": 19,
   "metadata": {},
   "outputs": [
    {
     "name": "stdout",
     "output_type": "stream",
     "text": [
      "Model: \"sequential\"\n",
      "_________________________________________________________________\n",
      " Layer (type)                Output Shape              Param #   \n",
      "=================================================================\n",
      " dense (Dense)               (None, 5)                 30        \n",
      "                                                                 \n",
      " dropout (Dropout)           (None, 5)                 0         \n",
      "                                                                 \n",
      " dense_1 (Dense)             (None, 5)                 30        \n",
      "                                                                 \n",
      " dense_2 (Dense)             (None, 4)                 24        \n",
      "                                                                 \n",
      " dropout_1 (Dropout)         (None, 4)                 0         \n",
      "                                                                 \n",
      " dense_3 (Dense)             (None, 3)                 15        \n",
      "                                                                 \n",
      " dense_4 (Dense)             (None, 3)                 12        \n",
      "                                                                 \n",
      " dropout_2 (Dropout)         (None, 3)                 0         \n",
      "                                                                 \n",
      " dense_5 (Dense)             (None, 2)                 8         \n",
      "                                                                 \n",
      " dense_6 (Dense)             (None, 1)                 3         \n",
      "                                                                 \n",
      "=================================================================\n",
      "Total params: 122\n",
      "Trainable params: 122\n",
      "Non-trainable params: 0\n",
      "_________________________________________________________________\n"
     ]
    }
   ],
   "source": [
    "model.summary()"
   ]
  },
  {
   "cell_type": "markdown",
   "metadata": {},
   "source": [
    "getting the initial bias"
   ]
  },
  {
   "cell_type": "code",
   "execution_count": 20,
   "metadata": {},
   "outputs": [
    {
     "name": "stdout",
     "output_type": "stream",
     "text": [
      "29/29 [==============================] - 2s 4ms/step - loss: 0.5920 - binary_accuracy: 0.8332 - precision: 0.2133 - recall: 0.2739 - true_positives: 1530.0000 - true_negatives: 46905.0000 - false_negatives: 4055.0000 - false_positives: 5644.0000 - auc: 0.7300 - prc: 0.1907\n",
      "Loss: 0.5919867157936096\n"
     ]
    }
   ],
   "source": [
    "# unbiased\n",
    "results = model.evaluate(train_features, train_labels, batch_size=BATCH_SIZE, verbose=1)\n",
    "print(f'Loss: {results[0]}')"
   ]
  },
  {
   "cell_type": "markdown",
   "metadata": {},
   "source": [
    "initial_bias = ln(pos/neg)\n",
    "where positive is the number of features classified positive, and neg is the number of features classified as negative"
   ]
  },
  {
   "cell_type": "code",
   "execution_count": 21,
   "metadata": {},
   "outputs": [
    {
     "data": {
      "text/plain": [
       "array([-2.22738359])"
      ]
     },
     "execution_count": 21,
     "metadata": {},
     "output_type": "execute_result"
    }
   ],
   "source": [
    "initial_bias = np.log([pos/neg])\n",
    "initial_bias"
   ]
  },
  {
   "cell_type": "code",
   "execution_count": 22,
   "metadata": {},
   "outputs": [],
   "source": [
    "model = make_model(output_bias=initial_bias)"
   ]
  },
  {
   "cell_type": "code",
   "execution_count": 23,
   "metadata": {},
   "outputs": [
    {
     "name": "stdout",
     "output_type": "stream",
     "text": [
      "1/1 [==============================] - 0s 199ms/step\n"
     ]
    },
    {
     "data": {
      "text/plain": [
       "array([[0.09378146],\n",
       "       [0.09349285],\n",
       "       [0.09731824],\n",
       "       [0.08969834],\n",
       "       [0.09327094],\n",
       "       [0.09327585],\n",
       "       [0.0907452 ],\n",
       "       [0.09731824],\n",
       "       [0.09392492],\n",
       "       [0.09723588]], dtype=float32)"
      ]
     },
     "execution_count": 23,
     "metadata": {},
     "output_type": "execute_result"
    }
   ],
   "source": [
    "model.predict(train_features[:10])"
   ]
  },
  {
   "cell_type": "code",
   "execution_count": 24,
   "metadata": {},
   "outputs": [
    {
     "name": "stdout",
     "output_type": "stream",
     "text": [
      "29/29 [==============================] - 2s 3ms/step - loss: 0.3178 - binary_accuracy: 0.8685 - precision: 0.2133 - recall: 0.1370 - true_positives: 1530.0000 - true_negatives: 99454.0000 - false_negatives: 9640.0000 - false_positives: 5644.0000 - auc: 0.5760 - prc: 0.1457\n",
      "Loss: 0.31775376200675964\n"
     ]
    }
   ],
   "source": [
    "# biased\n",
    "results = model.evaluate(train_features, train_labels, batch_size=BATCH_SIZE, verbose=1)\n",
    "print(f'Loss: {results[0]}')"
   ]
  },
  {
   "cell_type": "markdown",
   "metadata": {},
   "source": [
    "save a benchmark"
   ]
  },
  {
   "cell_type": "code",
   "execution_count": 25,
   "metadata": {},
   "outputs": [],
   "source": [
    "initial_weights = os.path.join(tempfile.mkdtemp(), 'initial_weights')\n",
    "model.save_weights(initial_weights)"
   ]
  },
  {
   "cell_type": "code",
   "execution_count": 26,
   "metadata": {},
   "outputs": [
    {
     "name": "stdout",
     "output_type": "stream",
     "text": [
      "Epoch 1/100\n",
      "29/29 [==============================] - 6s 63ms/step - loss: 0.3163 - binary_accuracy: 0.8803 - precision: 0.2132 - recall: 0.0913 - true_positives: 1530.0000 - true_negatives: 152002.0000 - false_negatives: 15225.0000 - false_positives: 5645.0000 - auc: 0.5473 - prc: 0.1305 - val_loss: 0.3223 - val_binary_accuracy: 0.9004 - val_precision: 0.0000e+00 - val_recall: 0.0000e+00 - val_true_positives: 0.0000e+00 - val_true_negatives: 13087.0000 - val_false_negatives: 1447.0000 - val_false_positives: 0.0000e+00 - val_auc: 0.7465 - val_prc: 0.1864\n",
      "Epoch 2/100\n",
      "29/29 [==============================] - 0s 8ms/step - loss: 0.3149 - binary_accuracy: 0.9039 - precision: 0.3333 - recall: 1.7905e-04 - true_positives: 1.0000 - true_negatives: 52547.0000 - false_negatives: 5584.0000 - false_positives: 2.0000 - auc: 0.5413 - prc: 0.1056 - val_loss: 0.3192 - val_binary_accuracy: 0.9004 - val_precision: 0.0000e+00 - val_recall: 0.0000e+00 - val_true_positives: 0.0000e+00 - val_true_negatives: 13087.0000 - val_false_negatives: 1447.0000 - val_false_positives: 0.0000e+00 - val_auc: 0.7708 - val_prc: 0.2023\n",
      "Epoch 3/100\n",
      "29/29 [==============================] - 0s 9ms/step - loss: 0.3140 - binary_accuracy: 0.9039 - precision: 0.0000e+00 - recall: 0.0000e+00 - true_positives: 0.0000e+00 - true_negatives: 52548.0000 - false_negatives: 5585.0000 - false_positives: 1.0000 - auc: 0.5387 - prc: 0.1079 - val_loss: 0.3170 - val_binary_accuracy: 0.9004 - val_precision: 0.0000e+00 - val_recall: 0.0000e+00 - val_true_positives: 0.0000e+00 - val_true_negatives: 13087.0000 - val_false_negatives: 1447.0000 - val_false_positives: 0.0000e+00 - val_auc: 0.8232 - val_prc: 0.2660\n",
      "Epoch 4/100\n",
      "29/29 [==============================] - 0s 9ms/step - loss: 0.3132 - binary_accuracy: 0.9039 - precision: 0.0000e+00 - recall: 0.0000e+00 - true_positives: 0.0000e+00 - true_negatives: 52549.0000 - false_negatives: 5585.0000 - false_positives: 0.0000e+00 - auc: 0.5518 - prc: 0.1141 - val_loss: 0.3127 - val_binary_accuracy: 0.9004 - val_precision: 0.0000e+00 - val_recall: 0.0000e+00 - val_true_positives: 0.0000e+00 - val_true_negatives: 13087.0000 - val_false_negatives: 1447.0000 - val_false_positives: 0.0000e+00 - val_auc: 0.8050 - val_prc: 0.2398\n",
      "Epoch 5/100\n",
      "29/29 [==============================] - 0s 8ms/step - loss: 0.3127 - binary_accuracy: 0.9039 - precision: 0.5000 - recall: 1.7905e-04 - true_positives: 1.0000 - true_negatives: 52548.0000 - false_negatives: 5584.0000 - false_positives: 1.0000 - auc: 0.5749 - prc: 0.1248 - val_loss: 0.3103 - val_binary_accuracy: 0.9004 - val_precision: 0.0000e+00 - val_recall: 0.0000e+00 - val_true_positives: 0.0000e+00 - val_true_negatives: 13087.0000 - val_false_negatives: 1447.0000 - val_false_positives: 0.0000e+00 - val_auc: 0.8297 - val_prc: 0.2659\n",
      "Epoch 6/100\n",
      "29/29 [==============================] - 0s 8ms/step - loss: 0.3120 - binary_accuracy: 0.9038 - precision: 0.1429 - recall: 1.7905e-04 - true_positives: 1.0000 - true_negatives: 52543.0000 - false_negatives: 5584.0000 - false_positives: 6.0000 - auc: 0.5869 - prc: 0.1309 - val_loss: 0.3082 - val_binary_accuracy: 0.9004 - val_precision: 0.0000e+00 - val_recall: 0.0000e+00 - val_true_positives: 0.0000e+00 - val_true_negatives: 13087.0000 - val_false_negatives: 1447.0000 - val_false_positives: 0.0000e+00 - val_auc: 0.8337 - val_prc: 0.2665\n",
      "Epoch 7/100\n",
      "29/29 [==============================] - 0s 7ms/step - loss: 0.3120 - binary_accuracy: 0.9038 - precision: 0.0000e+00 - recall: 0.0000e+00 - true_positives: 0.0000e+00 - true_negatives: 52543.0000 - false_negatives: 5585.0000 - false_positives: 6.0000 - auc: 0.5814 - prc: 0.1306 - val_loss: 0.3081 - val_binary_accuracy: 0.9004 - val_precision: 0.0000e+00 - val_recall: 0.0000e+00 - val_true_positives: 0.0000e+00 - val_true_negatives: 13087.0000 - val_false_negatives: 1447.0000 - val_false_positives: 0.0000e+00 - val_auc: 0.8382 - val_prc: 0.2765\n",
      "Epoch 8/100\n",
      "29/29 [==============================] - 0s 7ms/step - loss: 0.3115 - binary_accuracy: 0.9038 - precision: 0.2353 - recall: 7.1620e-04 - true_positives: 4.0000 - true_negatives: 52536.0000 - false_negatives: 5581.0000 - false_positives: 13.0000 - auc: 0.5879 - prc: 0.1359 - val_loss: 0.3058 - val_binary_accuracy: 0.9004 - val_precision: 0.0000e+00 - val_recall: 0.0000e+00 - val_true_positives: 0.0000e+00 - val_true_negatives: 13087.0000 - val_false_negatives: 1447.0000 - val_false_positives: 0.0000e+00 - val_auc: 0.8423 - val_prc: 0.2758\n",
      "Epoch 9/100\n",
      "29/29 [==============================] - 0s 8ms/step - loss: 0.3100 - binary_accuracy: 0.9039 - precision: 0.4000 - recall: 3.5810e-04 - true_positives: 2.0000 - true_negatives: 52546.0000 - false_negatives: 5583.0000 - false_positives: 3.0000 - auc: 0.5941 - prc: 0.1395 - val_loss: 0.3005 - val_binary_accuracy: 0.9004 - val_precision: 0.0000e+00 - val_recall: 0.0000e+00 - val_true_positives: 0.0000e+00 - val_true_negatives: 13087.0000 - val_false_negatives: 1447.0000 - val_false_positives: 0.0000e+00 - val_auc: 0.8447 - val_prc: 0.2776\n",
      "Epoch 10/100\n",
      "29/29 [==============================] - 0s 8ms/step - loss: 0.3080 - binary_accuracy: 0.9037 - precision: 0.1579 - recall: 5.3715e-04 - true_positives: 3.0000 - true_negatives: 52533.0000 - false_negatives: 5582.0000 - false_positives: 16.0000 - auc: 0.6137 - prc: 0.1483 - val_loss: 0.2925 - val_binary_accuracy: 0.9004 - val_precision: 0.0000e+00 - val_recall: 0.0000e+00 - val_true_positives: 0.0000e+00 - val_true_negatives: 13087.0000 - val_false_negatives: 1447.0000 - val_false_positives: 0.0000e+00 - val_auc: 0.8459 - val_prc: 0.2785\n",
      "Epoch 11/100\n",
      "29/29 [==============================] - 0s 8ms/step - loss: 0.3064 - binary_accuracy: 0.9037 - precision: 0.1053 - recall: 3.5810e-04 - true_positives: 2.0000 - true_negatives: 52532.0000 - false_negatives: 5583.0000 - false_positives: 17.0000 - auc: 0.6234 - prc: 0.1507 - val_loss: 0.2890 - val_binary_accuracy: 0.9004 - val_precision: 0.0000e+00 - val_recall: 0.0000e+00 - val_true_positives: 0.0000e+00 - val_true_negatives: 13087.0000 - val_false_negatives: 1447.0000 - val_false_positives: 0.0000e+00 - val_auc: 0.8483 - val_prc: 0.2827\n",
      "Epoch 12/100\n",
      "29/29 [==============================] - 0s 7ms/step - loss: 0.3058 - binary_accuracy: 0.9037 - precision: 0.2308 - recall: 0.0011 - true_positives: 6.0000 - true_negatives: 52529.0000 - false_negatives: 5579.0000 - false_positives: 20.0000 - auc: 0.6277 - prc: 0.1553 - val_loss: 0.2886 - val_binary_accuracy: 0.9004 - val_precision: 0.0000e+00 - val_recall: 0.0000e+00 - val_true_positives: 0.0000e+00 - val_true_negatives: 13087.0000 - val_false_negatives: 1447.0000 - val_false_positives: 0.0000e+00 - val_auc: 0.8476 - val_prc: 0.2842\n",
      "Epoch 13/100\n",
      "29/29 [==============================] - 0s 8ms/step - loss: 0.3050 - binary_accuracy: 0.9036 - precision: 0.2069 - recall: 0.0011 - true_positives: 6.0000 - true_negatives: 52526.0000 - false_negatives: 5579.0000 - false_positives: 23.0000 - auc: 0.6344 - prc: 0.1555 - val_loss: 0.2864 - val_binary_accuracy: 0.9004 - val_precision: 0.0000e+00 - val_recall: 0.0000e+00 - val_true_positives: 0.0000e+00 - val_true_negatives: 13087.0000 - val_false_negatives: 1447.0000 - val_false_positives: 0.0000e+00 - val_auc: 0.8499 - val_prc: 0.2885\n",
      "Epoch 14/100\n",
      "29/29 [==============================] - 0s 8ms/step - loss: 0.3027 - binary_accuracy: 0.9036 - precision: 0.1667 - recall: 8.9526e-04 - true_positives: 5.0000 - true_negatives: 52524.0000 - false_negatives: 5580.0000 - false_positives: 25.0000 - auc: 0.6477 - prc: 0.1620 - val_loss: 0.2823 - val_binary_accuracy: 0.9004 - val_precision: 0.0000e+00 - val_recall: 0.0000e+00 - val_true_positives: 0.0000e+00 - val_true_negatives: 13087.0000 - val_false_negatives: 1447.0000 - val_false_positives: 0.0000e+00 - val_auc: 0.8504 - val_prc: 0.2855\n",
      "Epoch 15/100\n",
      "29/29 [==============================] - 0s 7ms/step - loss: 0.3024 - binary_accuracy: 0.9037 - precision: 0.2333 - recall: 0.0013 - true_positives: 7.0000 - true_negatives: 52526.0000 - false_negatives: 5578.0000 - false_positives: 23.0000 - auc: 0.6491 - prc: 0.1650 - val_loss: 0.2811 - val_binary_accuracy: 0.9004 - val_precision: 0.0000e+00 - val_recall: 0.0000e+00 - val_true_positives: 0.0000e+00 - val_true_negatives: 13087.0000 - val_false_negatives: 1447.0000 - val_false_positives: 0.0000e+00 - val_auc: 0.8540 - val_prc: 0.2898\n",
      "Epoch 16/100\n",
      "29/29 [==============================] - 0s 8ms/step - loss: 0.3024 - binary_accuracy: 0.9037 - precision: 0.1905 - recall: 7.1620e-04 - true_positives: 4.0000 - true_negatives: 52532.0000 - false_negatives: 5581.0000 - false_positives: 17.0000 - auc: 0.6489 - prc: 0.1657 - val_loss: 0.2801 - val_binary_accuracy: 0.9004 - val_precision: 0.0000e+00 - val_recall: 0.0000e+00 - val_true_positives: 0.0000e+00 - val_true_negatives: 13087.0000 - val_false_negatives: 1447.0000 - val_false_positives: 0.0000e+00 - val_auc: 0.8541 - val_prc: 0.2902\n",
      "Epoch 17/100\n",
      "29/29 [==============================] - 0s 7ms/step - loss: 0.3010 - binary_accuracy: 0.9037 - precision: 0.0714 - recall: 1.7905e-04 - true_positives: 1.0000 - true_negatives: 52536.0000 - false_negatives: 5584.0000 - false_positives: 13.0000 - auc: 0.6558 - prc: 0.1682 - val_loss: 0.2772 - val_binary_accuracy: 0.9004 - val_precision: 0.0000e+00 - val_recall: 0.0000e+00 - val_true_positives: 0.0000e+00 - val_true_negatives: 13087.0000 - val_false_negatives: 1447.0000 - val_false_positives: 0.0000e+00 - val_auc: 0.8551 - val_prc: 0.2947\n",
      "Epoch 18/100\n",
      "29/29 [==============================] - 0s 7ms/step - loss: 0.2997 - binary_accuracy: 0.9038 - precision: 0.3500 - recall: 0.0013 - true_positives: 7.0000 - true_negatives: 52536.0000 - false_negatives: 5578.0000 - false_positives: 13.0000 - auc: 0.6613 - prc: 0.1729 - val_loss: 0.2756 - val_binary_accuracy: 0.9004 - val_precision: 0.0000e+00 - val_recall: 0.0000e+00 - val_true_positives: 0.0000e+00 - val_true_negatives: 13087.0000 - val_false_negatives: 1447.0000 - val_false_positives: 0.0000e+00 - val_auc: 0.8527 - val_prc: 0.2871\n",
      "Epoch 19/100\n",
      "29/29 [==============================] - 0s 7ms/step - loss: 0.2984 - binary_accuracy: 0.9037 - precision: 0.2759 - recall: 0.0014 - true_positives: 8.0000 - true_negatives: 52528.0000 - false_negatives: 5577.0000 - false_positives: 21.0000 - auc: 0.6672 - prc: 0.1741 - val_loss: 0.2742 - val_binary_accuracy: 0.9004 - val_precision: 0.0000e+00 - val_recall: 0.0000e+00 - val_true_positives: 0.0000e+00 - val_true_negatives: 13087.0000 - val_false_negatives: 1447.0000 - val_false_positives: 0.0000e+00 - val_auc: 0.8540 - val_prc: 0.2900\n",
      "Epoch 20/100\n",
      "29/29 [==============================] - 0s 8ms/step - loss: 0.2982 - binary_accuracy: 0.9037 - precision: 0.2895 - recall: 0.0020 - true_positives: 11.0000 - true_negatives: 52522.0000 - false_negatives: 5574.0000 - false_positives: 27.0000 - auc: 0.6685 - prc: 0.1738 - val_loss: 0.2743 - val_binary_accuracy: 0.9004 - val_precision: 0.0000e+00 - val_recall: 0.0000e+00 - val_true_positives: 0.0000e+00 - val_true_negatives: 13087.0000 - val_false_negatives: 1447.0000 - val_false_positives: 0.0000e+00 - val_auc: 0.8537 - val_prc: 0.2869\n",
      "Epoch 21/100\n",
      "29/29 [==============================] - 0s 7ms/step - loss: 0.2978 - binary_accuracy: 0.9037 - precision: 0.1250 - recall: 3.5810e-04 - true_positives: 2.0000 - true_negatives: 52535.0000 - false_negatives: 5583.0000 - false_positives: 14.0000 - auc: 0.6694 - prc: 0.1733 - val_loss: 0.2746 - val_binary_accuracy: 0.9004 - val_precision: 0.0000e+00 - val_recall: 0.0000e+00 - val_true_positives: 0.0000e+00 - val_true_negatives: 13087.0000 - val_false_negatives: 1447.0000 - val_false_positives: 0.0000e+00 - val_auc: 0.8531 - val_prc: 0.2861\n",
      "Epoch 22/100\n",
      "29/29 [==============================] - 0s 8ms/step - loss: 0.2977 - binary_accuracy: 0.9038 - precision: 0.2308 - recall: 5.3715e-04 - true_positives: 3.0000 - true_negatives: 52539.0000 - false_negatives: 5582.0000 - false_positives: 10.0000 - auc: 0.6703 - prc: 0.1746 - val_loss: 0.2733 - val_binary_accuracy: 0.9004 - val_precision: 0.0000e+00 - val_recall: 0.0000e+00 - val_true_positives: 0.0000e+00 - val_true_negatives: 13087.0000 - val_false_negatives: 1447.0000 - val_false_positives: 0.0000e+00 - val_auc: 0.8532 - val_prc: 0.2848\n",
      "Epoch 23/100\n",
      "29/29 [==============================] - 0s 7ms/step - loss: 0.2975 - binary_accuracy: 0.9038 - precision: 0.2143 - recall: 5.3715e-04 - true_positives: 3.0000 - true_negatives: 52538.0000 - false_negatives: 5582.0000 - false_positives: 11.0000 - auc: 0.6712 - prc: 0.1725 - val_loss: 0.2717 - val_binary_accuracy: 0.9004 - val_precision: 0.0000e+00 - val_recall: 0.0000e+00 - val_true_positives: 0.0000e+00 - val_true_negatives: 13087.0000 - val_false_negatives: 1447.0000 - val_false_positives: 0.0000e+00 - val_auc: 0.8511 - val_prc: 0.2806\n",
      "Epoch 24/100\n",
      "29/29 [==============================] - 0s 7ms/step - loss: 0.2946 - binary_accuracy: 0.9038 - precision: 0.1111 - recall: 1.7905e-04 - true_positives: 1.0000 - true_negatives: 52541.0000 - false_negatives: 5584.0000 - false_positives: 8.0000 - auc: 0.6849 - prc: 0.1772 - val_loss: 0.2692 - val_binary_accuracy: 0.9004 - val_precision: 0.0000e+00 - val_recall: 0.0000e+00 - val_true_positives: 0.0000e+00 - val_true_negatives: 13087.0000 - val_false_negatives: 1447.0000 - val_false_positives: 0.0000e+00 - val_auc: 0.8521 - val_prc: 0.2833\n",
      "Epoch 25/100\n",
      "29/29 [==============================] - 0s 7ms/step - loss: 0.2942 - binary_accuracy: 0.9037 - precision: 0.0769 - recall: 1.7905e-04 - true_positives: 1.0000 - true_negatives: 52537.0000 - false_negatives: 5584.0000 - false_positives: 12.0000 - auc: 0.6892 - prc: 0.1860 - val_loss: 0.2683 - val_binary_accuracy: 0.9004 - val_precision: 0.0000e+00 - val_recall: 0.0000e+00 - val_true_positives: 0.0000e+00 - val_true_negatives: 13087.0000 - val_false_negatives: 1447.0000 - val_false_positives: 0.0000e+00 - val_auc: 0.8538 - val_prc: 0.2836\n",
      "Epoch 26/100\n",
      "29/29 [==============================] - 0s 7ms/step - loss: 0.2960 - binary_accuracy: 0.9037 - precision: 0.0667 - recall: 1.7905e-04 - true_positives: 1.0000 - true_negatives: 52535.0000 - false_negatives: 5584.0000 - false_positives: 14.0000 - auc: 0.6787 - prc: 0.1721 - val_loss: 0.2701 - val_binary_accuracy: 0.9004 - val_precision: 0.0000e+00 - val_recall: 0.0000e+00 - val_true_positives: 0.0000e+00 - val_true_negatives: 13087.0000 - val_false_negatives: 1447.0000 - val_false_positives: 0.0000e+00 - val_auc: 0.8480 - val_prc: 0.2761\n",
      "Epoch 27/100\n",
      "26/29 [=========================>....] - ETA: 0s - loss: 0.2941 - binary_accuracy: 0.9036 - precision: 0.2000 - recall: 1.9486e-04 - true_positives: 1.0000 - true_negatives: 48112.0000 - false_negatives: 5131.0000 - false_positives: 4.0000 - auc: 0.6914 - prc: 0.1822        Restoring model weights from the end of the best epoch: 17.\n",
      "29/29 [==============================] - 0s 9ms/step - loss: 0.2936 - binary_accuracy: 0.9039 - precision: 0.2000 - recall: 1.7905e-04 - true_positives: 1.0000 - true_negatives: 52545.0000 - false_negatives: 5584.0000 - false_positives: 4.0000 - auc: 0.6906 - prc: 0.1802 - val_loss: 0.2682 - val_binary_accuracy: 0.9004 - val_precision: 0.0000e+00 - val_recall: 0.0000e+00 - val_true_positives: 0.0000e+00 - val_true_negatives: 13087.0000 - val_false_negatives: 1447.0000 - val_false_positives: 0.0000e+00 - val_auc: 0.8467 - val_prc: 0.2708\n",
      "Epoch 27: early stopping\n"
     ]
    }
   ],
   "source": [
    "model = make_model()\n",
    "model.load_weights(initial_weights)\n",
    "\n",
    "baseline = model.fit(train_features, train_labels, batch_size=BATCH_SIZE, epochs=EPOCHS, callbacks=[early_stopping], validation_data=(validation_features, validation_labels))"
   ]
  },
  {
   "cell_type": "markdown",
   "metadata": {},
   "source": [
    "class weights"
   ]
  },
  {
   "cell_type": "code",
   "execution_count": 27,
   "metadata": {},
   "outputs": [
    {
     "name": "stdout",
     "output_type": "stream",
     "text": [
      "Non-Hazardous Weight: 0.5539050685399288\n",
      "Hazardous Weight: 5.137782805429865\n"
     ]
    }
   ],
   "source": [
    "weight_for_0 = (1 / neg) * (total / 2.0)\n",
    "weight_for_1 = (1 / pos) * (total / 2.0)\n",
    "\n",
    "class_weights = {0: weight_for_0, 1: weight_for_1}\n",
    "\n",
    "print(f'Non-Hazardous Weight: {weight_for_0}\\nHazardous Weight: {weight_for_1}')"
   ]
  },
  {
   "cell_type": "code",
   "execution_count": 28,
   "metadata": {},
   "outputs": [],
   "source": [
    "tf.keras.backend.clear_session()"
   ]
  },
  {
   "cell_type": "code",
   "execution_count": 29,
   "metadata": {},
   "outputs": [
    {
     "data": {
      "text/plain": [
       "<tensorflow.python.training.tracking.util.CheckpointLoadStatus at 0x2b8be440970>"
      ]
     },
     "execution_count": 29,
     "metadata": {},
     "output_type": "execute_result"
    }
   ],
   "source": [
    "weighted_model = make_model()\n",
    "weighted_model.load_weights(initial_weights)"
   ]
  },
  {
   "cell_type": "code",
   "execution_count": 30,
   "metadata": {},
   "outputs": [],
   "source": [
    "# weighted_history = weighted_model.fit(train_features, \n",
    "#                                     train_labels, \n",
    "#                                     batch_size=BATCH_SIZE, \n",
    "#                                     epochs=EPOCHS, \n",
    "#                                     callbacks=[early_stopping], \n",
    "#                                     validation_data=(validation_features, validation_labels), \n",
    "#                                     class_weight=class_weights)"
   ]
  },
  {
   "cell_type": "markdown",
   "metadata": {},
   "source": [
    "try training it with just the weights"
   ]
  },
  {
   "cell_type": "code",
   "execution_count": 31,
   "metadata": {},
   "outputs": [
    {
     "name": "stdout",
     "output_type": "stream",
     "text": [
      "Epoch 1/100\n",
      "29/29 [==============================] - 6s 72ms/step - loss: 1.1959 - binary_accuracy: 0.9032 - precision: 1.0000 - recall: 1.4221e-04 - true_positives: 1.0000 - true_negatives: 65636.0000 - false_negatives: 7031.0000 - false_positives: 0.0000e+00 - auc: 0.6343 - prc: 0.1626 - val_loss: 0.3247 - val_binary_accuracy: 0.9004 - val_precision: 0.0000e+00 - val_recall: 0.0000e+00 - val_true_positives: 0.0000e+00 - val_true_negatives: 13087.0000 - val_false_negatives: 1447.0000 - val_false_positives: 0.0000e+00 - val_auc: 0.5000 - val_prc: 0.0996\n",
      "Epoch 2/100\n",
      "29/29 [==============================] - 0s 8ms/step - loss: 1.1634 - binary_accuracy: 0.9039 - precision: 0.0000e+00 - recall: 0.0000e+00 - true_positives: 0.0000e+00 - true_negatives: 52546.0000 - false_negatives: 5585.0000 - false_positives: 3.0000 - auc: 0.5459 - prc: 0.1086 - val_loss: 0.3233 - val_binary_accuracy: 0.9004 - val_precision: 0.0000e+00 - val_recall: 0.0000e+00 - val_true_positives: 0.0000e+00 - val_true_negatives: 13087.0000 - val_false_negatives: 1447.0000 - val_false_positives: 0.0000e+00 - val_auc: 0.7306 - val_prc: 0.1797\n",
      "Epoch 3/100\n",
      "29/29 [==============================] - 0s 8ms/step - loss: 1.1159 - binary_accuracy: 0.9034 - precision: 0.1800 - recall: 0.0016 - true_positives: 9.0000 - true_negatives: 52508.0000 - false_negatives: 5576.0000 - false_positives: 41.0000 - auc: 0.5458 - prc: 0.1116 - val_loss: 0.3233 - val_binary_accuracy: 0.9004 - val_precision: 0.0000e+00 - val_recall: 0.0000e+00 - val_true_positives: 0.0000e+00 - val_true_negatives: 13087.0000 - val_false_negatives: 1447.0000 - val_false_positives: 0.0000e+00 - val_auc: 0.7572 - val_prc: 0.2182\n",
      "Epoch 4/100\n",
      "29/29 [==============================] - 0s 7ms/step - loss: 1.0452 - binary_accuracy: 0.8984 - precision: 0.2069 - recall: 0.0204 - true_positives: 114.0000 - true_negatives: 52112.0000 - false_negatives: 5471.0000 - false_positives: 437.0000 - auc: 0.5403 - prc: 0.1140 - val_loss: 0.3290 - val_binary_accuracy: 0.9006 - val_precision: 0.6250 - val_recall: 0.0035 - val_true_positives: 5.0000 - val_true_negatives: 13084.0000 - val_false_negatives: 1442.0000 - val_false_positives: 3.0000 - val_auc: 0.7849 - val_prc: 0.2331\n",
      "Epoch 5/100\n",
      "29/29 [==============================] - 0s 8ms/step - loss: 0.9879 - binary_accuracy: 0.8795 - precision: 0.1908 - recall: 0.0786 - true_positives: 439.0000 - true_negatives: 50687.0000 - false_negatives: 5146.0000 - false_positives: 1862.0000 - auc: 0.5391 - prc: 0.1195 - val_loss: 0.3356 - val_binary_accuracy: 0.8991 - val_precision: 0.2286 - val_recall: 0.0055 - val_true_positives: 8.0000 - val_true_negatives: 13060.0000 - val_false_negatives: 1439.0000 - val_false_positives: 27.0000 - val_auc: 0.8055 - val_prc: 0.2430\n",
      "Epoch 6/100\n",
      "29/29 [==============================] - 0s 8ms/step - loss: 0.9379 - binary_accuracy: 0.8668 - precision: 0.1942 - recall: 0.1226 - true_positives: 685.0000 - true_negatives: 49707.0000 - false_negatives: 4900.0000 - false_positives: 2842.0000 - auc: 0.5479 - prc: 0.1255 - val_loss: 0.3406 - val_binary_accuracy: 0.8998 - val_precision: 0.3077 - val_recall: 0.0055 - val_true_positives: 8.0000 - val_true_negatives: 13069.0000 - val_false_negatives: 1439.0000 - val_false_positives: 18.0000 - val_auc: 0.8173 - val_prc: 0.2501\n",
      "Epoch 7/100\n",
      "29/29 [==============================] - 0s 7ms/step - loss: 0.8990 - binary_accuracy: 0.8507 - precision: 0.1838 - recall: 0.1611 - true_positives: 900.0000 - true_negatives: 48552.0000 - false_negatives: 4685.0000 - false_positives: 3997.0000 - auc: 0.5531 - prc: 0.1283 - val_loss: 0.3478 - val_binary_accuracy: 0.9006 - val_precision: 0.6667 - val_recall: 0.0041 - val_true_positives: 6.0000 - val_true_negatives: 13084.0000 - val_false_negatives: 1441.0000 - val_false_positives: 3.0000 - val_auc: 0.8234 - val_prc: 0.2562\n",
      "Epoch 8/100\n",
      "29/29 [==============================] - 0s 8ms/step - loss: 0.8704 - binary_accuracy: 0.8126 - precision: 0.1481 - recall: 0.2000 - true_positives: 1117.0000 - true_negatives: 46124.0000 - false_negatives: 4468.0000 - false_positives: 6425.0000 - auc: 0.5568 - prc: 0.1309 - val_loss: 0.3519 - val_binary_accuracy: 0.9004 - val_precision: 0.0000e+00 - val_recall: 0.0000e+00 - val_true_positives: 0.0000e+00 - val_true_negatives: 13086.0000 - val_false_negatives: 1447.0000 - val_false_positives: 1.0000 - val_auc: 0.8289 - val_prc: 0.2620\n",
      "Epoch 9/100\n",
      "29/29 [==============================] - 0s 8ms/step - loss: 0.8452 - binary_accuracy: 0.7863 - precision: 0.1363 - recall: 0.2294 - true_positives: 1281.0000 - true_negatives: 44431.0000 - false_negatives: 4304.0000 - false_positives: 8118.0000 - auc: 0.5661 - prc: 0.1326 - val_loss: 0.3585 - val_binary_accuracy: 0.9004 - val_precision: 0.0000e+00 - val_recall: 0.0000e+00 - val_true_positives: 0.0000e+00 - val_true_negatives: 13086.0000 - val_false_negatives: 1447.0000 - val_false_positives: 1.0000 - val_auc: 0.8333 - val_prc: 0.2661\n",
      "Epoch 10/100\n",
      "29/29 [==============================] - 0s 8ms/step - loss: 0.8196 - binary_accuracy: 0.7896 - precision: 0.1418 - recall: 0.2355 - true_positives: 1315.0000 - true_negatives: 44589.0000 - false_negatives: 4270.0000 - false_positives: 7960.0000 - auc: 0.5804 - prc: 0.1388 - val_loss: 0.3686 - val_binary_accuracy: 0.9004 - val_precision: 0.0000e+00 - val_recall: 0.0000e+00 - val_true_positives: 0.0000e+00 - val_true_negatives: 13086.0000 - val_false_negatives: 1447.0000 - val_false_positives: 1.0000 - val_auc: 0.8366 - val_prc: 0.2704\n",
      "Epoch 11/100\n",
      "29/29 [==============================] - 0s 8ms/step - loss: 0.8167 - binary_accuracy: 0.7874 - precision: 0.1378 - recall: 0.2308 - true_positives: 1289.0000 - true_negatives: 44483.0000 - false_negatives: 4296.0000 - false_positives: 8066.0000 - auc: 0.5675 - prc: 0.1332 - val_loss: 0.3774 - val_binary_accuracy: 0.9004 - val_precision: 0.0000e+00 - val_recall: 0.0000e+00 - val_true_positives: 0.0000e+00 - val_true_negatives: 13086.0000 - val_false_negatives: 1447.0000 - val_false_positives: 1.0000 - val_auc: 0.8351 - val_prc: 0.2691\n",
      "Epoch 12/100\n",
      "29/29 [==============================] - 0s 8ms/step - loss: 0.7890 - binary_accuracy: 0.7024 - precision: 0.1287 - recall: 0.3635 - true_positives: 2030.0000 - true_negatives: 38805.0000 - false_negatives: 3555.0000 - false_positives: 13744.0000 - auc: 0.5858 - prc: 0.1454 - val_loss: 0.3816 - val_binary_accuracy: 0.9004 - val_precision: 0.5000 - val_recall: 0.0014 - val_true_positives: 2.0000 - val_true_negatives: 13085.0000 - val_false_negatives: 1445.0000 - val_false_positives: 2.0000 - val_auc: 0.8373 - val_prc: 0.2707\n",
      "Epoch 13/100\n",
      "29/29 [==============================] - 0s 7ms/step - loss: 0.7875 - binary_accuracy: 0.6074 - precision: 0.1206 - recall: 0.4904 - true_positives: 2739.0000 - true_negatives: 32569.0000 - false_negatives: 2846.0000 - false_positives: 19980.0000 - auc: 0.5813 - prc: 0.1372 - val_loss: 0.3803 - val_binary_accuracy: 0.9004 - val_precision: 0.5000 - val_recall: 0.0021 - val_true_positives: 3.0000 - val_true_negatives: 13084.0000 - val_false_negatives: 1444.0000 - val_false_positives: 3.0000 - val_auc: 0.8403 - val_prc: 0.2727\n",
      "Epoch 14/100\n",
      "29/29 [==============================] - 0s 8ms/step - loss: 0.7793 - binary_accuracy: 0.6105 - precision: 0.1205 - recall: 0.4847 - true_positives: 2707.0000 - true_negatives: 32784.0000 - false_negatives: 2878.0000 - false_positives: 19765.0000 - auc: 0.5800 - prc: 0.1388 - val_loss: 0.3856 - val_binary_accuracy: 0.9004 - val_precision: 0.5000 - val_recall: 0.0021 - val_true_positives: 3.0000 - val_true_negatives: 13084.0000 - val_false_negatives: 1444.0000 - val_false_positives: 3.0000 - val_auc: 0.8423 - val_prc: 0.2742\n",
      "Epoch 15/100\n",
      "29/29 [==============================] - 0s 8ms/step - loss: 0.7676 - binary_accuracy: 0.6688 - precision: 0.1307 - recall: 0.4333 - true_positives: 2420.0000 - true_negatives: 36460.0000 - false_negatives: 3165.0000 - false_positives: 16089.0000 - auc: 0.5847 - prc: 0.1421 - val_loss: 0.3887 - val_binary_accuracy: 0.8991 - val_precision: 0.2286 - val_recall: 0.0055 - val_true_positives: 8.0000 - val_true_negatives: 13060.0000 - val_false_negatives: 1439.0000 - val_false_positives: 27.0000 - val_auc: 0.8452 - val_prc: 0.2747\n",
      "Epoch 16/100\n",
      "29/29 [==============================] - 0s 8ms/step - loss: 0.7551 - binary_accuracy: 0.6893 - precision: 0.1361 - recall: 0.4179 - true_positives: 2334.0000 - true_negatives: 37740.0000 - false_negatives: 3251.0000 - false_positives: 14809.0000 - auc: 0.5913 - prc: 0.1459 - val_loss: 0.3939 - val_binary_accuracy: 0.8984 - val_precision: 0.1875 - val_recall: 0.0062 - val_true_positives: 9.0000 - val_true_negatives: 13048.0000 - val_false_negatives: 1438.0000 - val_false_positives: 39.0000 - val_auc: 0.8453 - val_prc: 0.2747\n",
      "Epoch 17/100\n",
      "29/29 [==============================] - 0s 8ms/step - loss: 0.7444 - binary_accuracy: 0.6882 - precision: 0.1366 - recall: 0.4220 - true_positives: 2357.0000 - true_negatives: 37652.0000 - false_negatives: 3228.0000 - false_positives: 14897.0000 - auc: 0.5904 - prc: 0.1479 - val_loss: 0.3919 - val_binary_accuracy: 0.8979 - val_precision: 0.2658 - val_recall: 0.0145 - val_true_positives: 21.0000 - val_true_negatives: 13029.0000 - val_false_negatives: 1426.0000 - val_false_positives: 58.0000 - val_auc: 0.8500 - val_prc: 0.2845\n",
      "Epoch 18/100\n",
      "29/29 [==============================] - 0s 10ms/step - loss: 0.7401 - binary_accuracy: 0.6895 - precision: 0.1361 - recall: 0.4175 - true_positives: 2332.0000 - true_negatives: 37750.0000 - false_negatives: 3253.0000 - false_positives: 14799.0000 - auc: 0.5906 - prc: 0.1477 - val_loss: 0.4015 - val_binary_accuracy: 0.8964 - val_precision: 0.2815 - val_recall: 0.0263 - val_true_positives: 38.0000 - val_true_negatives: 12990.0000 - val_false_negatives: 1409.0000 - val_false_positives: 97.0000 - val_auc: 0.8496 - val_prc: 0.2844\n",
      "Epoch 19/100\n",
      "29/29 [==============================] - 0s 9ms/step - loss: 0.7204 - binary_accuracy: 0.6998 - precision: 0.1466 - recall: 0.4405 - true_positives: 2460.0000 - true_negatives: 38225.0000 - false_negatives: 3125.0000 - false_positives: 14324.0000 - auc: 0.6030 - prc: 0.1529 - val_loss: 0.3960 - val_binary_accuracy: 0.8964 - val_precision: 0.2908 - val_recall: 0.0283 - val_true_positives: 41.0000 - val_true_negatives: 12987.0000 - val_false_negatives: 1406.0000 - val_false_positives: 100.0000 - val_auc: 0.8477 - val_prc: 0.2823\n",
      "Epoch 20/100\n",
      "29/29 [==============================] - 0s 7ms/step - loss: 0.7106 - binary_accuracy: 0.7031 - precision: 0.1474 - recall: 0.4367 - true_positives: 2439.0000 - true_negatives: 38437.0000 - false_negatives: 3146.0000 - false_positives: 14112.0000 - auc: 0.6167 - prc: 0.1542 - val_loss: 0.3915 - val_binary_accuracy: 0.8962 - val_precision: 0.3063 - val_recall: 0.0339 - val_true_positives: 49.0000 - val_true_negatives: 12976.0000 - val_false_negatives: 1398.0000 - val_false_positives: 111.0000 - val_auc: 0.8459 - val_prc: 0.2799\n",
      "Epoch 21/100\n",
      "29/29 [==============================] - 0s 8ms/step - loss: 0.7000 - binary_accuracy: 0.7112 - precision: 0.1509 - recall: 0.4338 - true_positives: 2423.0000 - true_negatives: 38919.0000 - false_negatives: 3162.0000 - false_positives: 13630.0000 - auc: 0.6178 - prc: 0.1560 - val_loss: 0.3939 - val_binary_accuracy: 0.8918 - val_precision: 0.2587 - val_recall: 0.0463 - val_true_positives: 67.0000 - val_true_negatives: 12895.0000 - val_false_negatives: 1380.0000 - val_false_positives: 192.0000 - val_auc: 0.8453 - val_prc: 0.2774\n",
      "Epoch 22/100\n",
      "29/29 [==============================] - 0s 8ms/step - loss: 0.6825 - binary_accuracy: 0.7261 - precision: 0.1605 - recall: 0.4376 - true_positives: 2444.0000 - true_negatives: 39769.0000 - false_negatives: 3141.0000 - false_positives: 12780.0000 - auc: 0.6329 - prc: 0.1587 - val_loss: 0.3741 - val_binary_accuracy: 0.8881 - val_precision: 0.2864 - val_recall: 0.0829 - val_true_positives: 120.0000 - val_true_negatives: 12788.0000 - val_false_negatives: 1327.0000 - val_false_positives: 299.0000 - val_auc: 0.8460 - val_prc: 0.2774\n",
      "Epoch 23/100\n",
      "29/29 [==============================] - 0s 8ms/step - loss: 0.6656 - binary_accuracy: 0.7239 - precision: 0.1619 - recall: 0.4489 - true_positives: 2507.0000 - true_negatives: 39574.0000 - false_negatives: 3078.0000 - false_positives: 12975.0000 - auc: 0.6501 - prc: 0.1680 - val_loss: 0.3866 - val_binary_accuracy: 0.8736 - val_precision: 0.2809 - val_recall: 0.1728 - val_true_positives: 250.0000 - val_true_negatives: 12447.0000 - val_false_negatives: 1197.0000 - val_false_positives: 640.0000 - val_auc: 0.8473 - val_prc: 0.2770\n",
      "Epoch 24/100\n",
      "29/29 [==============================] - 0s 8ms/step - loss: 0.6574 - binary_accuracy: 0.7264 - precision: 0.1641 - recall: 0.4512 - true_positives: 2520.0000 - true_negatives: 39709.0000 - false_negatives: 3065.0000 - false_positives: 12840.0000 - auc: 0.6519 - prc: 0.1685 - val_loss: 0.3890 - val_binary_accuracy: 0.8174 - val_precision: 0.2867 - val_recall: 0.5605 - val_true_positives: 811.0000 - val_true_negatives: 11069.0000 - val_false_negatives: 636.0000 - val_false_positives: 2018.0000 - val_auc: 0.8474 - val_prc: 0.2763\n",
      "Epoch 25/100\n",
      "29/29 [==============================] - 0s 8ms/step - loss: 0.6487 - binary_accuracy: 0.7390 - precision: 0.1684 - recall: 0.4362 - true_positives: 2436.0000 - true_negatives: 40523.0000 - false_negatives: 3149.0000 - false_positives: 12026.0000 - auc: 0.6563 - prc: 0.1705 - val_loss: 0.3797 - val_binary_accuracy: 0.7796 - val_precision: 0.2731 - val_recall: 0.7305 - val_true_positives: 1057.0000 - val_true_negatives: 10273.0000 - val_false_negatives: 390.0000 - val_false_positives: 2814.0000 - val_auc: 0.8476 - val_prc: 0.2745\n",
      "Epoch 26/100\n",
      "29/29 [==============================] - 0s 8ms/step - loss: 0.6459 - binary_accuracy: 0.7374 - precision: 0.1640 - recall: 0.4229 - true_positives: 2362.0000 - true_negatives: 40508.0000 - false_negatives: 3223.0000 - false_positives: 12041.0000 - auc: 0.6550 - prc: 0.1664 - val_loss: 0.3850 - val_binary_accuracy: 0.7588 - val_precision: 0.2669 - val_recall: 0.8141 - val_true_positives: 1178.0000 - val_true_negatives: 9851.0000 - val_false_negatives: 269.0000 - val_false_positives: 3236.0000 - val_auc: 0.8480 - val_prc: 0.2738\n",
      "Epoch 27/100\n",
      "29/29 [==============================] - 0s 7ms/step - loss: 0.6348 - binary_accuracy: 0.7454 - precision: 0.1707 - recall: 0.4278 - true_positives: 2389.0000 - true_negatives: 40946.0000 - false_negatives: 3196.0000 - false_positives: 11603.0000 - auc: 0.6628 - prc: 0.1740 - val_loss: 0.3750 - val_binary_accuracy: 0.7738 - val_precision: 0.2771 - val_recall: 0.7906 - val_true_positives: 1144.0000 - val_true_negatives: 10103.0000 - val_false_negatives: 303.0000 - val_false_positives: 2984.0000 - val_auc: 0.8495 - val_prc: 0.2751\n",
      "Epoch 28/100\n",
      "29/29 [==============================] - 0s 7ms/step - loss: 0.6259 - binary_accuracy: 0.7453 - precision: 0.1750 - recall: 0.4446 - true_positives: 2483.0000 - true_negatives: 40844.0000 - false_negatives: 3102.0000 - false_positives: 11705.0000 - auc: 0.6724 - prc: 0.1761 - val_loss: 0.3908 - val_binary_accuracy: 0.7471 - val_precision: 0.2657 - val_recall: 0.8728 - val_true_positives: 1263.0000 - val_true_negatives: 9596.0000 - val_false_negatives: 184.0000 - val_false_positives: 3491.0000 - val_auc: 0.8494 - val_prc: 0.2742\n",
      "Epoch 29/100\n",
      "29/29 [==============================] - 0s 7ms/step - loss: 0.6229 - binary_accuracy: 0.7401 - precision: 0.1719 - recall: 0.4466 - true_positives: 2494.0000 - true_negatives: 40531.0000 - false_negatives: 3091.0000 - false_positives: 12018.0000 - auc: 0.6713 - prc: 0.1787 - val_loss: 0.3794 - val_binary_accuracy: 0.7663 - val_precision: 0.2734 - val_recall: 0.8127 - val_true_positives: 1176.0000 - val_true_negatives: 9962.0000 - val_false_negatives: 271.0000 - val_false_positives: 3125.0000 - val_auc: 0.8489 - val_prc: 0.2732\n",
      "Epoch 30/100\n",
      "29/29 [==============================] - 0s 8ms/step - loss: 0.6221 - binary_accuracy: 0.7487 - precision: 0.1725 - recall: 0.4256 - true_positives: 2377.0000 - true_negatives: 41149.0000 - false_negatives: 3208.0000 - false_positives: 11400.0000 - auc: 0.6651 - prc: 0.1719 - val_loss: 0.3849 - val_binary_accuracy: 0.7600 - val_precision: 0.2716 - val_recall: 0.8390 - val_true_positives: 1214.0000 - val_true_negatives: 9832.0000 - val_false_negatives: 233.0000 - val_false_positives: 3255.0000 - val_auc: 0.8505 - val_prc: 0.2757\n",
      "Epoch 31/100\n",
      "29/29 [==============================] - 0s 7ms/step - loss: 0.6171 - binary_accuracy: 0.7450 - precision: 0.1722 - recall: 0.4346 - true_positives: 2427.0000 - true_negatives: 40883.0000 - false_negatives: 3158.0000 - false_positives: 11666.0000 - auc: 0.6723 - prc: 0.1768 - val_loss: 0.3959 - val_binary_accuracy: 0.7289 - val_precision: 0.2561 - val_recall: 0.9046 - val_true_positives: 1309.0000 - val_true_negatives: 9285.0000 - val_false_negatives: 138.0000 - val_false_positives: 3802.0000 - val_auc: 0.8498 - val_prc: 0.2744\n",
      "Epoch 32/100\n",
      "29/29 [==============================] - 0s 8ms/step - loss: 0.6167 - binary_accuracy: 0.7423 - precision: 0.1706 - recall: 0.4356 - true_positives: 2433.0000 - true_negatives: 40717.0000 - false_negatives: 3152.0000 - false_positives: 11832.0000 - auc: 0.6706 - prc: 0.1765 - val_loss: 0.3889 - val_binary_accuracy: 0.7412 - val_precision: 0.2632 - val_recall: 0.8894 - val_true_positives: 1287.0000 - val_true_negatives: 9485.0000 - val_false_negatives: 160.0000 - val_false_positives: 3602.0000 - val_auc: 0.8496 - val_prc: 0.2735\n",
      "Epoch 33/100\n",
      "29/29 [==============================] - 0s 8ms/step - loss: 0.6145 - binary_accuracy: 0.7477 - precision: 0.1731 - recall: 0.4303 - true_positives: 2403.0000 - true_negatives: 41066.0000 - false_negatives: 3182.0000 - false_positives: 11483.0000 - auc: 0.6678 - prc: 0.1694 - val_loss: 0.3951 - val_binary_accuracy: 0.7343 - val_precision: 0.2598 - val_recall: 0.9019 - val_true_positives: 1305.0000 - val_true_negatives: 9368.0000 - val_false_negatives: 142.0000 - val_false_positives: 3719.0000 - val_auc: 0.8515 - val_prc: 0.2767\n",
      "Epoch 34/100\n",
      "29/29 [==============================] - 0s 8ms/step - loss: 0.6104 - binary_accuracy: 0.7562 - precision: 0.1801 - recall: 0.4329 - true_positives: 2418.0000 - true_negatives: 41543.0000 - false_negatives: 3167.0000 - false_positives: 11006.0000 - auc: 0.6769 - prc: 0.1784 - val_loss: 0.4005 - val_binary_accuracy: 0.7284 - val_precision: 0.2560 - val_recall: 0.9060 - val_true_positives: 1311.0000 - val_true_negatives: 9276.0000 - val_false_negatives: 136.0000 - val_false_positives: 3811.0000 - val_auc: 0.8513 - val_prc: 0.2756\n",
      "Epoch 35/100\n",
      "29/29 [==============================] - 0s 8ms/step - loss: 0.6090 - binary_accuracy: 0.7518 - precision: 0.1780 - recall: 0.4376 - true_positives: 2444.0000 - true_negatives: 41264.0000 - false_negatives: 3141.0000 - false_positives: 11285.0000 - auc: 0.6788 - prc: 0.1767 - val_loss: 0.3994 - val_binary_accuracy: 0.7224 - val_precision: 0.2531 - val_recall: 0.9164 - val_true_positives: 1326.0000 - val_true_negatives: 9173.0000 - val_false_negatives: 121.0000 - val_false_positives: 3914.0000 - val_auc: 0.8510 - val_prc: 0.2748\n",
      "Epoch 36/100\n",
      "29/29 [==============================] - 0s 8ms/step - loss: 0.6097 - binary_accuracy: 0.7497 - precision: 0.1749 - recall: 0.4321 - true_positives: 2413.0000 - true_negatives: 41169.0000 - false_negatives: 3172.0000 - false_positives: 11380.0000 - auc: 0.6774 - prc: 0.1740 - val_loss: 0.3896 - val_binary_accuracy: 0.7465 - val_precision: 0.2682 - val_recall: 0.8950 - val_true_positives: 1295.0000 - val_true_negatives: 9554.0000 - val_false_negatives: 152.0000 - val_false_positives: 3533.0000 - val_auc: 0.8528 - val_prc: 0.2765\n",
      "Epoch 37/100\n",
      "29/29 [==============================] - 0s 8ms/step - loss: 0.6059 - binary_accuracy: 0.7541 - precision: 0.1792 - recall: 0.4355 - true_positives: 2432.0000 - true_negatives: 41407.0000 - false_negatives: 3153.0000 - false_positives: 11142.0000 - auc: 0.6814 - prc: 0.1809 - val_loss: 0.3961 - val_binary_accuracy: 0.7371 - val_precision: 0.2618 - val_recall: 0.9019 - val_true_positives: 1305.0000 - val_true_negatives: 9408.0000 - val_false_negatives: 142.0000 - val_false_positives: 3679.0000 - val_auc: 0.8537 - val_prc: 0.2777\n",
      "Epoch 38/100\n",
      "29/29 [==============================] - 0s 8ms/step - loss: 0.6046 - binary_accuracy: 0.7461 - precision: 0.1782 - recall: 0.4550 - true_positives: 2541.0000 - true_negatives: 40831.0000 - false_negatives: 3044.0000 - false_positives: 11718.0000 - auc: 0.6850 - prc: 0.1863 - val_loss: 0.3984 - val_binary_accuracy: 0.7293 - val_precision: 0.2567 - val_recall: 0.9067 - val_true_positives: 1312.0000 - val_true_negatives: 9288.0000 - val_false_negatives: 135.0000 - val_false_positives: 3799.0000 - val_auc: 0.8537 - val_prc: 0.2783\n",
      "Epoch 39/100\n",
      "29/29 [==============================] - 0s 8ms/step - loss: 0.6069 - binary_accuracy: 0.7565 - precision: 0.1807 - recall: 0.4344 - true_positives: 2426.0000 - true_negatives: 41551.0000 - false_negatives: 3159.0000 - false_positives: 10998.0000 - auc: 0.6799 - prc: 0.1796 - val_loss: 0.3948 - val_binary_accuracy: 0.7381 - val_precision: 0.2625 - val_recall: 0.9012 - val_true_positives: 1304.0000 - val_true_negatives: 9424.0000 - val_false_negatives: 143.0000 - val_false_positives: 3663.0000 - val_auc: 0.8533 - val_prc: 0.2775\n",
      "Epoch 40/100\n",
      "29/29 [==============================] - 0s 10ms/step - loss: 0.6038 - binary_accuracy: 0.7540 - precision: 0.1802 - recall: 0.4396 - true_positives: 2455.0000 - true_negatives: 41378.0000 - false_negatives: 3130.0000 - false_positives: 11171.0000 - auc: 0.6835 - prc: 0.1838 - val_loss: 0.3928 - val_binary_accuracy: 0.7461 - val_precision: 0.2673 - val_recall: 0.8901 - val_true_positives: 1288.0000 - val_true_negatives: 9556.0000 - val_false_negatives: 159.0000 - val_false_positives: 3531.0000 - val_auc: 0.8561 - val_prc: 0.2810\n",
      "Epoch 41/100\n",
      "29/29 [==============================] - 0s 9ms/step - loss: 0.6056 - binary_accuracy: 0.7601 - precision: 0.1787 - recall: 0.4163 - true_positives: 2325.0000 - true_negatives: 41865.0000 - false_negatives: 3260.0000 - false_positives: 10684.0000 - auc: 0.6811 - prc: 0.1818 - val_loss: 0.3928 - val_binary_accuracy: 0.7506 - val_precision: 0.2703 - val_recall: 0.8853 - val_true_positives: 1281.0000 - val_true_negatives: 9628.0000 - val_false_negatives: 166.0000 - val_false_positives: 3459.0000 - val_auc: 0.8552 - val_prc: 0.2802\n",
      "Epoch 42/100\n",
      "29/29 [==============================] - 0s 8ms/step - loss: 0.6056 - binary_accuracy: 0.7523 - precision: 0.1773 - recall: 0.4337 - true_positives: 2422.0000 - true_negatives: 41312.0000 - false_negatives: 3163.0000 - false_positives: 11237.0000 - auc: 0.6793 - prc: 0.1781 - val_loss: 0.3886 - val_binary_accuracy: 0.7593 - val_precision: 0.2761 - val_recall: 0.8742 - val_true_positives: 1265.0000 - val_true_negatives: 9771.0000 - val_false_negatives: 182.0000 - val_false_positives: 3316.0000 - val_auc: 0.8555 - val_prc: 0.2799\n",
      "Epoch 43/100\n",
      "29/29 [==============================] - 0s 7ms/step - loss: 0.6061 - binary_accuracy: 0.7561 - precision: 0.1792 - recall: 0.4297 - true_positives: 2400.0000 - true_negatives: 41555.0000 - false_negatives: 3185.0000 - false_positives: 10994.0000 - auc: 0.6801 - prc: 0.1781 - val_loss: 0.4022 - val_binary_accuracy: 0.7171 - val_precision: 0.2503 - val_recall: 0.9233 - val_true_positives: 1336.0000 - val_true_negatives: 9086.0000 - val_false_negatives: 111.0000 - val_false_positives: 4001.0000 - val_auc: 0.8526 - val_prc: 0.2760\n",
      "Epoch 44/100\n",
      "29/29 [==============================] - 0s 7ms/step - loss: 0.6047 - binary_accuracy: 0.7542 - precision: 0.1785 - recall: 0.4326 - true_positives: 2416.0000 - true_negatives: 41431.0000 - false_negatives: 3169.0000 - false_positives: 11118.0000 - auc: 0.6819 - prc: 0.1806 - val_loss: 0.4004 - val_binary_accuracy: 0.7194 - val_precision: 0.2516 - val_recall: 0.9205 - val_true_positives: 1332.0000 - val_true_negatives: 9124.0000 - val_false_negatives: 115.0000 - val_false_positives: 3963.0000 - val_auc: 0.8538 - val_prc: 0.2777\n",
      "Epoch 45/100\n",
      "29/29 [==============================] - 0s 9ms/step - loss: 0.6034 - binary_accuracy: 0.7616 - precision: 0.1838 - recall: 0.4304 - true_positives: 2404.0000 - true_negatives: 41871.0000 - false_negatives: 3181.0000 - false_positives: 10678.0000 - auc: 0.6840 - prc: 0.1808 - val_loss: 0.3998 - val_binary_accuracy: 0.7227 - val_precision: 0.2534 - val_recall: 0.9171 - val_true_positives: 1327.0000 - val_true_negatives: 9177.0000 - val_false_negatives: 120.0000 - val_false_positives: 3910.0000 - val_auc: 0.8541 - val_prc: 0.2779\n",
      "Epoch 46/100\n",
      "29/29 [==============================] - 0s 8ms/step - loss: 0.6010 - binary_accuracy: 0.7557 - precision: 0.1842 - recall: 0.4501 - true_positives: 2514.0000 - true_negatives: 41415.0000 - false_negatives: 3071.0000 - false_positives: 11134.0000 - auc: 0.6900 - prc: 0.1879 - val_loss: 0.4049 - val_binary_accuracy: 0.7204 - val_precision: 0.2528 - val_recall: 0.9247 - val_true_positives: 1338.0000 - val_true_negatives: 9132.0000 - val_false_negatives: 109.0000 - val_false_positives: 3955.0000 - val_auc: 0.8532 - val_prc: 0.2769\n",
      "Epoch 47/100\n",
      "29/29 [==============================] - 0s 8ms/step - loss: 0.6043 - binary_accuracy: 0.7543 - precision: 0.1802 - recall: 0.4387 - true_positives: 2450.0000 - true_negatives: 41403.0000 - false_negatives: 3135.0000 - false_positives: 11146.0000 - auc: 0.6836 - prc: 0.1822 - val_loss: 0.3978 - val_binary_accuracy: 0.7311 - val_precision: 0.2585 - val_recall: 0.9102 - val_true_positives: 1317.0000 - val_true_negatives: 9309.0000 - val_false_negatives: 130.0000 - val_false_positives: 3778.0000 - val_auc: 0.8545 - val_prc: 0.2789\n",
      "Epoch 48/100\n",
      "29/29 [==============================] - 0s 7ms/step - loss: 0.6043 - binary_accuracy: 0.7644 - precision: 0.1826 - recall: 0.4179 - true_positives: 2334.0000 - true_negatives: 42101.0000 - false_negatives: 3251.0000 - false_positives: 10448.0000 - auc: 0.6823 - prc: 0.1795 - val_loss: 0.3963 - val_binary_accuracy: 0.7343 - val_precision: 0.2599 - val_recall: 0.9032 - val_true_positives: 1307.0000 - val_true_negatives: 9366.0000 - val_false_negatives: 140.0000 - val_false_positives: 3721.0000 - val_auc: 0.8544 - val_prc: 0.2782\n",
      "Epoch 49/100\n",
      "29/29 [==============================] - 0s 8ms/step - loss: 0.6050 - binary_accuracy: 0.7604 - precision: 0.1796 - recall: 0.4186 - true_positives: 2338.0000 - true_negatives: 41868.0000 - false_negatives: 3247.0000 - false_positives: 10681.0000 - auc: 0.6802 - prc: 0.1753 - val_loss: 0.3850 - val_binary_accuracy: 0.7530 - val_precision: 0.2716 - val_recall: 0.8804 - val_true_positives: 1274.0000 - val_true_negatives: 9670.0000 - val_false_negatives: 173.0000 - val_false_positives: 3417.0000 - val_auc: 0.8553 - val_prc: 0.2798\n",
      "Epoch 50/100\n",
      "29/29 [==============================] - 0s 7ms/step - loss: 0.6022 - binary_accuracy: 0.7644 - precision: 0.1864 - recall: 0.4319 - true_positives: 2412.0000 - true_negatives: 42023.0000 - false_negatives: 3173.0000 - false_positives: 10526.0000 - auc: 0.6871 - prc: 0.1854 - val_loss: 0.3884 - val_binary_accuracy: 0.7566 - val_precision: 0.2743 - val_recall: 0.8777 - val_true_positives: 1270.0000 - val_true_negatives: 9727.0000 - val_false_negatives: 177.0000 - val_false_positives: 3360.0000 - val_auc: 0.8566 - val_prc: 0.2821\n",
      "Epoch 51/100\n",
      "29/29 [==============================] - 0s 7ms/step - loss: 0.6009 - binary_accuracy: 0.7766 - precision: 0.1934 - recall: 0.4179 - true_positives: 2334.0000 - true_negatives: 42814.0000 - false_negatives: 3251.0000 - false_positives: 9735.0000 - auc: 0.6901 - prc: 0.1813 - val_loss: 0.3941 - val_binary_accuracy: 0.7360 - val_precision: 0.2611 - val_recall: 0.9026 - val_true_positives: 1306.0000 - val_true_negatives: 9391.0000 - val_false_negatives: 141.0000 - val_false_positives: 3696.0000 - val_auc: 0.8561 - val_prc: 0.2820\n",
      "Epoch 52/100\n",
      "29/29 [==============================] - 0s 8ms/step - loss: 0.6069 - binary_accuracy: 0.7598 - precision: 0.1788 - recall: 0.4177 - true_positives: 2333.0000 - true_negatives: 41836.0000 - false_negatives: 3252.0000 - false_positives: 10713.0000 - auc: 0.6799 - prc: 0.1753 - val_loss: 0.3902 - val_binary_accuracy: 0.7427 - val_precision: 0.2650 - val_recall: 0.8936 - val_true_positives: 1293.0000 - val_true_negatives: 9501.0000 - val_false_negatives: 154.0000 - val_false_positives: 3586.0000 - val_auc: 0.8560 - val_prc: 0.2814\n",
      "Epoch 53/100\n",
      "29/29 [==============================] - 0s 7ms/step - loss: 0.6038 - binary_accuracy: 0.7617 - precision: 0.1842 - recall: 0.4315 - true_positives: 2410.0000 - true_negatives: 41873.0000 - false_negatives: 3175.0000 - false_positives: 10676.0000 - auc: 0.6864 - prc: 0.1841 - val_loss: 0.3962 - val_binary_accuracy: 0.7336 - val_precision: 0.2599 - val_recall: 0.9067 - val_true_positives: 1312.0000 - val_true_negatives: 9350.0000 - val_false_negatives: 135.0000 - val_false_positives: 3737.0000 - val_auc: 0.8549 - val_prc: 0.2793\n",
      "Epoch 54/100\n",
      "29/29 [==============================] - 0s 7ms/step - loss: 0.6002 - binary_accuracy: 0.7771 - precision: 0.1963 - recall: 0.4267 - true_positives: 2383.0000 - true_negatives: 42795.0000 - false_negatives: 3202.0000 - false_positives: 9754.0000 - auc: 0.6932 - prc: 0.1869 - val_loss: 0.3933 - val_binary_accuracy: 0.7412 - val_precision: 0.2646 - val_recall: 0.8991 - val_true_positives: 1301.0000 - val_true_negatives: 9471.0000 - val_false_negatives: 146.0000 - val_false_positives: 3616.0000 - val_auc: 0.8555 - val_prc: 0.2797\n",
      "Epoch 55/100\n",
      "29/29 [==============================] - 0s 8ms/step - loss: 0.6006 - binary_accuracy: 0.7753 - precision: 0.1919 - recall: 0.4170 - true_positives: 2329.0000 - true_negatives: 42740.0000 - false_negatives: 3256.0000 - false_positives: 9809.0000 - auc: 0.6913 - prc: 0.1872 - val_loss: 0.3945 - val_binary_accuracy: 0.7476 - val_precision: 0.2684 - val_recall: 0.8894 - val_true_positives: 1287.0000 - val_true_negatives: 9579.0000 - val_false_negatives: 160.0000 - val_false_positives: 3508.0000 - val_auc: 0.8557 - val_prc: 0.2806\n",
      "Epoch 56/100\n",
      "29/29 [==============================] - 0s 8ms/step - loss: 0.6058 - binary_accuracy: 0.7652 - precision: 0.1818 - recall: 0.4124 - true_positives: 2303.0000 - true_negatives: 42182.0000 - false_negatives: 3282.0000 - false_positives: 10367.0000 - auc: 0.6822 - prc: 0.1761 - val_loss: 0.3934 - val_binary_accuracy: 0.7340 - val_precision: 0.2596 - val_recall: 0.9026 - val_true_positives: 1306.0000 - val_true_negatives: 9362.0000 - val_false_negatives: 141.0000 - val_false_positives: 3725.0000 - val_auc: 0.8540 - val_prc: 0.2796\n",
      "Epoch 57/100\n",
      "29/29 [==============================] - 0s 8ms/step - loss: 0.6023 - binary_accuracy: 0.4981 - precision: 0.1308 - recall: 0.7484 - true_positives: 4180.0000 - true_negatives: 24779.0000 - false_negatives: 1405.0000 - false_positives: 27770.0000 - auc: 0.6887 - prc: 0.1838 - val_loss: 0.3958 - val_binary_accuracy: 0.7305 - val_precision: 0.2572 - val_recall: 0.9039 - val_true_positives: 1308.0000 - val_true_negatives: 9309.0000 - val_false_negatives: 139.0000 - val_false_positives: 3778.0000 - val_auc: 0.8538 - val_prc: 0.2772\n",
      "Epoch 58/100\n",
      "29/29 [==============================] - 0s 8ms/step - loss: 0.6020 - binary_accuracy: 0.5173 - precision: 0.1343 - recall: 0.7388 - true_positives: 4126.0000 - true_negatives: 25948.0000 - false_negatives: 1459.0000 - false_positives: 26601.0000 - auc: 0.6906 - prc: 0.1808 - val_loss: 0.3910 - val_binary_accuracy: 0.7491 - val_precision: 0.2699 - val_recall: 0.8915 - val_true_positives: 1290.0000 - val_true_negatives: 9598.0000 - val_false_negatives: 157.0000 - val_false_positives: 3489.0000 - val_auc: 0.8563 - val_prc: 0.2813\n",
      "Epoch 59/100\n",
      "29/29 [==============================] - 0s 8ms/step - loss: 0.6025 - binary_accuracy: 0.4596 - precision: 0.1285 - recall: 0.8000 - true_positives: 4468.0000 - true_negatives: 22253.0000 - false_negatives: 1117.0000 - false_positives: 30296.0000 - auc: 0.6882 - prc: 0.1787 - val_loss: 0.3938 - val_binary_accuracy: 0.7289 - val_precision: 0.2564 - val_recall: 0.9067 - val_true_positives: 1312.0000 - val_true_negatives: 9282.0000 - val_false_negatives: 135.0000 - val_false_positives: 3805.0000 - val_auc: 0.8558 - val_prc: 0.2860\n",
      "Epoch 60/100\n",
      "29/29 [==============================] - 0s 8ms/step - loss: 0.6029 - binary_accuracy: 0.5242 - precision: 0.1336 - recall: 0.7205 - true_positives: 4024.0000 - true_negatives: 26451.0000 - false_negatives: 1561.0000 - false_positives: 26098.0000 - auc: 0.6856 - prc: 0.1812 - val_loss: 0.3983 - val_binary_accuracy: 0.7371 - val_precision: 0.2619 - val_recall: 0.9026 - val_true_positives: 1306.0000 - val_true_negatives: 9407.0000 - val_false_negatives: 141.0000 - val_false_positives: 3680.0000 - val_auc: 0.8553 - val_prc: 0.2801\n",
      "Epoch 61/100\n",
      "29/29 [==============================] - 0s 8ms/step - loss: 0.6011 - binary_accuracy: 0.3922 - precision: 0.1265 - recall: 0.9019 - true_positives: 5037.0000 - true_negatives: 17762.0000 - false_negatives: 548.0000 - false_positives: 34787.0000 - auc: 0.6907 - prc: 0.1810 - val_loss: 0.3955 - val_binary_accuracy: 0.7365 - val_precision: 0.2615 - val_recall: 0.9026 - val_true_positives: 1306.0000 - val_true_negatives: 9398.0000 - val_false_negatives: 141.0000 - val_false_positives: 3689.0000 - val_auc: 0.8525 - val_prc: 0.2745\n",
      "Epoch 62/100\n",
      "29/29 [==============================] - 0s 8ms/step - loss: 0.6015 - binary_accuracy: 0.3825 - precision: 0.1252 - recall: 0.9064 - true_positives: 5062.0000 - true_negatives: 17172.0000 - false_negatives: 523.0000 - false_positives: 35377.0000 - auc: 0.6899 - prc: 0.1839 - val_loss: 0.3897 - val_binary_accuracy: 0.7525 - val_precision: 0.2718 - val_recall: 0.8846 - val_true_positives: 1280.0000 - val_true_negatives: 9657.0000 - val_false_negatives: 167.0000 - val_false_positives: 3430.0000 - val_auc: 0.8545 - val_prc: 0.2783\n",
      "Epoch 63/100\n",
      "29/29 [==============================] - 0s 8ms/step - loss: 0.6043 - binary_accuracy: 0.4260 - precision: 0.1267 - recall: 0.8442 - true_positives: 4715.0000 - true_negatives: 20051.0000 - false_negatives: 870.0000 - false_positives: 32498.0000 - auc: 0.6848 - prc: 0.1807 - val_loss: 0.3841 - val_binary_accuracy: 0.7654 - val_precision: 0.2805 - val_recall: 0.8666 - val_true_positives: 1254.0000 - val_true_negatives: 9871.0000 - val_false_negatives: 193.0000 - val_false_positives: 3216.0000 - val_auc: 0.8560 - val_prc: 0.2807\n",
      "Epoch 64/100\n",
      "29/29 [==============================] - 0s 7ms/step - loss: 0.5993 - binary_accuracy: 0.5418 - precision: 0.1366 - recall: 0.7085 - true_positives: 3957.0000 - true_negatives: 27540.0000 - false_negatives: 1628.0000 - false_positives: 25009.0000 - auc: 0.6969 - prc: 0.1899 - val_loss: 0.3937 - val_binary_accuracy: 0.7365 - val_precision: 0.2614 - val_recall: 0.9019 - val_true_positives: 1305.0000 - val_true_negatives: 9399.0000 - val_false_negatives: 142.0000 - val_false_positives: 3688.0000 - val_auc: 0.8535 - val_prc: 0.2780\n",
      "Epoch 65/100\n",
      "29/29 [==============================] - 0s 8ms/step - loss: 0.6007 - binary_accuracy: 0.5417 - precision: 0.1374 - recall: 0.7146 - true_positives: 3991.0000 - true_negatives: 27503.0000 - false_negatives: 1594.0000 - false_positives: 25046.0000 - auc: 0.6921 - prc: 0.1881 - val_loss: 0.3891 - val_binary_accuracy: 0.7509 - val_precision: 0.2709 - val_recall: 0.8880 - val_true_positives: 1285.0000 - val_true_negatives: 9628.0000 - val_false_negatives: 162.0000 - val_false_positives: 3459.0000 - val_auc: 0.8537 - val_prc: 0.2774\n",
      "Epoch 66/100\n",
      "29/29 [==============================] - 0s 8ms/step - loss: 0.5997 - binary_accuracy: 0.3898 - precision: 0.1259 - recall: 0.9010 - true_positives: 5032.0000 - true_negatives: 17628.0000 - false_negatives: 553.0000 - false_positives: 34921.0000 - auc: 0.6935 - prc: 0.1885 - val_loss: 0.4007 - val_binary_accuracy: 0.7337 - val_precision: 0.2593 - val_recall: 0.9026 - val_true_positives: 1306.0000 - val_true_negatives: 9357.0000 - val_false_negatives: 141.0000 - val_false_positives: 3730.0000 - val_auc: 0.8548 - val_prc: 0.2785\n",
      "Epoch 67/100\n",
      "29/29 [==============================] - 0s 8ms/step - loss: 0.6029 - binary_accuracy: 0.5597 - precision: 0.1380 - recall: 0.6831 - true_positives: 3815.0000 - true_negatives: 28721.0000 - false_negatives: 1770.0000 - false_positives: 23828.0000 - auc: 0.6892 - prc: 0.1796 - val_loss: 0.4015 - val_binary_accuracy: 0.7335 - val_precision: 0.2596 - val_recall: 0.9053 - val_true_positives: 1310.0000 - val_true_negatives: 9351.0000 - val_false_negatives: 137.0000 - val_false_positives: 3736.0000 - val_auc: 0.8533 - val_prc: 0.2767\n",
      "Epoch 68/100\n",
      "29/29 [==============================] - 0s 8ms/step - loss: 0.6017 - binary_accuracy: 0.5164 - precision: 0.1344 - recall: 0.7416 - true_positives: 4142.0000 - true_negatives: 25878.0000 - false_negatives: 1443.0000 - false_positives: 26671.0000 - auc: 0.6909 - prc: 0.1845 - val_loss: 0.3844 - val_binary_accuracy: 0.7681 - val_precision: 0.2825 - val_recall: 0.8632 - val_true_positives: 1249.0000 - val_true_negatives: 9914.0000 - val_false_negatives: 198.0000 - val_false_positives: 3173.0000 - val_auc: 0.8550 - val_prc: 0.2776\n",
      "Epoch 69/100\n",
      "29/29 [==============================] - 0s 8ms/step - loss: 0.6011 - binary_accuracy: 0.5028 - precision: 0.1320 - recall: 0.7488 - true_positives: 4182.0000 - true_negatives: 25045.0000 - false_negatives: 1403.0000 - false_positives: 27504.0000 - auc: 0.6891 - prc: 0.1850 - val_loss: 0.3936 - val_binary_accuracy: 0.7574 - val_precision: 0.2747 - val_recall: 0.8756 - val_true_positives: 1267.0000 - val_true_negatives: 9741.0000 - val_false_negatives: 180.0000 - val_false_positives: 3346.0000 - val_auc: 0.8540 - val_prc: 0.2772\n",
      "Epoch 70/100\n",
      "29/29 [==============================] - 0s 7ms/step - loss: 0.6010 - binary_accuracy: 0.7788 - precision: 0.1958 - recall: 0.4193 - true_positives: 2342.0000 - true_negatives: 42932.0000 - false_negatives: 3243.0000 - false_positives: 9617.0000 - auc: 0.6931 - prc: 0.1834 - val_loss: 0.3864 - val_binary_accuracy: 0.7623 - val_precision: 0.2784 - val_recall: 0.8715 - val_true_positives: 1261.0000 - val_true_negatives: 9818.0000 - val_false_negatives: 186.0000 - val_false_positives: 3269.0000 - val_auc: 0.8556 - val_prc: 0.2805\n",
      "Epoch 71/100\n",
      "29/29 [==============================] - 0s 8ms/step - loss: 0.6007 - binary_accuracy: 0.5676 - precision: 0.1389 - recall: 0.6732 - true_positives: 3760.0000 - true_negatives: 29239.0000 - false_negatives: 1825.0000 - false_positives: 23310.0000 - auc: 0.6902 - prc: 0.1854 - val_loss: 0.3897 - val_binary_accuracy: 0.7557 - val_precision: 0.2734 - val_recall: 0.8770 - val_true_positives: 1269.0000 - val_true_negatives: 9714.0000 - val_false_negatives: 178.0000 - val_false_positives: 3373.0000 - val_auc: 0.8551 - val_prc: 0.2787\n",
      "Epoch 72/100\n",
      "29/29 [==============================] - 0s 8ms/step - loss: 0.6040 - binary_accuracy: 0.5718 - precision: 0.1388 - recall: 0.6639 - true_positives: 3708.0000 - true_negatives: 29533.0000 - false_negatives: 1877.0000 - false_positives: 23016.0000 - auc: 0.6869 - prc: 0.1827 - val_loss: 0.3854 - val_binary_accuracy: 0.7688 - val_precision: 0.2833 - val_recall: 0.8639 - val_true_positives: 1250.0000 - val_true_negatives: 9924.0000 - val_false_negatives: 197.0000 - val_false_positives: 3163.0000 - val_auc: 0.8547 - val_prc: 0.2783\n",
      "Epoch 73/100\n",
      "29/29 [==============================] - 0s 8ms/step - loss: 0.6032 - binary_accuracy: 0.4224 - precision: 0.1273 - recall: 0.8560 - true_positives: 4781.0000 - true_negatives: 19774.0000 - false_negatives: 804.0000 - false_positives: 32775.0000 - auc: 0.6869 - prc: 0.1798 - val_loss: 0.3821 - val_binary_accuracy: 0.7683 - val_precision: 0.2827 - val_recall: 0.8632 - val_true_positives: 1249.0000 - val_true_negatives: 9918.0000 - val_false_negatives: 198.0000 - val_false_positives: 3169.0000 - val_auc: 0.8575 - val_prc: 0.2844\n",
      "Epoch 74/100\n",
      "29/29 [==============================] - 0s 8ms/step - loss: 0.6015 - binary_accuracy: 0.3924 - precision: 0.1259 - recall: 0.8956 - true_positives: 5002.0000 - true_negatives: 17812.0000 - false_negatives: 583.0000 - false_positives: 34737.0000 - auc: 0.6904 - prc: 0.1841 - val_loss: 0.3900 - val_binary_accuracy: 0.7507 - val_precision: 0.2700 - val_recall: 0.8832 - val_true_positives: 1278.0000 - val_true_negatives: 9632.0000 - val_false_negatives: 169.0000 - val_false_positives: 3455.0000 - val_auc: 0.8546 - val_prc: 0.2783\n",
      "Epoch 75/100\n",
      "29/29 [==============================] - 0s 7ms/step - loss: 0.6001 - binary_accuracy: 0.3914 - precision: 0.1262 - recall: 0.9004 - true_positives: 5029.0000 - true_negatives: 17727.0000 - false_negatives: 556.0000 - false_positives: 34822.0000 - auc: 0.6933 - prc: 0.1872 - val_loss: 0.3886 - val_binary_accuracy: 0.7515 - val_precision: 0.2711 - val_recall: 0.8860 - val_true_positives: 1282.0000 - val_true_negatives: 9640.0000 - val_false_negatives: 165.0000 - val_false_positives: 3447.0000 - val_auc: 0.8550 - val_prc: 0.2808\n",
      "Epoch 76/100\n",
      "29/29 [==============================] - 0s 8ms/step - loss: 0.6004 - binary_accuracy: 0.3941 - precision: 0.1263 - recall: 0.8965 - true_positives: 5007.0000 - true_negatives: 17906.0000 - false_negatives: 578.0000 - false_positives: 34643.0000 - auc: 0.6892 - prc: 0.1832 - val_loss: 0.3839 - val_binary_accuracy: 0.7674 - val_precision: 0.2823 - val_recall: 0.8666 - val_true_positives: 1254.0000 - val_true_negatives: 9899.0000 - val_false_negatives: 193.0000 - val_false_positives: 3188.0000 - val_auc: 0.8557 - val_prc: 0.2796\n",
      "Epoch 77/100\n",
      "29/29 [==============================] - 0s 7ms/step - loss: 0.6063 - binary_accuracy: 0.3928 - precision: 0.1251 - recall: 0.8879 - true_positives: 4959.0000 - true_negatives: 17876.0000 - false_negatives: 626.0000 - false_positives: 34673.0000 - auc: 0.6780 - prc: 0.1750 - val_loss: 0.3854 - val_binary_accuracy: 0.7610 - val_precision: 0.2774 - val_recall: 0.8721 - val_true_positives: 1262.0000 - val_true_negatives: 9799.0000 - val_false_negatives: 185.0000 - val_false_positives: 3288.0000 - val_auc: 0.8547 - val_prc: 0.2770\n",
      "Epoch 78/100\n",
      "29/29 [==============================] - 0s 8ms/step - loss: 0.6006 - binary_accuracy: 0.3922 - precision: 0.1255 - recall: 0.8927 - true_positives: 4986.0000 - true_negatives: 17813.0000 - false_negatives: 599.0000 - false_positives: 34736.0000 - auc: 0.6909 - prc: 0.1868 - val_loss: 0.3949 - val_binary_accuracy: 0.7522 - val_precision: 0.2711 - val_recall: 0.8818 - val_true_positives: 1276.0000 - val_true_negatives: 9657.0000 - val_false_negatives: 171.0000 - val_false_positives: 3430.0000 - val_auc: 0.8544 - val_prc: 0.2776\n",
      "Epoch 79/100\n",
      "29/29 [==============================] - 0s 8ms/step - loss: 0.6012 - binary_accuracy: 0.3936 - precision: 0.1266 - recall: 0.9006 - true_positives: 5030.0000 - true_negatives: 17849.0000 - false_negatives: 555.0000 - false_positives: 34700.0000 - auc: 0.6904 - prc: 0.1832 - val_loss: 0.4013 - val_binary_accuracy: 0.7290 - val_precision: 0.2582 - val_recall: 0.9191 - val_true_positives: 1330.0000 - val_true_negatives: 9265.0000 - val_false_negatives: 117.0000 - val_false_positives: 3822.0000 - val_auc: 0.8532 - val_prc: 0.2767\n",
      "Epoch 80/100\n",
      "29/29 [==============================] - 0s 8ms/step - loss: 0.6032 - binary_accuracy: 0.3921 - precision: 0.1255 - recall: 0.8926 - true_positives: 4985.0000 - true_negatives: 17809.0000 - false_negatives: 600.0000 - false_positives: 34740.0000 - auc: 0.6865 - prc: 0.1819 - val_loss: 0.3960 - val_binary_accuracy: 0.7419 - val_precision: 0.2645 - val_recall: 0.8943 - val_true_positives: 1294.0000 - val_true_negatives: 9489.0000 - val_false_negatives: 153.0000 - val_false_positives: 3598.0000 - val_auc: 0.8563 - val_prc: 0.2823\n",
      "Epoch 81/100\n",
      "29/29 [==============================] - 0s 8ms/step - loss: 0.6016 - binary_accuracy: 0.3956 - precision: 0.1266 - recall: 0.8972 - true_positives: 5011.0000 - true_negatives: 17984.0000 - false_negatives: 574.0000 - false_positives: 34565.0000 - auc: 0.6901 - prc: 0.1827 - val_loss: 0.3902 - val_binary_accuracy: 0.7568 - val_precision: 0.2745 - val_recall: 0.8777 - val_true_positives: 1270.0000 - val_true_negatives: 9730.0000 - val_false_negatives: 177.0000 - val_false_positives: 3357.0000 - val_auc: 0.8554 - val_prc: 0.2790\n",
      "Epoch 82/100\n",
      "29/29 [==============================] - 0s 8ms/step - loss: 0.6015 - binary_accuracy: 0.3899 - precision: 0.1256 - recall: 0.8970 - true_positives: 5010.0000 - true_negatives: 17659.0000 - false_negatives: 575.0000 - false_positives: 34890.0000 - auc: 0.6908 - prc: 0.1859 - val_loss: 0.3886 - val_binary_accuracy: 0.7546 - val_precision: 0.2730 - val_recall: 0.8804 - val_true_positives: 1274.0000 - val_true_negatives: 9694.0000 - val_false_negatives: 173.0000 - val_false_positives: 3393.0000 - val_auc: 0.8560 - val_prc: 0.2803\n",
      "Epoch 83/100\n",
      "29/29 [==============================] - 0s 8ms/step - loss: 0.6007 - binary_accuracy: 0.6461 - precision: 0.1514 - recall: 0.5828 - true_positives: 3255.0000 - true_negatives: 34304.0000 - false_negatives: 2330.0000 - false_positives: 18245.0000 - auc: 0.6920 - prc: 0.1858 - val_loss: 0.3899 - val_binary_accuracy: 0.7485 - val_precision: 0.2681 - val_recall: 0.8825 - val_true_positives: 1277.0000 - val_true_negatives: 9601.0000 - val_false_negatives: 170.0000 - val_false_positives: 3486.0000 - val_auc: 0.8570 - val_prc: 0.2833\n",
      "Epoch 84/100\n",
      "29/29 [==============================] - 0s 8ms/step - loss: 0.5970 - binary_accuracy: 0.4793 - precision: 0.1329 - recall: 0.7998 - true_positives: 4467.0000 - true_negatives: 23397.0000 - false_negatives: 1118.0000 - false_positives: 29152.0000 - auc: 0.6967 - prc: 0.1866 - val_loss: 0.3917 - val_binary_accuracy: 0.7483 - val_precision: 0.2687 - val_recall: 0.8874 - val_true_positives: 1284.0000 - val_true_negatives: 9592.0000 - val_false_negatives: 163.0000 - val_false_positives: 3495.0000 - val_auc: 0.8549 - val_prc: 0.2792\n",
      "Epoch 85/100\n",
      "29/29 [==============================] - 0s 7ms/step - loss: 0.6008 - binary_accuracy: 0.7263 - precision: 0.1731 - recall: 0.4895 - true_positives: 2734.0000 - true_negatives: 39486.0000 - false_negatives: 2851.0000 - false_positives: 13063.0000 - auc: 0.6914 - prc: 0.1842 - val_loss: 0.3960 - val_binary_accuracy: 0.7369 - val_precision: 0.2618 - val_recall: 0.9026 - val_true_positives: 1306.0000 - val_true_negatives: 9404.0000 - val_false_negatives: 141.0000 - val_false_positives: 3683.0000 - val_auc: 0.8548 - val_prc: 0.2793\n",
      "Epoch 86/100\n",
      "29/29 [==============================] - 0s 8ms/step - loss: 0.6031 - binary_accuracy: 0.5832 - precision: 0.1392 - recall: 0.6440 - true_positives: 3597.0000 - true_negatives: 30309.0000 - false_negatives: 1988.0000 - false_positives: 22240.0000 - auc: 0.6872 - prc: 0.1810 - val_loss: 0.3960 - val_binary_accuracy: 0.7469 - val_precision: 0.2674 - val_recall: 0.8860 - val_true_positives: 1282.0000 - val_true_negatives: 9574.0000 - val_false_negatives: 165.0000 - val_false_positives: 3513.0000 - val_auc: 0.8583 - val_prc: 0.2891\n",
      "Epoch 87/100\n",
      "29/29 [==============================] - 0s 8ms/step - loss: 0.5983 - binary_accuracy: 0.5280 - precision: 0.1369 - recall: 0.7379 - true_positives: 4121.0000 - true_negatives: 26571.0000 - false_negatives: 1464.0000 - false_positives: 25978.0000 - auc: 0.6965 - prc: 0.1865 - val_loss: 0.3933 - val_binary_accuracy: 0.7544 - val_precision: 0.2728 - val_recall: 0.8804 - val_true_positives: 1274.0000 - val_true_negatives: 9691.0000 - val_false_negatives: 173.0000 - val_false_positives: 3396.0000 - val_auc: 0.8568 - val_prc: 0.2821\n",
      "Epoch 88/100\n",
      "29/29 [==============================] - 0s 7ms/step - loss: 0.6021 - binary_accuracy: 0.7770 - precision: 0.1934 - recall: 0.4167 - true_positives: 2327.0000 - true_negatives: 42845.0000 - false_negatives: 3258.0000 - false_positives: 9704.0000 - auc: 0.6886 - prc: 0.1830 - val_loss: 0.3928 - val_binary_accuracy: 0.7411 - val_precision: 0.2644 - val_recall: 0.8984 - val_true_positives: 1300.0000 - val_true_negatives: 9471.0000 - val_false_negatives: 147.0000 - val_false_positives: 3616.0000 - val_auc: 0.8521 - val_prc: 0.2759\n",
      "Epoch 89/100\n",
      "29/29 [==============================] - 0s 8ms/step - loss: 0.5987 - binary_accuracy: 0.7865 - precision: 0.2053 - recall: 0.4258 - true_positives: 2378.0000 - true_negatives: 43346.0000 - false_negatives: 3207.0000 - false_positives: 9203.0000 - auc: 0.6952 - prc: 0.1864 - val_loss: 0.3898 - val_binary_accuracy: 0.7527 - val_precision: 0.2714 - val_recall: 0.8811 - val_true_positives: 1275.0000 - val_true_negatives: 9665.0000 - val_false_negatives: 172.0000 - val_false_positives: 3422.0000 - val_auc: 0.8563 - val_prc: 0.2807\n",
      "Epoch 90/100\n",
      "29/29 [==============================] - 0s 8ms/step - loss: 0.5995 - binary_accuracy: 0.7870 - precision: 0.2020 - recall: 0.4125 - true_positives: 2304.0000 - true_negatives: 43449.0000 - false_negatives: 3281.0000 - false_positives: 9100.0000 - auc: 0.6928 - prc: 0.1854 - val_loss: 0.3845 - val_binary_accuracy: 0.7611 - val_precision: 0.2775 - val_recall: 0.8728 - val_true_positives: 1263.0000 - val_true_negatives: 9799.0000 - val_false_negatives: 184.0000 - val_false_positives: 3288.0000 - val_auc: 0.8552 - val_prc: 0.2794\n",
      "Epoch 91/100\n",
      "29/29 [==============================] - 0s 8ms/step - loss: 0.6009 - binary_accuracy: 0.7848 - precision: 0.1985 - recall: 0.4081 - true_positives: 2279.0000 - true_negatives: 43347.0000 - false_negatives: 3306.0000 - false_positives: 9202.0000 - auc: 0.6904 - prc: 0.1831 - val_loss: 0.3888 - val_binary_accuracy: 0.7513 - val_precision: 0.2704 - val_recall: 0.8818 - val_true_positives: 1276.0000 - val_true_negatives: 9644.0000 - val_false_negatives: 171.0000 - val_false_positives: 3443.0000 - val_auc: 0.8546 - val_prc: 0.2792\n",
      "Epoch 92/100\n",
      "29/29 [==============================] - 0s 8ms/step - loss: 0.5990 - binary_accuracy: 0.7837 - precision: 0.2024 - recall: 0.4254 - true_positives: 2376.0000 - true_negatives: 43186.0000 - false_negatives: 3209.0000 - false_positives: 9363.0000 - auc: 0.6956 - prc: 0.1857 - val_loss: 0.3872 - val_binary_accuracy: 0.7582 - val_precision: 0.2754 - val_recall: 0.8756 - val_true_positives: 1267.0000 - val_true_negatives: 9753.0000 - val_false_negatives: 180.0000 - val_false_positives: 3334.0000 - val_auc: 0.8550 - val_prc: 0.2789\n",
      "Epoch 93/100\n",
      "29/29 [==============================] - 0s 8ms/step - loss: 0.6002 - binary_accuracy: 0.7326 - precision: 0.1720 - recall: 0.4677 - true_positives: 2612.0000 - true_negatives: 39976.0000 - false_negatives: 2973.0000 - false_positives: 12573.0000 - auc: 0.6932 - prc: 0.1867 - val_loss: 0.3784 - val_binary_accuracy: 0.7676 - val_precision: 0.2823 - val_recall: 0.8652 - val_true_positives: 1252.0000 - val_true_negatives: 9904.0000 - val_false_negatives: 195.0000 - val_false_positives: 3183.0000 - val_auc: 0.8565 - val_prc: 0.2831\n",
      "Epoch 94/100\n",
      "29/29 [==============================] - 0s 9ms/step - loss: 0.5981 - binary_accuracy: 0.7888 - precision: 0.2069 - recall: 0.4229 - true_positives: 2362.0000 - true_negatives: 43497.0000 - false_negatives: 3223.0000 - false_positives: 9052.0000 - auc: 0.6977 - prc: 0.1889 - val_loss: 0.3940 - val_binary_accuracy: 0.7520 - val_precision: 0.2709 - val_recall: 0.8818 - val_true_positives: 1276.0000 - val_true_negatives: 9653.0000 - val_false_negatives: 171.0000 - val_false_positives: 3434.0000 - val_auc: 0.8559 - val_prc: 0.2808\n",
      "Epoch 95/100\n",
      "29/29 [==============================] - 0s 8ms/step - loss: 0.6013 - binary_accuracy: 0.7844 - precision: 0.1982 - recall: 0.4088 - true_positives: 2283.0000 - true_negatives: 43315.0000 - false_negatives: 3302.0000 - false_positives: 9234.0000 - auc: 0.6906 - prc: 0.1819 - val_loss: 0.3845 - val_binary_accuracy: 0.7584 - val_precision: 0.2753 - val_recall: 0.8735 - val_true_positives: 1264.0000 - val_true_negatives: 9759.0000 - val_false_negatives: 183.0000 - val_false_positives: 3328.0000 - val_auc: 0.8583 - val_prc: 0.2896\n",
      "Epoch 96/100\n",
      "29/29 [==============================] - 0s 8ms/step - loss: 0.6012 - binary_accuracy: 0.5369 - precision: 0.1378 - recall: 0.7269 - true_positives: 4060.0000 - true_negatives: 27151.0000 - false_negatives: 1525.0000 - false_positives: 25398.0000 - auc: 0.6913 - prc: 0.1797 - val_loss: 0.3853 - val_binary_accuracy: 0.7585 - val_precision: 0.2752 - val_recall: 0.8728 - val_true_positives: 1263.0000 - val_true_negatives: 9761.0000 - val_false_negatives: 184.0000 - val_false_positives: 3326.0000 - val_auc: 0.8552 - val_prc: 0.2792\n",
      "Epoch 97/100\n",
      "29/29 [==============================] - 0s 7ms/step - loss: 0.6009 - binary_accuracy: 0.3956 - precision: 0.1263 - recall: 0.8945 - true_positives: 4996.0000 - true_negatives: 18001.0000 - false_negatives: 589.0000 - false_positives: 34548.0000 - auc: 0.6917 - prc: 0.1849 - val_loss: 0.3855 - val_binary_accuracy: 0.7660 - val_precision: 0.2809 - val_recall: 0.8659 - val_true_positives: 1253.0000 - val_true_negatives: 9880.0000 - val_false_negatives: 194.0000 - val_false_positives: 3207.0000 - val_auc: 0.8561 - val_prc: 0.2805\n",
      "Epoch 98/100\n",
      "29/29 [==============================] - 0s 8ms/step - loss: 0.5985 - binary_accuracy: 0.3972 - precision: 0.1261 - recall: 0.8890 - true_positives: 4965.0000 - true_negatives: 18128.0000 - false_negatives: 620.0000 - false_positives: 34421.0000 - auc: 0.6941 - prc: 0.1853 - val_loss: 0.3964 - val_binary_accuracy: 0.7433 - val_precision: 0.2653 - val_recall: 0.8922 - val_true_positives: 1291.0000 - val_true_negatives: 9512.0000 - val_false_negatives: 156.0000 - val_false_positives: 3575.0000 - val_auc: 0.8549 - val_prc: 0.2802\n",
      "Epoch 99/100\n",
      "29/29 [==============================] - 0s 8ms/step - loss: 0.5996 - binary_accuracy: 0.7701 - precision: 0.1920 - recall: 0.4340 - true_positives: 2424.0000 - true_negatives: 42346.0000 - false_negatives: 3161.0000 - false_positives: 10203.0000 - auc: 0.6935 - prc: 0.1873 - val_loss: 0.3940 - val_binary_accuracy: 0.7470 - val_precision: 0.2677 - val_recall: 0.8880 - val_true_positives: 1285.0000 - val_true_negatives: 9572.0000 - val_false_negatives: 162.0000 - val_false_positives: 3515.0000 - val_auc: 0.8551 - val_prc: 0.2794\n",
      "Epoch 100/100\n",
      "29/29 [==============================] - 0s 8ms/step - loss: 0.5992 - binary_accuracy: 0.7855 - precision: 0.2011 - recall: 0.4149 - true_positives: 2317.0000 - true_negatives: 43347.0000 - false_negatives: 3268.0000 - false_positives: 9202.0000 - auc: 0.6931 - prc: 0.1879 - val_loss: 0.3846 - val_binary_accuracy: 0.7676 - val_precision: 0.2823 - val_recall: 0.8645 - val_true_positives: 1251.0000 - val_true_negatives: 9906.0000 - val_false_negatives: 196.0000 - val_false_positives: 3181.0000 - val_auc: 0.8563 - val_prc: 0.2809\n"
     ]
    },
    {
     "data": {
      "text/plain": [
       "<keras.callbacks.History at 0x2b8c1526770>"
      ]
     },
     "execution_count": 31,
     "metadata": {},
     "output_type": "execute_result"
    }
   ],
   "source": [
    "weighted_model.fit(train_features, \n",
    "                    train_labels, \n",
    "                    batch_size=BATCH_SIZE, \n",
    "                    epochs=EPOCHS, \n",
    "                    #callbacks=[early_stopping], \n",
    "                    validation_data=(validation_features, validation_labels), \n",
    "                    class_weight=class_weights)"
   ]
  },
  {
   "cell_type": "code",
   "execution_count": 32,
   "metadata": {},
   "outputs": [
    {
     "name": "stdout",
     "output_type": "stream",
     "text": [
      "9/9 [==============================] - 0s 4ms/step - loss: 0.3786 - binary_accuracy: 0.7744 - precision: 0.2862 - recall: 0.8485 - true_positives: 1534.0000 - true_negatives: 12535.0000 - false_negatives: 274.0000 - false_positives: 3825.0000 - auc: 0.8555 - prc: 0.2747\n"
     ]
    },
    {
     "data": {
      "text/plain": [
       "[0.3786129057407379,\n",
       " 0.774383544921875,\n",
       " 0.2862474322319031,\n",
       " 0.8484513163566589,\n",
       " 1534.0,\n",
       " 12535.0,\n",
       " 274.0,\n",
       " 3825.0,\n",
       " 0.8555399179458618,\n",
       " 0.2747349739074707]"
      ]
     },
     "execution_count": 32,
     "metadata": {},
     "output_type": "execute_result"
    }
   ],
   "source": [
    "weighted_model.evaluate(test_features, test_labels, batch_size=BATCH_SIZE, verbose=1)"
   ]
  },
  {
   "cell_type": "code",
   "execution_count": 33,
   "metadata": {},
   "outputs": [
    {
     "name": "stdout",
     "output_type": "stream",
     "text": [
      "568/568 [==============================] - 1s 2ms/step\n"
     ]
    }
   ],
   "source": [
    "results = weighted_model.predict(test_features)\n",
    "results[results<0.5]=0\n",
    "results[results>0.5]=1"
   ]
  },
  {
   "cell_type": "code",
   "execution_count": 34,
   "metadata": {},
   "outputs": [
    {
     "ename": "NameError",
     "evalue": "name 'test_' is not defined",
     "output_type": "error",
     "traceback": [
      "\u001b[1;31m---------------------------------------------------------------------------\u001b[0m",
      "\u001b[1;31mNameError\u001b[0m                                 Traceback (most recent call last)",
      "\u001b[1;32m~\\AppData\\Local\\Temp/ipykernel_19000/4078111249.py\u001b[0m in \u001b[0;36m<module>\u001b[1;34m\u001b[0m\n\u001b[0;32m      1\u001b[0m \u001b[0mresults\u001b[0m\u001b[1;33m.\u001b[0m\u001b[0mshape\u001b[0m\u001b[1;33m\u001b[0m\u001b[1;33m\u001b[0m\u001b[0m\n\u001b[0;32m      2\u001b[0m \u001b[0mresults\u001b[0m \u001b[1;33m=\u001b[0m \u001b[0mresults\u001b[0m\u001b[1;33m.\u001b[0m\u001b[0mreshape\u001b[0m\u001b[1;33m(\u001b[0m\u001b[1;36m18168\u001b[0m\u001b[1;33m,\u001b[0m\u001b[1;33m)\u001b[0m\u001b[1;33m\u001b[0m\u001b[1;33m\u001b[0m\u001b[0m\n\u001b[1;32m----> 3\u001b[1;33m \u001b[0mcomparison\u001b[0m \u001b[1;33m=\u001b[0m \u001b[0mnp\u001b[0m\u001b[1;33m.\u001b[0m\u001b[0mstack\u001b[0m\u001b[1;33m(\u001b[0m\u001b[1;33m[\u001b[0m\u001b[0mresults\u001b[0m\u001b[1;33m,\u001b[0m \u001b[0mtest_labels\u001b[0m\u001b[1;33m,\u001b[0m \u001b[0mtest_\u001b[0m\u001b[1;33m]\u001b[0m\u001b[1;33m)\u001b[0m\u001b[1;33m\u001b[0m\u001b[1;33m\u001b[0m\u001b[0m\n\u001b[0m",
      "\u001b[1;31mNameError\u001b[0m: name 'test_' is not defined"
     ]
    }
   ],
   "source": [
    "results.shape\n",
    "results = results.reshape(18168,)\n",
    "comparison = np.stack([results, test_labels, test_])"
   ]
  },
  {
   "cell_type": "code",
   "execution_count": null,
   "metadata": {},
   "outputs": [],
   "source": [
    "comparison_tuples = list(zip(comparison[0], comparison[1]))"
   ]
  },
  {
   "cell_type": "code",
   "execution_count": null,
   "metadata": {},
   "outputs": [],
   "source": [
    "def check_correctness(comparison):\n",
    "    for predicted_label, actual_label in comparison:\n",
    "        if predicted_label == actual_label:\n",
    "            print(True)\n",
    "            continue\n",
    "        print(False)"
   ]
  },
  {
   "cell_type": "code",
   "execution_count": null,
   "metadata": {},
   "outputs": [],
   "source": [
    "check_correctness(comparison_tuples)"
   ]
  },
  {
   "cell_type": "markdown",
   "metadata": {},
   "source": [
    "Oversampling"
   ]
  },
  {
   "cell_type": "code",
   "execution_count": null,
   "metadata": {},
   "outputs": [],
   "source": [
    "# pos_features, neg_features = train_features[bool_train_labels], train_features[~bool_train_labels]\n",
    "\n",
    "# pos_labels, neg_labels = train_labels[bool_train_labels], train_labels[~bool_train_labels]"
   ]
  },
  {
   "cell_type": "code",
   "execution_count": null,
   "metadata": {},
   "outputs": [],
   "source": [
    "# BUFFER_SIZE = 100000\n",
    "\n",
    "# def make_ds(features, labels):\n",
    "#     ds = tf.data.Dataset.from_tensor_slices((features, labels))\n",
    "#     ds = ds.shuffle(BUFFER_SIZE).repeat()\n",
    "#     return ds"
   ]
  },
  {
   "cell_type": "code",
   "execution_count": null,
   "metadata": {},
   "outputs": [],
   "source": [
    "# pos_ds, neg_ds = make_ds(pos_features, pos_labels), make_ds(neg_features, neg_labels)"
   ]
  },
  {
   "cell_type": "code",
   "execution_count": null,
   "metadata": {},
   "outputs": [],
   "source": [
    "# resampled_ds = tf.data.Dataset.sample_from_datasets([pos_ds, neg_ds], weights=[0.5, 0.5])\n",
    "# resampled_ds = resampled_ds.batch(BATCH_SIZE).prefetch(2)\n",
    "\n",
    "# resampled_steps_per_epoch = np.ceil(2.0*neg/BATCH_SIZE)"
   ]
  },
  {
   "cell_type": "markdown",
   "metadata": {},
   "source": [
    "train with oversampling"
   ]
  },
  {
   "cell_type": "code",
   "execution_count": null,
   "metadata": {},
   "outputs": [],
   "source": [
    "# resampled_model = make_model()\n",
    "# resampled_model.load_weights(initial_weights)\n",
    "\n",
    "# # reset bias to 0, the set is now balanced\n",
    "# output_layer = resampled_model.layers[-1]\n",
    "# output_layer.bias.assign([0])\n",
    "\n",
    "# validation_data = tf.data.Dataset.from_tensor_slices((validation_data, validation_labels)).cache()\n",
    "# validation_data = validation_data.batch(BATCH_SIZE).prefetch(2)"
   ]
  },
  {
   "cell_type": "code",
   "execution_count": null,
   "metadata": {},
   "outputs": [],
   "source": [
    "# resampled_history = resampled_model.fit(resampled_ds,\n",
    "#                                         epochs=EPOCHS,\n",
    "#                                         steps_per_epoch=resampled_steps_per_epoch,\n",
    "#                                         callbacks=[early_stopping],\n",
    "#                                         validation_data=validation_data)"
   ]
  },
  {
   "cell_type": "markdown",
   "metadata": {},
   "source": [
    "make the resample model"
   ]
  },
  {
   "cell_type": "code",
   "execution_count": null,
   "metadata": {},
   "outputs": [],
   "source": [
    "# resampled_model.fit(resampled_ds,\n",
    "#                     epochs=EPOCHS,\n",
    "#                     steps_per_epoch=resampled_steps_per_epoch,\n",
    "#                     #callbacks=[early_stopping],\n",
    "#                     validation_data=validation_data,\n",
    "#                     class_weight={0:0.1, 1:0.1})"
   ]
  },
  {
   "cell_type": "code",
   "execution_count": null,
   "metadata": {},
   "outputs": [],
   "source": [
    "# resampled_model.evaluate(test_features, test_labels, batch_size=BATCH_SIZE, verbose=1)"
   ]
  },
  {
   "cell_type": "code",
   "execution_count": null,
   "metadata": {},
   "outputs": [],
   "source": [
    "tf.keras.backend.clear_session()"
   ]
  }
 ],
 "metadata": {
  "kernelspec": {
   "display_name": "Python 3.10.1 64-bit",
   "language": "python",
   "name": "python3"
  },
  "language_info": {
   "codemirror_mode": {
    "name": "ipython",
    "version": 3
   },
   "file_extension": ".py",
   "mimetype": "text/x-python",
   "name": "python",
   "nbconvert_exporter": "python",
   "pygments_lexer": "ipython3",
   "version": "3.10.1"
  },
  "orig_nbformat": 4,
  "vscode": {
   "interpreter": {
    "hash": "26de051ba29f2982a8de78e945f0abaf191376122a1563185a90213a26c5da77"
   }
  }
 },
 "nbformat": 4,
 "nbformat_minor": 2
}
