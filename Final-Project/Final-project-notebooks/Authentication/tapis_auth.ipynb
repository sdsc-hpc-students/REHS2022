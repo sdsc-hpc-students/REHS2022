{
 "cells": [
  {
   "cell_type": "markdown",
   "metadata": {},
   "source": [
    "# Authentication\n",
    "\n",
    "This notebook is how we authenticate our Neo4j database to TACC! We do this using tapis, and more specifically the pods API. \n",
    "Pods are a tool which allow for simple creation of a Neo4j DBMS hosted at TACC simply through some basic commands.\n",
    "At a high level, we create a Tapis object associated with an individual account. Then, a pod is created under that username, with the Neo4j template. \n",
    "This pod has an associated username and password to connect to the DBMS. A simple command reveals this information. It is also straightforward to add in other users to have\n",
    "admin access to this pod. The pod has an associated bolt url, which can be connected to via a Neo4j API like py2neo in a jupyter notebook. It can also be connected to via the \n",
    "Neo4j browser. And that's it! The Neo4j database is hosted and requires authentication to TACC via Tapis!"
   ]
  },
  {
   "cell_type": "code",
   "execution_count": 1,
   "metadata": {},
   "outputs": [
    {
     "data": {
      "application/javascript": [
       "var link = document.createElement(\"link\");\n",
       "\tlink.ref = \"stylesheet\";\n",
       "\tlink.type = \"text/css\";\n",
       "\tlink.href = \"https://cdnjs.cloudflare.com/ajax/libs/vis/4.8.2/vis.css\";\n",
       "\tdocument.head.appendChild(link);\n",
       "require.config({     paths: {         vis: '//cdnjs.cloudflare.com/ajax/libs/vis/4.8.2/vis.min'     } }); require(['vis'], function(vis) {  window.vis = vis; }); "
      ],
      "text/plain": [
       "<IPython.core.display.Javascript object>"
      ]
     },
     "metadata": {},
     "output_type": "display_data"
    }
   ],
   "source": [
    "import os\n",
    "import time\n",
    "import json\n",
    "import pprint as pp\n",
    "import datetime\n",
    "from getpass import getpass\n",
    "import pytz\n",
    "\n",
    "import pandas\n",
    "import neo4jupyter\n",
    "import py2neo\n",
    "from py2neo import Graph, Node, Relationship, GraphService\n",
    "\n",
    "from tapipy.tapis import Tapis\n",
    "\n",
    "def show(res):\n",
    "    try:\n",
    "        pp.pprint(res.json())\n",
    "    except:\n",
    "        pp.pprint(res.text)\n",
    "\n",
    "neo4jupyter.init_notebook_mode()"
   ]
  },
  {
   "cell_type": "code",
   "execution_count": 2,
   "metadata": {},
   "outputs": [
    {
     "name": "stdout",
     "output_type": "stream",
     "text": [
      "usernamead1616\n",
      "password········\n",
      "7.825415849685669\n",
      "base_url: https://icicle.develop.tapis.io\n",
      "serv_url: https://icicle.develop.tapis.io/v3\n"
     ]
    }
   ],
   "source": [
    "start = time.time()\n",
    "\n",
    "# Base URL for Tapis\n",
    "base_url = \"https://icicle.develop.tapis.io\"\n",
    "username = str(input(\"username\"))\n",
    "\n",
    "# Get Tapis object if it isn't already created.\n",
    "try:\n",
    "    if t.base_url == base_url and t.username == username and t.access_token:\n",
    "        print(\"Tapis object already exists.\")\n",
    "        if t.access_token.expires_at < datetime.datetime.now(pytz.utc):\n",
    "            print(\"Existing Tapis token expired, getting new token.\")\n",
    "            raise\n",
    "    else:\n",
    "        print(\"Creating new Tapis object.\")\n",
    "        raise\n",
    "except:\n",
    "    try:\n",
    "        t = Tapis(base_url = base_url,\n",
    "                  username = username,\n",
    "                  password = getpass('password'))\n",
    "        t.get_tokens()\n",
    "    except Exception as e:\n",
    "        print(f\"\\nBROKEN! timeout: {time.time() - start}\\n\")\n",
    "        raise\n",
    "\n",
    "# V3 Headers\n",
    "header_dat = {\"X-Tapis-token\": t.access_token.access_token,\n",
    "              \"Content-Type\": \"application/json\"}\n",
    "\n",
    "# Service URL\n",
    "url = f\"{base_url}/v3\"                   # remote\n",
    "\n",
    "print(time.time() - start)\n",
    "print(f\"base_url: {base_url}\")\n",
    "print(f\"serv_url: {url}\")"
   ]
  },
  {
   "cell_type": "code",
   "execution_count": 3,
   "metadata": {},
   "outputs": [
    {
     "data": {
      "text/plain": [
       "[\n",
       " creation_ts: None\n",
       " data_attached: []\n",
       " data_requests: []\n",
       " description: The pod for the REHS final KG\n",
       " environment_variables: \n",
       " \n",
       " pod_id: finalkg\n",
       " pod_template: neo4j\n",
       " roles_inherited: []\n",
       " roles_required: []\n",
       " status: RUNNING\n",
       " status_container: \n",
       " message: Pod is running.\n",
       " phase: Running\n",
       " start_time: 2022-07-29 20:20:36+00:00\n",
       " status_requested: ON\n",
       " update_ts: None\n",
       " url: finalkg.pods.icicle.develop.tapis.io,\n",
       " \n",
       " creation_ts: None\n",
       " data_attached: []\n",
       " data_requests: []\n",
       " description: Running a copy of the OSU PPod\n",
       " environment_variables: \n",
       " \n",
       " pod_id: michaelppodtest\n",
       " pod_template: neo4j\n",
       " roles_inherited: []\n",
       " roles_required: []\n",
       " status: RUNNING\n",
       " status_container: \n",
       " message: Pod is running.\n",
       " phase: Running\n",
       " start_time: 2022-08-08 17:20:52+00:00\n",
       " status_requested: ON\n",
       " update_ts: None\n",
       " url: michaelppodtest.pods.icicle.develop.tapis.io,\n",
       " \n",
       " creation_ts: None\n",
       " data_attached: []\n",
       " data_requests: []\n",
       " description: The second pod for the REHS final project.\n",
       " environment_variables: \n",
       " \n",
       " pod_id: finalkg2\n",
       " pod_template: neo4j\n",
       " roles_inherited: []\n",
       " roles_required: []\n",
       " status: RUNNING\n",
       " status_container: \n",
       " message: Pod is running.\n",
       " phase: Running\n",
       " start_time: 2022-08-02 09:48:46+00:00\n",
       " status_requested: ON\n",
       " update_ts: None\n",
       " url: finalkg2.pods.icicle.develop.tapis.io]"
      ]
     },
     "execution_count": 3,
     "metadata": {},
     "output_type": "execute_result"
    }
   ],
   "source": [
    "# Returns all of the pods registered to the account. \n",
    "t.pods.get_pods()"
   ]
  },
  {
   "cell_type": "code",
   "execution_count": 5,
   "metadata": {},
   "outputs": [
    {
     "name": "stdout",
     "output_type": "stream",
     "text": [
      "Enter a pod IDmichaelppodtest\n"
     ]
    }
   ],
   "source": [
    "# Used to reference the pod\n",
    "pod_id = str(input(\"Enter a pod ID\")).lower()"
   ]
  },
  {
   "cell_type": "code",
   "execution_count": null,
   "metadata": {},
   "outputs": [],
   "source": [
    "# Use neo4j to create a pod for a neo4j DBMS\n",
    "pod_template = str(input(\"enter a pod template (enter neo4j)\"))"
   ]
  },
  {
   "cell_type": "code",
   "execution_count": null,
   "metadata": {},
   "outputs": [],
   "source": [
    "# Describe the pod\n",
    "pod_description = str(input(\"enter a pod description\"))"
   ]
  },
  {
   "cell_type": "code",
   "execution_count": null,
   "metadata": {},
   "outputs": [],
   "source": [
    "# Run this to create the pod\n",
    "t.pods.create_pod(pod_id=pod_id, pod_template=pod_template, description=pod_description)"
   ]
  },
  {
   "cell_type": "code",
   "execution_count": null,
   "metadata": {},
   "outputs": [],
   "source": [
    "# Setting permissions \n",
    "t.pods.set_pod_permission(pod_id=pod_id, user=\"jackkarp\", level=\"ADMIN\")\n",
    "t.pods.set_pod_permission(pod_id=pod_id, user=\"mkyzubr\", level=\"ADMIN\")\n",
    "t.pods.set_pod_permission(pod_id=pod_id, user=\"archita\", level=\"ADMIN\")\n",
    "t.pods.set_pod_permission(pod_id=pod_id, user=\"tg882699\", level=\"ADMIN\")"
   ]
  },
  {
   "cell_type": "code",
   "execution_count": 6,
   "metadata": {},
   "outputs": [],
   "source": [
    "# Setting username and password for authentication\n",
    "username, password = t.pods.get_pod_credentials(pod_id=pod_id).user_username, t.pods.get_pod_credentials(pod_id=pod_id).user_password"
   ]
  },
  {
   "cell_type": "code",
   "execution_count": 7,
   "metadata": {},
   "outputs": [],
   "source": [
    "# Testing connection to the bolt service\n",
    "graph = Graph(f\"bolt+ssc://{pod_id}.pods.icicle.develop.tapis.io:443\", auth=(username, password), secure=True, verify=True)"
   ]
  },
  {
   "cell_type": "code",
   "execution_count": 8,
   "metadata": {},
   "outputs": [
    {
     "data": {
      "text/plain": [
       "Graph('bolt+s://michaelppodtest.pods.icicle.develop.tapis.io:443')"
      ]
     },
     "execution_count": 8,
     "metadata": {},
     "output_type": "execute_result"
    }
   ],
   "source": [
    "graph"
   ]
  },
  {
   "cell_type": "code",
   "execution_count": 11,
   "metadata": {},
   "outputs": [
    {
     "data": {
      "text/html": [
       "<div>\n",
       "<style scoped>\n",
       "    .dataframe tbody tr th:only-of-type {\n",
       "        vertical-align: middle;\n",
       "    }\n",
       "\n",
       "    .dataframe tbody tr th {\n",
       "        vertical-align: top;\n",
       "    }\n",
       "\n",
       "    .dataframe thead th {\n",
       "        text-align: right;\n",
       "    }\n",
       "</style>\n",
       "<table border=\"1\" class=\"dataframe\">\n",
       "  <thead>\n",
       "    <tr style=\"text-align: right;\">\n",
       "      <th></th>\n",
       "      <th>n</th>\n",
       "    </tr>\n",
       "  </thead>\n",
       "  <tbody>\n",
       "    <tr>\n",
       "      <th>0</th>\n",
       "      <td>{'_classLabel': 'Class', '_handleRDFTypes': 0,...</td>\n",
       "    </tr>\n",
       "    <tr>\n",
       "      <th>1</th>\n",
       "      <td>{'_classLabel': 'Class', '_handleRDFTypes': '0...</td>\n",
       "    </tr>\n",
       "    <tr>\n",
       "      <th>2</th>\n",
       "      <td>{'id': 'n1', 'label': 'oranges', 'uri': 'https...</td>\n",
       "    </tr>\n",
       "    <tr>\n",
       "      <th>3</th>\n",
       "      <td>{'id': 'n2', 'label': 'full name', 'uri': 'htt...</td>\n",
       "    </tr>\n",
       "    <tr>\n",
       "      <th>4</th>\n",
       "      <td>{'taxa': '', 'use_case_ecuador': '', 'use_case...</td>\n",
       "    </tr>\n",
       "    <tr>\n",
       "      <th>...</th>\n",
       "      <td>...</td>\n",
       "    </tr>\n",
       "    <tr>\n",
       "      <th>8924</th>\n",
       "      <td>{'label': 'https://ovga.us/', 'id': 'n8923', '...</td>\n",
       "    </tr>\n",
       "    <tr>\n",
       "      <th>8925</th>\n",
       "      <td>{'label': 'http://kingrangealliance.org/', 'id...</td>\n",
       "    </tr>\n",
       "    <tr>\n",
       "      <th>8926</th>\n",
       "      <td>{'label': 'https://www.eccc-irwm.org/ecwma', '...</td>\n",
       "    </tr>\n",
       "    <tr>\n",
       "      <th>8927</th>\n",
       "      <td>{'taxa': '', 'use_case_ecuador': '', 'use_case...</td>\n",
       "    </tr>\n",
       "    <tr>\n",
       "      <th>8928</th>\n",
       "      <td>{'label': 'https://www.ucr.edu/', 'id': 'n8927...</td>\n",
       "    </tr>\n",
       "  </tbody>\n",
       "</table>\n",
       "<p>8929 rows × 1 columns</p>\n",
       "</div>"
      ],
      "text/plain": [
       "                                                      n\n",
       "0     {'_classLabel': 'Class', '_handleRDFTypes': 0,...\n",
       "1     {'_classLabel': 'Class', '_handleRDFTypes': '0...\n",
       "2     {'id': 'n1', 'label': 'oranges', 'uri': 'https...\n",
       "3     {'id': 'n2', 'label': 'full name', 'uri': 'htt...\n",
       "4     {'taxa': '', 'use_case_ecuador': '', 'use_case...\n",
       "...                                                 ...\n",
       "8924  {'label': 'https://ovga.us/', 'id': 'n8923', '...\n",
       "8925  {'label': 'http://kingrangealliance.org/', 'id...\n",
       "8926  {'label': 'https://www.eccc-irwm.org/ecwma', '...\n",
       "8927  {'taxa': '', 'use_case_ecuador': '', 'use_case...\n",
       "8928  {'label': 'https://www.ucr.edu/', 'id': 'n8927...\n",
       "\n",
       "[8929 rows x 1 columns]"
      ]
     },
     "execution_count": 11,
     "metadata": {},
     "output_type": "execute_result"
    }
   ],
   "source": [
    "# Further testing connection via query\n",
    "query = \"MATCH(n) RETURN n\"\n",
    "graph.run(query).to_data_frame()"
   ]
  },
  {
   "cell_type": "code",
   "execution_count": null,
   "metadata": {},
   "outputs": [],
   "source": [
    "# Test visualization of test nodes\n",
    "neo4jupyter.draw(graph, {\"Organization\" : \"alias\"})"
   ]
  },
  {
   "cell_type": "code",
   "execution_count": null,
   "metadata": {},
   "outputs": [],
   "source": []
  }
 ],
 "metadata": {
  "kernelspec": {
   "display_name": "Python 3 (ipykernel)",
   "language": "python",
   "name": "python3"
  },
  "language_info": {
   "codemirror_mode": {
    "name": "ipython",
    "version": 3
   },
   "file_extension": ".py",
   "mimetype": "text/x-python",
   "name": "python",
   "nbconvert_exporter": "python",
   "pygments_lexer": "ipython3",
   "version": "3.10.5"
  },
  "vscode": {
   "interpreter": {
    "hash": "aee8b7b246df8f9039afb4144a1f6fd8d2ca17a180786b69acc140d282b71a49"
   }
  }
 },
 "nbformat": 4,
 "nbformat_minor": 2
}
