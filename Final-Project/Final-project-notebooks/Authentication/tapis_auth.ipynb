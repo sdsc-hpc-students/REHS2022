{
 "cells": [
  {
   "cell_type": "markdown",
   "metadata": {},
   "source": [
    "# Authentication\n",
    "\n",
    "This notebook is how we authenticate our Neo4j database to TACC! We do this using tapis, and more specifically the pods API. \n",
    "Pods are a tool which allow for simple creation of a Neo4j DBMS hosted at TACC simply through some basic commands.\n",
    "At a high level, we create a Tapis object associated with an individual account. Then, a pod is created under that username, with the Neo4j template. \n",
    "This pod has an associated username and password to connect to the DBMS. A simple command reveals this information. It is also straightforward to add in other users to have\n",
    "admin access to this pod. The pod has an associated bolt url, which can be connected to via a Neo4j API like py2neo in a jupyter notebook. It can also be connected to via the \n",
    "Neo4j browser. And that's it! The Neo4j database is hosted and requires authentication to TACC via Tapis!"
   ]
  },
  {
   "cell_type": "code",
   "execution_count": 1,
   "metadata": {},
   "outputs": [
    {
     "data": {
      "application/javascript": "var link = document.createElement(\"link\");\n\tlink.ref = \"stylesheet\";\n\tlink.type = \"text/css\";\n\tlink.href = \"https://cdnjs.cloudflare.com/ajax/libs/vis/4.8.2/vis.css\";\n\tdocument.head.appendChild(link);\nrequire.config({     paths: {         vis: '//cdnjs.cloudflare.com/ajax/libs/vis/4.8.2/vis.min'     } }); require(['vis'], function(vis) {  window.vis = vis; }); ",
      "text/plain": [
       "<IPython.core.display.Javascript object>"
      ]
     },
     "metadata": {},
     "output_type": "display_data"
    }
   ],
   "source": [
    "import os\n",
    "import time\n",
    "import json\n",
    "import pprint as pp\n",
    "import datetime\n",
    "from getpass import getpass\n",
    "import pytz\n",
    "\n",
    "import pandas\n",
    "import neo4jupyter\n",
    "import py2neo\n",
    "from py2neo import Graph, Node, Relationship, GraphService\n",
    "\n",
    "from tapipy.tapis import Tapis\n",
    "\n",
    "def show(res):\n",
    "    try:\n",
    "        pp.pprint(res.json())\n",
    "    except:\n",
    "        pp.pprint(res.text)\n",
    "\n",
    "neo4jupyter.init_notebook_mode()"
   ]
  },
  {
   "cell_type": "code",
   "execution_count": 2,
   "metadata": {},
   "outputs": [
    {
     "name": "stdout",
     "output_type": "stream",
     "text": [
      "10.01650619506836\n",
      "base_url: https://icicle.tapis.io\n",
      "serv_url: https://icicle.tapis.io/v3\n"
     ]
    }
   ],
   "source": [
    "start = time.time()\n",
    "\n",
    "# Base URL for Tapis\n",
    "base_url = \"https://icicle.tapis.io\"\n",
    "username = str(input(\"username\"))\n",
    "\n",
    "# Get Tapis object if it isn't already created.\n",
    "try:\n",
    "    if t.base_url == base_url and t.username == username and t.access_token:\n",
    "        print(\"Tapis object already exists.\")\n",
    "        if t.access_token.expires_at < datetime.datetime.now(pytz.utc):\n",
    "            print(\"Existing Tapis token expired, getting new token.\")\n",
    "            raise\n",
    "    else:\n",
    "        print(\"Creating new Tapis object.\")\n",
    "        raise\n",
    "except:\n",
    "    try:\n",
    "        t = Tapis(base_url = base_url,\n",
    "                  username = username,\n",
    "                  password = getpass('password'))\n",
    "        t.get_tokens()\n",
    "    except Exception as e:\n",
    "        print(f\"\\nBROKEN! timeout: {time.time() - start}\\n\")\n",
    "        raise\n",
    "\n",
    "# V3 Headers\n",
    "header_dat = {\"X-Tapis-token\": t.access_token.access_token,\n",
    "              \"Content-Type\": \"application/json\"}\n",
    "\n",
    "# Service URL\n",
    "url = f\"{base_url}/v3\"                   # remote\n",
    "\n",
    "print(time.time() - start)\n",
    "print(f\"base_url: {base_url}\")\n",
    "print(f\"serv_url: {url}\")"
   ]
  },
  {
   "cell_type": "code",
   "execution_count": 3,
   "metadata": {},
   "outputs": [
    {
     "data": {
      "text/plain": [
       "[\n",
       " creation_ts: None\n",
       " data_attached: []\n",
       " data_requests: []\n",
       " description: testing pod function\n",
       " environment_variables: \n",
       " \n",
       " pod_id: testrehs\n",
       " pod_template: neo4j\n",
       " roles_inherited: []\n",
       " roles_required: []\n",
       " status: COMPLETE\n",
       " status_container: \n",
       " message: Pod phase in Succeeded, putting in COMPLETE status.\n",
       " phase: Succeeded\n",
       " start_time: 2022-07-29 20:34:15+00:00\n",
       " status_requested: ON\n",
       " update_ts: None\n",
       " url: testrehs.pods.icicle.tapis.io,\n",
       " \n",
       " creation_ts: None\n",
       " data_attached: []\n",
       " data_requests: []\n",
       " description: e\n",
       " environment_variables: \n",
       " \n",
       " pod_id: testingcli\n",
       " pod_template: neo4j\n",
       " roles_inherited: []\n",
       " roles_required: []\n",
       " status: RUNNING\n",
       " status_container: \n",
       " message: Pod is running.\n",
       " phase: Running\n",
       " start_time: 2022-10-04 03:43:49+00:00\n",
       " status_requested: ON\n",
       " update_ts: None\n",
       " url: testingcli.pods.icicle.tapis.io]"
      ]
     },
     "execution_count": 3,
     "metadata": {},
     "output_type": "execute_result"
    }
   ],
   "source": [
    "# Returns all of the pods registered to the account. \n",
    "t.pods.get_pods()"
   ]
  },
  {
   "cell_type": "code",
   "execution_count": 8,
   "metadata": {},
   "outputs": [],
   "source": [
    "# Used to reference the pod\n",
    "pod_id = str(input(\"Enter a pod ID\")).lower()"
   ]
  },
  {
   "cell_type": "code",
   "execution_count": 5,
   "metadata": {},
   "outputs": [],
   "source": [
    "# Use neo4j to create a pod for a neo4j DBMS\n",
    "pod_template = str(input(\"enter a pod template (enter neo4j)\"))"
   ]
  },
  {
   "cell_type": "code",
   "execution_count": 6,
   "metadata": {},
   "outputs": [],
   "source": [
    "# Describe the pod\n",
    "pod_description = str(input(\"enter a pod description\"))"
   ]
  },
  {
   "cell_type": "code",
   "execution_count": 10,
   "metadata": {},
   "outputs": [
    {
     "ename": "ServerDownError",
     "evalue": "message: conf.show_traceback = True; only for development:\n Traceback (most recent call last):\n  File \"/usr/local/lib/python3.10/site-packages/sqlalchemy/engine/base.py\", line 1900, in _execute_context\n    self.dialect.do_execute(\n  File \"/usr/local/lib/python3.10/site-packages/sqlalchemy/engine/default.py\", line 736, in do_execute\n    cursor.execute(statement, parameters)\npsycopg2.errors.UniqueViolation: duplicate key value violates unique constraint \"password_pkey\"\nDETAIL:  Key (pod_id)=(testingneo4jupyter) already exists.\n\n\nThe above exception was the direct cause of the following exception:\n\nTraceback (most recent call last):\n  File \"/home/tapis/service/./req_utils.py\", line 25, in error_handler\n    raise exc\n  File \"/usr/local/lib/python3.10/site-packages/starlette/middleware/errors.py\", line 162, in __call__\n    await self.app(scope, receive, _send)\n  File \"/home/tapis/service/./req_utils.py\", line 83, in __call__\n    await self.app(scope, receive, send)\n  File \"/usr/local/lib/python3.10/site-packages/tapisservice/tapisfastapi/utils.py\", line 97, in __call__\n    await self.app(scope, receive, send)\n  File \"/usr/local/lib/python3.10/site-packages/tapisservice/tapisfastapi/auth.py\", line 63, in __call__\n    await self.app(scope, receive, send)\n  File \"/usr/local/lib/python3.10/site-packages/starlette/middleware/exceptions.py\", line 75, in __call__\n    raise exc\n  File \"/usr/local/lib/python3.10/site-packages/starlette/middleware/exceptions.py\", line 64, in __call__\n    await self.app(scope, receive, sender)\n  File \"/usr/local/lib/python3.10/site-packages/fastapi/middleware/asyncexitstack.py\", line 21, in __call__\n    raise e\n  File \"/usr/local/lib/python3.10/site-packages/fastapi/middleware/asyncexitstack.py\", line 18, in __call__\n    await self.app(scope, receive, send)\n  File \"/usr/local/lib/python3.10/site-packages/starlette/routing.py\", line 680, in __call__\n    await route.handle(scope, receive, send)\n  File \"/usr/local/lib/python3.10/site-packages/starlette/routing.py\", line 275, in handle\n    await self.app(scope, receive, send)\n  File \"/usr/local/lib/python3.10/site-packages/starlette/routing.py\", line 65, in app\n    response = await func(request)\n  File \"/usr/local/lib/python3.10/site-packages/fastapi/routing.py\", line 231, in app\n    raw_response = await run_endpoint_function(\n  File \"/usr/local/lib/python3.10/site-packages/fastapi/routing.py\", line 160, in run_endpoint_function\n    return await dependant.call(**values)\n  File \"/home/tapis/service/./api_pods.py\", line 62, in create_pod\n    password.db_create()\n  File \"/home/tapis/service/./models_base.py\", line 47, in db_create\n    store.run(\"add\", self)\n  File \"pydantic/decorator.py\", line 40, in pydantic.decorator.validate_arguments.validate.wrapper_function\n  File \"pydantic/decorator.py\", line 134, in pydantic.decorator.ValidatedFunction.call\n  File \"pydantic/decorator.py\", line 206, in pydantic.decorator.ValidatedFunction.execute\n  File \"/home/tapis/service/./store.py\", line 78, in run\n    with self.session.begin() as session:\n  File \"/usr/local/lib/python3.10/contextlib.py\", line 142, in __exit__\n    next(self.gen)\n  File \"/usr/local/lib/python3.10/site-packages/sqlalchemy/orm/session.py\", line 1172, in _maker_context_manager\n    with self.begin():\n  File \"/usr/local/lib/python3.10/site-packages/sqlalchemy/engine/util.py\", line 235, in __exit__\n    with util.safe_reraise():\n  File \"/usr/local/lib/python3.10/site-packages/sqlalchemy/util/langhelpers.py\", line 70, in __exit__\n    compat.raise_(\n  File \"/usr/local/lib/python3.10/site-packages/sqlalchemy/util/compat.py\", line 208, in raise_\n    raise exception\n  File \"/usr/local/lib/python3.10/site-packages/sqlalchemy/engine/util.py\", line 233, in __exit__\n    self.commit()\n  File \"/usr/local/lib/python3.10/site-packages/sqlalchemy/orm/session.py\", line 829, in commit\n    self._prepare_impl()\n  File \"/usr/local/lib/python3.10/site-packages/sqlalchemy/orm/session.py\", line 808, in _prepare_impl\n    self.session.flush()\n  File \"/usr/local/lib/python3.10/site-packages/sqlalchemy/orm/session.py\", line 3386, in flush\n    self._flush(objects)\n  File \"/usr/local/lib/python3.10/site-packages/sqlalchemy/orm/session.py\", line 3525, in _flush\n    with util.safe_reraise():\n  File \"/usr/local/lib/python3.10/site-packages/sqlalchemy/util/langhelpers.py\", line 70, in __exit__\n    compat.raise_(\n  File \"/usr/local/lib/python3.10/site-packages/sqlalchemy/util/compat.py\", line 208, in raise_\n    raise exception\n  File \"/usr/local/lib/python3.10/site-packages/sqlalchemy/orm/session.py\", line 3486, in _flush\n    flush_context.execute()\n  File \"/usr/local/lib/python3.10/site-packages/sqlalchemy/orm/unitofwork.py\", line 456, in execute\n    rec.execute(self)\n  File \"/usr/local/lib/python3.10/site-packages/sqlalchemy/orm/unitofwork.py\", line 630, in execute\n    util.preloaded.orm_persistence.save_obj(\n  File \"/usr/local/lib/python3.10/site-packages/sqlalchemy/orm/persistence.py\", line 245, in save_obj\n    _emit_insert_statements(\n  File \"/usr/local/lib/python3.10/site-packages/sqlalchemy/orm/persistence.py\", line 1097, in _emit_insert_statements\n    c = connection._execute_20(\n  File \"/usr/local/lib/python3.10/site-packages/sqlalchemy/engine/base.py\", line 1705, in _execute_20\n    return meth(self, args_10style, kwargs_10style, execution_options)\n  File \"/usr/local/lib/python3.10/site-packages/sqlalchemy/sql/elements.py\", line 333, in _execute_on_connection\n    return connection._execute_clauseelement(\n  File \"/usr/local/lib/python3.10/site-packages/sqlalchemy/engine/base.py\", line 1572, in _execute_clauseelement\n    ret = self._execute_context(\n  File \"/usr/local/lib/python3.10/site-packages/sqlalchemy/engine/base.py\", line 1943, in _execute_context\n    self._handle_dbapi_exception(\n  File \"/usr/local/lib/python3.10/site-packages/sqlalchemy/engine/base.py\", line 2124, in _handle_dbapi_exception\n    util.raise_(\n  File \"/usr/local/lib/python3.10/site-packages/sqlalchemy/util/compat.py\", line 208, in raise_\n    raise exception\n  File \"/usr/local/lib/python3.10/site-packages/sqlalchemy/engine/base.py\", line 1900, in _execute_context\n    self.dialect.do_execute(\n  File \"/usr/local/lib/python3.10/site-packages/sqlalchemy/engine/default.py\", line 736, in do_execute\n    cursor.execute(statement, parameters)\nsqlalchemy.exc.IntegrityError: (psycopg2.errors.UniqueViolation) duplicate key value violates unique constraint \"password_pkey\"\nDETAIL:  Key (pod_id)=(testingneo4jupyter) already exists.\n\n[SQL: INSERT INTO password (pod_id, admin_username, admin_password, user_username, user_password, tenant_id, site_id) VALUES (%(pod_id)s, %(admin_username)s, %(admin_password)s, %(user_username)s, %(user_password)s, %(tenant_id)s, %(site_id)s)]\n[parameters: {'pod_id': 'testingneo4jupyter', 'admin_username': 'podsservice', 'admin_password': 'cqrpqWlOItUIdz3QImeLOpLd4juIiX', 'user_username': 'testingneo4jupyter', 'user_password': 'AICfyY3rGxOHQiLebDT1cZrO916gEc', 'tenant_id': 'icicle', 'site_id': 'tacc'}]\n(Background on this error at: https://sqlalche.me/e/14/gkpj)\n",
     "output_type": "error",
     "traceback": [
      "\u001b[1;31m---------------------------------------------------------------------------\u001b[0m",
      "\u001b[1;31mServerDownError\u001b[0m                           Traceback (most recent call last)",
      "\u001b[1;32m~\\AppData\\Local\\Temp/ipykernel_11812/2666053000.py\u001b[0m in \u001b[0;36m<module>\u001b[1;34m\u001b[0m\n\u001b[0;32m      1\u001b[0m \u001b[1;31m# Run this to create the pod\u001b[0m\u001b[1;33m\u001b[0m\u001b[1;33m\u001b[0m\u001b[0m\n\u001b[1;32m----> 2\u001b[1;33m \u001b[0mt\u001b[0m\u001b[1;33m.\u001b[0m\u001b[0mpods\u001b[0m\u001b[1;33m.\u001b[0m\u001b[0mcreate_pod\u001b[0m\u001b[1;33m(\u001b[0m\u001b[0mpod_id\u001b[0m\u001b[1;33m=\u001b[0m\u001b[0mpod_id\u001b[0m\u001b[1;33m,\u001b[0m \u001b[0mpod_template\u001b[0m\u001b[1;33m=\u001b[0m\u001b[0mpod_template\u001b[0m\u001b[1;33m,\u001b[0m \u001b[0mdescription\u001b[0m\u001b[1;33m=\u001b[0m\u001b[0mpod_description\u001b[0m\u001b[1;33m)\u001b[0m\u001b[1;33m\u001b[0m\u001b[1;33m\u001b[0m\u001b[0m\n\u001b[0m",
      "\u001b[1;32m~\\AppData\\Roaming\\Python\\Python310\\site-packages\\tapipy\\tapis.py\u001b[0m in \u001b[0;36m__call__\u001b[1;34m(self, **kwargs)\u001b[0m\n\u001b[0;32m   1146\u001b[0m             \u001b[1;32mraise\u001b[0m \u001b[0merrors\u001b[0m\u001b[1;33m.\u001b[0m\u001b[0mNotAuthorizedError\u001b[0m\u001b[1;33m(\u001b[0m\u001b[0mmsg\u001b[0m\u001b[1;33m=\u001b[0m\u001b[0merror_msg\u001b[0m\u001b[1;33m,\u001b[0m \u001b[0mversion\u001b[0m\u001b[1;33m=\u001b[0m\u001b[0mversion\u001b[0m\u001b[1;33m,\u001b[0m \u001b[0mrequest\u001b[0m\u001b[1;33m=\u001b[0m\u001b[0mr\u001b[0m\u001b[1;33m,\u001b[0m \u001b[0mresponse\u001b[0m\u001b[1;33m=\u001b[0m\u001b[0mresp\u001b[0m\u001b[1;33m)\u001b[0m\u001b[1;33m\u001b[0m\u001b[1;33m\u001b[0m\u001b[0m\n\u001b[0;32m   1147\u001b[0m         \u001b[1;32mif\u001b[0m \u001b[0mresp\u001b[0m\u001b[1;33m.\u001b[0m\u001b[0mstatus_code\u001b[0m \u001b[1;32min\u001b[0m \u001b[1;33m(\u001b[0m\u001b[1;36m500\u001b[0m\u001b[1;33m,\u001b[0m\u001b[1;33m)\u001b[0m\u001b[1;33m:\u001b[0m\u001b[1;33m\u001b[0m\u001b[1;33m\u001b[0m\u001b[0m\n\u001b[1;32m-> 1148\u001b[1;33m             \u001b[1;32mraise\u001b[0m \u001b[0merrors\u001b[0m\u001b[1;33m.\u001b[0m\u001b[0mServerDownError\u001b[0m\u001b[1;33m(\u001b[0m\u001b[0mmsg\u001b[0m\u001b[1;33m=\u001b[0m\u001b[0merror_msg\u001b[0m\u001b[1;33m,\u001b[0m \u001b[0mversion\u001b[0m\u001b[1;33m=\u001b[0m\u001b[0mversion\u001b[0m\u001b[1;33m,\u001b[0m \u001b[0mrequest\u001b[0m\u001b[1;33m=\u001b[0m\u001b[0mr\u001b[0m\u001b[1;33m,\u001b[0m \u001b[0mresponse\u001b[0m\u001b[1;33m=\u001b[0m\u001b[0mresp\u001b[0m\u001b[1;33m)\u001b[0m\u001b[1;33m\u001b[0m\u001b[1;33m\u001b[0m\u001b[0m\n\u001b[0m\u001b[0;32m   1149\u001b[0m         \u001b[1;31m# catch-all for any other non-20x response:\u001b[0m\u001b[1;33m\u001b[0m\u001b[1;33m\u001b[0m\u001b[0m\n\u001b[0;32m   1150\u001b[0m         \u001b[1;32mif\u001b[0m \u001b[0mresp\u001b[0m\u001b[1;33m.\u001b[0m\u001b[0mstatus_code\u001b[0m \u001b[1;33m>=\u001b[0m \u001b[1;36m300\u001b[0m\u001b[1;33m:\u001b[0m\u001b[1;33m\u001b[0m\u001b[1;33m\u001b[0m\u001b[0m\n",
      "\u001b[1;31mServerDownError\u001b[0m: message: conf.show_traceback = True; only for development:\n Traceback (most recent call last):\n  File \"/usr/local/lib/python3.10/site-packages/sqlalchemy/engine/base.py\", line 1900, in _execute_context\n    self.dialect.do_execute(\n  File \"/usr/local/lib/python3.10/site-packages/sqlalchemy/engine/default.py\", line 736, in do_execute\n    cursor.execute(statement, parameters)\npsycopg2.errors.UniqueViolation: duplicate key value violates unique constraint \"password_pkey\"\nDETAIL:  Key (pod_id)=(testingneo4jupyter) already exists.\n\n\nThe above exception was the direct cause of the following exception:\n\nTraceback (most recent call last):\n  File \"/home/tapis/service/./req_utils.py\", line 25, in error_handler\n    raise exc\n  File \"/usr/local/lib/python3.10/site-packages/starlette/middleware/errors.py\", line 162, in __call__\n    await self.app(scope, receive, _send)\n  File \"/home/tapis/service/./req_utils.py\", line 83, in __call__\n    await self.app(scope, receive, send)\n  File \"/usr/local/lib/python3.10/site-packages/tapisservice/tapisfastapi/utils.py\", line 97, in __call__\n    await self.app(scope, receive, send)\n  File \"/usr/local/lib/python3.10/site-packages/tapisservice/tapisfastapi/auth.py\", line 63, in __call__\n    await self.app(scope, receive, send)\n  File \"/usr/local/lib/python3.10/site-packages/starlette/middleware/exceptions.py\", line 75, in __call__\n    raise exc\n  File \"/usr/local/lib/python3.10/site-packages/starlette/middleware/exceptions.py\", line 64, in __call__\n    await self.app(scope, receive, sender)\n  File \"/usr/local/lib/python3.10/site-packages/fastapi/middleware/asyncexitstack.py\", line 21, in __call__\n    raise e\n  File \"/usr/local/lib/python3.10/site-packages/fastapi/middleware/asyncexitstack.py\", line 18, in __call__\n    await self.app(scope, receive, send)\n  File \"/usr/local/lib/python3.10/site-packages/starlette/routing.py\", line 680, in __call__\n    await route.handle(scope, receive, send)\n  File \"/usr/local/lib/python3.10/site-packages/starlette/routing.py\", line 275, in handle\n    await self.app(scope, receive, send)\n  File \"/usr/local/lib/python3.10/site-packages/starlette/routing.py\", line 65, in app\n    response = await func(request)\n  File \"/usr/local/lib/python3.10/site-packages/fastapi/routing.py\", line 231, in app\n    raw_response = await run_endpoint_function(\n  File \"/usr/local/lib/python3.10/site-packages/fastapi/routing.py\", line 160, in run_endpoint_function\n    return await dependant.call(**values)\n  File \"/home/tapis/service/./api_pods.py\", line 62, in create_pod\n    password.db_create()\n  File \"/home/tapis/service/./models_base.py\", line 47, in db_create\n    store.run(\"add\", self)\n  File \"pydantic/decorator.py\", line 40, in pydantic.decorator.validate_arguments.validate.wrapper_function\n  File \"pydantic/decorator.py\", line 134, in pydantic.decorator.ValidatedFunction.call\n  File \"pydantic/decorator.py\", line 206, in pydantic.decorator.ValidatedFunction.execute\n  File \"/home/tapis/service/./store.py\", line 78, in run\n    with self.session.begin() as session:\n  File \"/usr/local/lib/python3.10/contextlib.py\", line 142, in __exit__\n    next(self.gen)\n  File \"/usr/local/lib/python3.10/site-packages/sqlalchemy/orm/session.py\", line 1172, in _maker_context_manager\n    with self.begin():\n  File \"/usr/local/lib/python3.10/site-packages/sqlalchemy/engine/util.py\", line 235, in __exit__\n    with util.safe_reraise():\n  File \"/usr/local/lib/python3.10/site-packages/sqlalchemy/util/langhelpers.py\", line 70, in __exit__\n    compat.raise_(\n  File \"/usr/local/lib/python3.10/site-packages/sqlalchemy/util/compat.py\", line 208, in raise_\n    raise exception\n  File \"/usr/local/lib/python3.10/site-packages/sqlalchemy/engine/util.py\", line 233, in __exit__\n    self.commit()\n  File \"/usr/local/lib/python3.10/site-packages/sqlalchemy/orm/session.py\", line 829, in commit\n    self._prepare_impl()\n  File \"/usr/local/lib/python3.10/site-packages/sqlalchemy/orm/session.py\", line 808, in _prepare_impl\n    self.session.flush()\n  File \"/usr/local/lib/python3.10/site-packages/sqlalchemy/orm/session.py\", line 3386, in flush\n    self._flush(objects)\n  File \"/usr/local/lib/python3.10/site-packages/sqlalchemy/orm/session.py\", line 3525, in _flush\n    with util.safe_reraise():\n  File \"/usr/local/lib/python3.10/site-packages/sqlalchemy/util/langhelpers.py\", line 70, in __exit__\n    compat.raise_(\n  File \"/usr/local/lib/python3.10/site-packages/sqlalchemy/util/compat.py\", line 208, in raise_\n    raise exception\n  File \"/usr/local/lib/python3.10/site-packages/sqlalchemy/orm/session.py\", line 3486, in _flush\n    flush_context.execute()\n  File \"/usr/local/lib/python3.10/site-packages/sqlalchemy/orm/unitofwork.py\", line 456, in execute\n    rec.execute(self)\n  File \"/usr/local/lib/python3.10/site-packages/sqlalchemy/orm/unitofwork.py\", line 630, in execute\n    util.preloaded.orm_persistence.save_obj(\n  File \"/usr/local/lib/python3.10/site-packages/sqlalchemy/orm/persistence.py\", line 245, in save_obj\n    _emit_insert_statements(\n  File \"/usr/local/lib/python3.10/site-packages/sqlalchemy/orm/persistence.py\", line 1097, in _emit_insert_statements\n    c = connection._execute_20(\n  File \"/usr/local/lib/python3.10/site-packages/sqlalchemy/engine/base.py\", line 1705, in _execute_20\n    return meth(self, args_10style, kwargs_10style, execution_options)\n  File \"/usr/local/lib/python3.10/site-packages/sqlalchemy/sql/elements.py\", line 333, in _execute_on_connection\n    return connection._execute_clauseelement(\n  File \"/usr/local/lib/python3.10/site-packages/sqlalchemy/engine/base.py\", line 1572, in _execute_clauseelement\n    ret = self._execute_context(\n  File \"/usr/local/lib/python3.10/site-packages/sqlalchemy/engine/base.py\", line 1943, in _execute_context\n    self._handle_dbapi_exception(\n  File \"/usr/local/lib/python3.10/site-packages/sqlalchemy/engine/base.py\", line 2124, in _handle_dbapi_exception\n    util.raise_(\n  File \"/usr/local/lib/python3.10/site-packages/sqlalchemy/util/compat.py\", line 208, in raise_\n    raise exception\n  File \"/usr/local/lib/python3.10/site-packages/sqlalchemy/engine/base.py\", line 1900, in _execute_context\n    self.dialect.do_execute(\n  File \"/usr/local/lib/python3.10/site-packages/sqlalchemy/engine/default.py\", line 736, in do_execute\n    cursor.execute(statement, parameters)\nsqlalchemy.exc.IntegrityError: (psycopg2.errors.UniqueViolation) duplicate key value violates unique constraint \"password_pkey\"\nDETAIL:  Key (pod_id)=(testingneo4jupyter) already exists.\n\n[SQL: INSERT INTO password (pod_id, admin_username, admin_password, user_username, user_password, tenant_id, site_id) VALUES (%(pod_id)s, %(admin_username)s, %(admin_password)s, %(user_username)s, %(user_password)s, %(tenant_id)s, %(site_id)s)]\n[parameters: {'pod_id': 'testingneo4jupyter', 'admin_username': 'podsservice', 'admin_password': 'cqrpqWlOItUIdz3QImeLOpLd4juIiX', 'user_username': 'testingneo4jupyter', 'user_password': 'AICfyY3rGxOHQiLebDT1cZrO916gEc', 'tenant_id': 'icicle', 'site_id': 'tacc'}]\n(Background on this error at: https://sqlalche.me/e/14/gkpj)\n"
     ]
    }
   ],
   "source": [
    "# Run this to create the pod\n",
    "t.pods.create_pod(pod_id=pod_id, pod_template=pod_template, description=pod_description)"
   ]
  },
  {
   "cell_type": "code",
   "execution_count": null,
   "metadata": {},
   "outputs": [],
   "source": [
    "# Setting permissions \n",
    "t.pods.set_pod_permission(pod_id=pod_id, user=\"jackkarp\", level=\"ADMIN\")\n",
    "t.pods.set_pod_permission(pod_id=pod_id, user=\"mkyzubr\", level=\"ADMIN\")\n",
    "t.pods.set_pod_permission(pod_id=pod_id, user=\"archita\", level=\"ADMIN\")\n",
    "t.pods.set_pod_permission(pod_id=pod_id, user=\"tg882699\", level=\"ADMIN\")"
   ]
  },
  {
   "cell_type": "code",
   "execution_count": 11,
   "metadata": {},
   "outputs": [],
   "source": [
    "# Setting username and password for authentication\n",
    "username, password = t.pods.get_pod_credentials(pod_id=pod_id).user_username, t.pods.get_pod_credentials(pod_id=pod_id).user_password"
   ]
  },
  {
   "cell_type": "code",
   "execution_count": 18,
   "metadata": {},
   "outputs": [
    {
     "data": {
      "text/plain": [
       "'testingneo4jupyter'"
      ]
     },
     "execution_count": 18,
     "metadata": {},
     "output_type": "execute_result"
    }
   ],
   "source": [
    "username"
   ]
  },
  {
   "cell_type": "code",
   "execution_count": 24,
   "metadata": {},
   "outputs": [
    {
     "data": {
      "text/plain": [
       "'OWLDzASEUetNBIDezBGhVUppOupXZg'"
      ]
     },
     "execution_count": 24,
     "metadata": {},
     "output_type": "execute_result"
    }
   ],
   "source": [
    "password"
   ]
  },
  {
   "cell_type": "code",
   "execution_count": 23,
   "metadata": {},
   "outputs": [
    {
     "data": {
      "text/plain": [
       "'testingneo4jupyter'"
      ]
     },
     "execution_count": 23,
     "metadata": {},
     "output_type": "execute_result"
    }
   ],
   "source": [
    "pod_id"
   ]
  },
  {
   "cell_type": "code",
   "execution_count": 19,
   "metadata": {},
   "outputs": [],
   "source": [
    "# Testing connection to the bolt service\n",
    "graph = Graph(f\"bolt+ssc://{pod_id}.pods.icicle.tapis.io:443\", auth=(username, password), secure=True, verify=True)"
   ]
  },
  {
   "cell_type": "code",
   "execution_count": 20,
   "metadata": {},
   "outputs": [
    {
     "data": {
      "text/plain": [
       "Graph('bolt+s://testingneo4jupyter.pods.icicle.tapis.io:443')"
      ]
     },
     "execution_count": 20,
     "metadata": {},
     "output_type": "execute_result"
    }
   ],
   "source": [
    "graph"
   ]
  },
  {
   "cell_type": "code",
   "execution_count": 21,
   "metadata": {},
   "outputs": [
    {
     "data": {
      "text/html": [
       "<div>\n",
       "<style scoped>\n",
       "    .dataframe tbody tr th:only-of-type {\n",
       "        vertical-align: middle;\n",
       "    }\n",
       "\n",
       "    .dataframe tbody tr th {\n",
       "        vertical-align: top;\n",
       "    }\n",
       "\n",
       "    .dataframe thead th {\n",
       "        text-align: right;\n",
       "    }\n",
       "</style>\n",
       "<table border=\"1\" class=\"dataframe\">\n",
       "  <thead>\n",
       "    <tr style=\"text-align: right;\">\n",
       "      <th></th>\n",
       "    </tr>\n",
       "  </thead>\n",
       "  <tbody>\n",
       "  </tbody>\n",
       "</table>\n",
       "</div>"
      ],
      "text/plain": [
       "Empty DataFrame\n",
       "Columns: []\n",
       "Index: []"
      ]
     },
     "execution_count": 21,
     "metadata": {},
     "output_type": "execute_result"
    }
   ],
   "source": [
    "# Further testing connection via query\n",
    "query = \"create (:N)-[:R]->(:V)\"\n",
    "graph.run(query).to_data_frame()"
   ]
  },
  {
   "cell_type": "code",
   "execution_count": 22,
   "metadata": {},
   "outputs": [
    {
     "data": {
      "text/html": [
       "<div id=\"db862095-2fd6-4647-a567-99d918e84694\" style=\"height: 400px;\"></div>\n",
       "\n",
       "<script type=\"text/javascript\">\n",
       "\n",
       "    var nodes = [{\"id\": 1, \"label\": \"\", \"group\": \"V\", \"title\": \"Node('V')\"}, {\"id\": 3, \"label\": \"\", \"group\": \"V\", \"title\": \"Node('V')\"}, {\"id\": 2, \"label\": \"\", \"group\": \"N\", \"title\": \"Node('N')\"}, {\"id\": 0, \"label\": \"\", \"group\": \"N\", \"title\": \"Node('N')\"}];\n",
       "    var edges = [{\"from\": 2, \"to\": 3, \"label\": \"R\"}, {\"from\": 0, \"to\": 1, \"label\": \"R\"}];\n",
       "\n",
       "    var container = document.getElementById(\"db862095-2fd6-4647-a567-99d918e84694\");\n",
       "\n",
       "    var data = {\n",
       "        nodes: nodes,\n",
       "        edges: edges\n",
       "    };\n",
       "\n",
       "    var options = {\n",
       "    nodes: {\n",
       "        shape: 'dot',\n",
       "        size: 25,\n",
       "        font: {\n",
       "            size: 14\n",
       "        }\n",
       "    },\n",
       "    edges: {\n",
       "        font: {\n",
       "            size: 14,\n",
       "            align: 'middle'\n",
       "        },\n",
       "        color: 'gray',\n",
       "        arrows: {\n",
       "            to: {\n",
       "                enabled: true,\n",
       "                scaleFactor: 0.5\n",
       "            }\n",
       "        },\n",
       "        smooth: {\n",
       "            enabled: false\n",
       "        }\n",
       "    },\n",
       "    physics: {\n",
       "        enabled: true\n",
       "        }\n",
       "    };\n",
       "\n",
       "    var network = new vis.Network(container, data, options);\n",
       "\n",
       "</script>\n"
      ],
      "text/plain": [
       "<IPython.core.display.HTML object>"
      ]
     },
     "execution_count": 22,
     "metadata": {},
     "output_type": "execute_result"
    }
   ],
   "source": [
    "# Test visualization of test nodes\n",
    "neo4jupyter.draw(graph, {\"Organization\" : \"alias\"})"
   ]
  },
  {
   "cell_type": "code",
   "execution_count": null,
   "metadata": {},
   "outputs": [],
   "source": []
  }
 ],
 "metadata": {
  "kernelspec": {
   "display_name": "Python 3.10.1 64-bit",
   "language": "python",
   "name": "python3"
  },
  "language_info": {
   "codemirror_mode": {
    "name": "ipython",
    "version": 3
   },
   "file_extension": ".py",
   "mimetype": "text/x-python",
   "name": "python",
   "nbconvert_exporter": "python",
   "pygments_lexer": "ipython3",
   "version": "3.10.1"
  },
  "vscode": {
   "interpreter": {
    "hash": "26de051ba29f2982a8de78e945f0abaf191376122a1563185a90213a26c5da77"
   }
  }
 },
 "nbformat": 4,
 "nbformat_minor": 2
}
