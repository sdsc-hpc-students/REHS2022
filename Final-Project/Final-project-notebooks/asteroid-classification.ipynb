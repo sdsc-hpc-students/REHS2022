{
 "cells": [
  {
   "cell_type": "markdown",
   "metadata": {},
   "source": [
    "# Asteroid Classification\n",
    "This notebook contains a jupyter notebook to train and test a dense neural network for classifying asteroids as hazardous or not. Because of data imbalance, in testing the network only achieved about 75% binary accuracy, however a much greater percentage of these were false positive than negatives."
   ]
  },
  {
   "cell_type": "code",
   "execution_count": 1,
   "metadata": {},
   "outputs": [],
   "source": [
    "import tensorflow as tf \n",
    "from tensorflow import keras \n",
    "\n",
    "import pandas as pd\n",
    "import numpy as np\n",
    "import matplotlib.pyplot as plt\n",
    "\n",
    "import requests\n",
    "import io\n",
    "import os\n",
    "import tempfile\n",
    "\n",
    "import sklearn\n",
    "from sklearn.metrics import confusion_matrix\n",
    "from sklearn.model_selection import train_test_split\n",
    "from sklearn.preprocessing import StandardScaler\n",
    "\n",
    "relative_velocity_flag = False\n",
    "miss_distance_flag = False"
   ]
  },
  {
   "cell_type": "markdown",
   "metadata": {},
   "source": [
    "### Data Preprocessing"
   ]
  },
  {
   "cell_type": "code",
   "execution_count": 2,
   "metadata": {},
   "outputs": [],
   "source": [
    "csv_link = 'https://raw.githubusercontent.com/sdsc-hpc-students/REHS2022/main/Final-Project/ExtraKGs/celesital-bodies/neo_v2.csv'\n",
    "csv_file = requests.get(csv_link).content\n",
    "dataset = pd.read_csv(io.StringIO(csv_file.decode('utf-8')))"
   ]
  },
  {
   "cell_type": "code",
   "execution_count": 3,
   "metadata": {},
   "outputs": [
    {
     "data": {
      "text/html": [
       "<div>\n",
       "<style scoped>\n",
       "    .dataframe tbody tr th:only-of-type {\n",
       "        vertical-align: middle;\n",
       "    }\n",
       "\n",
       "    .dataframe tbody tr th {\n",
       "        vertical-align: top;\n",
       "    }\n",
       "\n",
       "    .dataframe thead th {\n",
       "        text-align: right;\n",
       "    }\n",
       "</style>\n",
       "<table border=\"1\" class=\"dataframe\">\n",
       "  <thead>\n",
       "    <tr style=\"text-align: right;\">\n",
       "      <th></th>\n",
       "      <th>id</th>\n",
       "      <th>name</th>\n",
       "      <th>est_diameter_min</th>\n",
       "      <th>est_diameter_max</th>\n",
       "      <th>relative_velocity</th>\n",
       "      <th>miss_distance</th>\n",
       "      <th>orbiting_body</th>\n",
       "      <th>sentry_object</th>\n",
       "      <th>absolute_magnitude</th>\n",
       "      <th>hazardous</th>\n",
       "    </tr>\n",
       "  </thead>\n",
       "  <tbody>\n",
       "    <tr>\n",
       "      <th>0</th>\n",
       "      <td>2162635</td>\n",
       "      <td>162635 (2000 SS164)</td>\n",
       "      <td>1.198271</td>\n",
       "      <td>2.679415</td>\n",
       "      <td>13569.249224</td>\n",
       "      <td>5.483974e+07</td>\n",
       "      <td>Earth</td>\n",
       "      <td>0.0</td>\n",
       "      <td>16.73</td>\n",
       "      <td>0.0</td>\n",
       "    </tr>\n",
       "    <tr>\n",
       "      <th>1</th>\n",
       "      <td>2277475</td>\n",
       "      <td>277475 (2005 WK4)</td>\n",
       "      <td>0.265800</td>\n",
       "      <td>0.594347</td>\n",
       "      <td>73588.726663</td>\n",
       "      <td>6.143813e+07</td>\n",
       "      <td>Earth</td>\n",
       "      <td>0.0</td>\n",
       "      <td>20.00</td>\n",
       "      <td>1.0</td>\n",
       "    </tr>\n",
       "    <tr>\n",
       "      <th>2</th>\n",
       "      <td>2512244</td>\n",
       "      <td>512244 (2015 YE18)</td>\n",
       "      <td>0.722030</td>\n",
       "      <td>1.614507</td>\n",
       "      <td>114258.692129</td>\n",
       "      <td>4.979872e+07</td>\n",
       "      <td>Earth</td>\n",
       "      <td>0.0</td>\n",
       "      <td>17.83</td>\n",
       "      <td>0.0</td>\n",
       "    </tr>\n",
       "    <tr>\n",
       "      <th>3</th>\n",
       "      <td>3596030</td>\n",
       "      <td>(2012 BV13)</td>\n",
       "      <td>0.096506</td>\n",
       "      <td>0.215794</td>\n",
       "      <td>24764.303138</td>\n",
       "      <td>2.543497e+07</td>\n",
       "      <td>Earth</td>\n",
       "      <td>0.0</td>\n",
       "      <td>22.20</td>\n",
       "      <td>0.0</td>\n",
       "    </tr>\n",
       "    <tr>\n",
       "      <th>4</th>\n",
       "      <td>3667127</td>\n",
       "      <td>(2014 GE35)</td>\n",
       "      <td>0.255009</td>\n",
       "      <td>0.570217</td>\n",
       "      <td>42737.733765</td>\n",
       "      <td>4.627557e+07</td>\n",
       "      <td>Earth</td>\n",
       "      <td>0.0</td>\n",
       "      <td>20.09</td>\n",
       "      <td>1.0</td>\n",
       "    </tr>\n",
       "  </tbody>\n",
       "</table>\n",
       "</div>"
      ],
      "text/plain": [
       "        id                 name  est_diameter_min  est_diameter_max  \\\n",
       "0  2162635  162635 (2000 SS164)          1.198271          2.679415   \n",
       "1  2277475    277475 (2005 WK4)          0.265800          0.594347   \n",
       "2  2512244   512244 (2015 YE18)          0.722030          1.614507   \n",
       "3  3596030          (2012 BV13)          0.096506          0.215794   \n",
       "4  3667127          (2014 GE35)          0.255009          0.570217   \n",
       "\n",
       "   relative_velocity  miss_distance orbiting_body  sentry_object  \\\n",
       "0       13569.249224   5.483974e+07         Earth            0.0   \n",
       "1       73588.726663   6.143813e+07         Earth            0.0   \n",
       "2      114258.692129   4.979872e+07         Earth            0.0   \n",
       "3       24764.303138   2.543497e+07         Earth            0.0   \n",
       "4       42737.733765   4.627557e+07         Earth            0.0   \n",
       "\n",
       "   absolute_magnitude  hazardous  \n",
       "0               16.73        0.0  \n",
       "1               20.00        1.0  \n",
       "2               17.83        0.0  \n",
       "3               22.20        0.0  \n",
       "4               20.09        1.0  "
      ]
     },
     "execution_count": 3,
     "metadata": {},
     "output_type": "execute_result"
    }
   ],
   "source": [
    "change_to_float = {column:float for column, dtype in zip(dataset.columns.tolist(), dataset.dtypes.tolist()) if dtype == np.bool_}\n",
    "dataset = dataset.astype(change_to_float)\n",
    "dataset.head()"
   ]
  },
  {
   "cell_type": "code",
   "execution_count": 4,
   "metadata": {},
   "outputs": [
    {
     "name": "stdout",
     "output_type": "stream",
     "text": [
      "Percent positive is 10.781013707985755 %\n"
     ]
    }
   ],
   "source": [
    "neg, pos = np.bincount(dataset['hazardous'])\n",
    "total = neg + pos\n",
    "print(f\"Percent positive is {(pos / neg) * 100} %\")"
   ]
  },
  {
   "cell_type": "code",
   "execution_count": 5,
   "metadata": {},
   "outputs": [],
   "source": [
    "try:\n",
    "    dataset_processed = dataset.drop(['sentry_object','orbiting_body'], axis=1)\n",
    "except (AttributeError, KeyError):\n",
    "    print(\"already removed\")"
   ]
  },
  {
   "cell_type": "code",
   "execution_count": 6,
   "metadata": {},
   "outputs": [
    {
     "data": {
      "text/html": [
       "<div>\n",
       "<style scoped>\n",
       "    .dataframe tbody tr th:only-of-type {\n",
       "        vertical-align: middle;\n",
       "    }\n",
       "\n",
       "    .dataframe tbody tr th {\n",
       "        vertical-align: top;\n",
       "    }\n",
       "\n",
       "    .dataframe thead th {\n",
       "        text-align: right;\n",
       "    }\n",
       "</style>\n",
       "<table border=\"1\" class=\"dataframe\">\n",
       "  <thead>\n",
       "    <tr style=\"text-align: right;\">\n",
       "      <th></th>\n",
       "      <th>id</th>\n",
       "      <th>name</th>\n",
       "      <th>est_diameter_min</th>\n",
       "      <th>est_diameter_max</th>\n",
       "      <th>relative_velocity</th>\n",
       "      <th>miss_distance</th>\n",
       "      <th>absolute_magnitude</th>\n",
       "      <th>hazardous</th>\n",
       "    </tr>\n",
       "  </thead>\n",
       "  <tbody>\n",
       "    <tr>\n",
       "      <th>0</th>\n",
       "      <td>2162635</td>\n",
       "      <td>162635 (2000 SS164)</td>\n",
       "      <td>1.198271</td>\n",
       "      <td>2.679415</td>\n",
       "      <td>13569.249224</td>\n",
       "      <td>5.483974e+07</td>\n",
       "      <td>16.73</td>\n",
       "      <td>0.0</td>\n",
       "    </tr>\n",
       "    <tr>\n",
       "      <th>1</th>\n",
       "      <td>2277475</td>\n",
       "      <td>277475 (2005 WK4)</td>\n",
       "      <td>0.265800</td>\n",
       "      <td>0.594347</td>\n",
       "      <td>73588.726663</td>\n",
       "      <td>6.143813e+07</td>\n",
       "      <td>20.00</td>\n",
       "      <td>1.0</td>\n",
       "    </tr>\n",
       "    <tr>\n",
       "      <th>2</th>\n",
       "      <td>2512244</td>\n",
       "      <td>512244 (2015 YE18)</td>\n",
       "      <td>0.722030</td>\n",
       "      <td>1.614507</td>\n",
       "      <td>114258.692129</td>\n",
       "      <td>4.979872e+07</td>\n",
       "      <td>17.83</td>\n",
       "      <td>0.0</td>\n",
       "    </tr>\n",
       "    <tr>\n",
       "      <th>3</th>\n",
       "      <td>3596030</td>\n",
       "      <td>(2012 BV13)</td>\n",
       "      <td>0.096506</td>\n",
       "      <td>0.215794</td>\n",
       "      <td>24764.303138</td>\n",
       "      <td>2.543497e+07</td>\n",
       "      <td>22.20</td>\n",
       "      <td>0.0</td>\n",
       "    </tr>\n",
       "    <tr>\n",
       "      <th>4</th>\n",
       "      <td>3667127</td>\n",
       "      <td>(2014 GE35)</td>\n",
       "      <td>0.255009</td>\n",
       "      <td>0.570217</td>\n",
       "      <td>42737.733765</td>\n",
       "      <td>4.627557e+07</td>\n",
       "      <td>20.09</td>\n",
       "      <td>1.0</td>\n",
       "    </tr>\n",
       "  </tbody>\n",
       "</table>\n",
       "</div>"
      ],
      "text/plain": [
       "        id                 name  est_diameter_min  est_diameter_max  \\\n",
       "0  2162635  162635 (2000 SS164)          1.198271          2.679415   \n",
       "1  2277475    277475 (2005 WK4)          0.265800          0.594347   \n",
       "2  2512244   512244 (2015 YE18)          0.722030          1.614507   \n",
       "3  3596030          (2012 BV13)          0.096506          0.215794   \n",
       "4  3667127          (2014 GE35)          0.255009          0.570217   \n",
       "\n",
       "   relative_velocity  miss_distance  absolute_magnitude  hazardous  \n",
       "0       13569.249224   5.483974e+07               16.73        0.0  \n",
       "1       73588.726663   6.143813e+07               20.00        1.0  \n",
       "2      114258.692129   4.979872e+07               17.83        0.0  \n",
       "3       24764.303138   2.543497e+07               22.20        0.0  \n",
       "4       42737.733765   4.627557e+07               20.09        1.0  "
      ]
     },
     "execution_count": 6,
     "metadata": {},
     "output_type": "execute_result"
    }
   ],
   "source": [
    "dataset_processed.head()"
   ]
  },
  {
   "cell_type": "code",
   "execution_count": 7,
   "metadata": {},
   "outputs": [],
   "source": [
    "def scale_down(dataset=None, column=None):\n",
    "    initial_range = np.amax(dataset[column]) - np.amin(dataset[column])\n",
    "    eps = 0.001\n",
    "    dataset[column] = np.log(dataset[column] + eps)\n",
    "    end_range = np.amax(dataset[column]) - np.amin(dataset[column])\n",
    "\n",
    "    return initial_range, end_range"
   ]
  },
  {
   "cell_type": "code",
   "execution_count": 8,
   "metadata": {},
   "outputs": [],
   "source": [
    "if not relative_velocity_flag:\n",
    "    initial_range, end_range = scale_down(column='miss_distance', dataset=dataset_processed)\n",
    "    relative_velocity_flag = True\n",
    "else:\n",
    "    print(\"scaling already complete\")\n",
    "\n",
    "if not miss_distance_flag:\n",
    "    initial_range, end_range = scale_down(column='relative_velocity', dataset=dataset_processed)\n",
    "    miss_distance_flag = True\n",
    "else:\n",
    "    print(\"scaling already complete\")"
   ]
  },
  {
   "cell_type": "code",
   "execution_count": 9,
   "metadata": {},
   "outputs": [],
   "source": [
    "scaler = StandardScaler()\n",
    "train_data, test_data = train_test_split(dataset_processed.drop(['id', 'name'], axis=1), test_size=0.1)\n",
    "_, regurgitate_data = train_test_split(dataset, test_size=0.1)\n",
    "train_data, validation_data = train_test_split(train_data, test_size=0.1)\n",
    "\n",
    "train_labels, test_labels, validation_labels = (np.array(train_data.pop('hazardous')),\n",
    "                                                np.array(test_data.pop('hazardous')), \n",
    "                                                np.array(validation_data.pop('hazardous')))\n",
    "bool_train_labels = train_labels != 0\n",
    "train_features, test_features, validation_features = (np.clip(scaler.fit_transform(np.array(train_data)), 0, 60),\n",
    "                                                      np.clip(scaler.fit_transform(np.array(test_data)), 0, 60), \n",
    "                                                      np.clip(scaler.fit_transform(np.array(validation_data)), 0, 60))"
   ]
  },
  {
   "cell_type": "markdown",
   "metadata": {},
   "source": [
    "### Model Creation"
   ]
  },
  {
   "cell_type": "code",
   "execution_count": 10,
   "metadata": {},
   "outputs": [],
   "source": [
    "model_metrics = [keras.metrics.BinaryAccuracy(),\n",
    "                       keras.metrics.Precision(),\n",
    "                       keras.metrics.Recall(),\n",
    "                       keras.metrics.TruePositives(),\n",
    "                       keras.metrics.TrueNegatives(),\n",
    "                       keras.metrics.FalseNegatives(),\n",
    "                       keras.metrics.FalsePositives(),\n",
    "                       keras.metrics.AUC(name='auc'),\n",
    "                       keras.metrics.AUC(name='prc', curve='PR')\n",
    "                       ]"
   ]
  },
  {
   "cell_type": "code",
   "execution_count": 11,
   "metadata": {},
   "outputs": [],
   "source": [
    "def make_model(metrics=model_metrics, output_bias=None):\n",
    "    if output_bias:\n",
    "        output_bias = tf.keras.initializers.Constant(output_bias)\n",
    "    \n",
    "    model = tf.keras.Sequential([\n",
    "        keras.layers.Dense(5, activation='relu', input_shape=(train_features.shape[-1],), \n",
    "                            kernel_regularizer=keras.regularizers.L1L2(l1=1e-5, l2=1e-4)),\n",
    "        keras.layers.Dropout(0.2),\n",
    "        keras.layers.Dense(5, activation='linear', activity_regularizer=keras.regularizers.L1(0.0002)),\n",
    "        keras.layers.Dense(5, activation='relu',\n",
    "                            kernel_regularizer=keras.regularizers.L1L2(l1=1e-5, l2=1e-4)),\n",
    "        keras.layers.Dropout(0.2),\n",
    "        keras.layers.Dense(3, activation='linear', activity_regularizer=keras.regularizers.L1(0.0002)),\n",
    "        keras.layers.Dense(3, activation='relu',\n",
    "                            kernel_regularizer=keras.regularizers.L1L2(l1=1e-5, l2=1e-4)),\n",
    "        keras.layers.Dropout(0.2),\n",
    "        keras.layers.Dense(1, activation='sigmoid', bias_initializer=output_bias)\n",
    "    ])\n",
    "\n",
    "    model.compile(\n",
    "        optimizer=keras.optimizers.Adam(learning_rate=1e-3),\n",
    "        loss=keras.losses.BinaryCrossentropy(),\n",
    "        metrics=metrics\n",
    "    )\n",
    "    \n",
    "    return model"
   ]
  },
  {
   "cell_type": "code",
   "execution_count": 12,
   "metadata": {},
   "outputs": [],
   "source": [
    "# epochs, batch size, and early stopping\n",
    "EPOCHS = 100\n",
    "BATCH_SIZE = 2048\n",
    "\n",
    "early_stopping = tf.keras.callbacks.EarlyStopping(\n",
    "    monitor='val_prc',\n",
    "    verbose=1,\n",
    "    patience=10,\n",
    "    mode='max',\n",
    "    restore_best_weights=True\n",
    ")\n",
    "\n",
    "# Setting the initial bias\n",
    "initial_bias = np.log([pos/neg])\n",
    "model = make_model(output_bias=initial_bias)\n",
    "initial_weights = os.path.join(tempfile.mkdtemp(), 'initial_weights')\n",
    "model.save_weights(initial_weights)"
   ]
  },
  {
   "cell_type": "code",
   "execution_count": 13,
   "metadata": {},
   "outputs": [
    {
     "name": "stdout",
     "output_type": "stream",
     "text": [
      "Non-Hazardous Weight: 0.5539050685399288\n",
      "Hazardous Weight: 5.137782805429865\n"
     ]
    }
   ],
   "source": [
    "# classification weights\n",
    "weight_for_0 = (1 / neg) * (total / 2)\n",
    "weight_for_1 = (1 / pos) * (total / 2)\n",
    "\n",
    "class_weights = {0: weight_for_0, 1: weight_for_1}\n",
    "\n",
    "print(f'Non-Hazardous Weight: {weight_for_0}\\nHazardous Weight: {weight_for_1}')"
   ]
  },
  {
   "cell_type": "code",
   "execution_count": 14,
   "metadata": {},
   "outputs": [
    {
     "name": "stdout",
     "output_type": "stream",
     "text": [
      "Model: \"sequential_1\"\n",
      "_________________________________________________________________\n",
      " Layer (type)                Output Shape              Param #   \n",
      "=================================================================\n",
      " dense_6 (Dense)             (None, 5)                 30        \n",
      "                                                                 \n",
      " dropout_3 (Dropout)         (None, 5)                 0         \n",
      "                                                                 \n",
      " dense_7 (Dense)             (None, 5)                 30        \n",
      "                                                                 \n",
      " dense_8 (Dense)             (None, 5)                 30        \n",
      "                                                                 \n",
      " dropout_4 (Dropout)         (None, 5)                 0         \n",
      "                                                                 \n",
      " dense_9 (Dense)             (None, 3)                 18        \n",
      "                                                                 \n",
      " dense_10 (Dense)            (None, 3)                 12        \n",
      "                                                                 \n",
      " dropout_5 (Dropout)         (None, 3)                 0         \n",
      "                                                                 \n",
      " dense_11 (Dense)            (None, 1)                 4         \n",
      "                                                                 \n",
      "=================================================================\n",
      "Total params: 124\n",
      "Trainable params: 124\n",
      "Non-trainable params: 0\n",
      "_________________________________________________________________\n"
     ]
    }
   ],
   "source": [
    "weighted_model = make_model()\n",
    "weighted_model.load_weights(initial_weights)\n",
    "weighted_model.summary()"
   ]
  },
  {
   "cell_type": "code",
   "execution_count": 15,
   "metadata": {},
   "outputs": [
    {
     "name": "stdout",
     "output_type": "stream",
     "text": [
      "Epoch 1/100\n",
      "36/36 [==============================] - 12s 112ms/step - loss: 1.3502 - binary_accuracy: 0.9036 - precision: 0.0000e+00 - recall: 0.0000e+00 - true_positives: 0.0000e+00 - true_negatives: 66483.0000 - false_negatives: 7093.0000 - false_positives: 0.0000e+00 - auc: 0.4235 - prc: 0.0907 - val_loss: 0.3438 - val_binary_accuracy: 0.8975 - val_precision: 0.0000e+00 - val_recall: 0.0000e+00 - val_true_positives: 0.0000e+00 - val_true_negatives: 7338.0000 - val_false_negatives: 838.0000 - val_false_positives: 0.0000e+00 - val_auc: 0.4288 - val_prc: 0.0950\n",
      "Epoch 2/100\n",
      "36/36 [==============================] - 0s 13ms/step - loss: 1.1065 - binary_accuracy: 0.9036 - precision: 0.0000e+00 - recall: 0.0000e+00 - true_positives: 0.0000e+00 - true_negatives: 66483.0000 - false_negatives: 7093.0000 - false_positives: 0.0000e+00 - auc: 0.4961 - prc: 0.1112 - val_loss: 0.3439 - val_binary_accuracy: 0.8975 - val_precision: 0.0000e+00 - val_recall: 0.0000e+00 - val_true_positives: 0.0000e+00 - val_true_negatives: 7338.0000 - val_false_negatives: 838.0000 - val_false_positives: 0.0000e+00 - val_auc: 0.6277 - val_prc: 0.1484\n",
      "Epoch 3/100\n",
      "36/36 [==============================] - 0s 12ms/step - loss: 0.8840 - binary_accuracy: 0.8859 - precision: 0.2053 - recall: 0.0640 - true_positives: 454.0000 - true_negatives: 64726.0000 - false_negatives: 6639.0000 - false_positives: 1757.0000 - auc: 0.5639 - prc: 0.1371 - val_loss: 0.3965 - val_binary_accuracy: 0.8957 - val_precision: 0.3333 - val_recall: 0.0179 - val_true_positives: 15.0000 - val_true_negatives: 7308.0000 - val_false_negatives: 823.0000 - val_false_positives: 30.0000 - val_auc: 0.7590 - val_prc: 0.2105\n",
      "Epoch 4/100\n",
      "36/36 [==============================] - 0s 13ms/step - loss: 0.7791 - binary_accuracy: 0.7890 - precision: 0.1930 - recall: 0.3737 - true_positives: 2651.0000 - true_negatives: 55399.0000 - false_negatives: 4442.0000 - false_positives: 11084.0000 - auc: 0.6044 - prc: 0.1605 - val_loss: 0.4143 - val_binary_accuracy: 0.8741 - val_precision: 0.2834 - val_recall: 0.1492 - val_true_positives: 125.0000 - val_true_negatives: 7022.0000 - val_false_negatives: 713.0000 - val_false_positives: 316.0000 - val_auc: 0.8170 - val_prc: 0.2546\n",
      "Epoch 5/100\n",
      "36/36 [==============================] - 0s 12ms/step - loss: 0.7380 - binary_accuracy: 0.7660 - precision: 0.1995 - recall: 0.4737 - true_positives: 3360.0000 - true_negatives: 53000.0000 - false_negatives: 3733.0000 - false_positives: 13483.0000 - auc: 0.6475 - prc: 0.1759 - val_loss: 0.4035 - val_binary_accuracy: 0.8590 - val_precision: 0.2667 - val_recall: 0.2148 - val_true_positives: 180.0000 - val_true_negatives: 6843.0000 - val_false_negatives: 658.0000 - val_false_positives: 495.0000 - val_auc: 0.8421 - val_prc: 0.2746\n",
      "Epoch 6/100\n",
      "36/36 [==============================] - 0s 13ms/step - loss: 0.7091 - binary_accuracy: 0.7671 - precision: 0.2048 - recall: 0.4912 - true_positives: 3484.0000 - true_negatives: 52958.0000 - false_negatives: 3609.0000 - false_positives: 13525.0000 - auc: 0.6827 - prc: 0.1899 - val_loss: 0.3990 - val_binary_accuracy: 0.8417 - val_precision: 0.2782 - val_recall: 0.3413 - val_true_positives: 286.0000 - val_true_negatives: 6596.0000 - val_false_negatives: 552.0000 - val_false_positives: 742.0000 - val_auc: 0.8486 - val_prc: 0.2810\n",
      "Epoch 7/100\n",
      "36/36 [==============================] - 0s 13ms/step - loss: 0.6837 - binary_accuracy: 0.7644 - precision: 0.2100 - recall: 0.5229 - true_positives: 3709.0000 - true_negatives: 52531.0000 - false_negatives: 3384.0000 - false_positives: 13952.0000 - auc: 0.7127 - prc: 0.1986 - val_loss: 0.3928 - val_binary_accuracy: 0.8157 - val_precision: 0.2957 - val_recall: 0.5776 - val_true_positives: 484.0000 - val_true_negatives: 6185.0000 - val_false_negatives: 354.0000 - val_false_positives: 1153.0000 - val_auc: 0.8514 - val_prc: 0.2829\n",
      "Epoch 8/100\n",
      "36/36 [==============================] - 0s 11ms/step - loss: 0.6695 - binary_accuracy: 0.7644 - precision: 0.2155 - recall: 0.5465 - true_positives: 3876.0000 - true_negatives: 52369.0000 - false_negatives: 3217.0000 - false_positives: 14114.0000 - auc: 0.7295 - prc: 0.2019 - val_loss: 0.3761 - val_binary_accuracy: 0.8126 - val_precision: 0.3057 - val_recall: 0.6516 - val_true_positives: 546.0000 - val_true_negatives: 6098.0000 - val_false_negatives: 292.0000 - val_false_positives: 1240.0000 - val_auc: 0.8535 - val_prc: 0.2856\n",
      "Epoch 9/100\n",
      "36/36 [==============================] - 0s 12ms/step - loss: 0.6539 - binary_accuracy: 0.7614 - precision: 0.2172 - recall: 0.5663 - true_positives: 4017.0000 - true_negatives: 52005.0000 - false_negatives: 3076.0000 - false_positives: 14478.0000 - auc: 0.7435 - prc: 0.2082 - val_loss: 0.3703 - val_binary_accuracy: 0.8086 - val_precision: 0.3123 - val_recall: 0.7220 - val_true_positives: 605.0000 - val_true_negatives: 6006.0000 - val_false_negatives: 233.0000 - val_false_positives: 1332.0000 - val_auc: 0.8571 - val_prc: 0.2910\n",
      "Epoch 10/100\n",
      "36/36 [==============================] - 0s 12ms/step - loss: 0.6434 - binary_accuracy: 0.7636 - precision: 0.2213 - recall: 0.5768 - true_positives: 4091.0000 - true_negatives: 52090.0000 - false_negatives: 3002.0000 - false_positives: 14393.0000 - auc: 0.7557 - prc: 0.2140 - val_loss: 0.3708 - val_binary_accuracy: 0.7993 - val_precision: 0.3084 - val_recall: 0.7709 - val_true_positives: 646.0000 - val_true_negatives: 5889.0000 - val_false_negatives: 192.0000 - val_false_positives: 1449.0000 - val_auc: 0.8610 - val_prc: 0.2965\n",
      "Epoch 11/100\n",
      "36/36 [==============================] - 0s 14ms/step - loss: 0.6279 - binary_accuracy: 0.7608 - precision: 0.2222 - recall: 0.5926 - true_positives: 4203.0000 - true_negatives: 51770.0000 - false_negatives: 2890.0000 - false_positives: 14713.0000 - auc: 0.7663 - prc: 0.2226 - val_loss: 0.3576 - val_binary_accuracy: 0.8004 - val_precision: 0.3097 - val_recall: 0.7709 - val_true_positives: 646.0000 - val_true_negatives: 5898.0000 - val_false_negatives: 192.0000 - val_false_positives: 1440.0000 - val_auc: 0.8648 - val_prc: 0.3062\n",
      "Epoch 12/100\n",
      "36/36 [==============================] - 0s 12ms/step - loss: 0.6152 - binary_accuracy: 0.7636 - precision: 0.2273 - recall: 0.6052 - true_positives: 4293.0000 - true_negatives: 51888.0000 - false_negatives: 2800.0000 - false_positives: 14595.0000 - auc: 0.7762 - prc: 0.2331 - val_loss: 0.3734 - val_binary_accuracy: 0.7767 - val_precision: 0.2949 - val_recall: 0.8473 - val_true_positives: 710.0000 - val_true_negatives: 5640.0000 - val_false_negatives: 128.0000 - val_false_positives: 1698.0000 - val_auc: 0.8660 - val_prc: 0.3081\n",
      "Epoch 13/100\n",
      "36/36 [==============================] - 0s 12ms/step - loss: 0.6045 - binary_accuracy: 0.7613 - precision: 0.2291 - recall: 0.6244 - true_positives: 4429.0000 - true_negatives: 51584.0000 - false_negatives: 2664.0000 - false_positives: 14899.0000 - auc: 0.7824 - prc: 0.2418 - val_loss: 0.3540 - val_binary_accuracy: 0.7926 - val_precision: 0.3069 - val_recall: 0.8138 - val_true_positives: 682.0000 - val_true_negatives: 5798.0000 - val_false_negatives: 156.0000 - val_false_positives: 1540.0000 - val_auc: 0.8688 - val_prc: 0.3170\n",
      "Epoch 14/100\n",
      "36/36 [==============================] - 0s 12ms/step - loss: 0.6044 - binary_accuracy: 0.7605 - precision: 0.2278 - recall: 0.6212 - true_positives: 4406.0000 - true_negatives: 51548.0000 - false_negatives: 2687.0000 - false_positives: 14935.0000 - auc: 0.7827 - prc: 0.2403 - val_loss: 0.3508 - val_binary_accuracy: 0.7893 - val_precision: 0.3036 - val_recall: 0.8162 - val_true_positives: 684.0000 - val_true_negatives: 5769.0000 - val_false_negatives: 154.0000 - val_false_positives: 1569.0000 - val_auc: 0.8716 - val_prc: 0.3277\n",
      "Epoch 15/100\n",
      "36/36 [==============================] - 1s 14ms/step - loss: 0.5925 - binary_accuracy: 0.7572 - precision: 0.2289 - recall: 0.6408 - true_positives: 4545.0000 - true_negatives: 51168.0000 - false_negatives: 2548.0000 - false_positives: 15315.0000 - auc: 0.7895 - prc: 0.2481 - val_loss: 0.3446 - val_binary_accuracy: 0.7920 - val_precision: 0.3073 - val_recall: 0.8210 - val_true_positives: 688.0000 - val_true_negatives: 5787.0000 - val_false_negatives: 150.0000 - val_false_positives: 1551.0000 - val_auc: 0.8743 - val_prc: 0.3401\n",
      "Epoch 16/100\n",
      "36/36 [==============================] - 0s 11ms/step - loss: 0.5942 - binary_accuracy: 0.7580 - precision: 0.2299 - recall: 0.6426 - true_positives: 4558.0000 - true_negatives: 51211.0000 - false_negatives: 2535.0000 - false_positives: 15272.0000 - auc: 0.7899 - prc: 0.2518 - val_loss: 0.3427 - val_binary_accuracy: 0.7885 - val_precision: 0.3049 - val_recall: 0.8305 - val_true_positives: 696.0000 - val_true_negatives: 5751.0000 - val_false_negatives: 142.0000 - val_false_positives: 1587.0000 - val_auc: 0.8755 - val_prc: 0.3419\n",
      "Epoch 17/100\n",
      "36/36 [==============================] - 1s 16ms/step - loss: 0.5880 - binary_accuracy: 0.7551 - precision: 0.2297 - recall: 0.6546 - true_positives: 4643.0000 - true_negatives: 50911.0000 - false_negatives: 2450.0000 - false_positives: 15572.0000 - auc: 0.7923 - prc: 0.2523 - val_loss: 0.3506 - val_binary_accuracy: 0.7795 - val_precision: 0.2999 - val_recall: 0.8628 - val_true_positives: 723.0000 - val_true_negatives: 5650.0000 - val_false_negatives: 115.0000 - val_false_positives: 1688.0000 - val_auc: 0.8767 - val_prc: 0.3451\n",
      "Epoch 18/100\n",
      "36/36 [==============================] - 0s 11ms/step - loss: 0.5853 - binary_accuracy: 0.7489 - precision: 0.2265 - recall: 0.6647 - true_positives: 4715.0000 - true_negatives: 50385.0000 - false_negatives: 2378.0000 - false_positives: 16098.0000 - auc: 0.7931 - prc: 0.2546 - val_loss: 0.3441 - val_binary_accuracy: 0.7861 - val_precision: 0.3041 - val_recall: 0.8437 - val_true_positives: 707.0000 - val_true_negatives: 5720.0000 - val_false_negatives: 131.0000 - val_false_positives: 1618.0000 - val_auc: 0.8776 - val_prc: 0.3487\n",
      "Epoch 19/100\n",
      "36/36 [==============================] - 0s 14ms/step - loss: 0.5783 - binary_accuracy: 0.7507 - precision: 0.2291 - recall: 0.6709 - true_positives: 4759.0000 - true_negatives: 50472.0000 - false_negatives: 2334.0000 - false_positives: 16011.0000 - auc: 0.7973 - prc: 0.2615 - val_loss: 0.3525 - val_binary_accuracy: 0.7794 - val_precision: 0.2998 - val_recall: 0.8628 - val_true_positives: 723.0000 - val_true_negatives: 5649.0000 - val_false_negatives: 115.0000 - val_false_positives: 1689.0000 - val_auc: 0.8777 - val_prc: 0.3479\n",
      "Epoch 20/100\n",
      "36/36 [==============================] - 0s 11ms/step - loss: 0.5693 - binary_accuracy: 0.7465 - precision: 0.2288 - recall: 0.6870 - true_positives: 4873.0000 - true_negatives: 50055.0000 - false_negatives: 2220.0000 - false_positives: 16428.0000 - auc: 0.8009 - prc: 0.2629 - val_loss: 0.3521 - val_binary_accuracy: 0.7772 - val_precision: 0.2992 - val_recall: 0.8747 - val_true_positives: 733.0000 - val_true_negatives: 5621.0000 - val_false_negatives: 105.0000 - val_false_positives: 1717.0000 - val_auc: 0.8779 - val_prc: 0.3523\n",
      "Epoch 21/100\n",
      "36/36 [==============================] - 0s 12ms/step - loss: 0.5768 - binary_accuracy: 0.7456 - precision: 0.2265 - recall: 0.6787 - true_positives: 4814.0000 - true_negatives: 50042.0000 - false_negatives: 2279.0000 - false_positives: 16441.0000 - auc: 0.7974 - prc: 0.2591 - val_loss: 0.3471 - val_binary_accuracy: 0.7803 - val_precision: 0.3003 - val_recall: 0.8592 - val_true_positives: 720.0000 - val_true_negatives: 5660.0000 - val_false_negatives: 118.0000 - val_false_positives: 1678.0000 - val_auc: 0.8785 - val_prc: 0.3546\n",
      "Epoch 22/100\n",
      "36/36 [==============================] - 0s 12ms/step - loss: 0.5662 - binary_accuracy: 0.7424 - precision: 0.2272 - recall: 0.6960 - true_positives: 4937.0000 - true_negatives: 49687.0000 - false_negatives: 2156.0000 - false_positives: 16796.0000 - auc: 0.8034 - prc: 0.2678 - val_loss: 0.3542 - val_binary_accuracy: 0.7715 - val_precision: 0.2955 - val_recall: 0.8878 - val_true_positives: 744.0000 - val_true_negatives: 5564.0000 - val_false_negatives: 94.0000 - val_false_positives: 1774.0000 - val_auc: 0.8785 - val_prc: 0.3547\n",
      "Epoch 23/100\n",
      "36/36 [==============================] - 0s 13ms/step - loss: 0.5664 - binary_accuracy: 0.7424 - precision: 0.2265 - recall: 0.6928 - true_positives: 4914.0000 - true_negatives: 49706.0000 - false_negatives: 2179.0000 - false_positives: 16777.0000 - auc: 0.8012 - prc: 0.2616 - val_loss: 0.3427 - val_binary_accuracy: 0.7822 - val_precision: 0.3023 - val_recall: 0.8604 - val_true_positives: 721.0000 - val_true_negatives: 5674.0000 - val_false_negatives: 117.0000 - val_false_positives: 1664.0000 - val_auc: 0.8784 - val_prc: 0.3570\n",
      "Epoch 24/100\n",
      "36/36 [==============================] - 0s 12ms/step - loss: 0.5605 - binary_accuracy: 0.7416 - precision: 0.2268 - recall: 0.6973 - true_positives: 4946.0000 - true_negatives: 49620.0000 - false_negatives: 2147.0000 - false_positives: 16863.0000 - auc: 0.8039 - prc: 0.2637 - val_loss: 0.3431 - val_binary_accuracy: 0.7845 - val_precision: 0.3042 - val_recall: 0.8568 - val_true_positives: 718.0000 - val_true_negatives: 5696.0000 - val_false_negatives: 120.0000 - val_false_positives: 1642.0000 - val_auc: 0.8792 - val_prc: 0.3544\n",
      "Epoch 25/100\n",
      "36/36 [==============================] - 0s 12ms/step - loss: 0.5656 - binary_accuracy: 0.7392 - precision: 0.2240 - recall: 0.6917 - true_positives: 4906.0000 - true_negatives: 49483.0000 - false_negatives: 2187.0000 - false_positives: 17000.0000 - auc: 0.8007 - prc: 0.2647 - val_loss: 0.3511 - val_binary_accuracy: 0.7772 - val_precision: 0.2990 - val_recall: 0.8735 - val_true_positives: 732.0000 - val_true_negatives: 5622.0000 - val_false_negatives: 106.0000 - val_false_positives: 1716.0000 - val_auc: 0.8793 - val_prc: 0.3566\n",
      "Epoch 26/100\n",
      "36/36 [==============================] - 0s 12ms/step - loss: 0.5585 - binary_accuracy: 0.7378 - precision: 0.2247 - recall: 0.7021 - true_positives: 4980.0000 - true_negatives: 49304.0000 - false_negatives: 2113.0000 - false_positives: 17179.0000 - auc: 0.8041 - prc: 0.2642 - val_loss: 0.3530 - val_binary_accuracy: 0.7741 - val_precision: 0.2973 - val_recall: 0.8831 - val_true_positives: 740.0000 - val_true_negatives: 5589.0000 - val_false_negatives: 98.0000 - val_false_positives: 1749.0000 - val_auc: 0.8797 - val_prc: 0.3560\n",
      "Epoch 27/100\n",
      "36/36 [==============================] - 0s 13ms/step - loss: 0.5547 - binary_accuracy: 0.7407 - precision: 0.2254 - recall: 0.6936 - true_positives: 4920.0000 - true_negatives: 49575.0000 - false_negatives: 2173.0000 - false_positives: 16908.0000 - auc: 0.8059 - prc: 0.2665 - val_loss: 0.3480 - val_binary_accuracy: 0.7778 - val_precision: 0.2986 - val_recall: 0.8663 - val_true_positives: 726.0000 - val_true_negatives: 5633.0000 - val_false_negatives: 112.0000 - val_false_positives: 1705.0000 - val_auc: 0.8794 - val_prc: 0.3572\n",
      "Epoch 28/100\n",
      "36/36 [==============================] - 0s 13ms/step - loss: 0.5559 - binary_accuracy: 0.7353 - precision: 0.2226 - recall: 0.7003 - true_positives: 4967.0000 - true_negatives: 49137.0000 - false_negatives: 2126.0000 - false_positives: 17346.0000 - auc: 0.8046 - prc: 0.2659 - val_loss: 0.3463 - val_binary_accuracy: 0.7783 - val_precision: 0.2991 - val_recall: 0.8663 - val_true_positives: 726.0000 - val_true_negatives: 5637.0000 - val_false_negatives: 112.0000 - val_false_positives: 1701.0000 - val_auc: 0.8792 - val_prc: 0.3586\n",
      "Epoch 29/100\n",
      "36/36 [==============================] - 0s 12ms/step - loss: 0.5505 - binary_accuracy: 0.7195 - precision: 0.2149 - recall: 0.7194 - true_positives: 5103.0000 - true_negatives: 47837.0000 - false_negatives: 1990.0000 - false_positives: 18646.0000 - auc: 0.8068 - prc: 0.2712 - val_loss: 0.3397 - val_binary_accuracy: 0.7845 - val_precision: 0.3042 - val_recall: 0.8568 - val_true_positives: 718.0000 - val_true_negatives: 5696.0000 - val_false_negatives: 120.0000 - val_false_positives: 1642.0000 - val_auc: 0.8801 - val_prc: 0.3596\n",
      "Epoch 30/100\n",
      "36/36 [==============================] - 0s 12ms/step - loss: 0.5462 - binary_accuracy: 0.7205 - precision: 0.2167 - recall: 0.7263 - true_positives: 5152.0000 - true_negatives: 47862.0000 - false_negatives: 1941.0000 - false_positives: 18621.0000 - auc: 0.8092 - prc: 0.2728 - val_loss: 0.3481 - val_binary_accuracy: 0.7808 - val_precision: 0.3011 - val_recall: 0.8616 - val_true_positives: 722.0000 - val_true_negatives: 5662.0000 - val_false_negatives: 116.0000 - val_false_positives: 1676.0000 - val_auc: 0.8809 - val_prc: 0.3600\n",
      "Epoch 31/100\n",
      "36/36 [==============================] - 0s 12ms/step - loss: 0.5419 - binary_accuracy: 0.7169 - precision: 0.2152 - recall: 0.7317 - true_positives: 5190.0000 - true_negatives: 47554.0000 - false_negatives: 1903.0000 - false_positives: 18929.0000 - auc: 0.8088 - prc: 0.2696 - val_loss: 0.3584 - val_binary_accuracy: 0.7666 - val_precision: 0.2913 - val_recall: 0.8914 - val_true_positives: 747.0000 - val_true_negatives: 5521.0000 - val_false_negatives: 91.0000 - val_false_positives: 1817.0000 - val_auc: 0.8797 - val_prc: 0.3598\n",
      "Epoch 32/100\n",
      "36/36 [==============================] - 0s 12ms/step - loss: 0.5396 - binary_accuracy: 0.7173 - precision: 0.2158 - recall: 0.7338 - true_positives: 5205.0000 - true_negatives: 47569.0000 - false_negatives: 1888.0000 - false_positives: 18914.0000 - auc: 0.8109 - prc: 0.2751 - val_loss: 0.3541 - val_binary_accuracy: 0.7742 - val_precision: 0.2968 - val_recall: 0.8783 - val_true_positives: 736.0000 - val_true_negatives: 5594.0000 - val_false_negatives: 102.0000 - val_false_positives: 1744.0000 - val_auc: 0.8800 - val_prc: 0.3615\n",
      "Epoch 33/100\n",
      "36/36 [==============================] - 0s 12ms/step - loss: 0.5374 - binary_accuracy: 0.7205 - precision: 0.2175 - recall: 0.7310 - true_positives: 5185.0000 - true_negatives: 47828.0000 - false_negatives: 1908.0000 - false_positives: 18655.0000 - auc: 0.8118 - prc: 0.2759 - val_loss: 0.3580 - val_binary_accuracy: 0.7708 - val_precision: 0.2951 - val_recall: 0.8902 - val_true_positives: 746.0000 - val_true_negatives: 5556.0000 - val_false_negatives: 92.0000 - val_false_positives: 1782.0000 - val_auc: 0.8803 - val_prc: 0.3593\n",
      "Epoch 34/100\n",
      "36/36 [==============================] - 0s 12ms/step - loss: 0.5335 - binary_accuracy: 0.7121 - precision: 0.2140 - recall: 0.7431 - true_positives: 5271.0000 - true_negatives: 47120.0000 - false_negatives: 1822.0000 - false_positives: 19363.0000 - auc: 0.8127 - prc: 0.2746 - val_loss: 0.3642 - val_binary_accuracy: 0.7663 - val_precision: 0.2917 - val_recall: 0.8962 - val_true_positives: 751.0000 - val_true_negatives: 5514.0000 - val_false_negatives: 87.0000 - val_false_positives: 1824.0000 - val_auc: 0.8808 - val_prc: 0.3614\n",
      "Epoch 35/100\n",
      "36/36 [==============================] - 0s 13ms/step - loss: 0.5370 - binary_accuracy: 0.7204 - precision: 0.2170 - recall: 0.7287 - true_positives: 5169.0000 - true_negatives: 47834.0000 - false_negatives: 1924.0000 - false_positives: 18649.0000 - auc: 0.8107 - prc: 0.2742 - val_loss: 0.3439 - val_binary_accuracy: 0.7842 - val_precision: 0.3041 - val_recall: 0.8580 - val_true_positives: 719.0000 - val_true_negatives: 5693.0000 - val_false_negatives: 119.0000 - val_false_positives: 1645.0000 - val_auc: 0.8811 - val_prc: 0.3629\n",
      "Epoch 36/100\n",
      "36/36 [==============================] - 0s 12ms/step - loss: 0.5414 - binary_accuracy: 0.7134 - precision: 0.2119 - recall: 0.7256 - true_positives: 5147.0000 - true_negatives: 47342.0000 - false_negatives: 1946.0000 - false_positives: 19141.0000 - auc: 0.8081 - prc: 0.2771 - val_loss: 0.3452 - val_binary_accuracy: 0.7836 - val_precision: 0.3035 - val_recall: 0.8580 - val_true_positives: 719.0000 - val_true_negatives: 5688.0000 - val_false_negatives: 119.0000 - val_false_positives: 1650.0000 - val_auc: 0.8816 - val_prc: 0.3666\n",
      "Epoch 37/100\n",
      "36/36 [==============================] - 0s 13ms/step - loss: 0.5295 - binary_accuracy: 0.7182 - precision: 0.2163 - recall: 0.7327 - true_positives: 5197.0000 - true_negatives: 47648.0000 - false_negatives: 1896.0000 - false_positives: 18835.0000 - auc: 0.8139 - prc: 0.2778 - val_loss: 0.3625 - val_binary_accuracy: 0.7691 - val_precision: 0.2941 - val_recall: 0.8950 - val_true_positives: 750.0000 - val_true_negatives: 5538.0000 - val_false_negatives: 88.0000 - val_false_positives: 1800.0000 - val_auc: 0.8812 - val_prc: 0.3668\n",
      "Epoch 38/100\n",
      "36/36 [==============================] - 0s 11ms/step - loss: 0.5305 - binary_accuracy: 0.7133 - precision: 0.2133 - recall: 0.7345 - true_positives: 5210.0000 - true_negatives: 47272.0000 - false_negatives: 1883.0000 - false_positives: 19211.0000 - auc: 0.8110 - prc: 0.2758 - val_loss: 0.3681 - val_binary_accuracy: 0.7631 - val_precision: 0.2899 - val_recall: 0.9045 - val_true_positives: 758.0000 - val_true_negatives: 5481.0000 - val_false_negatives: 80.0000 - val_false_positives: 1857.0000 - val_auc: 0.8804 - val_prc: 0.3641\n",
      "Epoch 39/100\n",
      "36/36 [==============================] - 1s 17ms/step - loss: 0.5315 - binary_accuracy: 0.7113 - precision: 0.2116 - recall: 0.7316 - true_positives: 5189.0000 - true_negatives: 47144.0000 - false_negatives: 1904.0000 - false_positives: 19339.0000 - auc: 0.8105 - prc: 0.2772 - val_loss: 0.3707 - val_binary_accuracy: 0.7669 - val_precision: 0.2930 - val_recall: 0.9021 - val_true_positives: 756.0000 - val_true_negatives: 5514.0000 - val_false_negatives: 82.0000 - val_false_positives: 1824.0000 - val_auc: 0.8807 - val_prc: 0.3642\n",
      "Epoch 40/100\n",
      "36/36 [==============================] - 0s 12ms/step - loss: 0.5266 - binary_accuracy: 0.7162 - precision: 0.2148 - recall: 0.7320 - true_positives: 5192.0000 - true_negatives: 47505.0000 - false_negatives: 1901.0000 - false_positives: 18978.0000 - auc: 0.8137 - prc: 0.2787 - val_loss: 0.3586 - val_binary_accuracy: 0.7764 - val_precision: 0.2976 - val_recall: 0.8687 - val_true_positives: 728.0000 - val_true_negatives: 5620.0000 - val_false_negatives: 110.0000 - val_false_positives: 1718.0000 - val_auc: 0.8807 - val_prc: 0.3642\n",
      "Epoch 41/100\n",
      "36/36 [==============================] - 0s 12ms/step - loss: 0.5223 - binary_accuracy: 0.7171 - precision: 0.2159 - recall: 0.7351 - true_positives: 5214.0000 - true_negatives: 47549.0000 - false_negatives: 1879.0000 - false_positives: 18934.0000 - auc: 0.8156 - prc: 0.2853 - val_loss: 0.3609 - val_binary_accuracy: 0.7779 - val_precision: 0.2991 - val_recall: 0.8687 - val_true_positives: 728.0000 - val_true_negatives: 5632.0000 - val_false_negatives: 110.0000 - val_false_positives: 1706.0000 - val_auc: 0.8808 - val_prc: 0.3620\n",
      "Epoch 42/100\n",
      "36/36 [==============================] - 0s 12ms/step - loss: 0.5204 - binary_accuracy: 0.7194 - precision: 0.2176 - recall: 0.7365 - true_positives: 5224.0000 - true_negatives: 47705.0000 - false_negatives: 1869.0000 - false_positives: 18778.0000 - auc: 0.8159 - prc: 0.2831 - val_loss: 0.3612 - val_binary_accuracy: 0.7705 - val_precision: 0.2953 - val_recall: 0.8938 - val_true_positives: 749.0000 - val_true_negatives: 5551.0000 - val_false_negatives: 89.0000 - val_false_positives: 1787.0000 - val_auc: 0.8802 - val_prc: 0.3642\n",
      "Epoch 43/100\n",
      "36/36 [==============================] - 0s 13ms/step - loss: 0.5213 - binary_accuracy: 0.7177 - precision: 0.2163 - recall: 0.7349 - true_positives: 5213.0000 - true_negatives: 47593.0000 - false_negatives: 1880.0000 - false_positives: 18890.0000 - auc: 0.8138 - prc: 0.2773 - val_loss: 0.3668 - val_binary_accuracy: 0.7691 - val_precision: 0.2941 - val_recall: 0.8950 - val_true_positives: 750.0000 - val_true_negatives: 5538.0000 - val_false_negatives: 88.0000 - val_false_positives: 1800.0000 - val_auc: 0.8799 - val_prc: 0.3644\n",
      "Epoch 44/100\n",
      "36/36 [==============================] - 0s 11ms/step - loss: 0.5222 - binary_accuracy: 0.7188 - precision: 0.2156 - recall: 0.7265 - true_positives: 5153.0000 - true_negatives: 47731.0000 - false_negatives: 1940.0000 - false_positives: 18752.0000 - auc: 0.8134 - prc: 0.2786 - val_loss: 0.3647 - val_binary_accuracy: 0.7672 - val_precision: 0.2926 - val_recall: 0.8962 - val_true_positives: 751.0000 - val_true_negatives: 5522.0000 - val_false_negatives: 87.0000 - val_false_positives: 1816.0000 - val_auc: 0.8803 - val_prc: 0.3634\n",
      "Epoch 45/100\n",
      "36/36 [==============================] - 0s 12ms/step - loss: 0.5182 - binary_accuracy: 0.7120 - precision: 0.2137 - recall: 0.7414 - true_positives: 5259.0000 - true_negatives: 47127.0000 - false_negatives: 1834.0000 - false_positives: 19356.0000 - auc: 0.8152 - prc: 0.2769 - val_loss: 0.3568 - val_binary_accuracy: 0.7813 - val_precision: 0.3014 - val_recall: 0.8604 - val_true_positives: 721.0000 - val_true_negatives: 5667.0000 - val_false_negatives: 117.0000 - val_false_positives: 1671.0000 - val_auc: 0.8812 - val_prc: 0.3635\n",
      "Epoch 46/100\n",
      "36/36 [==============================] - 0s 11ms/step - loss: 0.5132 - binary_accuracy: 0.7132 - precision: 0.2157 - recall: 0.7492 - true_positives: 5314.0000 - true_negatives: 47157.0000 - false_negatives: 1779.0000 - false_positives: 19326.0000 - auc: 0.8167 - prc: 0.2834 - val_loss: 0.3559 - val_binary_accuracy: 0.7812 - val_precision: 0.3013 - val_recall: 0.8604 - val_true_positives: 721.0000 - val_true_negatives: 5666.0000 - val_false_negatives: 117.0000 - val_false_positives: 1672.0000 - val_auc: 0.8810 - val_prc: 0.3629\n",
      "Epoch 47/100\n",
      "31/36 [========================>.....] - ETA: 0s - loss: 0.5191 - binary_accuracy: 0.7134 - precision: 0.2133 - recall: 0.7294 - true_positives: 4483.0000 - true_negatives: 40810.0000 - false_negatives: 1663.0000 - false_positives: 16532.0000 - auc: 0.8127 - prc: 0.2758Restoring model weights from the end of the best epoch: 37.\n",
      "36/36 [==============================] - 0s 13ms/step - loss: 0.5152 - binary_accuracy: 0.7147 - precision: 0.2141 - recall: 0.7337 - true_positives: 5204.0000 - true_negatives: 47379.0000 - false_negatives: 1889.0000 - false_positives: 19104.0000 - auc: 0.8150 - prc: 0.2795 - val_loss: 0.3599 - val_binary_accuracy: 0.7767 - val_precision: 0.2987 - val_recall: 0.8747 - val_true_positives: 733.0000 - val_true_negatives: 5617.0000 - val_false_negatives: 105.0000 - val_false_positives: 1721.0000 - val_auc: 0.8803 - val_prc: 0.3601\n",
      "Epoch 47: early stopping\n"
     ]
    },
    {
     "data": {
      "text/plain": [
       "<keras.callbacks.History at 0x12801528760>"
      ]
     },
     "execution_count": 15,
     "metadata": {},
     "output_type": "execute_result"
    }
   ],
   "source": [
    "weighted_model.fit(train_features, \n",
    "                    train_labels, \n",
    "                    batch_size=BATCH_SIZE, \n",
    "                    epochs=EPOCHS, \n",
    "                    callbacks=[early_stopping], \n",
    "                    validation_data=(validation_features, validation_labels), \n",
    "                    class_weight=class_weights)"
   ]
  },
  {
   "cell_type": "code",
   "execution_count": 16,
   "metadata": {},
   "outputs": [
    {
     "name": "stdout",
     "output_type": "stream",
     "text": [
      "5/5 [==============================] - 0s 6ms/step - loss: 0.3597 - binary_accuracy: 0.7686 - precision: 0.2843 - recall: 0.8647 - true_positives: 786.0000 - true_negatives: 6196.0000 - false_negatives: 123.0000 - false_positives: 1979.0000 - auc: 0.8746 - prc: 0.3512\n"
     ]
    },
    {
     "data": {
      "text/plain": [
       "[0.35969623923301697,\n",
       " 0.7686041593551636,\n",
       " 0.2842676341533661,\n",
       " 0.8646864891052246,\n",
       " 786.0,\n",
       " 6196.0,\n",
       " 123.0,\n",
       " 1979.0,\n",
       " 0.8746435642242432,\n",
       " 0.3512299358844757]"
      ]
     },
     "execution_count": 16,
     "metadata": {},
     "output_type": "execute_result"
    }
   ],
   "source": [
    "weighted_model.evaluate(test_features, test_labels, batch_size=BATCH_SIZE, verbose=1)"
   ]
  },
  {
   "cell_type": "code",
   "execution_count": 17,
   "metadata": {},
   "outputs": [
    {
     "name": "stdout",
     "output_type": "stream",
     "text": [
      "284/284 [==============================] - 2s 4ms/step\n"
     ]
    }
   ],
   "source": [
    "results = weighted_model.predict(test_features)\n",
    "results[results<0.5]=0\n",
    "results[results>0.5]=1"
   ]
  },
  {
   "cell_type": "code",
   "execution_count": 18,
   "metadata": {},
   "outputs": [
    {
     "data": {
      "text/plain": [
       "9084"
      ]
     },
     "execution_count": 18,
     "metadata": {},
     "output_type": "execute_result"
    }
   ],
   "source": [
    "len(results)"
   ]
  },
  {
   "cell_type": "code",
   "execution_count": 19,
   "metadata": {},
   "outputs": [],
   "source": [
    "regurgitate_data['predicted_values'] = results"
   ]
  },
  {
   "cell_type": "code",
   "execution_count": 22,
   "metadata": {},
   "outputs": [
    {
     "data": {
      "text/html": [
       "<div>\n",
       "<style scoped>\n",
       "    .dataframe tbody tr th:only-of-type {\n",
       "        vertical-align: middle;\n",
       "    }\n",
       "\n",
       "    .dataframe tbody tr th {\n",
       "        vertical-align: top;\n",
       "    }\n",
       "\n",
       "    .dataframe thead th {\n",
       "        text-align: right;\n",
       "    }\n",
       "</style>\n",
       "<table border=\"1\" class=\"dataframe\">\n",
       "  <thead>\n",
       "    <tr style=\"text-align: right;\">\n",
       "      <th></th>\n",
       "      <th>id</th>\n",
       "      <th>name</th>\n",
       "      <th>est_diameter_min</th>\n",
       "      <th>est_diameter_max</th>\n",
       "      <th>relative_velocity</th>\n",
       "      <th>miss_distance</th>\n",
       "      <th>orbiting_body</th>\n",
       "      <th>sentry_object</th>\n",
       "      <th>absolute_magnitude</th>\n",
       "      <th>hazardous</th>\n",
       "      <th>predicted_values</th>\n",
       "    </tr>\n",
       "  </thead>\n",
       "  <tbody>\n",
       "    <tr>\n",
       "      <th>7403</th>\n",
       "      <td>3678630</td>\n",
       "      <td>(2014 OL339)</td>\n",
       "      <td>0.069913</td>\n",
       "      <td>0.156329</td>\n",
       "      <td>33265.239717</td>\n",
       "      <td>3.943174e+07</td>\n",
       "      <td>Earth</td>\n",
       "      <td>0.0</td>\n",
       "      <td>22.90</td>\n",
       "      <td>0.0</td>\n",
       "      <td>0.0</td>\n",
       "    </tr>\n",
       "    <tr>\n",
       "      <th>68747</th>\n",
       "      <td>2369057</td>\n",
       "      <td>369057 (2008 DK5)</td>\n",
       "      <td>0.146068</td>\n",
       "      <td>0.326618</td>\n",
       "      <td>85407.623874</td>\n",
       "      <td>2.765249e+07</td>\n",
       "      <td>Earth</td>\n",
       "      <td>0.0</td>\n",
       "      <td>21.30</td>\n",
       "      <td>1.0</td>\n",
       "      <td>1.0</td>\n",
       "    </tr>\n",
       "    <tr>\n",
       "      <th>67329</th>\n",
       "      <td>3601615</td>\n",
       "      <td>(2012 FW23)</td>\n",
       "      <td>0.033462</td>\n",
       "      <td>0.074824</td>\n",
       "      <td>23596.338308</td>\n",
       "      <td>2.394144e+07</td>\n",
       "      <td>Earth</td>\n",
       "      <td>0.0</td>\n",
       "      <td>24.50</td>\n",
       "      <td>0.0</td>\n",
       "      <td>0.0</td>\n",
       "    </tr>\n",
       "    <tr>\n",
       "      <th>35401</th>\n",
       "      <td>54192215</td>\n",
       "      <td>(2021 RF2)</td>\n",
       "      <td>0.018817</td>\n",
       "      <td>0.042077</td>\n",
       "      <td>26849.848210</td>\n",
       "      <td>1.461445e+07</td>\n",
       "      <td>Earth</td>\n",
       "      <td>0.0</td>\n",
       "      <td>25.75</td>\n",
       "      <td>0.0</td>\n",
       "      <td>0.0</td>\n",
       "    </tr>\n",
       "    <tr>\n",
       "      <th>42280</th>\n",
       "      <td>3633054</td>\n",
       "      <td>(2013 FD8)</td>\n",
       "      <td>0.019256</td>\n",
       "      <td>0.043057</td>\n",
       "      <td>33739.973279</td>\n",
       "      <td>3.246799e+06</td>\n",
       "      <td>Earth</td>\n",
       "      <td>0.0</td>\n",
       "      <td>25.70</td>\n",
       "      <td>0.0</td>\n",
       "      <td>1.0</td>\n",
       "    </tr>\n",
       "  </tbody>\n",
       "</table>\n",
       "</div>"
      ],
      "text/plain": [
       "             id               name  est_diameter_min  est_diameter_max  \\\n",
       "7403    3678630       (2014 OL339)          0.069913          0.156329   \n",
       "68747   2369057  369057 (2008 DK5)          0.146068          0.326618   \n",
       "67329   3601615        (2012 FW23)          0.033462          0.074824   \n",
       "35401  54192215         (2021 RF2)          0.018817          0.042077   \n",
       "42280   3633054         (2013 FD8)          0.019256          0.043057   \n",
       "\n",
       "       relative_velocity  miss_distance orbiting_body  sentry_object  \\\n",
       "7403        33265.239717   3.943174e+07         Earth            0.0   \n",
       "68747       85407.623874   2.765249e+07         Earth            0.0   \n",
       "67329       23596.338308   2.394144e+07         Earth            0.0   \n",
       "35401       26849.848210   1.461445e+07         Earth            0.0   \n",
       "42280       33739.973279   3.246799e+06         Earth            0.0   \n",
       "\n",
       "       absolute_magnitude  hazardous  predicted_values  \n",
       "7403                22.90        0.0               0.0  \n",
       "68747               21.30        1.0               1.0  \n",
       "67329               24.50        0.0               0.0  \n",
       "35401               25.75        0.0               0.0  \n",
       "42280               25.70        0.0               1.0  "
      ]
     },
     "execution_count": 22,
     "metadata": {},
     "output_type": "execute_result"
    }
   ],
   "source": [
    "regurgitate_data.head()"
   ]
  },
  {
   "cell_type": "code",
   "execution_count": null,
   "metadata": {},
   "outputs": [],
   "source": [
    "regurgitate_data.to_csv(path_or_buf=r'C:\\Users\\ahuma\\Desktop\\python projects\\REHS2022\\Final-Project\\ExtraKGs\\celesital-bodies\\processed_data.csv')"
   ]
  },
  {
   "cell_type": "code",
   "execution_count": 21,
   "metadata": {},
   "outputs": [],
   "source": [
    "#keras.backend.clear_session()"
   ]
  }
 ],
 "metadata": {
  "kernelspec": {
   "display_name": "Python 3.10.1 64-bit",
   "language": "python",
   "name": "python3"
  },
  "language_info": {
   "codemirror_mode": {
    "name": "ipython",
    "version": 3
   },
   "file_extension": ".py",
   "mimetype": "text/x-python",
   "name": "python",
   "nbconvert_exporter": "python",
   "pygments_lexer": "ipython3",
   "version": "3.10.1"
  },
  "orig_nbformat": 4,
  "vscode": {
   "interpreter": {
    "hash": "26de051ba29f2982a8de78e945f0abaf191376122a1563185a90213a26c5da77"
   }
  }
 },
 "nbformat": 4,
 "nbformat_minor": 2
}
