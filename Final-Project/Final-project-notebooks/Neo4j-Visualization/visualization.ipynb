{
 "cells": [
  {
   "cell_type": "code",
   "execution_count": 1,
   "metadata": {},
   "outputs": [
    {
     "data": {
      "application/javascript": "var link = document.createElement(\"link\");\n\tlink.ref = \"stylesheet\";\n\tlink.type = \"text/css\";\n\tlink.href = \"https://cdnjs.cloudflare.com/ajax/libs/vis/4.8.2/vis.css\";\n\tdocument.head.appendChild(link);\nrequire.config({     paths: {         vis: '//cdnjs.cloudflare.com/ajax/libs/vis/4.8.2/vis.min'     } }); require(['vis'], function(vis) {  window.vis = vis; }); ",
      "text/plain": [
       "<IPython.core.display.Javascript object>"
      ]
     },
     "metadata": {},
     "output_type": "display_data"
    }
   ],
   "source": [
    "import os\n",
    "import time\n",
    "import json\n",
    "import pprint as pp\n",
    "import datetime\n",
    "from getpass import getpass\n",
    "import pytz\n",
    "\n",
    "import pandas\n",
    "import neo4jupyter\n",
    "import py2neo\n",
    "from py2neo import Graph, Node, Relationship, GraphService\n",
    "\n",
    "from tapipy.tapis import Tapis\n",
    "\n",
    "def show(res):\n",
    "    try:\n",
    "        pp.pprint(res.json())\n",
    "    except:\n",
    "        pp.pprint(res.text)\n",
    "\n",
    "neo4jupyter.init_notebook_mode()"
   ]
  },
  {
   "cell_type": "code",
   "execution_count": 2,
   "metadata": {},
   "outputs": [
    {
     "name": "stdout",
     "output_type": "stream",
     "text": [
      "6.483257532119751\n",
      "base_url: https://icicle.tapis.io\n",
      "serv_url: https://icicle.tapis.io/v3\n"
     ]
    }
   ],
   "source": [
    "start = time.time()\n",
    "\n",
    "# Base URL for Tapis\n",
    "base_url = \"https://icicle.tapis.io\"\n",
    "username = str(input(\"username\"))\n",
    "\n",
    "# Get Tapis object if it isn't already created.\n",
    "try:\n",
    "    if t.base_url == base_url and t.username == username and t.access_token:\n",
    "        print(\"Tapis object already exists.\")\n",
    "        if t.access_token.expires_at < datetime.datetime.now(pytz.utc):\n",
    "            print(\"Existing Tapis token expired, getting new token.\")\n",
    "            raise\n",
    "    else:\n",
    "        print(\"Creating new Tapis object.\")\n",
    "        raise\n",
    "except:\n",
    "    try:\n",
    "        t = Tapis(base_url = base_url,\n",
    "                  username = username,\n",
    "                  password = getpass('password'))\n",
    "        t.get_tokens()\n",
    "    except Exception as e:\n",
    "        print(f\"\\nBROKEN! timeout: {time.time() - start}\\n\")\n",
    "        raise\n",
    "\n",
    "# V3 Headers\n",
    "header_dat = {\"X-Tapis-token\": t.access_token.access_token,\n",
    "              \"Content-Type\": \"application/json\"}\n",
    "\n",
    "# Service URL\n",
    "url = f\"{base_url}/v3\"                   # remote\n",
    "\n",
    "print(time.time() - start)\n",
    "print(f\"base_url: {base_url}\")\n",
    "print(f\"serv_url: {url}\")"
   ]
  },
  {
   "cell_type": "code",
   "execution_count": 3,
   "metadata": {},
   "outputs": [
    {
     "data": {
      "text/plain": [
       "[\n",
       " creation_ts: None\n",
       " data_attached: []\n",
       " data_requests: []\n",
       " description: testing pod function\n",
       " environment_variables: \n",
       " \n",
       " pod_id: testrehs\n",
       " pod_template: neo4j\n",
       " roles_inherited: []\n",
       " roles_required: []\n",
       " status: COMPLETE\n",
       " status_container: \n",
       " message: Pod phase in Succeeded, putting in COMPLETE status.\n",
       " phase: Succeeded\n",
       " start_time: 2022-07-29 20:34:15+00:00\n",
       " status_requested: ON\n",
       " update_ts: None\n",
       " url: testrehs.pods.icicle.tapis.io,\n",
       " \n",
       " creation_ts: None\n",
       " data_attached: []\n",
       " data_requests: []\n",
       " description: e\n",
       " environment_variables: \n",
       " \n",
       " pod_id: testingcli\n",
       " pod_template: neo4j\n",
       " roles_inherited: []\n",
       " roles_required: []\n",
       " status: RUNNING\n",
       " status_container: \n",
       " message: Pod is running.\n",
       " phase: Running\n",
       " start_time: 2022-10-04 03:43:49+00:00\n",
       " status_requested: ON\n",
       " update_ts: None\n",
       " url: testingcli.pods.icicle.tapis.io]"
      ]
     },
     "execution_count": 3,
     "metadata": {},
     "output_type": "execute_result"
    }
   ],
   "source": [
    "# Returns all of the pods registered to the account. \n",
    "t.pods.get_pods()"
   ]
  },
  {
   "cell_type": "code",
   "execution_count": 5,
   "metadata": {},
   "outputs": [],
   "source": [
    "pod_id = str(input(\"Enter a pod ID\")).lower()"
   ]
  },
  {
   "cell_type": "code",
   "execution_count": 6,
   "metadata": {},
   "outputs": [],
   "source": [
    "username, password = t.pods.get_pod_credentials(pod_id=pod_id).user_username, t.pods.get_pod_credentials(pod_id=pod_id).user_password"
   ]
  },
  {
   "cell_type": "code",
   "execution_count": 8,
   "metadata": {},
   "outputs": [],
   "source": [
    "graph = Graph(f\"bolt+ssc://{pod_id}.pods.icicle.tapis.io:443\", auth=(username, password), secure=True, verify=True)"
   ]
  },
  {
   "cell_type": "code",
   "execution_count": 9,
   "metadata": {},
   "outputs": [
    {
     "data": {
      "text/html": [
       "<div>\n",
       "<style scoped>\n",
       "    .dataframe tbody tr th:only-of-type {\n",
       "        vertical-align: middle;\n",
       "    }\n",
       "\n",
       "    .dataframe tbody tr th {\n",
       "        vertical-align: top;\n",
       "    }\n",
       "\n",
       "    .dataframe thead th {\n",
       "        text-align: right;\n",
       "    }\n",
       "</style>\n",
       "<table border=\"1\" class=\"dataframe\">\n",
       "  <thead>\n",
       "    <tr style=\"text-align: right;\">\n",
       "      <th></th>\n",
       "      <th>n</th>\n",
       "    </tr>\n",
       "  </thead>\n",
       "  <tbody>\n",
       "    <tr>\n",
       "      <th>0</th>\n",
       "      <td>{}</td>\n",
       "    </tr>\n",
       "    <tr>\n",
       "      <th>1</th>\n",
       "      <td>{}</td>\n",
       "    </tr>\n",
       "    <tr>\n",
       "      <th>2</th>\n",
       "      <td>{}</td>\n",
       "    </tr>\n",
       "  </tbody>\n",
       "</table>\n",
       "</div>"
      ],
      "text/plain": [
       "    n\n",
       "0  {}\n",
       "1  {}\n",
       "2  {}"
      ]
     },
     "execution_count": 9,
     "metadata": {},
     "output_type": "execute_result"
    }
   ],
   "source": [
    "# Further testing connection via query\n",
    "query = \"MATCH(n) RETURN n\"\n",
    "graph.run(query).to_data_frame()"
   ]
  }
 ],
 "metadata": {
  "kernelspec": {
   "display_name": "Python 3.10.1 64-bit",
   "language": "python",
   "name": "python3"
  },
  "language_info": {
   "codemirror_mode": {
    "name": "ipython",
    "version": 3
   },
   "file_extension": ".py",
   "mimetype": "text/x-python",
   "name": "python",
   "nbconvert_exporter": "python",
   "pygments_lexer": "ipython3",
   "version": "3.10.1"
  },
  "orig_nbformat": 4,
  "vscode": {
   "interpreter": {
    "hash": "26de051ba29f2982a8de78e945f0abaf191376122a1563185a90213a26c5da77"
   }
  }
 },
 "nbformat": 4,
 "nbformat_minor": 2
}
