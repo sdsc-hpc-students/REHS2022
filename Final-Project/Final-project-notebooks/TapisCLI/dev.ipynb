{
 "cells": [
  {
   "cell_type": "code",
   "execution_count": 5,
   "metadata": {},
   "outputs": [],
   "source": [
    "import time"
   ]
  },
  {
   "cell_type": "code",
   "execution_count": 27,
   "metadata": {},
   "outputs": [
    {
     "name": "stdout",
     "output_type": "stream",
     "text": [
      "Hi\n",
      "0.0010025501251220703\n"
     ]
    }
   ],
   "source": [
    "x = \"sdf\"\n",
    "\n",
    "start = time.time()\n",
    "match x:\n",
    "    case \"bye\":\n",
    "        print(\"hello\")\n",
    "    case \"a\":\n",
    "        pass\n",
    "    case \"b\":\n",
    "        pass\n",
    "    case \"c\":\n",
    "        pass\n",
    "    case \"d\":\n",
    "        pass\n",
    "    case \"b\":\n",
    "        pass\n",
    "    case \"c\":\n",
    "        pass\n",
    "    case \"d\":\n",
    "        pass\n",
    "    case \"b\":\n",
    "        pass\n",
    "    case \"c\":\n",
    "        pass\n",
    "    case \"d\":\n",
    "        pass\n",
    "    case \"hello\":\n",
    "        z = 1+1\n",
    "        g=2+2\n",
    "        print(\"hello\")\n",
    "    case _:\n",
    "        print(\"Hi\")\n",
    "print(time.time()-start)"
   ]
  },
  {
   "cell_type": "code",
   "execution_count": 18,
   "metadata": {},
   "outputs": [
    {
     "name": "stdout",
     "output_type": "stream",
     "text": [
      "hello\n",
      "0.0009987354278564453\n"
     ]
    }
   ],
   "source": [
    "x = \"hello\"\n",
    "\n",
    "start = time.time()\n",
    "if x == \"bye\":\n",
    "    print(\"bye\")\n",
    "elif x == \"a\":\n",
    "    pass\n",
    "elif x == \"b\":\n",
    "    pass\n",
    "elif x == \"c\":\n",
    "    pass\n",
    "elif x == \"d\":\n",
    "    pass\n",
    "elif x == \"b\":\n",
    "    pass\n",
    "elif x == \"c\":\n",
    "    pass\n",
    "elif x == \"d\":\n",
    "    pass\n",
    "elif x == \"b\":\n",
    "    pass\n",
    "elif x == \"c\":\n",
    "    pass\n",
    "elif x == \"d\":\n",
    "    pass\n",
    "\n",
    "elif x == \"hello\":\n",
    "    z = 1+1\n",
    "    g=2+2\n",
    "    print(\"hello\")\n",
    "print(time.time()-start)"
   ]
  }
 ],
 "metadata": {
  "kernelspec": {
   "display_name": "Python 3.10.1 64-bit",
   "language": "python",
   "name": "python3"
  },
  "language_info": {
   "codemirror_mode": {
    "name": "ipython",
    "version": 3
   },
   "file_extension": ".py",
   "mimetype": "text/x-python",
   "name": "python",
   "nbconvert_exporter": "python",
   "pygments_lexer": "ipython3",
   "version": "3.10.1"
  },
  "orig_nbformat": 4,
  "vscode": {
   "interpreter": {
    "hash": "26de051ba29f2982a8de78e945f0abaf191376122a1563185a90213a26c5da77"
   }
  }
 },
 "nbformat": 4,
 "nbformat_minor": 2
}
