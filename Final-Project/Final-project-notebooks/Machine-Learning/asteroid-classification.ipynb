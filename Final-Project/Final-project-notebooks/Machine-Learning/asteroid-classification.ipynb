{
 "cells": [
  {
   "cell_type": "markdown",
   "metadata": {},
   "source": [
    "# Asteroid Classification\n",
    "This notebook contains a jupyter notebook to train and test a dense neural network for classifying asteroids as hazardous or not. Because of data imbalance, in testing the network only achieved about 75% binary accuracy, however a much greater percentage of these were false positive than negatives."
   ]
  },
  {
   "cell_type": "code",
   "execution_count": 1,
   "metadata": {},
   "outputs": [],
   "source": [
    "import tensorflow as tf \n",
    "from tensorflow import keras \n",
    "\n",
    "import pandas as pd\n",
    "import numpy as np\n",
    "import matplotlib.pyplot as plt\n",
    "\n",
    "import requests\n",
    "import io\n",
    "import os\n",
    "import tempfile\n",
    "\n",
    "import sklearn\n",
    "from sklearn.metrics import confusion_matrix\n",
    "from sklearn.model_selection import train_test_split\n",
    "from sklearn.preprocessing import StandardScaler\n",
    "\n",
    "relative_velocity_flag = False\n",
    "miss_distance_flag = False"
   ]
  },
  {
   "cell_type": "markdown",
   "metadata": {},
   "source": [
    "### Data Preprocessing"
   ]
  },
  {
   "cell_type": "code",
   "execution_count": 2,
   "metadata": {},
   "outputs": [],
   "source": [
    "csv_link = 'https://raw.githubusercontent.com/sdsc-hpc-students/REHS2022/main/Final-Project/ExtraKGs/celesital-bodies/neo_v2.csv'\n",
    "csv_file = requests.get(csv_link).content\n",
    "dataset = pd.read_csv(io.StringIO(csv_file.decode('utf-8')))"
   ]
  },
  {
   "cell_type": "code",
   "execution_count": 3,
   "metadata": {},
   "outputs": [
    {
     "data": {
      "text/html": [
       "<div>\n",
       "<style scoped>\n",
       "    .dataframe tbody tr th:only-of-type {\n",
       "        vertical-align: middle;\n",
       "    }\n",
       "\n",
       "    .dataframe tbody tr th {\n",
       "        vertical-align: top;\n",
       "    }\n",
       "\n",
       "    .dataframe thead th {\n",
       "        text-align: right;\n",
       "    }\n",
       "</style>\n",
       "<table border=\"1\" class=\"dataframe\">\n",
       "  <thead>\n",
       "    <tr style=\"text-align: right;\">\n",
       "      <th></th>\n",
       "      <th>id</th>\n",
       "      <th>name</th>\n",
       "      <th>est_diameter_min</th>\n",
       "      <th>est_diameter_max</th>\n",
       "      <th>relative_velocity</th>\n",
       "      <th>miss_distance</th>\n",
       "      <th>orbiting_body</th>\n",
       "      <th>sentry_object</th>\n",
       "      <th>absolute_magnitude</th>\n",
       "      <th>hazardous</th>\n",
       "    </tr>\n",
       "  </thead>\n",
       "  <tbody>\n",
       "    <tr>\n",
       "      <th>0</th>\n",
       "      <td>2162635</td>\n",
       "      <td>162635 (2000 SS164)</td>\n",
       "      <td>1.198271</td>\n",
       "      <td>2.679415</td>\n",
       "      <td>13569.249224</td>\n",
       "      <td>5.483974e+07</td>\n",
       "      <td>Earth</td>\n",
       "      <td>0.0</td>\n",
       "      <td>16.73</td>\n",
       "      <td>0.0</td>\n",
       "    </tr>\n",
       "    <tr>\n",
       "      <th>1</th>\n",
       "      <td>2277475</td>\n",
       "      <td>277475 (2005 WK4)</td>\n",
       "      <td>0.265800</td>\n",
       "      <td>0.594347</td>\n",
       "      <td>73588.726663</td>\n",
       "      <td>6.143813e+07</td>\n",
       "      <td>Earth</td>\n",
       "      <td>0.0</td>\n",
       "      <td>20.00</td>\n",
       "      <td>1.0</td>\n",
       "    </tr>\n",
       "    <tr>\n",
       "      <th>2</th>\n",
       "      <td>2512244</td>\n",
       "      <td>512244 (2015 YE18)</td>\n",
       "      <td>0.722030</td>\n",
       "      <td>1.614507</td>\n",
       "      <td>114258.692129</td>\n",
       "      <td>4.979872e+07</td>\n",
       "      <td>Earth</td>\n",
       "      <td>0.0</td>\n",
       "      <td>17.83</td>\n",
       "      <td>0.0</td>\n",
       "    </tr>\n",
       "    <tr>\n",
       "      <th>3</th>\n",
       "      <td>3596030</td>\n",
       "      <td>(2012 BV13)</td>\n",
       "      <td>0.096506</td>\n",
       "      <td>0.215794</td>\n",
       "      <td>24764.303138</td>\n",
       "      <td>2.543497e+07</td>\n",
       "      <td>Earth</td>\n",
       "      <td>0.0</td>\n",
       "      <td>22.20</td>\n",
       "      <td>0.0</td>\n",
       "    </tr>\n",
       "    <tr>\n",
       "      <th>4</th>\n",
       "      <td>3667127</td>\n",
       "      <td>(2014 GE35)</td>\n",
       "      <td>0.255009</td>\n",
       "      <td>0.570217</td>\n",
       "      <td>42737.733765</td>\n",
       "      <td>4.627557e+07</td>\n",
       "      <td>Earth</td>\n",
       "      <td>0.0</td>\n",
       "      <td>20.09</td>\n",
       "      <td>1.0</td>\n",
       "    </tr>\n",
       "  </tbody>\n",
       "</table>\n",
       "</div>"
      ],
      "text/plain": [
       "        id                 name  est_diameter_min  est_diameter_max  \\\n",
       "0  2162635  162635 (2000 SS164)          1.198271          2.679415   \n",
       "1  2277475    277475 (2005 WK4)          0.265800          0.594347   \n",
       "2  2512244   512244 (2015 YE18)          0.722030          1.614507   \n",
       "3  3596030          (2012 BV13)          0.096506          0.215794   \n",
       "4  3667127          (2014 GE35)          0.255009          0.570217   \n",
       "\n",
       "   relative_velocity  miss_distance orbiting_body  sentry_object  \\\n",
       "0       13569.249224   5.483974e+07         Earth            0.0   \n",
       "1       73588.726663   6.143813e+07         Earth            0.0   \n",
       "2      114258.692129   4.979872e+07         Earth            0.0   \n",
       "3       24764.303138   2.543497e+07         Earth            0.0   \n",
       "4       42737.733765   4.627557e+07         Earth            0.0   \n",
       "\n",
       "   absolute_magnitude  hazardous  \n",
       "0               16.73        0.0  \n",
       "1               20.00        1.0  \n",
       "2               17.83        0.0  \n",
       "3               22.20        0.0  \n",
       "4               20.09        1.0  "
      ]
     },
     "execution_count": 3,
     "metadata": {},
     "output_type": "execute_result"
    }
   ],
   "source": [
    "change_to_float = {column:float for column, dtype in zip(dataset.columns.tolist(), dataset.dtypes.tolist()) if dtype == np.bool_}\n",
    "dataset = dataset.astype(change_to_float)\n",
    "dataset.head()"
   ]
  },
  {
   "cell_type": "code",
   "execution_count": 4,
   "metadata": {},
   "outputs": [
    {
     "name": "stdout",
     "output_type": "stream",
     "text": [
      "Percent positive is 10.781013707985755 %\n"
     ]
    }
   ],
   "source": [
    "neg, pos = np.bincount(dataset['hazardous'])\n",
    "total = neg + pos\n",
    "print(f\"Percent positive is {(pos / neg) * 100} %\")"
   ]
  },
  {
   "cell_type": "code",
   "execution_count": 5,
   "metadata": {},
   "outputs": [],
   "source": [
    "try:\n",
    "    dataset_processed = dataset.drop(['sentry_object','orbiting_body'], axis=1)\n",
    "except (AttributeError, KeyError):\n",
    "    print(\"already removed\")"
   ]
  },
  {
   "cell_type": "code",
   "execution_count": 6,
   "metadata": {},
   "outputs": [
    {
     "data": {
      "text/html": [
       "<div>\n",
       "<style scoped>\n",
       "    .dataframe tbody tr th:only-of-type {\n",
       "        vertical-align: middle;\n",
       "    }\n",
       "\n",
       "    .dataframe tbody tr th {\n",
       "        vertical-align: top;\n",
       "    }\n",
       "\n",
       "    .dataframe thead th {\n",
       "        text-align: right;\n",
       "    }\n",
       "</style>\n",
       "<table border=\"1\" class=\"dataframe\">\n",
       "  <thead>\n",
       "    <tr style=\"text-align: right;\">\n",
       "      <th></th>\n",
       "      <th>id</th>\n",
       "      <th>name</th>\n",
       "      <th>est_diameter_min</th>\n",
       "      <th>est_diameter_max</th>\n",
       "      <th>relative_velocity</th>\n",
       "      <th>miss_distance</th>\n",
       "      <th>absolute_magnitude</th>\n",
       "      <th>hazardous</th>\n",
       "    </tr>\n",
       "  </thead>\n",
       "  <tbody>\n",
       "    <tr>\n",
       "      <th>0</th>\n",
       "      <td>2162635</td>\n",
       "      <td>162635 (2000 SS164)</td>\n",
       "      <td>1.198271</td>\n",
       "      <td>2.679415</td>\n",
       "      <td>13569.249224</td>\n",
       "      <td>5.483974e+07</td>\n",
       "      <td>16.73</td>\n",
       "      <td>0.0</td>\n",
       "    </tr>\n",
       "    <tr>\n",
       "      <th>1</th>\n",
       "      <td>2277475</td>\n",
       "      <td>277475 (2005 WK4)</td>\n",
       "      <td>0.265800</td>\n",
       "      <td>0.594347</td>\n",
       "      <td>73588.726663</td>\n",
       "      <td>6.143813e+07</td>\n",
       "      <td>20.00</td>\n",
       "      <td>1.0</td>\n",
       "    </tr>\n",
       "    <tr>\n",
       "      <th>2</th>\n",
       "      <td>2512244</td>\n",
       "      <td>512244 (2015 YE18)</td>\n",
       "      <td>0.722030</td>\n",
       "      <td>1.614507</td>\n",
       "      <td>114258.692129</td>\n",
       "      <td>4.979872e+07</td>\n",
       "      <td>17.83</td>\n",
       "      <td>0.0</td>\n",
       "    </tr>\n",
       "    <tr>\n",
       "      <th>3</th>\n",
       "      <td>3596030</td>\n",
       "      <td>(2012 BV13)</td>\n",
       "      <td>0.096506</td>\n",
       "      <td>0.215794</td>\n",
       "      <td>24764.303138</td>\n",
       "      <td>2.543497e+07</td>\n",
       "      <td>22.20</td>\n",
       "      <td>0.0</td>\n",
       "    </tr>\n",
       "    <tr>\n",
       "      <th>4</th>\n",
       "      <td>3667127</td>\n",
       "      <td>(2014 GE35)</td>\n",
       "      <td>0.255009</td>\n",
       "      <td>0.570217</td>\n",
       "      <td>42737.733765</td>\n",
       "      <td>4.627557e+07</td>\n",
       "      <td>20.09</td>\n",
       "      <td>1.0</td>\n",
       "    </tr>\n",
       "  </tbody>\n",
       "</table>\n",
       "</div>"
      ],
      "text/plain": [
       "        id                 name  est_diameter_min  est_diameter_max  \\\n",
       "0  2162635  162635 (2000 SS164)          1.198271          2.679415   \n",
       "1  2277475    277475 (2005 WK4)          0.265800          0.594347   \n",
       "2  2512244   512244 (2015 YE18)          0.722030          1.614507   \n",
       "3  3596030          (2012 BV13)          0.096506          0.215794   \n",
       "4  3667127          (2014 GE35)          0.255009          0.570217   \n",
       "\n",
       "   relative_velocity  miss_distance  absolute_magnitude  hazardous  \n",
       "0       13569.249224   5.483974e+07               16.73        0.0  \n",
       "1       73588.726663   6.143813e+07               20.00        1.0  \n",
       "2      114258.692129   4.979872e+07               17.83        0.0  \n",
       "3       24764.303138   2.543497e+07               22.20        0.0  \n",
       "4       42737.733765   4.627557e+07               20.09        1.0  "
      ]
     },
     "execution_count": 6,
     "metadata": {},
     "output_type": "execute_result"
    }
   ],
   "source": [
    "dataset_processed.head()"
   ]
  },
  {
   "cell_type": "code",
   "execution_count": 7,
   "metadata": {},
   "outputs": [],
   "source": [
    "def scale_down(dataset=None, column=None):\n",
    "    initial_range = np.amax(dataset[column]) - np.amin(dataset[column])\n",
    "    eps = 0.001\n",
    "    dataset[column] = np.log(dataset[column] + eps)\n",
    "    end_range = np.amax(dataset[column]) - np.amin(dataset[column])\n",
    "\n",
    "    return initial_range, end_range"
   ]
  },
  {
   "cell_type": "code",
   "execution_count": 8,
   "metadata": {},
   "outputs": [
    {
     "name": "stdout",
     "output_type": "stream",
     "text": [
      "Initial_range: 74791905.91968124\n",
      "end_range: 9.313674550575696\n",
      "Initial_range: 236786.78165533658\n",
      "end_range: 7.060857763424829\n"
     ]
    }
   ],
   "source": [
    "if not relative_velocity_flag:\n",
    "    initial_range, end_range = scale_down(column='miss_distance', dataset=dataset_processed)\n",
    "    relative_velocity_flag = True\n",
    "else:\n",
    "    print(\"scaling already complete\")\n",
    "\n",
    "print(f'Initial_range: {initial_range}\\nend_range: {end_range}')\n",
    "\n",
    "if not miss_distance_flag:\n",
    "    initial_range, end_range = scale_down(column='relative_velocity', dataset=dataset_processed)\n",
    "    miss_distance_flag = True\n",
    "else:\n",
    "    print(\"scaling already complete\")\n",
    "\n",
    "print(f'Initial_range: {initial_range}\\nend_range: {end_range}')"
   ]
  },
  {
   "cell_type": "code",
   "execution_count": 30,
   "metadata": {},
   "outputs": [],
   "source": [
    "scaler = StandardScaler()\n",
    "train_data, test_data = train_test_split(dataset_processed.drop(['id', 'name'], axis=1), test_size=0.1)\n",
    "_, regurgitate_data = train_test_split(dataset, test_size=0.1)\n",
    "train_data, validation_data = train_test_split(train_data, test_size=0.1)\n",
    "\n",
    "train_labels, test_labels, validation_labels = (np.array(train_data.pop('hazardous')),\n",
    "                                                np.array(test_data.pop('hazardous')), \n",
    "                                                np.array(validation_data.pop('hazardous')))\n",
    "bool_train_labels = train_labels != 0\n",
    "train_features, test_features, validation_features = (np.clip(scaler.fit_transform(np.array(train_data)), 0, 60),\n",
    "                                                      np.clip(scaler.fit_transform(np.array(test_data)), 0, 60), \n",
    "                                                      np.clip(scaler.fit_transform(np.array(validation_data)), 0, 60))"
   ]
  },
  {
   "cell_type": "markdown",
   "metadata": {},
   "source": [
    "### Model Creation"
   ]
  },
  {
   "cell_type": "code",
   "execution_count": 10,
   "metadata": {},
   "outputs": [],
   "source": [
    "model_metrics = [keras.metrics.BinaryAccuracy(),\n",
    "                       keras.metrics.Precision(),\n",
    "                       keras.metrics.Recall(),\n",
    "                       keras.metrics.TruePositives(),\n",
    "                       keras.metrics.TrueNegatives(),\n",
    "                       keras.metrics.FalseNegatives(),\n",
    "                       keras.metrics.FalsePositives(),\n",
    "                       keras.metrics.AUC(name='auc'),\n",
    "                       keras.metrics.AUC(name='prc', curve='PR')\n",
    "                       ]"
   ]
  },
  {
   "cell_type": "code",
   "execution_count": 11,
   "metadata": {},
   "outputs": [],
   "source": [
    "def make_model(metrics=model_metrics, output_bias=None):\n",
    "    if output_bias:\n",
    "        output_bias = tf.keras.initializers.Constant(output_bias)\n",
    "    \n",
    "    model = tf.keras.Sequential([\n",
    "        keras.layers.Dense(5, activation='relu', input_shape=(train_features.shape[-1],), \n",
    "                            kernel_regularizer=keras.regularizers.L1L2(l1=1e-5, l2=1e-4)),\n",
    "        keras.layers.Dropout(0.2),\n",
    "        keras.layers.Dense(5, activation='linear', activity_regularizer=keras.regularizers.L1(0.0002)),\n",
    "        keras.layers.Dense(5, activation='relu',\n",
    "                            kernel_regularizer=keras.regularizers.L1L2(l1=1e-5, l2=1e-4)),\n",
    "        keras.layers.Dropout(0.2),\n",
    "        keras.layers.Dense(3, activation='linear', activity_regularizer=keras.regularizers.L1(0.0002)),\n",
    "        keras.layers.Dense(3, activation='relu',\n",
    "                            kernel_regularizer=keras.regularizers.L1L2(l1=1e-5, l2=1e-4)),\n",
    "        keras.layers.Dropout(0.2),\n",
    "        keras.layers.Dense(1, activation='sigmoid', bias_initializer=output_bias)\n",
    "    ])\n",
    "\n",
    "    model.compile(\n",
    "        optimizer=keras.optimizers.Adam(learning_rate=1e-3),\n",
    "        loss=keras.losses.BinaryCrossentropy(),\n",
    "        metrics=metrics\n",
    "    )\n",
    "    \n",
    "    return model"
   ]
  },
  {
   "cell_type": "code",
   "execution_count": 12,
   "metadata": {},
   "outputs": [],
   "source": [
    "# epochs, batch size, and early stopping\n",
    "EPOCHS = 100\n",
    "BATCH_SIZE = 2048\n",
    "\n",
    "early_stopping = tf.keras.callbacks.EarlyStopping(\n",
    "    monitor='val_prc',\n",
    "    verbose=1,\n",
    "    patience=10,\n",
    "    mode='max',\n",
    "    restore_best_weights=True\n",
    ")\n",
    "\n",
    "# Setting the initial bias\n",
    "initial_bias = np.log([pos/neg])\n",
    "model = make_model(output_bias=initial_bias)\n",
    "initial_weights = os.path.join(tempfile.mkdtemp(), 'initial_weights')\n",
    "model.save_weights(initial_weights)"
   ]
  },
  {
   "cell_type": "code",
   "execution_count": 13,
   "metadata": {},
   "outputs": [
    {
     "name": "stdout",
     "output_type": "stream",
     "text": [
      "Non-Hazardous Weight: 0.5539050685399288\n",
      "Hazardous Weight: 5.137782805429865\n"
     ]
    }
   ],
   "source": [
    "# classification weights\n",
    "weight_for_0 = (1 / neg) * (total / 2)\n",
    "weight_for_1 = (1 / pos) * (total / 2)\n",
    "\n",
    "class_weights = {0: weight_for_0, 1: weight_for_1}\n",
    "\n",
    "print(f'Non-Hazardous Weight: {weight_for_0}\\nHazardous Weight: {weight_for_1}')"
   ]
  },
  {
   "cell_type": "code",
   "execution_count": 14,
   "metadata": {},
   "outputs": [
    {
     "name": "stdout",
     "output_type": "stream",
     "text": [
      "Model: \"sequential_1\"\n",
      "_________________________________________________________________\n",
      " Layer (type)                Output Shape              Param #   \n",
      "=================================================================\n",
      " dense_6 (Dense)             (None, 5)                 30        \n",
      "                                                                 \n",
      " dropout_3 (Dropout)         (None, 5)                 0         \n",
      "                                                                 \n",
      " dense_7 (Dense)             (None, 5)                 30        \n",
      "                                                                 \n",
      " dense_8 (Dense)             (None, 5)                 30        \n",
      "                                                                 \n",
      " dropout_4 (Dropout)         (None, 5)                 0         \n",
      "                                                                 \n",
      " dense_9 (Dense)             (None, 3)                 18        \n",
      "                                                                 \n",
      " dense_10 (Dense)            (None, 3)                 12        \n",
      "                                                                 \n",
      " dropout_5 (Dropout)         (None, 3)                 0         \n",
      "                                                                 \n",
      " dense_11 (Dense)            (None, 1)                 4         \n",
      "                                                                 \n",
      "=================================================================\n",
      "Total params: 124\n",
      "Trainable params: 124\n",
      "Non-trainable params: 0\n",
      "_________________________________________________________________\n"
     ]
    }
   ],
   "source": [
    "weighted_model = make_model()\n",
    "weighted_model.load_weights(initial_weights)\n",
    "weighted_model.summary()"
   ]
  },
  {
   "cell_type": "code",
   "execution_count": 15,
   "metadata": {},
   "outputs": [
    {
     "name": "stdout",
     "output_type": "stream",
     "text": [
      "Epoch 1/100\n",
      "36/36 [==============================] - 5s 49ms/step - loss: 1.1039 - binary_accuracy: 0.8794 - precision: 0.0468 - recall: 0.0123 - true_positives: 88.0000 - true_negatives: 64613.0000 - false_negatives: 7082.0000 - false_positives: 1793.0000 - auc: 0.4141 - prc: 0.0783 - val_loss: 0.3827 - val_binary_accuracy: 0.9011 - val_precision: 0.0000e+00 - val_recall: 0.0000e+00 - val_true_positives: 0.0000e+00 - val_true_negatives: 7367.0000 - val_false_negatives: 797.0000 - val_false_positives: 12.0000 - val_auc: 0.3405 - val_prc: 0.0737\n",
      "Epoch 2/100\n",
      "36/36 [==============================] - 0s 7ms/step - loss: 0.9124 - binary_accuracy: 0.8139 - precision: 0.0972 - recall: 0.1098 - true_positives: 787.0000 - true_negatives: 59096.0000 - false_negatives: 6383.0000 - false_positives: 7310.0000 - auc: 0.4947 - prc: 0.0967 - val_loss: 0.4409 - val_binary_accuracy: 0.8697 - val_precision: 0.1825 - val_recall: 0.0966 - val_true_positives: 77.0000 - val_true_negatives: 7034.0000 - val_false_negatives: 720.0000 - val_false_positives: 345.0000 - val_auc: 0.6247 - val_prc: 0.1383\n",
      "Epoch 3/100\n",
      "36/36 [==============================] - 0s 7ms/step - loss: 0.7688 - binary_accuracy: 0.7480 - precision: 0.1447 - recall: 0.3229 - true_positives: 2315.0000 - true_negatives: 52721.0000 - false_negatives: 4855.0000 - false_positives: 13685.0000 - auc: 0.5976 - prc: 0.1321 - val_loss: 0.4525 - val_binary_accuracy: 0.8313 - val_precision: 0.2320 - val_recall: 0.3162 - val_true_positives: 252.0000 - val_true_negatives: 6545.0000 - val_false_negatives: 545.0000 - val_false_positives: 834.0000 - val_auc: 0.7790 - val_prc: 0.2214\n",
      "Epoch 4/100\n",
      "36/36 [==============================] - 0s 7ms/step - loss: 0.6976 - binary_accuracy: 0.7229 - precision: 0.1648 - recall: 0.4534 - true_positives: 3251.0000 - true_negatives: 49936.0000 - false_negatives: 3919.0000 - false_positives: 16470.0000 - auc: 0.6693 - prc: 0.1681 - val_loss: 0.4643 - val_binary_accuracy: 0.7988 - val_precision: 0.2566 - val_recall: 0.5609 - val_true_positives: 447.0000 - val_true_negatives: 6084.0000 - val_false_negatives: 350.0000 - val_false_positives: 1295.0000 - val_auc: 0.8139 - val_prc: 0.2439\n",
      "Epoch 5/100\n",
      "36/36 [==============================] - 0s 7ms/step - loss: 0.6662 - binary_accuracy: 0.7130 - precision: 0.1721 - recall: 0.5105 - true_positives: 3660.0000 - true_negatives: 48803.0000 - false_negatives: 3510.0000 - false_positives: 17603.0000 - auc: 0.7016 - prc: 0.1794 - val_loss: 0.4748 - val_binary_accuracy: 0.7627 - val_precision: 0.2571 - val_recall: 0.7591 - val_true_positives: 605.0000 - val_true_negatives: 5631.0000 - val_false_negatives: 192.0000 - val_false_positives: 1748.0000 - val_auc: 0.8254 - val_prc: 0.2522\n",
      "Epoch 6/100\n",
      "36/36 [==============================] - 0s 7ms/step - loss: 0.6438 - binary_accuracy: 0.7088 - precision: 0.1775 - recall: 0.5471 - true_positives: 3923.0000 - true_negatives: 48230.0000 - false_negatives: 3247.0000 - false_positives: 18176.0000 - auc: 0.7212 - prc: 0.1889 - val_loss: 0.4787 - val_binary_accuracy: 0.7055 - val_precision: 0.2269 - val_recall: 0.8394 - val_true_positives: 669.0000 - val_true_negatives: 5099.0000 - val_false_negatives: 128.0000 - val_false_positives: 2280.0000 - val_auc: 0.8306 - val_prc: 0.2551\n",
      "Epoch 7/100\n",
      "36/36 [==============================] - 0s 7ms/step - loss: 0.6267 - binary_accuracy: 0.7084 - precision: 0.1846 - recall: 0.5828 - true_positives: 4179.0000 - true_negatives: 47942.0000 - false_negatives: 2991.0000 - false_positives: 18464.0000 - auc: 0.7371 - prc: 0.1930 - val_loss: 0.4805 - val_binary_accuracy: 0.7034 - val_precision: 0.2274 - val_recall: 0.8519 - val_true_positives: 679.0000 - val_true_negatives: 5072.0000 - val_false_negatives: 118.0000 - val_false_positives: 2307.0000 - val_auc: 0.8349 - val_prc: 0.2586\n",
      "Epoch 8/100\n",
      "36/36 [==============================] - 0s 7ms/step - loss: 0.6141 - binary_accuracy: 0.7114 - precision: 0.1915 - recall: 0.6088 - true_positives: 4365.0000 - true_negatives: 47978.0000 - false_negatives: 2805.0000 - false_positives: 18428.0000 - auc: 0.7487 - prc: 0.2023 - val_loss: 0.4870 - val_binary_accuracy: 0.6974 - val_precision: 0.2286 - val_recall: 0.8858 - val_true_positives: 706.0000 - val_true_negatives: 4996.0000 - val_false_negatives: 91.0000 - val_false_positives: 2383.0000 - val_auc: 0.8391 - val_prc: 0.2620\n",
      "Epoch 9/100\n",
      "36/36 [==============================] - 0s 7ms/step - loss: 0.5981 - binary_accuracy: 0.7124 - precision: 0.1967 - recall: 0.6328 - true_positives: 4537.0000 - true_negatives: 47881.0000 - false_negatives: 2633.0000 - false_positives: 18525.0000 - auc: 0.7614 - prc: 0.2073 - val_loss: 0.4789 - val_binary_accuracy: 0.7062 - val_precision: 0.2347 - val_recall: 0.8908 - val_true_positives: 710.0000 - val_true_negatives: 5064.0000 - val_false_negatives: 87.0000 - val_false_positives: 2315.0000 - val_auc: 0.8428 - val_prc: 0.2653\n",
      "Epoch 10/100\n",
      "36/36 [==============================] - 0s 8ms/step - loss: 0.5860 - binary_accuracy: 0.7174 - precision: 0.2037 - recall: 0.6531 - true_positives: 4683.0000 - true_negatives: 48102.0000 - false_negatives: 2487.0000 - false_positives: 18304.0000 - auc: 0.7721 - prc: 0.2113 - val_loss: 0.4842 - val_binary_accuracy: 0.7018 - val_precision: 0.2335 - val_recall: 0.9021 - val_true_positives: 719.0000 - val_true_negatives: 5019.0000 - val_false_negatives: 78.0000 - val_false_positives: 2360.0000 - val_auc: 0.8457 - val_prc: 0.2691\n",
      "Epoch 11/100\n",
      "36/36 [==============================] - 0s 8ms/step - loss: 0.5710 - binary_accuracy: 0.7163 - precision: 0.2083 - recall: 0.6826 - true_positives: 4894.0000 - true_negatives: 47806.0000 - false_negatives: 2276.0000 - false_positives: 18600.0000 - auc: 0.7834 - prc: 0.2218 - val_loss: 0.4813 - val_binary_accuracy: 0.7019 - val_precision: 0.2348 - val_recall: 0.9109 - val_true_positives: 726.0000 - val_true_negatives: 5013.0000 - val_false_negatives: 71.0000 - val_false_positives: 2366.0000 - val_auc: 0.8486 - val_prc: 0.2740\n",
      "Epoch 12/100\n",
      "36/36 [==============================] - 0s 7ms/step - loss: 0.5672 - binary_accuracy: 0.7203 - precision: 0.2110 - recall: 0.6826 - true_positives: 4894.0000 - true_negatives: 48101.0000 - false_negatives: 2276.0000 - false_positives: 18305.0000 - auc: 0.7857 - prc: 0.2235 - val_loss: 0.4881 - val_binary_accuracy: 0.6988 - val_precision: 0.2349 - val_recall: 0.9260 - val_true_positives: 738.0000 - val_true_negatives: 4975.0000 - val_false_negatives: 59.0000 - val_false_positives: 2404.0000 - val_auc: 0.8503 - val_prc: 0.2799\n",
      "Epoch 13/100\n",
      "36/36 [==============================] - 0s 7ms/step - loss: 0.5606 - binary_accuracy: 0.7244 - precision: 0.2157 - recall: 0.6934 - true_positives: 4972.0000 - true_negatives: 48329.0000 - false_negatives: 2198.0000 - false_positives: 18077.0000 - auc: 0.7909 - prc: 0.2247 - val_loss: 0.4686 - val_binary_accuracy: 0.7383 - val_precision: 0.2570 - val_recall: 0.8908 - val_true_positives: 710.0000 - val_true_negatives: 5326.0000 - val_false_negatives: 87.0000 - val_false_positives: 2053.0000 - val_auc: 0.8527 - val_prc: 0.2840\n",
      "Epoch 14/100\n",
      "36/36 [==============================] - 0s 7ms/step - loss: 0.5558 - binary_accuracy: 0.7228 - precision: 0.2171 - recall: 0.7077 - true_positives: 5074.0000 - true_negatives: 48106.0000 - false_negatives: 2096.0000 - false_positives: 18300.0000 - auc: 0.7929 - prc: 0.2262 - val_loss: 0.4807 - val_binary_accuracy: 0.7318 - val_precision: 0.2558 - val_recall: 0.9172 - val_true_positives: 731.0000 - val_true_negatives: 5252.0000 - val_false_negatives: 66.0000 - val_false_positives: 2127.0000 - val_auc: 0.8549 - val_prc: 0.2915\n",
      "Epoch 15/100\n",
      "36/36 [==============================] - 0s 7ms/step - loss: 0.5478 - binary_accuracy: 0.7232 - precision: 0.2193 - recall: 0.7190 - true_positives: 5155.0000 - true_negatives: 48053.0000 - false_negatives: 2015.0000 - false_positives: 18353.0000 - auc: 0.7975 - prc: 0.2311 - val_loss: 0.4845 - val_binary_accuracy: 0.7295 - val_precision: 0.2544 - val_recall: 0.9197 - val_true_positives: 733.0000 - val_true_negatives: 5231.0000 - val_false_negatives: 64.0000 - val_false_positives: 2148.0000 - val_auc: 0.8584 - val_prc: 0.2995\n",
      "Epoch 16/100\n",
      "36/36 [==============================] - 0s 7ms/step - loss: 0.5451 - binary_accuracy: 0.7208 - precision: 0.2191 - recall: 0.7272 - true_positives: 5214.0000 - true_negatives: 47820.0000 - false_negatives: 1956.0000 - false_positives: 18586.0000 - auc: 0.7990 - prc: 0.2305 - val_loss: 0.4821 - val_binary_accuracy: 0.7317 - val_precision: 0.2560 - val_recall: 0.9197 - val_true_positives: 733.0000 - val_true_negatives: 5249.0000 - val_false_negatives: 64.0000 - val_false_positives: 2130.0000 - val_auc: 0.8609 - val_prc: 0.3045\n",
      "Epoch 17/100\n",
      "36/36 [==============================] - 0s 7ms/step - loss: 0.5419 - binary_accuracy: 0.7245 - precision: 0.2232 - recall: 0.7367 - true_positives: 5282.0000 - true_negatives: 48025.0000 - false_negatives: 1888.0000 - false_positives: 18381.0000 - auc: 0.8026 - prc: 0.2372 - val_loss: 0.4708 - val_binary_accuracy: 0.7384 - val_precision: 0.2598 - val_recall: 0.9109 - val_true_positives: 726.0000 - val_true_negatives: 5311.0000 - val_false_negatives: 71.0000 - val_false_positives: 2068.0000 - val_auc: 0.8645 - val_prc: 0.3122\n",
      "Epoch 18/100\n",
      "36/36 [==============================] - 0s 7ms/step - loss: 0.5333 - binary_accuracy: 0.7260 - precision: 0.2264 - recall: 0.7495 - true_positives: 5374.0000 - true_negatives: 48043.0000 - false_negatives: 1796.0000 - false_positives: 18363.0000 - auc: 0.8077 - prc: 0.2446 - val_loss: 0.4711 - val_binary_accuracy: 0.7429 - val_precision: 0.2630 - val_recall: 0.9084 - val_true_positives: 724.0000 - val_true_negatives: 5350.0000 - val_false_negatives: 73.0000 - val_false_positives: 2029.0000 - val_auc: 0.8665 - val_prc: 0.3181\n",
      "Epoch 19/100\n",
      "36/36 [==============================] - 0s 7ms/step - loss: 0.5355 - binary_accuracy: 0.7223 - precision: 0.2242 - recall: 0.7515 - true_positives: 5388.0000 - true_negatives: 47759.0000 - false_negatives: 1782.0000 - false_positives: 18647.0000 - auc: 0.8052 - prc: 0.2369 - val_loss: 0.4757 - val_binary_accuracy: 0.7405 - val_precision: 0.2616 - val_recall: 0.9122 - val_true_positives: 727.0000 - val_true_negatives: 5327.0000 - val_false_negatives: 70.0000 - val_false_positives: 2052.0000 - val_auc: 0.8721 - val_prc: 0.3340\n",
      "Epoch 20/100\n",
      "36/36 [==============================] - 0s 8ms/step - loss: 0.5337 - binary_accuracy: 0.7185 - precision: 0.2220 - recall: 0.7543 - true_positives: 5408.0000 - true_negatives: 47456.0000 - false_negatives: 1762.0000 - false_positives: 18950.0000 - auc: 0.8065 - prc: 0.2420 - val_loss: 0.4729 - val_binary_accuracy: 0.7469 - val_precision: 0.2648 - val_recall: 0.8984 - val_true_positives: 716.0000 - val_true_negatives: 5391.0000 - val_false_negatives: 81.0000 - val_false_positives: 1988.0000 - val_auc: 0.8699 - val_prc: 0.3286\n",
      "Epoch 21/100\n",
      "36/36 [==============================] - 0s 8ms/step - loss: 0.5316 - binary_accuracy: 0.7168 - precision: 0.2216 - recall: 0.7590 - true_positives: 5442.0000 - true_negatives: 47294.0000 - false_negatives: 1728.0000 - false_positives: 19112.0000 - auc: 0.8088 - prc: 0.2427 - val_loss: 0.4882 - val_binary_accuracy: 0.7395 - val_precision: 0.2619 - val_recall: 0.9197 - val_true_positives: 733.0000 - val_true_negatives: 5313.0000 - val_false_negatives: 64.0000 - val_false_positives: 2066.0000 - val_auc: 0.8719 - val_prc: 0.3336\n",
      "Epoch 22/100\n",
      "36/36 [==============================] - 0s 7ms/step - loss: 0.5278 - binary_accuracy: 0.7120 - precision: 0.2201 - recall: 0.7686 - true_positives: 5511.0000 - true_negatives: 46878.0000 - false_negatives: 1659.0000 - false_positives: 19528.0000 - auc: 0.8100 - prc: 0.2476 - val_loss: 0.4742 - val_binary_accuracy: 0.7478 - val_precision: 0.2665 - val_recall: 0.9059 - val_true_positives: 722.0000 - val_true_negatives: 5392.0000 - val_false_negatives: 75.0000 - val_false_positives: 1987.0000 - val_auc: 0.8744 - val_prc: 0.3389\n",
      "Epoch 23/100\n",
      "36/36 [==============================] - 0s 8ms/step - loss: 0.5235 - binary_accuracy: 0.7151 - precision: 0.2228 - recall: 0.7729 - true_positives: 5542.0000 - true_negatives: 47071.0000 - false_negatives: 1628.0000 - false_positives: 19335.0000 - auc: 0.8136 - prc: 0.2546 - val_loss: 0.4824 - val_binary_accuracy: 0.7432 - val_precision: 0.2645 - val_recall: 0.9184 - val_true_positives: 732.0000 - val_true_negatives: 5344.0000 - val_false_negatives: 65.0000 - val_false_positives: 2035.0000 - val_auc: 0.8755 - val_prc: 0.3425\n",
      "Epoch 24/100\n",
      "36/36 [==============================] - 0s 9ms/step - loss: 0.5294 - binary_accuracy: 0.7128 - precision: 0.2205 - recall: 0.7681 - true_positives: 5507.0000 - true_negatives: 46939.0000 - false_negatives: 1663.0000 - false_positives: 19467.0000 - auc: 0.8088 - prc: 0.2444 - val_loss: 0.4875 - val_binary_accuracy: 0.7372 - val_precision: 0.2606 - val_recall: 0.9235 - val_true_positives: 736.0000 - val_true_negatives: 5291.0000 - val_false_negatives: 61.0000 - val_false_positives: 2088.0000 - val_auc: 0.8758 - val_prc: 0.3406\n",
      "Epoch 25/100\n",
      "36/36 [==============================] - 0s 8ms/step - loss: 0.5281 - binary_accuracy: 0.7119 - precision: 0.2205 - recall: 0.7717 - true_positives: 5533.0000 - true_negatives: 46849.0000 - false_negatives: 1637.0000 - false_positives: 19557.0000 - auc: 0.8093 - prc: 0.2454 - val_loss: 0.4750 - val_binary_accuracy: 0.7478 - val_precision: 0.2677 - val_recall: 0.9147 - val_true_positives: 729.0000 - val_true_negatives: 5385.0000 - val_false_negatives: 68.0000 - val_false_positives: 1994.0000 - val_auc: 0.8775 - val_prc: 0.3462\n",
      "Epoch 26/100\n",
      "36/36 [==============================] - 0s 8ms/step - loss: 0.5231 - binary_accuracy: 0.7168 - precision: 0.2237 - recall: 0.7718 - true_positives: 5534.0000 - true_negatives: 47205.0000 - false_negatives: 1636.0000 - false_positives: 19201.0000 - auc: 0.8138 - prc: 0.2539 - val_loss: 0.4686 - val_binary_accuracy: 0.7538 - val_precision: 0.2711 - val_recall: 0.9034 - val_true_positives: 720.0000 - val_true_negatives: 5443.0000 - val_false_negatives: 77.0000 - val_false_positives: 1936.0000 - val_auc: 0.8756 - val_prc: 0.3417\n",
      "Epoch 27/100\n",
      "36/36 [==============================] - 0s 7ms/step - loss: 0.5225 - binary_accuracy: 0.7127 - precision: 0.2229 - recall: 0.7838 - true_positives: 5620.0000 - true_negatives: 46816.0000 - false_negatives: 1550.0000 - false_positives: 19590.0000 - auc: 0.8134 - prc: 0.2515 - val_loss: 0.4758 - val_binary_accuracy: 0.7460 - val_precision: 0.2668 - val_recall: 0.9184 - val_true_positives: 732.0000 - val_true_negatives: 5367.0000 - val_false_negatives: 65.0000 - val_false_positives: 2012.0000 - val_auc: 0.8772 - val_prc: 0.3430\n",
      "Epoch 28/100\n",
      "36/36 [==============================] - 0s 7ms/step - loss: 0.5213 - binary_accuracy: 0.7103 - precision: 0.2220 - recall: 0.7874 - true_positives: 5646.0000 - true_negatives: 46616.0000 - false_negatives: 1524.0000 - false_positives: 19790.0000 - auc: 0.8129 - prc: 0.2514 - val_loss: 0.4719 - val_binary_accuracy: 0.7533 - val_precision: 0.2714 - val_recall: 0.9084 - val_true_positives: 724.0000 - val_true_negatives: 5435.0000 - val_false_negatives: 73.0000 - val_false_positives: 1944.0000 - val_auc: 0.8777 - val_prc: 0.3455\n",
      "Epoch 29/100\n",
      "36/36 [==============================] - 0s 7ms/step - loss: 0.5208 - binary_accuracy: 0.7127 - precision: 0.2234 - recall: 0.7870 - true_positives: 5643.0000 - true_negatives: 46793.0000 - false_negatives: 1527.0000 - false_positives: 19613.0000 - auc: 0.8139 - prc: 0.2479 - val_loss: 0.4684 - val_binary_accuracy: 0.7556 - val_precision: 0.2731 - val_recall: 0.9072 - val_true_positives: 723.0000 - val_true_negatives: 5455.0000 - val_false_negatives: 74.0000 - val_false_positives: 1924.0000 - val_auc: 0.8777 - val_prc: 0.3472\n",
      "Epoch 30/100\n",
      "36/36 [==============================] - 0s 7ms/step - loss: 0.5207 - binary_accuracy: 0.7138 - precision: 0.2238 - recall: 0.7847 - true_positives: 5626.0000 - true_negatives: 46891.0000 - false_negatives: 1544.0000 - false_positives: 19515.0000 - auc: 0.8149 - prc: 0.2519 - val_loss: 0.4902 - val_binary_accuracy: 0.7419 - val_precision: 0.2643 - val_recall: 0.9235 - val_true_positives: 736.0000 - val_true_negatives: 5330.0000 - val_false_negatives: 61.0000 - val_false_positives: 2049.0000 - val_auc: 0.8777 - val_prc: 0.3426\n",
      "Epoch 31/100\n",
      "36/36 [==============================] - 0s 7ms/step - loss: 0.5216 - binary_accuracy: 0.7146 - precision: 0.2242 - recall: 0.7841 - true_positives: 5622.0000 - true_negatives: 46952.0000 - false_negatives: 1548.0000 - false_positives: 19454.0000 - auc: 0.8142 - prc: 0.2528 - val_loss: 0.4674 - val_binary_accuracy: 0.7544 - val_precision: 0.2725 - val_recall: 0.9097 - val_true_positives: 725.0000 - val_true_negatives: 5443.0000 - val_false_negatives: 72.0000 - val_false_positives: 1936.0000 - val_auc: 0.8790 - val_prc: 0.3474\n",
      "Epoch 32/100\n",
      "36/36 [==============================] - 0s 7ms/step - loss: 0.5188 - binary_accuracy: 0.7136 - precision: 0.2245 - recall: 0.7901 - true_positives: 5665.0000 - true_negatives: 46842.0000 - false_negatives: 1505.0000 - false_positives: 19564.0000 - auc: 0.8160 - prc: 0.2569 - val_loss: 0.4826 - val_binary_accuracy: 0.7462 - val_precision: 0.2671 - val_recall: 0.9197 - val_true_positives: 733.0000 - val_true_negatives: 5368.0000 - val_false_negatives: 64.0000 - val_false_positives: 2011.0000 - val_auc: 0.8793 - val_prc: 0.3482\n",
      "Epoch 33/100\n",
      "36/36 [==============================] - 0s 7ms/step - loss: 0.5210 - binary_accuracy: 0.7149 - precision: 0.2243 - recall: 0.7834 - true_positives: 5617.0000 - true_negatives: 46980.0000 - false_negatives: 1553.0000 - false_positives: 19426.0000 - auc: 0.8161 - prc: 0.2616 - val_loss: 0.4817 - val_binary_accuracy: 0.7510 - val_precision: 0.2705 - val_recall: 0.9159 - val_true_positives: 730.0000 - val_true_negatives: 5410.0000 - val_false_negatives: 67.0000 - val_false_positives: 1969.0000 - val_auc: 0.8777 - val_prc: 0.3401\n",
      "Epoch 34/100\n",
      "36/36 [==============================] - 0s 7ms/step - loss: 0.5202 - binary_accuracy: 0.7127 - precision: 0.2235 - recall: 0.7876 - true_positives: 5647.0000 - true_negatives: 46790.0000 - false_negatives: 1523.0000 - false_positives: 19616.0000 - auc: 0.8146 - prc: 0.2573 - val_loss: 0.4844 - val_binary_accuracy: 0.7505 - val_precision: 0.2696 - val_recall: 0.9122 - val_true_positives: 727.0000 - val_true_negatives: 5409.0000 - val_false_negatives: 70.0000 - val_false_positives: 1970.0000 - val_auc: 0.8765 - val_prc: 0.3357\n",
      "Epoch 35/100\n",
      "36/36 [==============================] - 0s 7ms/step - loss: 0.5162 - binary_accuracy: 0.7142 - precision: 0.2262 - recall: 0.7986 - true_positives: 5726.0000 - true_negatives: 46822.0000 - false_negatives: 1444.0000 - false_positives: 19584.0000 - auc: 0.8178 - prc: 0.2606 - val_loss: 0.4770 - val_binary_accuracy: 0.7559 - val_precision: 0.2733 - val_recall: 0.9072 - val_true_positives: 723.0000 - val_true_negatives: 5457.0000 - val_false_negatives: 74.0000 - val_false_positives: 1922.0000 - val_auc: 0.8751 - val_prc: 0.3276\n",
      "Epoch 36/100\n",
      "36/36 [==============================] - 0s 7ms/step - loss: 0.5179 - binary_accuracy: 0.7169 - precision: 0.2266 - recall: 0.7894 - true_positives: 5660.0000 - true_negatives: 47086.0000 - false_negatives: 1510.0000 - false_positives: 19320.0000 - auc: 0.8178 - prc: 0.2577 - val_loss: 0.4865 - val_binary_accuracy: 0.7501 - val_precision: 0.2694 - val_recall: 0.9134 - val_true_positives: 728.0000 - val_true_negatives: 5405.0000 - val_false_negatives: 69.0000 - val_false_positives: 1974.0000 - val_auc: 0.8753 - val_prc: 0.3307\n",
      "Epoch 37/100\n",
      "36/36 [==============================] - 0s 7ms/step - loss: 0.5211 - binary_accuracy: 0.7129 - precision: 0.2238 - recall: 0.7886 - true_positives: 5654.0000 - true_negatives: 46797.0000 - false_negatives: 1516.0000 - false_positives: 19609.0000 - auc: 0.8151 - prc: 0.2532 - val_loss: 0.4632 - val_binary_accuracy: 0.7605 - val_precision: 0.2770 - val_recall: 0.9046 - val_true_positives: 721.0000 - val_true_negatives: 5497.0000 - val_false_negatives: 76.0000 - val_false_positives: 1882.0000 - val_auc: 0.8770 - val_prc: 0.3330\n",
      "Epoch 38/100\n",
      "36/36 [==============================] - 0s 7ms/step - loss: 0.5185 - binary_accuracy: 0.7135 - precision: 0.2251 - recall: 0.7946 - true_positives: 5697.0000 - true_negatives: 46799.0000 - false_negatives: 1473.0000 - false_positives: 19607.0000 - auc: 0.8165 - prc: 0.2580 - val_loss: 0.4829 - val_binary_accuracy: 0.7544 - val_precision: 0.2726 - val_recall: 0.9109 - val_true_positives: 726.0000 - val_true_negatives: 5442.0000 - val_false_negatives: 71.0000 - val_false_positives: 1937.0000 - val_auc: 0.8786 - val_prc: 0.3404\n",
      "Epoch 39/100\n",
      "36/36 [==============================] - 0s 7ms/step - loss: 0.5153 - binary_accuracy: 0.7129 - precision: 0.2259 - recall: 0.8022 - true_positives: 5752.0000 - true_negatives: 46697.0000 - false_negatives: 1418.0000 - false_positives: 19709.0000 - auc: 0.8191 - prc: 0.2621 - val_loss: 0.4706 - val_binary_accuracy: 0.7584 - val_precision: 0.2755 - val_recall: 0.9072 - val_true_positives: 723.0000 - val_true_negatives: 5478.0000 - val_false_negatives: 74.0000 - val_false_positives: 1901.0000 - val_auc: 0.8797 - val_prc: 0.3444\n",
      "Epoch 40/100\n",
      "36/36 [==============================] - 0s 7ms/step - loss: 0.5188 - binary_accuracy: 0.7147 - precision: 0.2255 - recall: 0.7916 - true_positives: 5676.0000 - true_negatives: 46907.0000 - false_negatives: 1494.0000 - false_positives: 19499.0000 - auc: 0.8175 - prc: 0.2603 - val_loss: 0.4658 - val_binary_accuracy: 0.7605 - val_precision: 0.2770 - val_recall: 0.9046 - val_true_positives: 721.0000 - val_true_negatives: 5497.0000 - val_false_negatives: 76.0000 - val_false_positives: 1882.0000 - val_auc: 0.8800 - val_prc: 0.3457\n",
      "Epoch 41/100\n",
      "36/36 [==============================] - 0s 8ms/step - loss: 0.5178 - binary_accuracy: 0.7122 - precision: 0.2247 - recall: 0.7974 - true_positives: 5717.0000 - true_negatives: 46684.0000 - false_negatives: 1453.0000 - false_positives: 19722.0000 - auc: 0.8170 - prc: 0.2592 - val_loss: 0.4656 - val_binary_accuracy: 0.7643 - val_precision: 0.2798 - val_recall: 0.9009 - val_true_positives: 718.0000 - val_true_negatives: 5531.0000 - val_false_negatives: 79.0000 - val_false_positives: 1848.0000 - val_auc: 0.8800 - val_prc: 0.3467\n",
      "Epoch 42/100\n",
      "29/36 [=======================>......] - ETA: 0s - loss: 0.5149 - binary_accuracy: 0.7194 - precision: 0.2286 - recall: 0.7932 - true_positives: 4584.0000 - true_negatives: 38142.0000 - false_negatives: 1195.0000 - false_positives: 15471.0000 - auc: 0.8211 - prc: 0.2640Restoring model weights from the end of the best epoch: 32.\n",
      "36/36 [==============================] - 0s 7ms/step - loss: 0.5159 - binary_accuracy: 0.7184 - precision: 0.2281 - recall: 0.7926 - true_positives: 5683.0000 - true_negatives: 47174.0000 - false_negatives: 1487.0000 - false_positives: 19232.0000 - auc: 0.8205 - prc: 0.2635 - val_loss: 0.4760 - val_binary_accuracy: 0.7562 - val_precision: 0.2738 - val_recall: 0.9084 - val_true_positives: 724.0000 - val_true_negatives: 5459.0000 - val_false_negatives: 73.0000 - val_false_positives: 1920.0000 - val_auc: 0.8787 - val_prc: 0.3406\n",
      "Epoch 42: early stopping\n"
     ]
    },
    {
     "data": {
      "text/plain": [
       "<keras.callbacks.History at 0x21ce72980d0>"
      ]
     },
     "execution_count": 15,
     "metadata": {},
     "output_type": "execute_result"
    }
   ],
   "source": [
    "weighted_model.fit(train_features, \n",
    "                    train_labels, \n",
    "                    batch_size=BATCH_SIZE, \n",
    "                    epochs=EPOCHS, \n",
    "                    callbacks=[early_stopping], \n",
    "                    validation_data=(validation_features, validation_labels), \n",
    "                    class_weight=class_weights)"
   ]
  },
  {
   "cell_type": "code",
   "execution_count": 16,
   "metadata": {},
   "outputs": [
    {
     "name": "stdout",
     "output_type": "stream",
     "text": [
      "5/5 [==============================] - 0s 4ms/step - loss: 0.4808 - binary_accuracy: 0.7450 - precision: 0.2570 - recall: 0.8740 - true_positives: 763.0000 - true_negatives: 6005.0000 - false_negatives: 110.0000 - false_positives: 2206.0000 - auc: 0.8674 - prc: 0.3221\n"
     ]
    },
    {
     "data": {
      "text/plain": [
       "[0.4807872176170349,\n",
       " 0.7450462579727173,\n",
       " 0.25698888301849365,\n",
       " 0.873997688293457,\n",
       " 763.0,\n",
       " 6005.0,\n",
       " 110.0,\n",
       " 2206.0,\n",
       " 0.8674417734146118,\n",
       " 0.3220868706703186]"
      ]
     },
     "execution_count": 16,
     "metadata": {},
     "output_type": "execute_result"
    }
   ],
   "source": [
    "weighted_model.evaluate(test_features, test_labels, batch_size=BATCH_SIZE, verbose=1)"
   ]
  },
  {
   "cell_type": "code",
   "execution_count": 17,
   "metadata": {},
   "outputs": [
    {
     "name": "stdout",
     "output_type": "stream",
     "text": [
      "284/284 [==============================] - 1s 2ms/step\n"
     ]
    }
   ],
   "source": [
    "results = weighted_model.predict(test_features)\n",
    "results[results<0.5]=0\n",
    "results[results>0.5]=1"
   ]
  },
  {
   "cell_type": "code",
   "execution_count": 18,
   "metadata": {},
   "outputs": [
    {
     "data": {
      "text/plain": [
       "9084"
      ]
     },
     "execution_count": 18,
     "metadata": {},
     "output_type": "execute_result"
    }
   ],
   "source": [
    "len(results)"
   ]
  },
  {
   "cell_type": "code",
   "execution_count": 34,
   "metadata": {},
   "outputs": [],
   "source": [
    "regurgitate_data['predicted_values'] = results"
   ]
  },
  {
   "cell_type": "code",
   "execution_count": 33,
   "metadata": {},
   "outputs": [],
   "source": [
    "def prediction_classification(input_set):\n",
    "    if all(input_set):\n",
    "        return \"True_Positive\"\n",
    "    elif not input_set[0] and input_set[1]:\n",
    "        return \"False_Positive\"\n",
    "    elif not input_set[0] and not input_set[1]:\n",
    "        return \"True_Negative\"\n",
    "    else:\n",
    "        return \"False_Negative\""
   ]
  },
  {
   "cell_type": "code",
   "execution_count": 32,
   "metadata": {},
   "outputs": [],
   "source": [
    "def boolean_transformer(input_set, positive_identifier, negative_identifier):\n",
    "    input_set[input_set == 0] = negative_identifier\n",
    "    input_set[input_set == 1] = positive_identifier\n",
    "\n",
    "    return input_set "
   ]
  },
  {
   "cell_type": "code",
   "execution_count": 35,
   "metadata": {},
   "outputs": [],
   "source": [
    "regurgitate_data['Classification_Success'] = \\\n",
    "list(map(prediction_classification, list(zip(regurgitate_data['hazardous'], regurgitate_data['predicted_values']))))"
   ]
  },
  {
   "cell_type": "code",
   "execution_count": 36,
   "metadata": {},
   "outputs": [
    {
     "name": "stderr",
     "output_type": "stream",
     "text": [
      "C:\\Users\\ahuma\\AppData\\Local\\Temp/ipykernel_16504/329045822.py:2: SettingWithCopyWarning: \n",
      "A value is trying to be set on a copy of a slice from a DataFrame\n",
      "\n",
      "See the caveats in the documentation: https://pandas.pydata.org/pandas-docs/stable/user_guide/indexing.html#returning-a-view-versus-a-copy\n",
      "  input_set[input_set == 0] = negative_identifier\n",
      "C:\\Users\\ahuma\\AppData\\Local\\Temp/ipykernel_16504/329045822.py:3: SettingWithCopyWarning: \n",
      "A value is trying to be set on a copy of a slice from a DataFrame\n",
      "\n",
      "See the caveats in the documentation: https://pandas.pydata.org/pandas-docs/stable/user_guide/indexing.html#returning-a-view-versus-a-copy\n",
      "  input_set[input_set == 1] = positive_identifier\n"
     ]
    }
   ],
   "source": [
    "regurgitate_data['hazardous'] = boolean_transformer(regurgitate_data['hazardous'], 'hazardous', 'not_hazardous')\n",
    "regurgitate_data['predicted_values'] = boolean_transformer(regurgitate_data['predicted_values'], 'predicted_hazardous', 'predicted_not_hazardous')"
   ]
  },
  {
   "cell_type": "code",
   "execution_count": 37,
   "metadata": {},
   "outputs": [
    {
     "data": {
      "text/html": [
       "<div>\n",
       "<style scoped>\n",
       "    .dataframe tbody tr th:only-of-type {\n",
       "        vertical-align: middle;\n",
       "    }\n",
       "\n",
       "    .dataframe tbody tr th {\n",
       "        vertical-align: top;\n",
       "    }\n",
       "\n",
       "    .dataframe thead th {\n",
       "        text-align: right;\n",
       "    }\n",
       "</style>\n",
       "<table border=\"1\" class=\"dataframe\">\n",
       "  <thead>\n",
       "    <tr style=\"text-align: right;\">\n",
       "      <th></th>\n",
       "      <th>id</th>\n",
       "      <th>name</th>\n",
       "      <th>est_diameter_min</th>\n",
       "      <th>est_diameter_max</th>\n",
       "      <th>relative_velocity</th>\n",
       "      <th>miss_distance</th>\n",
       "      <th>orbiting_body</th>\n",
       "      <th>sentry_object</th>\n",
       "      <th>absolute_magnitude</th>\n",
       "      <th>hazardous</th>\n",
       "      <th>predicted_values</th>\n",
       "      <th>Classification_Success</th>\n",
       "    </tr>\n",
       "  </thead>\n",
       "  <tbody>\n",
       "    <tr>\n",
       "      <th>31028</th>\n",
       "      <td>3523943</td>\n",
       "      <td>(2010 KO10)</td>\n",
       "      <td>0.010105</td>\n",
       "      <td>0.022596</td>\n",
       "      <td>42983.753068</td>\n",
       "      <td>1.732615e+05</td>\n",
       "      <td>Earth</td>\n",
       "      <td>0.0</td>\n",
       "      <td>27.10</td>\n",
       "      <td>not_hazardous</td>\n",
       "      <td>predicted_not_hazardous</td>\n",
       "      <td>True_Negative</td>\n",
       "    </tr>\n",
       "    <tr>\n",
       "      <th>37766</th>\n",
       "      <td>2096590</td>\n",
       "      <td>96590 (1998 XB)</td>\n",
       "      <td>1.434019</td>\n",
       "      <td>3.206564</td>\n",
       "      <td>71153.282726</td>\n",
       "      <td>5.511275e+07</td>\n",
       "      <td>Earth</td>\n",
       "      <td>0.0</td>\n",
       "      <td>16.34</td>\n",
       "      <td>not_hazardous</td>\n",
       "      <td>predicted_hazardous</td>\n",
       "      <td>False_Positive</td>\n",
       "    </tr>\n",
       "    <tr>\n",
       "      <th>46124</th>\n",
       "      <td>54190790</td>\n",
       "      <td>(2021 QK2)</td>\n",
       "      <td>0.035201</td>\n",
       "      <td>0.078712</td>\n",
       "      <td>53485.543575</td>\n",
       "      <td>6.035976e+07</td>\n",
       "      <td>Earth</td>\n",
       "      <td>0.0</td>\n",
       "      <td>24.39</td>\n",
       "      <td>not_hazardous</td>\n",
       "      <td>predicted_not_hazardous</td>\n",
       "      <td>True_Negative</td>\n",
       "    </tr>\n",
       "    <tr>\n",
       "      <th>1586</th>\n",
       "      <td>3767315</td>\n",
       "      <td>(2017 BY32)</td>\n",
       "      <td>0.014607</td>\n",
       "      <td>0.032662</td>\n",
       "      <td>65516.623343</td>\n",
       "      <td>7.131711e+07</td>\n",
       "      <td>Earth</td>\n",
       "      <td>0.0</td>\n",
       "      <td>26.30</td>\n",
       "      <td>not_hazardous</td>\n",
       "      <td>predicted_not_hazardous</td>\n",
       "      <td>True_Negative</td>\n",
       "    </tr>\n",
       "    <tr>\n",
       "      <th>69274</th>\n",
       "      <td>3732907</td>\n",
       "      <td>(2015 UW67)</td>\n",
       "      <td>0.073207</td>\n",
       "      <td>0.163697</td>\n",
       "      <td>31041.810196</td>\n",
       "      <td>7.506213e+06</td>\n",
       "      <td>Earth</td>\n",
       "      <td>0.0</td>\n",
       "      <td>22.80</td>\n",
       "      <td>not_hazardous</td>\n",
       "      <td>predicted_not_hazardous</td>\n",
       "      <td>True_Negative</td>\n",
       "    </tr>\n",
       "  </tbody>\n",
       "</table>\n",
       "</div>"
      ],
      "text/plain": [
       "             id             name  est_diameter_min  est_diameter_max  \\\n",
       "31028   3523943      (2010 KO10)          0.010105          0.022596   \n",
       "37766   2096590  96590 (1998 XB)          1.434019          3.206564   \n",
       "46124  54190790       (2021 QK2)          0.035201          0.078712   \n",
       "1586    3767315      (2017 BY32)          0.014607          0.032662   \n",
       "69274   3732907      (2015 UW67)          0.073207          0.163697   \n",
       "\n",
       "       relative_velocity  miss_distance orbiting_body  sentry_object  \\\n",
       "31028       42983.753068   1.732615e+05         Earth            0.0   \n",
       "37766       71153.282726   5.511275e+07         Earth            0.0   \n",
       "46124       53485.543575   6.035976e+07         Earth            0.0   \n",
       "1586        65516.623343   7.131711e+07         Earth            0.0   \n",
       "69274       31041.810196   7.506213e+06         Earth            0.0   \n",
       "\n",
       "       absolute_magnitude      hazardous         predicted_values  \\\n",
       "31028               27.10  not_hazardous  predicted_not_hazardous   \n",
       "37766               16.34  not_hazardous      predicted_hazardous   \n",
       "46124               24.39  not_hazardous  predicted_not_hazardous   \n",
       "1586                26.30  not_hazardous  predicted_not_hazardous   \n",
       "69274               22.80  not_hazardous  predicted_not_hazardous   \n",
       "\n",
       "      Classification_Success  \n",
       "31028          True_Negative  \n",
       "37766         False_Positive  \n",
       "46124          True_Negative  \n",
       "1586           True_Negative  \n",
       "69274          True_Negative  "
      ]
     },
     "execution_count": 37,
     "metadata": {},
     "output_type": "execute_result"
    }
   ],
   "source": [
    "regurgitate_data.head()"
   ]
  },
  {
   "cell_type": "code",
   "execution_count": 39,
   "metadata": {},
   "outputs": [
    {
     "data": {
      "text/html": [
       "<div>\n",
       "<style scoped>\n",
       "    .dataframe tbody tr th:only-of-type {\n",
       "        vertical-align: middle;\n",
       "    }\n",
       "\n",
       "    .dataframe tbody tr th {\n",
       "        vertical-align: top;\n",
       "    }\n",
       "\n",
       "    .dataframe thead th {\n",
       "        text-align: right;\n",
       "    }\n",
       "</style>\n",
       "<table border=\"1\" class=\"dataframe\">\n",
       "  <thead>\n",
       "    <tr style=\"text-align: right;\">\n",
       "      <th></th>\n",
       "      <th>id</th>\n",
       "      <th>name</th>\n",
       "      <th>est_diameter_min</th>\n",
       "      <th>est_diameter_max</th>\n",
       "      <th>relative_velocity</th>\n",
       "      <th>miss_distance</th>\n",
       "      <th>orbiting_body</th>\n",
       "      <th>sentry_object</th>\n",
       "      <th>absolute_magnitude</th>\n",
       "      <th>hazardous</th>\n",
       "      <th>predicted_values</th>\n",
       "      <th>Classification_Success</th>\n",
       "    </tr>\n",
       "  </thead>\n",
       "  <tbody>\n",
       "    <tr>\n",
       "      <th>31028</th>\n",
       "      <td>3523943</td>\n",
       "      <td>(2010 KO10)</td>\n",
       "      <td>0.010105</td>\n",
       "      <td>0.022596</td>\n",
       "      <td>42983.753068</td>\n",
       "      <td>1.732615e+05</td>\n",
       "      <td>Earth</td>\n",
       "      <td>0.0</td>\n",
       "      <td>27.10</td>\n",
       "      <td>not_hazardous</td>\n",
       "      <td>predicted_not_hazardous</td>\n",
       "      <td>True_Negative</td>\n",
       "    </tr>\n",
       "    <tr>\n",
       "      <th>37766</th>\n",
       "      <td>2096590</td>\n",
       "      <td>96590 (1998 XB)</td>\n",
       "      <td>1.434019</td>\n",
       "      <td>3.206564</td>\n",
       "      <td>71153.282726</td>\n",
       "      <td>5.511275e+07</td>\n",
       "      <td>Earth</td>\n",
       "      <td>0.0</td>\n",
       "      <td>16.34</td>\n",
       "      <td>not_hazardous</td>\n",
       "      <td>predicted_hazardous</td>\n",
       "      <td>False_Positive</td>\n",
       "    </tr>\n",
       "    <tr>\n",
       "      <th>46124</th>\n",
       "      <td>54190790</td>\n",
       "      <td>(2021 QK2)</td>\n",
       "      <td>0.035201</td>\n",
       "      <td>0.078712</td>\n",
       "      <td>53485.543575</td>\n",
       "      <td>6.035976e+07</td>\n",
       "      <td>Earth</td>\n",
       "      <td>0.0</td>\n",
       "      <td>24.39</td>\n",
       "      <td>not_hazardous</td>\n",
       "      <td>predicted_not_hazardous</td>\n",
       "      <td>True_Negative</td>\n",
       "    </tr>\n",
       "    <tr>\n",
       "      <th>1586</th>\n",
       "      <td>3767315</td>\n",
       "      <td>(2017 BY32)</td>\n",
       "      <td>0.014607</td>\n",
       "      <td>0.032662</td>\n",
       "      <td>65516.623343</td>\n",
       "      <td>7.131711e+07</td>\n",
       "      <td>Earth</td>\n",
       "      <td>0.0</td>\n",
       "      <td>26.30</td>\n",
       "      <td>not_hazardous</td>\n",
       "      <td>predicted_not_hazardous</td>\n",
       "      <td>True_Negative</td>\n",
       "    </tr>\n",
       "    <tr>\n",
       "      <th>69274</th>\n",
       "      <td>3732907</td>\n",
       "      <td>(2015 UW67)</td>\n",
       "      <td>0.073207</td>\n",
       "      <td>0.163697</td>\n",
       "      <td>31041.810196</td>\n",
       "      <td>7.506213e+06</td>\n",
       "      <td>Earth</td>\n",
       "      <td>0.0</td>\n",
       "      <td>22.80</td>\n",
       "      <td>not_hazardous</td>\n",
       "      <td>predicted_not_hazardous</td>\n",
       "      <td>True_Negative</td>\n",
       "    </tr>\n",
       "  </tbody>\n",
       "</table>\n",
       "</div>"
      ],
      "text/plain": [
       "             id             name  est_diameter_min  est_diameter_max  \\\n",
       "31028   3523943      (2010 KO10)          0.010105          0.022596   \n",
       "37766   2096590  96590 (1998 XB)          1.434019          3.206564   \n",
       "46124  54190790       (2021 QK2)          0.035201          0.078712   \n",
       "1586    3767315      (2017 BY32)          0.014607          0.032662   \n",
       "69274   3732907      (2015 UW67)          0.073207          0.163697   \n",
       "\n",
       "       relative_velocity  miss_distance orbiting_body  sentry_object  \\\n",
       "31028       42983.753068   1.732615e+05         Earth            0.0   \n",
       "37766       71153.282726   5.511275e+07         Earth            0.0   \n",
       "46124       53485.543575   6.035976e+07         Earth            0.0   \n",
       "1586        65516.623343   7.131711e+07         Earth            0.0   \n",
       "69274       31041.810196   7.506213e+06         Earth            0.0   \n",
       "\n",
       "       absolute_magnitude      hazardous         predicted_values  \\\n",
       "31028               27.10  not_hazardous  predicted_not_hazardous   \n",
       "37766               16.34  not_hazardous      predicted_hazardous   \n",
       "46124               24.39  not_hazardous  predicted_not_hazardous   \n",
       "1586                26.30  not_hazardous  predicted_not_hazardous   \n",
       "69274               22.80  not_hazardous  predicted_not_hazardous   \n",
       "\n",
       "      Classification_Success  \n",
       "31028          True_Negative  \n",
       "37766         False_Positive  \n",
       "46124          True_Negative  \n",
       "1586           True_Negative  \n",
       "69274          True_Negative  "
      ]
     },
     "execution_count": 39,
     "metadata": {},
     "output_type": "execute_result"
    }
   ],
   "source": [
    "regurgitate_data.head()"
   ]
  },
  {
   "cell_type": "code",
   "execution_count": 27,
   "metadata": {},
   "outputs": [],
   "source": [
    "regurgitate_data.to_csv(path_or_buf=r'C:\\Users\\ahuma\\Desktop\\python projects\\REHS2022\\Final-Project\\ExtraKGs\\celesital-bodies\\processed_data.csv', index=False)"
   ]
  },
  {
   "cell_type": "code",
   "execution_count": null,
   "metadata": {},
   "outputs": [],
   "source": [
    "#keras.backend.clear_session()"
   ]
  }
 ],
 "metadata": {
  "kernelspec": {
   "display_name": "Python 3.10.1 64-bit",
   "language": "python",
   "name": "python3"
  },
  "language_info": {
   "codemirror_mode": {
    "name": "ipython",
    "version": 3
   },
   "file_extension": ".py",
   "mimetype": "text/x-python",
   "name": "python",
   "nbconvert_exporter": "python",
   "pygments_lexer": "ipython3",
   "version": "3.10.1"
  },
  "orig_nbformat": 4,
  "vscode": {
   "interpreter": {
    "hash": "26de051ba29f2982a8de78e945f0abaf191376122a1563185a90213a26c5da77"
   }
  }
 },
 "nbformat": 4,
 "nbformat_minor": 2
}
