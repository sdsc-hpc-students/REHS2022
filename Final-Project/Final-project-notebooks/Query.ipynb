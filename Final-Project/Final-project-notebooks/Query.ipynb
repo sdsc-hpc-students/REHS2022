{
 "cells": [
  {
<<<<<<< HEAD
=======
   "cell_type": "markdown",
   "metadata": {},
   "source": [
    "Query the KG"
   ]
  },
  {
>>>>>>> eb44a240d377caaf32e58b4918324e11f9a617a6
   "cell_type": "code",
   "execution_count": null,
   "metadata": {},
   "outputs": [],
   "source": []
  }
 ],
 "metadata": {
<<<<<<< HEAD
  "kernelspec": {
   "display_name": "Python 3.10.1 64-bit",
   "language": "python",
   "name": "python3"
  },
  "language_info": {
   "name": "python",
   "version": "3.10.1"
  },
  "orig_nbformat": 4,
  "vscode": {
   "interpreter": {
    "hash": "26de051ba29f2982a8de78e945f0abaf191376122a1563185a90213a26c5da77"
   }
  }
=======
  "language_info": {
   "name": "python"
  },
  "orig_nbformat": 4
>>>>>>> eb44a240d377caaf32e58b4918324e11f9a617a6
 },
 "nbformat": 4,
 "nbformat_minor": 2
}
